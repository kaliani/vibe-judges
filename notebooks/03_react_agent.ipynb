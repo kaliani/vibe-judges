{
 "cells": [
  {
   "cell_type": "code",
   "execution_count": 1,
   "id": "e6276930",
   "metadata": {},
   "outputs": [],
   "source": [
    "import os\n",
    "from dotenv import load_dotenv\n",
    "\n",
    "from typing import TypedDict, List, Dict, Any, Optional\n",
    "from langgraph.graph import StateGraph, START, END\n",
    "from langchain_openai import ChatOpenAI\n",
    "from langchain_core.messages import HumanMessage\n",
    "import requests\n",
    "from striprtf.striprtf import rtf_to_text\n",
    "\n",
    "load_dotenv()\n",
    "# Set your OpenAI API key here\n",
    "api_key = os.getenv(\"OPENAI_API_KEY\")\n",
    "\n",
    "# Initialize our LLM\n",
    "model = ChatOpenAI(model=\"gpt-4o\", temperature=0)"
   ]
  },
  {
   "cell_type": "code",
   "execution_count": 4,
   "id": "a40a6369",
   "metadata": {},
   "outputs": [],
   "source": [
    "import base64\n",
    "import requests\n",
    "from typing import List, TypedDict, Annotated, Optional\n",
    "from striprtf.striprtf import rtf_to_text\n",
    "from langchain_openai import ChatOpenAI\n",
    "from langchain_core.messages import AnyMessage, SystemMessage, HumanMessage\n",
    "from langchain_core.prompts import PromptTemplate\n",
    "from langgraph.graph.message import add_messages\n",
    "from langgraph.graph import START, StateGraph\n",
    "from langgraph.prebuilt import ToolNode, tools_condition\n",
    "from IPython.display import Image, display"
   ]
  },
  {
   "cell_type": "code",
   "execution_count": 6,
   "id": "f9621095",
   "metadata": {},
   "outputs": [],
   "source": [
    "class AgentState(TypedDict):\n",
    "    url: Optional[str]\n",
    "    messages: Annotated[list[AnyMessage], add_messages]\n",
    "    raw_text: str\n",
    "    summary:str"
   ]
  },
  {
   "cell_type": "code",
   "execution_count": 7,
   "id": "d72a56da",
   "metadata": {},
   "outputs": [],
   "source": [
    "def extract_rtf_text(url: str) -> str:\n",
    "    \"\"\"\n",
    "    Download an RTF document from the given URL and extract plain text from it.\n",
    "    \"\"\"\n",
    "    response = requests.get(url)\n",
    "    response.raise_for_status()\n",
    "\n",
    "    rtf_content = response.content.decode(\"utf-8\", errors=\"ignore\")\n",
    "\n",
    "    text = rtf_to_text(rtf_content)\n",
    "    return text\n",
    "\n",
    "\n",
    "\n",
    "def summarize_text(text: str) -> str:\n",
    "    \"\"\"\n",
    "    Generate a short Ukrainian summary for the given text using an LLM model.\n",
    "    \"\"\"\n",
    "\n",
    "\n",
    "    summarization_prompt = PromptTemplate.from_template(\n",
    "        \"\"\"Summarize the following text in one short sentence. Summarize to ukrainian.\n",
    "        \n",
    "        Text: {text}\n",
    "        \n",
    "        Summary:\"\"\"\n",
    "    )\n",
    "\n",
    "    chain = summarization_prompt | model\n",
    "\n",
    "    response = chain.invoke({\"text\": text}).content\n",
    "\n",
    "    return response\n",
    "\n",
    "\n",
    "tools = [extract_rtf_text, summarize_text]\n",
    "\n",
    "\n",
    "llm_with_tools = model.bind_tools(tools, parallel_tool_calls=False)"
   ]
  },
  {
   "cell_type": "code",
   "execution_count": 13,
   "id": "7950443b",
   "metadata": {},
   "outputs": [],
   "source": [
    "def assistant(state: AgentState):\n",
    "    # System message\n",
    "    textual_description_of_tool=\"\"\"\n",
    "extract_rtf_text(url: str) -> str:\n",
    "    Download an RTF document from the given URL and extract plain text from it.\n",
    "\n",
    "    Args:\n",
    "        url (str): The URL of the RTF document.\n",
    "\n",
    "    Returns:\n",
    "        str: The extracted plain text from the given URL\n",
    "\n",
    "summarize_text(text: str) -> str:\n",
    "    Summarizes the given text using the LLM.\n",
    "    \n",
    "    Args:\n",
    "        text (str): The text to summarize.\n",
    "        \n",
    "    Returns:\n",
    "        str: The summary of the text.\n",
    "\"\"\"\n",
    "    prompt = f\"\"\"\n",
    "    You are a helpful assistant. You can analyse summarize texts (court cases) and run computations with provided tools:\\n{textual_description_of_tool} \\n \n",
    "\"\"\"\n",
    "    sys_msg = SystemMessage(content=prompt)\n",
    "\n",
    "    return {\n",
    "        \"messages\": [llm_with_tools.invoke([sys_msg] + state[\"messages\"])],\n",
    "    }"
   ]
  },
  {
   "cell_type": "code",
   "execution_count": 14,
   "id": "51c9e98e",
   "metadata": {},
   "outputs": [],
   "source": [
    "from langgraph.prebuilt import ToolNode, tools_condition\n",
    "\n",
    "builder = StateGraph(AgentState)\n",
    "\n",
    "builder.add_node(\"assistant\", assistant)\n",
    "builder.add_node(\"tools\", ToolNode(tools))\n",
    "\n",
    "builder.add_edge(START, \"assistant\")\n",
    "builder.add_conditional_edges(\n",
    "    \"assistant\",\n",
    "    # If the latest message requires a tool, route to tools\n",
    "    # Otherwise, provide a direct response\n",
    "    tools_condition,\n",
    ")\n",
    "builder.add_edge(\"tools\", \"assistant\")\n",
    "react_graph = builder.compile()"
   ]
  },
  {
   "cell_type": "code",
   "execution_count": 15,
   "id": "c835ad80",
   "metadata": {},
   "outputs": [
    {
     "data": {
      "image/png": "[encoded data removed]",
      "text/plain": [
       "<IPython.core.display.Image object>"
      ]
     },
     "metadata": {},
     "output_type": "display_data"
    }
   ],
   "source": [
    "from IPython.display import Image, display\n",
    "\n",
    "display(Image(react_graph.get_graph(xray=True).draw_mermaid_png()))"
   ]
  },
  {
   "cell_type": "code",
   "execution_count": 16,
   "id": "b00d79f3",
   "metadata": {},
   "outputs": [],
   "source": [
    "messages = [HumanMessage(content=\"Please Extract text from URL in RTF format. http://od.reyestr.court.gov.ua/files/61/520ce2d5f53b2a22eafd30fca9c17d43.rtf\")]\n",
    "messages = react_graph.invoke({\"messages\": messages})"
   ]
  },
  {
   "cell_type": "code",
   "execution_count": 18,
   "id": "6c79c2d3",
   "metadata": {},
   "outputs": [],
   "source": [
    "url = \"http://od.reyestr.court.gov.ua/files/61/520ce2d5f53b2a22eafd30fca9c17d43.rtf\"\n",
    "messages = [HumanMessage(content=f\"Please Extract text from URL in RTF format {url}\")]\n",
    "messages = react_graph.invoke({\"messages\": messages})"
   ]
  },
  {
   "cell_type": "code",
   "execution_count": 30,
   "id": "b6361e08",
   "metadata": {},
   "outputs": [
    {
     "name": "stdout",
     "output_type": "stream",
     "text": [
      "================================\u001b[1m Human Message \u001b[0m=================================\n",
      "\n",
      "Please Extract text from URL in RTF format http://od.reyestr.court.gov.ua/files/61/520ce2d5f53b2a22eafd30fca9c17d43.rtf\n",
      "==================================\u001b[1m Ai Message \u001b[0m==================================\n",
      "Tool Calls:\n",
      "  extract_rtf_text (call_VhYH97rVQv4C7giHe4Q6X1vE)\n",
      " Call ID: call_VhYH97rVQv4C7giHe4Q6X1vE\n",
      "  Args:\n",
      "    url: http://od.reyestr.court.gov.ua/files/61/520ce2d5f53b2a22eafd30fca9c17d43.rtf\n",
      "=================================\u001b[1m Tool Message \u001b[0m=================================\n",
      "Name: extract_rtf_text\n",
      "\n",
      "\n",
      "   КИЇВСЬКИЙ ОКРУЖНИЙ АДМІНІСТРАТИВНИЙ СУД |\n",
      "У Х В А Л А\n",
      "про залишення позовної заяви без руху\n",
      "04 грудня 2024 року                           м. Київ                                     № 320/57291/24\n",
      "Суддя Київського окружного адміністративного суду Жук Р.В., дослідивши матеріали адміністративного позову та додані до нього документи\n",
      "за позовом   Товариства з обмеженою відповідальністю \"Мегого\"\n",
      "до                  Комісії з регулювання азартних ігор та лотерей\n",
      "третя особа Товариство з обмеженою відповідальністю \"ГГБЕТ\" \n",
      "про               визнання протиправним та скасування рішення від 22.08.2024 №409, -\n",
      "ВСТАНОВИВ:\n",
      "До Київського окружного адміністративного суду звернулось Товариство з обмеженою відповідальністю \"Мегого\" з адміністративним позовом до Комісії з регулювання азартних ігор та лотерей, третя особа - Товариство з обмеженою відповідальністю \"ГГБЕТ\", про визнання протиправним та скасування рішення від 22.08.2024 №409.\n",
      "Відповідно до частини 1 статті 171 Кодексу адміністративного судочинства України суддя після одержання позовної заяви з`ясовує, зокрема, чи: відповідає позовна заява вимогам, встановленим статтями 160, 161, 172 цього Кодексу; позов подано у строк, установлений законом (якщо позов подано з пропущенням встановленого законом строку звернення до суду, то чи достатньо підстав для визнання причин пропуску строку звернення до суду поважними); немає інших підстав для залишення позовної заяви без руху, повернення позовної заяви або відмови у відкритті провадження в адміністративній справі, встановлених цим Кодексом.\n",
      "Наданий адміністративний позов не відповідає вимогам статті 161 Кодексу адміністративного судочинства України з огляду на таке.\n",
      "Відповідно до частини третьої статті 161 Кодексу адміністративного судочинства України до позовної заяви додається документ про сплату судового збору у встановлених порядку і розмірі або документи, які підтверджують підстави звільнення від сплати судового збору відповідно до закону.\n",
      "Частиною першою статті 4 Закону України “Про судовий збір” передбачено, що судовий збір справляється у відповідному розмірі від прожиткового мінімуму для працездатних осіб, встановленого законом на 1 січня календарного року, в якому відповідна заява або скарга подається до суду, - у відсотковому співвідношенні до ціни позову та у фіксованому розмірі.\n",
      "Згідно з пунктом 3 частини другої статті 4 Закону України “Про судовий збір” за подання до адміністративного суду адміністративного позову майнового характеру, який подано суб`єктом владних повноважень, юридичною особою встановлюється ставка судового збору – 1,5 відсотка ціни позову, але не менше 1 розміру прожиткового мінімуму для працездатних осіб і не більше 10 розмірів прожиткового мінімуму для працездатних осіб.\n",
      "Положеннями статті 7 Закону України \"Про Державний бюджет України на 2024 рік\" установлено у 2024 році прожитковий мінімум для працездатних осіб: з 1 січня 2024 року - 3028 гривні.\n",
      "Як вбачається з позовної заяви, позивач заявлено вимогу майнового характеру.\n",
      "Отже, у даному випадку судовий збір дорівнює 30 280,00 грн (2 400 000,00 грн х 1,5%, не більше 30 280,00 грн).\n",
      "Судом встановлено, що позивачем до позовної заяви доказів сплати судового збору за подання даного адміністративного позову не додано.\n",
      "Таким чином, позивачу у порядку усунення недоліків позовної заяви необхідно надати суду: доказ надіслання листом з описом вкладення відповідачу копій позовної заяви та доданих до неї документів; докази сплати судового збору в розмірі 30 280,00 грн (оригінал платіжного доручення (квитанції) на рахунок Київського окружного адміністративного суду, який слід сплатити за наступними реквізитами:\n",
      "Отримувач коштів: ГУК у Київ. обл./м.Київ/22030101;\n",
      "код отримувача (код за ЄДРПОУ): 37955989;\n",
      "Банк отримувача: Казначейство України (ел. адм. подат.);\n",
      "код банку отримувача (МФО): 899998;\n",
      "рахунок отримувача: UA718999980313151206084010001;\n",
      "код класифікації доходів бюджету: 22030101;\n",
      "призначення платежу: *;101; (код клієнта за ЄДРПОУ для юридичних осіб (доповнюється зліва нулями до восьми цифр, якщо значущих цифр менше 8), реєстраційний номер облікової картки платника податків – фізичної особи (завжди має 10 цифр) або серія та номер паспорта громадянина України, в разі якщо платник через свої релігійні переконання відмовився від прийняття реєстраційного номера облікової картки платника податків і має відповідну відмітку у паспорті); Судовий збір, за позовом (ПІБ чи назва установи, організації позивача), Київський окружний адміністративний суд (назва суду, де розглядається справа).\n",
      "Інформація щодо реквізитів сплати судового збору за подання позовних заяв до Київського окружного адміністративного суду є загальнодоступною, оприлюднена на офіційному веб-порталі “Судова влада України” за інтернет-адресою https://adm.ko.court.gov.ua/sud1070/gromadyanam/tax/, а також розміщена на інформаційних стендах Київського окружного адміністративного суду.\n",
      "Згідно з частинами 1, 2 статті 169 Кодексу адміністративного судочинства України суддя, встановивши, що позовну заяву подано без додержання вимог, встановлених статтями 160, 161 цього Кодексу, протягом п`яти днів з дня подання позовної заяви постановляє ухвалу про залишення позовної заяви без руху.\n",
      "В ухвалі про залишення позовної заяви без руху зазначаються недоліки позовної заяви, спосіб і строк їх усунення, який не може перевищувати десяти днів з дня вручення ухвали про залишення позовної заяви без руху.\n",
      "Керуючись статтями 161, 169, 171, 243, 248 Кодексу адміністративного судочинства України, суд\n",
      "У Х В А Л И В:\n",
      "1. Залишити позовну заяву Товариства з обмеженою відповідальністю \"Мегого\" без руху.\n",
      "3. Встановити позивачу 10-денний строк з дня отримання даної ухвали на усунення недоліків позовної заяви.\n",
      "4. Попередити позивача про те, що у разі, якщо недоліки не буде усунуто у встановлений судом строк, позовну заяву буде повернуто відповідно до пункту першого частини четвертої статті 169 Кодексу адміністративного судочинства України.\n",
      "\n",
      "Відповідно до частини першої статті 256 Кодексу адміністративного судочинства України,  набирає законної сили негайно після її проголошення, якщо інше не передбачено цим Кодексом. Відповідно до статті 294, частин другої та третьої статті 293 Кодексу адміністративного судочинства України даної ухвала оскарженню не підлягає.\n",
      "\n",
      "Суддя                                                                                                      Жук Р.В. \n",
      "\n",
      "\u0000\n",
      "==================================\u001b[1m Ai Message \u001b[0m==================================\n",
      "\n",
      "The extracted text is a court ruling from the Kyiv District Administrative Court dated December 4, 2024. The case involves a lawsuit filed by \"Megogo\" LLC against the Commission for the Regulation of Gambling and Lotteries, with \"GGBET\" LLC as a third party. The lawsuit seeks to declare a decision made on August 22, 2024, as unlawful and to annul it.\n",
      "\n",
      "The court found that the lawsuit did not meet the requirements of Article 161 of the Code of Administrative Procedure of Ukraine because the plaintiff did not provide proof of payment of the court fee. The court fee was calculated to be 30,280.00 UAH based on the claim amount. The court ordered the plaintiff to correct the deficiencies by providing proof of payment and other required documents within ten days. If the deficiencies are not corrected within the specified time, the lawsuit will be returned.\n",
      "\n",
      "The ruling is effective immediately and cannot be appealed.\n"
     ]
    }
   ],
   "source": [
    "for m in messages['messages']:\n",
    "    m.pretty_print()"
   ]
  },
  {
   "cell_type": "code",
   "execution_count": 31,
   "id": "890bce24",
   "metadata": {},
   "outputs": [],
   "source": [
    "url = \"http://od.reyestr.court.gov.ua/files/61/520ce2d5f53b2a22eafd30fca9c17d43.rtf\"\n",
    "tt = extract_rtf_text(url)"
   ]
  },
  {
   "cell_type": "code",
   "execution_count": 36,
   "id": "38090039",
   "metadata": {},
   "outputs": [],
   "source": [
    "messages = [HumanMessage(content=f\"Ось лінка {url} твоя задача видобувати весь текст і сумаризувати його\")]\n",
    "messages = react_graph.invoke({\"messages\": messages})"
   ]
  },
  {
   "cell_type": "code",
   "execution_count": 37,
   "id": "8e68da91",
   "metadata": {},
   "outputs": [
    {
     "name": "stdout",
     "output_type": "stream",
     "text": [
      "================================\u001b[1m Human Message \u001b[0m=================================\n",
      "\n",
      "Ось лінка http://od.reyestr.court.gov.ua/files/61/520ce2d5f53b2a22eafd30fca9c17d43.rtf твоя задача видобувати весь текст і сумаризувати його\n",
      "==================================\u001b[1m Ai Message \u001b[0m==================================\n",
      "Tool Calls:\n",
      "  extract_rtf_text (call_9iGGrAO5uXgZWNSdYDSZunzJ)\n",
      " Call ID: call_9iGGrAO5uXgZWNSdYDSZunzJ\n",
      "  Args:\n",
      "    url: http://od.reyestr.court.gov.ua/files/61/520ce2d5f53b2a22eafd30fca9c17d43.rtf\n",
      "=================================\u001b[1m Tool Message \u001b[0m=================================\n",
      "Name: extract_rtf_text\n",
      "\n",
      "\n",
      "   КИЇВСЬКИЙ ОКРУЖНИЙ АДМІНІСТРАТИВНИЙ СУД |\n",
      "У Х В А Л А\n",
      "про залишення позовної заяви без руху\n",
      "04 грудня 2024 року                           м. Київ                                     № 320/57291/24\n",
      "Суддя Київського окружного адміністративного суду Жук Р.В., дослідивши матеріали адміністративного позову та додані до нього документи\n",
      "за позовом   Товариства з обмеженою відповідальністю \"Мегого\"\n",
      "до                  Комісії з регулювання азартних ігор та лотерей\n",
      "третя особа Товариство з обмеженою відповідальністю \"ГГБЕТ\" \n",
      "про               визнання протиправним та скасування рішення від 22.08.2024 №409, -\n",
      "ВСТАНОВИВ:\n",
      "До Київського окружного адміністративного суду звернулось Товариство з обмеженою відповідальністю \"Мегого\" з адміністративним позовом до Комісії з регулювання азартних ігор та лотерей, третя особа - Товариство з обмеженою відповідальністю \"ГГБЕТ\", про визнання протиправним та скасування рішення від 22.08.2024 №409.\n",
      "Відповідно до частини 1 статті 171 Кодексу адміністративного судочинства України суддя після одержання позовної заяви з`ясовує, зокрема, чи: відповідає позовна заява вимогам, встановленим статтями 160, 161, 172 цього Кодексу; позов подано у строк, установлений законом (якщо позов подано з пропущенням встановленого законом строку звернення до суду, то чи достатньо підстав для визнання причин пропуску строку звернення до суду поважними); немає інших підстав для залишення позовної заяви без руху, повернення позовної заяви або відмови у відкритті провадження в адміністративній справі, встановлених цим Кодексом.\n",
      "Наданий адміністративний позов не відповідає вимогам статті 161 Кодексу адміністративного судочинства України з огляду на таке.\n",
      "Відповідно до частини третьої статті 161 Кодексу адміністративного судочинства України до позовної заяви додається документ про сплату судового збору у встановлених порядку і розмірі або документи, які підтверджують підстави звільнення від сплати судового збору відповідно до закону.\n",
      "Частиною першою статті 4 Закону України “Про судовий збір” передбачено, що судовий збір справляється у відповідному розмірі від прожиткового мінімуму для працездатних осіб, встановленого законом на 1 січня календарного року, в якому відповідна заява або скарга подається до суду, - у відсотковому співвідношенні до ціни позову та у фіксованому розмірі.\n",
      "Згідно з пунктом 3 частини другої статті 4 Закону України “Про судовий збір” за подання до адміністративного суду адміністративного позову майнового характеру, який подано суб`єктом владних повноважень, юридичною особою встановлюється ставка судового збору – 1,5 відсотка ціни позову, але не менше 1 розміру прожиткового мінімуму для працездатних осіб і не більше 10 розмірів прожиткового мінімуму для працездатних осіб.\n",
      "Положеннями статті 7 Закону України \"Про Державний бюджет України на 2024 рік\" установлено у 2024 році прожитковий мінімум для працездатних осіб: з 1 січня 2024 року - 3028 гривні.\n",
      "Як вбачається з позовної заяви, позивач заявлено вимогу майнового характеру.\n",
      "Отже, у даному випадку судовий збір дорівнює 30 280,00 грн (2 400 000,00 грн х 1,5%, не більше 30 280,00 грн).\n",
      "Судом встановлено, що позивачем до позовної заяви доказів сплати судового збору за подання даного адміністративного позову не додано.\n",
      "Таким чином, позивачу у порядку усунення недоліків позовної заяви необхідно надати суду: доказ надіслання листом з описом вкладення відповідачу копій позовної заяви та доданих до неї документів; докази сплати судового збору в розмірі 30 280,00 грн (оригінал платіжного доручення (квитанції) на рахунок Київського окружного адміністративного суду, який слід сплатити за наступними реквізитами:\n",
      "Отримувач коштів: ГУК у Київ. обл./м.Київ/22030101;\n",
      "код отримувача (код за ЄДРПОУ): 37955989;\n",
      "Банк отримувача: Казначейство України (ел. адм. подат.);\n",
      "код банку отримувача (МФО): 899998;\n",
      "рахунок отримувача: UA718999980313151206084010001;\n",
      "код класифікації доходів бюджету: 22030101;\n",
      "призначення платежу: *;101; (код клієнта за ЄДРПОУ для юридичних осіб (доповнюється зліва нулями до восьми цифр, якщо значущих цифр менше 8), реєстраційний номер облікової картки платника податків – фізичної особи (завжди має 10 цифр) або серія та номер паспорта громадянина України, в разі якщо платник через свої релігійні переконання відмовився від прийняття реєстраційного номера облікової картки платника податків і має відповідну відмітку у паспорті); Судовий збір, за позовом (ПІБ чи назва установи, організації позивача), Київський окружний адміністративний суд (назва суду, де розглядається справа).\n",
      "Інформація щодо реквізитів сплати судового збору за подання позовних заяв до Київського окружного адміністративного суду є загальнодоступною, оприлюднена на офіційному веб-порталі “Судова влада України” за інтернет-адресою https://adm.ko.court.gov.ua/sud1070/gromadyanam/tax/, а також розміщена на інформаційних стендах Київського окружного адміністративного суду.\n",
      "Згідно з частинами 1, 2 статті 169 Кодексу адміністративного судочинства України суддя, встановивши, що позовну заяву подано без додержання вимог, встановлених статтями 160, 161 цього Кодексу, протягом п`яти днів з дня подання позовної заяви постановляє ухвалу про залишення позовної заяви без руху.\n",
      "В ухвалі про залишення позовної заяви без руху зазначаються недоліки позовної заяви, спосіб і строк їх усунення, який не може перевищувати десяти днів з дня вручення ухвали про залишення позовної заяви без руху.\n",
      "Керуючись статтями 161, 169, 171, 243, 248 Кодексу адміністративного судочинства України, суд\n",
      "У Х В А Л И В:\n",
      "1. Залишити позовну заяву Товариства з обмеженою відповідальністю \"Мегого\" без руху.\n",
      "3. Встановити позивачу 10-денний строк з дня отримання даної ухвали на усунення недоліків позовної заяви.\n",
      "4. Попередити позивача про те, що у разі, якщо недоліки не буде усунуто у встановлений судом строк, позовну заяву буде повернуто відповідно до пункту першого частини четвертої статті 169 Кодексу адміністративного судочинства України.\n",
      "\n",
      "Відповідно до частини першої статті 256 Кодексу адміністративного судочинства України,  набирає законної сили негайно після її проголошення, якщо інше не передбачено цим Кодексом. Відповідно до статті 294, частин другої та третьої статті 293 Кодексу адміністративного судочинства України даної ухвала оскарженню не підлягає.\n",
      "\n",
      "Суддя                                                                                                      Жук Р.В. \n",
      "\n",
      "\u0000\n",
      "==================================\u001b[1m Ai Message \u001b[0m==================================\n",
      "Tool Calls:\n",
      "  summarize_text (call_mzQcYCRPUqxa8V7M8KrOQSyl)\n",
      " Call ID: call_mzQcYCRPUqxa8V7M8KrOQSyl\n",
      "  Args:\n",
      "    text: КИЇВСЬКИЙ ОКРУЖНИЙ АДМІНІСТРАТИВНИЙ СУД | У Х В А Л А про залишення позовної заяви без руху 04 грудня 2024 року                           м. Київ                                     № 320/57291/24 Суддя Київського окружного адміністративного суду Жук Р.В., дослідивши матеріали адміністративного позову та додані до нього документи за позовом   Товариства з обмеженою відповідальністю \"Мегого\" до                  Комісії з регулювання азартних ігор та лотерей третя особа Товариство з обмеженою відповідальністю \"ГГБЕТ\" про               визнання протиправним та скасування рішення від 22.08.2024 №409, - ВСТАНОВИВ: До Київського окружного адміністративного суду звернулось Товариство з обмеженою відповідальністю \"Мегого\" з адміністративним позовом до Комісії з регулювання азартних ігор та лотерей, третя особа - Товариство з обмеженою відповідальністю \"ГГБЕТ\", про визнання протиправним та скасування рішення від 22.08.2024 №409. Відповідно до частини 1 статті 171 Кодексу адміністративного судочинства України суддя після одержання позовної заяви з`ясовує, зокрема, чи: відповідає позовна заява вимогам, встановленим статтями 160, 161, 172 цього Кодексу; позов подано у строк, установлений законом (якщо позов подано з пропущенням встановленого законом строку звернення до суду, то чи достатньо підстав для визнання причин пропуску строку звернення до суду поважними); немає інших підстав для залишення позовної заяви без руху, повернення позовної заяви або відмови у відкритті провадження в адміністративній справі, встановлених цим Кодексом. Наданий адміністративний позов не відповідає вимогам статті 161 Кодексу адміністративного судочинства України з огляду на таке. Відповідно до частини третьої статті 161 Кодексу адміністративного судочинства України до позовної заяви додається документ про сплату судового збору у встановлених порядку і розмірі або документи, які підтверджують підстави звільнення від сплати судового збору відповідно до закону. Частиною першою статті 4 Закону України “Про судовий збір” передбачено, що судовий збір справляється у відповідному розмірі від прожиткового мінімуму для працездатних осіб, встановленого законом на 1 січня календарного року, в якому відповідна заява або скарга подається до суду, - у відсотковому співвідношенні до ціни позову та у фіксованому розмірі. Згідно з пунктом 3 частини другої статті 4 Закону України “Про судовий збір” за подання до адміністративного суду адміністративного позову майнового характеру, який подано суб`єктом владних повноважень, юридичною особою встановлюється ставка судового збору – 1,5 відсотка ціни позову, але не менше 1 розміру прожиткового мінімуму для працездатних осіб і не більше 10 розмірів прожиткового мінімуму для працездатних осіб. Положеннями статті 7 Закону України \"Про Державний бюджет України на 2024 рік\" установлено у 2024 році прожитковий мінімум для працездатних осіб: з 1 січня 2024 року - 3028 гривні. Як вбачається з позовної заяви, позивач заявлено вимогу майнового характеру. Отже, у даному випадку судовий збір дорівнює 30 280,00 грн (2 400 000,00 грн х 1,5%, не більше 30 280,00 грн). Судом встановлено, що позивачем до позовної заяви доказів сплати судового збору за подання даного адміністративного позову не додано. Таким чином, позивачу у порядку усунення недоліків позовної заяви необхідно надати суду: доказ надіслання листом з описом вкладення відповідачу копій позовної заяви та доданих до неї документів; докази сплати судового збору в розмірі 30 280,00 грн (оригінал платіжного доручення (квитанції) на рахунок Київського окружного адміністративного суду, який слід сплатити за наступними реквізитами: Отримувач коштів: ГУК у Київ. обл./м.Київ/22030101; код отримувача (код за ЄДРПОУ): 37955989; Банк отримувача: Казначейство України (ел. адм. подат.); код банку отримувача (МФО): 899998; рахунок отримувача: UA718999980313151206084010001; код класифікації доходів бюджету: 22030101; призначення платежу: *;101; (код клієнта за ЄДРПОУ для юридичних осіб (доповнюється зліва нулями до восьми цифр, якщо значущих цифр менше 8), реєстраційний номер облікової картки платника податків – фізичної особи (завжди має 10 цифр) або серія та номер паспорта громадянина України, в разі якщо платник через свої релігійні переконання відмовився від прийняття реєстраційного номера облікової картки платника податків і має відповідну відмітку у паспорті); Судовий збір, за позовом (ПІБ чи назва установи, організації позивача), Київський окружний адміністративний суд (назва суду, де розглядається справа). Інформація щодо реквізитів сплати судового збору за подання позовних заяв до Київського окружного адміністративного суду є загальнодоступною, оприлюднена на офіційному веб-порталі “Судова влада України” за інтернет-адресою https://adm.ko.court.gov.ua/sud1070/gromadyanam/tax/, а також розміщена на інформаційних стендах Київського окружного адміністративного суду. Згідно з частинами 1, 2 статті 169 Кодексу адміністративного судочинства України суддя, встановивши, що позовну заяву подано без додержання вимог, встановлених статтями 160, 161 цього Кодексу, протягом п`яти днів з дня подання позовної заяви постановляє ухвалу про залишення позовної заяви без руху. В ухвалі про залишення позовної заяви без руху зазначаються недоліки позовної заяви, спосіб і строк їх усунення, який не може перевищувати десяти днів з дня вручення ухвали про залишення позовної заяви без руху. Керуючись статтями 161, 169, 171, 243, 248 Кодексу адміністративного судочинства України, суд У Х В А Л И В: 1. Залишити позовну заяву Товариства з обмеженою відповідальністю \"Мегого\" без руху. 3. Встановити позивачу 10-денний строк з дня отримання даної ухвали на усунення недоліків позовної заяви. 4. Попередити позивача про те, що у разі, якщо недоліки не буде усунуто у встановлений судом строк, позовну заяву буде повернуто відповідно до пункту першого частини четвертої статті 169 Кодексу адміністративного судочинства України. Відповідно до частини першої статті 256 Кодексу адміністративного судочинства України,  набирає законної сили негайно після її проголошення, якщо інше не передбачено цим Кодексом. Відповідно до статті 294, частин другої та третьої статті 293 Кодексу адміністративного судочинства України даної ухвала оскарженню не підлягає. Суддя                                                                                                      Жук Р.В.\n",
      "=================================\u001b[1m Tool Message \u001b[0m=================================\n",
      "Name: summarize_text\n",
      "\n",
      "Київський окружний адміністративний суд залишив без руху позовну заяву ТОВ \"Мегого\" до Комісії з регулювання азартних ігор та лотерей через відсутність доказів сплати судового збору, надавши 10 днів для усунення недоліків.\n",
      "==================================\u001b[1m Ai Message \u001b[0m==================================\n",
      "\n",
      "Київський окружний адміністративний суд залишив без руху позовну заяву ТОВ \"Мегого\" до Комісії з регулювання азартних ігор та лотерей через відсутність доказів сплати судового збору, надавши 10 днів для усунення недоліків.\n"
     ]
    }
   ],
   "source": [
    "for m in messages['messages']:\n",
    "    m.pretty_print()"
   ]
  },
  {
   "cell_type": "code",
   "execution_count": null,
   "id": "1744ba71",
   "metadata": {},
   "outputs": [],
   "source": [
    "# \"You are a helpful assistant\n",
    "# You can analyse summarize texts (court cases) and run computations with provided tools:\\n{textual_description_of_tool} \\n \n",
    "# You have access to some url. Currently the loaded url is: {url}\")\n"
   ]
  }
 ],
 "metadata": {
  "kernelspec": {
   "display_name": "base",
   "language": "python",
   "name": "python3"
  },
  "language_info": {
   "codemirror_mode": {
    "name": "ipython",
    "version": 3
   },
   "file_extension": ".py",
   "mimetype": "text/x-python",
   "name": "python",
   "nbconvert_exporter": "python",
   "pygments_lexer": "ipython3",
   "version": "3.13.2"
  }
 },
 "nbformat": 4,
 "nbformat_minor": 5
}
