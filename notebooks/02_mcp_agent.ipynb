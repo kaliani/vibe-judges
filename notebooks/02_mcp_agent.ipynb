{
 "cells": [
  {
   "cell_type": "markdown",
   "id": "d416df44",
   "metadata": {},
   "source": [
    "### Work version"
   ]
  },
  {
   "cell_type": "code",
   "execution_count": 1,
   "id": "e65a09b1",
   "metadata": {},
   "outputs": [],
   "source": [
    "import os\n",
    "from dotenv import load_dotenv\n",
    "\n",
    "from typing import TypedDict, List, Dict, Any, Optional\n",
    "\n",
    "from typing_extensions import Literal\n",
    "\n",
    "from langchain_core.prompts import PromptTemplate\n",
    "from langgraph.graph import StateGraph, START, END\n",
    "from langchain_openai import ChatOpenAI\n",
    "from langchain_core.messages import HumanMessage\n",
    "from langchain_core.messages import SystemMessage, HumanMessage, ToolMessage, filter_messages\n",
    "import requests\n",
    "from striprtf.striprtf import rtf_to_text\n",
    "\n",
    "load_dotenv()\n",
    "# Set your OpenAI API key here\n",
    "api_key = os.getenv(\"OPENAI_API_KEY\")\n",
    "\n",
    "# Initialize our LLM\n",
    "# model = ChatOpenAI(model=\"gpt-4o\", temperature=0)"
   ]
  },
  {
   "cell_type": "code",
   "execution_count": 10,
   "id": "5fb55171",
   "metadata": {},
   "outputs": [],
   "source": [
    "general_prompt = \"\"\"\n",
    "Ти крутий дата аналітик\n",
    "<Task>\n",
    "Твоя робота використовувати інструменти які тобі доступні для відповіді на питання користувача.\n",
    "Сьогодні питання наступне: {question}\n",
    "Ти можеш використовувати тільки надані тобі для цього інструменти, що дозволить тобі правильно формувати відповідь для користувача.\n",
    "\n",
    "<Available Tools>\n",
    "Ти маєш доступ до наступних інструментів:\n",
    "list_schemas\tLists all database schemas available in the PostgreSQL instance.\n",
    "list_objects\tLists database objects (tables, views, sequences, extensions) within a specified schema.\n",
    "get_object_details\tProvides information about a specific database object, for example, a table's columns, constraints, and indexes.\n",
    "execute_sql\tExecutes SQL statements on the database, with read-only limitations when connected in restricted mode.\n",
    "explain_query\tGets the execution plan for a SQL query describing how PostgreSQL will process it and exposing the query planner's cost model. Can be invoked with hypothetical indexes to simulate the behavior after adding indexes.\n",
    "get_top_queries\tReports the slowest SQL queries based on total execution time using pg_stat_statements data.\n",
    "analyze_workload_indexes\tAnalyzes the database workload to identify resource-intensive queries, then recommends optimal indexes for them.\n",
    "analyze_query_indexes\tAnalyzes a list of specific SQL queries (up to 10) and recommends optimal indexes for them.\n",
    "analyze_db_health\tPerforms comprehensive health checks including: buffer cache hit rates, connection health, constraint validation, index health (duplicate/unused/invalid), sequence limits, and vacuum health.\n",
    "extract_rtf_text Extracts and returns plain text from RTF content.\n",
    "</Available Tools>\n",
    "\n",
    "<Instructions>\n",
    "Думай як справжній дата аналітик, який має задачу та лімітований час для її виконання.\n",
    "Слідуй за наступним планом дій:\n",
    "1. Прочитай запит користувача - Яку специфічну інформацію він хоче отримати?\n",
    "2. Визнач які інструменти тобі потрібні для відповіді на це питання.\n",
    "3. Використовуй інструменти по черзі, щоб отримати необхідні дані.\n",
    "4. Якщо потрібно, аналізуй отримані дані, щоб сформувати відповідь.\n",
    "5. Сформуй чітку та зрозумілу відповідь для користувача на основі отриманих даних.\n",
    "</Instructions>\n",
    "<Hard Limits>\n",
    "**Tool Call Budgets** (Prevent excessive searching):\n",
    "- **Simple queries**: Use 2-3 search tool calls maximum\n",
    "- **Complex queries**: Use up to 5 search tool calls maximum\n",
    "- **Always stop**: After 5 search tool calls if you cannot find the right sources\n",
    "\n",
    "**Stop Immediately When**:\n",
    "- You can answer the user's question comprehensively\n",
    "- You have 3+ relevant examples/sources for the question\n",
    "- Your last 2 searches returned similar information\n",
    "</Hard Limits>\n",
    "\n",
    "<Show Your Thinking>\n",
    "After each search tool call, use think_tool to analyze the results:\n",
    "- What key information did I find?\n",
    "- What's missing?\n",
    "- Do I have enough to answer the question comprehensively?\n",
    "- Should I search more or provide my answer?\n",
    "</Show Your Thinking>\n",
    "</Task>\n",
    "\"\"\""
   ]
  },
  {
   "cell_type": "code",
   "execution_count": 53,
   "id": "7a4e161a",
   "metadata": {},
   "outputs": [],
   "source": [
    "from langchain_mcp_adapters.client import MultiServerMCPClient\n",
    "from typing import List, TypedDict, Annotated, Optional\n",
    "from langchain_core.messages import AnyMessage, SystemMessage, HumanMessage\n",
    "from langgraph.graph.message import add_messages\n",
    "\n",
    "mcp_config = {\n",
    "    \"postgres\": {\n",
    "        \"transport\": \"sse\",\n",
    "        \"url\": \"http://127.0.0.1:8000/sse\" \n",
    "    }\n",
    "}\n",
    "\n",
    "_client = None\n",
    "\n",
    "def get_mcp_client():\n",
    "    \"\"\"Get or initialize MCP client lazily to avoid issues with LangGraph Platform.\"\"\"\n",
    "    global _client\n",
    "    if _client is None:\n",
    "        _client = MultiServerMCPClient(mcp_config)\n",
    "    return _client\n",
    "\n",
    "model = ChatOpenAI(model=\"gpt-4o\", temperature=0)\n",
    "\n",
    "\n",
    "class AgentState(TypedDict):\n",
    "    url: Optional[str]\n",
    "    messages: Annotated[list[AnyMessage], add_messages]\n",
    "    raw_text: str\n",
    "    summary:str\n",
    "\n",
    "\n",
    "async def extract_rtf_text(url: str) -> str:\n",
    "    \"\"\"\n",
    "    Download an RTF document from the given URL and extract plain text from it.\n",
    "    \"\"\"\n",
    "    response = requests.get(url)\n",
    "    response.raise_for_status()\n",
    "\n",
    "    rtf_content = response.content.decode(\"utf-8\", errors=\"ignore\")\n",
    "\n",
    "    text = rtf_to_text(rtf_content)\n",
    "    return text\n",
    "\n",
    "\n",
    "\n",
    "async def summarize_text(text: str) -> str:\n",
    "    \"\"\"\n",
    "    Generate a short Ukrainian summary for the given text using an LLM model.\n",
    "    \"\"\"\n",
    "\n",
    "\n",
    "    summarization_prompt = PromptTemplate.from_template(\n",
    "        \"\"\"Summarize the following text in one short sentence. Summarize to ukrainian.\n",
    "        \n",
    "        Text: {text}\n",
    "        \n",
    "        Summary:\"\"\"\n",
    "    )\n",
    "\n",
    "    chain = summarization_prompt | model\n",
    "\n",
    "    response = chain.invoke({\"text\": text}).content\n",
    "\n",
    "    return response\n",
    "\n",
    "\n",
    "\n",
    "async def llm_call(state: AgentState):\n",
    "    \"\"\"Analyze current state and decide on tool usage with MCP integration.\n",
    "\n",
    "    This node:\n",
    "    1. Retrieves available tools from MCP server\n",
    "    2. Binds tools to the language model\n",
    "    3. Processes user input and decides on tool usage\n",
    "\n",
    "    Returns updated state with model response.\n",
    "    \"\"\"\n",
    "    # Get available tools from MCP server\n",
    "    client = get_mcp_client()\n",
    "    mcp_tools = await client.get_tools()\n",
    "\n",
    "    # Use MCP tools for local document access\n",
    "    tools = mcp_tools# + [extract_rtf_text, summarize_text]\n",
    "\n",
    "    # Initialize model with tool binding\n",
    "    model_with_tools = model.bind_tools(tools)\n",
    "\n",
    "    # Process user input with system prompt\n",
    "    return {\n",
    "        \"messages\": [\n",
    "            model_with_tools.invoke(\n",
    "                [SystemMessage(content=general_prompt)] + state[\"messages\"]\n",
    "            )\n",
    "        ]\n",
    "    }\n"
   ]
  },
  {
   "cell_type": "code",
   "execution_count": 52,
   "id": "d3aa9b69",
   "metadata": {},
   "outputs": [],
   "source": [
    "async def tool_node(state: AgentState):\n",
    "    \"\"\"Execute tool calls using MCP tools.\n",
    "\n",
    "    This node:\n",
    "    1. Retrieves current tool calls from the last message\n",
    "    2. Executes all tool calls using async operations (required for MCP)\n",
    "    3. Returns formatted tool results\n",
    "\n",
    "    Note: MCP requires async operations due to inter-process communication\n",
    "    with the MCP server subprocess. This is unavoidable.\n",
    "    \"\"\"\n",
    "    tool_calls = state[\"messages\"][-1].tool_calls\n",
    "\n",
    "    async def execute_tools():\n",
    "        \"\"\"Execute all tool calls. MCP tools require async execution.\"\"\"\n",
    "        # Get fresh tool references from MCP server\n",
    "        client = get_mcp_client()\n",
    "        mcp_tools = await client.get_tools()\n",
    "        tools = mcp_tools#  + [extract_rtf_text, summarize_text]\n",
    "        tools_by_name = {tool.name: tool for tool in tools}\n",
    "\n",
    "        # Execute tool calls (sequentially for reliability)\n",
    "        observations = []\n",
    "        for tool_call in tool_calls:\n",
    "            tool = tools_by_name[tool_call[\"name\"]]\n",
    "            if tool_call[\"name\"] == \"think_tool\":\n",
    "                # think_tool is sync, use regular invoke\n",
    "                observation = tool.invoke(tool_call[\"args\"])\n",
    "            else:\n",
    "                # MCP tools are async, use ainvoke\n",
    "                observation = await tool.ainvoke(tool_call[\"args\"])\n",
    "            observations.append(observation)\n",
    "\n",
    "        # Format results as tool messages\n",
    "        tool_outputs = [\n",
    "            ToolMessage(\n",
    "                content=observation,\n",
    "                name=tool_call[\"name\"],\n",
    "                tool_call_id=tool_call[\"id\"],\n",
    "            )\n",
    "            for observation, tool_call in zip(observations, tool_calls)\n",
    "        ]\n",
    "\n",
    "        return tool_outputs\n",
    "\n",
    "    messages = await execute_tools()\n",
    "\n",
    "    return {\"messages\": messages}"
   ]
  },
  {
   "cell_type": "code",
   "execution_count": 47,
   "id": "95c6f089",
   "metadata": {},
   "outputs": [],
   "source": [
    "def compress_research(state: AgentState) -> dict:\n",
    "    \"\"\"Compress research findings into a concise summary.\n",
    "\n",
    "    Takes all the research messages and tool outputs and creates\n",
    "    a compressed summary suitable for further processing or reporting.\n",
    "\n",
    "    This function filters out think_tool calls and focuses on substantive\n",
    "    file-based research content from MCP tools.\n",
    "    \"\"\"\n",
    "    \n",
    "    system_message = \"Summarize all information\"\n",
    "    messages = [SystemMessage(content=system_message)] + state.get(\"researcher_messages\", [])\n",
    "\n",
    "    response = model.invoke(messages)\n",
    "\n",
    "    # Extract raw notes from tool and AI messages\n",
    "    raw_notes = [\n",
    "        str(m.content) for m in filter_messages(\n",
    "            state[\"messages\"], \n",
    "            include_types=[\"tool\", \"ai\"]\n",
    "        )\n",
    "    ]\n",
    "\n",
    "    return {\n",
    "        \"compressed_research\": str(response.content),\n",
    "        \"raw_notes\": [\"\\n\".join(raw_notes)]\n",
    "    }"
   ]
  },
  {
   "cell_type": "code",
   "execution_count": 54,
   "id": "65aaf8cd",
   "metadata": {},
   "outputs": [],
   "source": [
    "def should_continue(state: AgentState) -> Literal[\"tool_node\", \"compress_research\"]:\n",
    "    \"\"\"Determine whether to continue with tool execution or compress research.\n",
    "\n",
    "    Determines whether to continue with tool execution or compress research\n",
    "    based on whether the LLM made tool calls.\n",
    "    \"\"\"\n",
    "    messages = state[\"messages\"]\n",
    "    last_message = messages[-1]\n",
    "\n",
    "    # Continue to tool execution if tools were called\n",
    "    if last_message.tool_calls:\n",
    "        return \"tool_node\"\n",
    "    # Otherwise, compress research findings\n",
    "    return \"compress_research\""
   ]
  },
  {
   "cell_type": "code",
   "execution_count": 55,
   "id": "23af86a0",
   "metadata": {},
   "outputs": [],
   "source": [
    "# Build the agent workflow\n",
    "agent_builder_mcp = StateGraph(AgentState)\n",
    "\n",
    "# Add nodes to the graph\n",
    "agent_builder_mcp.add_node(\"llm_call\", llm_call)\n",
    "agent_builder_mcp.add_node(\"tool_node\", tool_node)\n",
    "agent_builder_mcp.add_node(\"compress_research\", compress_research)\n",
    "\n",
    "# Add edges to connect nodes\n",
    "agent_builder_mcp.add_edge(START, \"llm_call\")\n",
    "agent_builder_mcp.add_conditional_edges(\n",
    "    \"llm_call\",\n",
    "    should_continue,\n",
    "    {\n",
    "        \"tool_node\": \"tool_node\",        # Continue to tool execution\n",
    "        \"compress_research\": \"compress_research\",  # Compress research findings\n",
    "    },\n",
    ")\n",
    "agent_builder_mcp.add_edge(\"tool_node\", \"llm_call\")  # Loop back for more processing\n",
    "agent_builder_mcp.add_edge(\"compress_research\", END)\n",
    "\n",
    "# Compile the agent\n",
    "agent_mcp = agent_builder_mcp.compile()"
   ]
  },
  {
   "cell_type": "code",
   "execution_count": 56,
   "id": "a4e7d3c0",
   "metadata": {},
   "outputs": [
    {
     "data": {
      "image/png": "[encoded data removed]",
      "text/plain": [
       "<IPython.core.display.Image object>"
      ]
     },
     "metadata": {},
     "output_type": "display_data"
    }
   ],
   "source": [
    "from IPython.display import Image, display\n",
    "\n",
    "# Show the agent\n",
    "display(Image(agent_mcp.get_graph(xray=True).draw_mermaid_png()))"
   ]
  },
  {
   "cell_type": "code",
   "execution_count": 57,
   "id": "fe80e661",
   "metadata": {},
   "outputs": [],
   "source": [
    "b = \"скільки записів є по справі 136/1512/24\"\n",
    "\n",
    "result = await agent_mcp.ainvoke({\"messages\": [HumanMessage(content=f\"{b}.\")]})"
   ]
  },
  {
   "cell_type": "code",
   "execution_count": 58,
   "id": "ae7c656a",
   "metadata": {},
   "outputs": [
    {
     "data": {
      "text/plain": [
       "{'messages': [HumanMessage(content='скільки записів є по справі 136/1512/24.', additional_kwargs={}, response_metadata={}, id='64ae7a93-bd4b-4600-9e25-f533a2a40bf1'),\n",
       "  AIMessage(content='', additional_kwargs={'tool_calls': [{'id': 'call_qw4DJVbQIfpBxbBL3vOifXa9', 'function': {'arguments': '{}', 'name': 'list_schemas'}, 'type': 'function'}], 'refusal': None}, response_metadata={'token_usage': {'completion_tokens': 11, 'prompt_tokens': 1401, 'total_tokens': 1412, 'completion_tokens_details': {'accepted_prediction_tokens': 0, 'audio_tokens': 0, 'reasoning_tokens': 0, 'rejected_prediction_tokens': 0}, 'prompt_tokens_details': {'audio_tokens': 0, 'cached_tokens': 0}}, 'model_name': 'gpt-4o-2024-08-06', 'system_fingerprint': 'fp_1827dd0c55', 'id': 'chatcmpl-COTQmgZG7g6bol3QqfavaZiSG89DC', 'service_tier': 'default', 'finish_reason': 'tool_calls', 'logprobs': None}, id='run--ed85e614-cbbb-45a4-bc03-7cae2381bf67-0', tool_calls=[{'name': 'list_schemas', 'args': {}, 'id': 'call_qw4DJVbQIfpBxbBL3vOifXa9', 'type': 'tool_call'}], usage_metadata={'input_tokens': 1401, 'output_tokens': 11, 'total_tokens': 1412, 'input_token_details': {'audio': 0, 'cache_read': 0}, 'output_token_details': {'audio': 0, 'reasoning': 0}}),\n",
       "  ToolMessage(content=\"[{'schema_name': 'information_schema', 'schema_owner': 'kaliani', 'schema_type': 'System Information Schema'}, {'schema_name': 'pg_catalog', 'schema_owner': 'kaliani', 'schema_type': 'System Schema'}, {'schema_name': 'pg_toast', 'schema_owner': 'kaliani', 'schema_type': 'System Schema'}, {'schema_name': 'public', 'schema_owner': 'pg_database_owner', 'schema_type': 'User Schema'}]\", name='list_schemas', id='207b12ac-f0d2-4d28-9fcb-1add537c57b0', tool_call_id='call_qw4DJVbQIfpBxbBL3vOifXa9'),\n",
       "  AIMessage(content='', additional_kwargs={'tool_calls': [{'id': 'call_md8PyeSzYN0xa4lVfyr72bbT', 'function': {'arguments': '{\"schema_name\":\"public\"}', 'name': 'list_objects'}, 'type': 'function'}], 'refusal': None}, response_metadata={'token_usage': {'completion_tokens': 15, 'prompt_tokens': 1524, 'total_tokens': 1539, 'completion_tokens_details': {'accepted_prediction_tokens': 0, 'audio_tokens': 0, 'reasoning_tokens': 0, 'rejected_prediction_tokens': 0}, 'prompt_tokens_details': {'audio_tokens': 0, 'cached_tokens': 0}}, 'model_name': 'gpt-4o-2024-08-06', 'system_fingerprint': 'fp_1827dd0c55', 'id': 'chatcmpl-COTQzDW7MNcYBwrkh5F6zSk6SdtTd', 'service_tier': 'default', 'finish_reason': 'tool_calls', 'logprobs': None}, id='run--574caad0-619f-41c2-926f-9b67f2e4ccc6-0', tool_calls=[{'name': 'list_objects', 'args': {'schema_name': 'public'}, 'id': 'call_md8PyeSzYN0xa4lVfyr72bbT', 'type': 'tool_call'}], usage_metadata={'input_tokens': 1524, 'output_tokens': 15, 'total_tokens': 1539, 'input_token_details': {'audio': 0, 'cache_read': 0}, 'output_token_details': {'audio': 0, 'reasoning': 0}}),\n",
       "  ToolMessage(content=\"[{'schema': 'public', 'name': 'cause_categories', 'type': 'BASE TABLE'}, {'schema': 'public', 'name': 'courts', 'type': 'BASE TABLE'}, {'schema': 'public', 'name': 'documents', 'type': 'BASE TABLE'}, {'schema': 'public', 'name': 'instances', 'type': 'BASE TABLE'}, {'schema': 'public', 'name': 'judges', 'type': 'BASE TABLE'}, {'schema': 'public', 'name': 'judgment_forms', 'type': 'BASE TABLE'}, {'schema': 'public', 'name': 'justice_kinds', 'type': 'BASE TABLE'}, {'schema': 'public', 'name': 'raw_documents', 'type': 'BASE TABLE'}, {'schema': 'public', 'name': 'raw_judges', 'type': 'BASE TABLE'}, {'schema': 'public', 'name': 'regions', 'type': 'BASE TABLE'}, {'schema': 'public', 'name': 'users', 'type': 'BASE TABLE'}]\", name='list_objects', id='283f60ea-7b86-4acd-86c9-c13d36f0f719', tool_call_id='call_md8PyeSzYN0xa4lVfyr72bbT'),\n",
       "  AIMessage(content='', additional_kwargs={'tool_calls': [{'id': 'call_tmuZds1xOiX8V4ZggfNdPxC7', 'function': {'arguments': '{\"schema_name\": \"public\", \"object_name\": \"cause_categories\", \"object_type\": \"table\"}', 'name': 'get_object_details'}, 'type': 'function'}, {'id': 'call_7zAdoGfymBU1Ie0w7i1zuuEA', 'function': {'arguments': '{\"schema_name\": \"public\", \"object_name\": \"courts\", \"object_type\": \"table\"}', 'name': 'get_object_details'}, 'type': 'function'}, {'id': 'call_ks5wW13C2XlRkxLb56b7qgvo', 'function': {'arguments': '{\"schema_name\": \"public\", \"object_name\": \"documents\", \"object_type\": \"table\"}', 'name': 'get_object_details'}, 'type': 'function'}, {'id': 'call_H1hVhgvkrZGqIJIDovfex7xn', 'function': {'arguments': '{\"schema_name\": \"public\", \"object_name\": \"instances\", \"object_type\": \"table\"}', 'name': 'get_object_details'}, 'type': 'function'}, {'id': 'call_vf0XUM3VWcKj0jy1Vy156pJf', 'function': {'arguments': '{\"schema_name\": \"public\", \"object_name\": \"judges\", \"object_type\": \"table\"}', 'name': 'get_object_details'}, 'type': 'function'}, {'id': 'call_WbLb2iWItAEct4h5UjInBVis', 'function': {'arguments': '{\"schema_name\": \"public\", \"object_name\": \"judgment_forms\", \"object_type\": \"table\"}', 'name': 'get_object_details'}, 'type': 'function'}, {'id': 'call_H1kZPWzp8IXeZY0RUOSlyI7m', 'function': {'arguments': '{\"schema_name\": \"public\", \"object_name\": \"justice_kinds\", \"object_type\": \"table\"}', 'name': 'get_object_details'}, 'type': 'function'}, {'id': 'call_XjrCJA85O8V3hyQYcFkbVrWH', 'function': {'arguments': '{\"schema_name\": \"public\", \"object_name\": \"raw_documents\", \"object_type\": \"table\"}', 'name': 'get_object_details'}, 'type': 'function'}, {'id': 'call_Hd6PuucTv6F1Wu49g0qXgip8', 'function': {'arguments': '{\"schema_name\": \"public\", \"object_name\": \"raw_judges\", \"object_type\": \"table\"}', 'name': 'get_object_details'}, 'type': 'function'}, {'id': 'call_rik9ET6qGwcWKGhLjfElLRjU', 'function': {'arguments': '{\"schema_name\": \"public\", \"object_name\": \"regions\", \"object_type\": \"table\"}', 'name': 'get_object_details'}, 'type': 'function'}, {'id': 'call_aNT3bFFHXSYz560gpGvbosJa', 'function': {'arguments': '{\"schema_name\": \"public\", \"object_name\": \"users\", \"object_type\": \"table\"}', 'name': 'get_object_details'}, 'type': 'function'}], 'refusal': None}, response_metadata={'token_usage': {'completion_tokens': 313, 'prompt_tokens': 1769, 'total_tokens': 2082, 'completion_tokens_details': {'accepted_prediction_tokens': 0, 'audio_tokens': 0, 'reasoning_tokens': 0, 'rejected_prediction_tokens': 0}, 'prompt_tokens_details': {'audio_tokens': 0, 'cached_tokens': 1536}}, 'model_name': 'gpt-4o-2024-08-06', 'system_fingerprint': 'fp_1827dd0c55', 'id': 'chatcmpl-COTR8E5lbiKv0sRXIitRGTWXVoOmT', 'service_tier': 'default', 'finish_reason': 'tool_calls', 'logprobs': None}, id='run--cca423ea-766b-4f2b-bee7-41df85da2ce3-0', tool_calls=[{'name': 'get_object_details', 'args': {'schema_name': 'public', 'object_name': 'cause_categories', 'object_type': 'table'}, 'id': 'call_tmuZds1xOiX8V4ZggfNdPxC7', 'type': 'tool_call'}, {'name': 'get_object_details', 'args': {'schema_name': 'public', 'object_name': 'courts', 'object_type': 'table'}, 'id': 'call_7zAdoGfymBU1Ie0w7i1zuuEA', 'type': 'tool_call'}, {'name': 'get_object_details', 'args': {'schema_name': 'public', 'object_name': 'documents', 'object_type': 'table'}, 'id': 'call_ks5wW13C2XlRkxLb56b7qgvo', 'type': 'tool_call'}, {'name': 'get_object_details', 'args': {'schema_name': 'public', 'object_name': 'instances', 'object_type': 'table'}, 'id': 'call_H1hVhgvkrZGqIJIDovfex7xn', 'type': 'tool_call'}, {'name': 'get_object_details', 'args': {'schema_name': 'public', 'object_name': 'judges', 'object_type': 'table'}, 'id': 'call_vf0XUM3VWcKj0jy1Vy156pJf', 'type': 'tool_call'}, {'name': 'get_object_details', 'args': {'schema_name': 'public', 'object_name': 'judgment_forms', 'object_type': 'table'}, 'id': 'call_WbLb2iWItAEct4h5UjInBVis', 'type': 'tool_call'}, {'name': 'get_object_details', 'args': {'schema_name': 'public', 'object_name': 'justice_kinds', 'object_type': 'table'}, 'id': 'call_H1kZPWzp8IXeZY0RUOSlyI7m', 'type': 'tool_call'}, {'name': 'get_object_details', 'args': {'schema_name': 'public', 'object_name': 'raw_documents', 'object_type': 'table'}, 'id': 'call_XjrCJA85O8V3hyQYcFkbVrWH', 'type': 'tool_call'}, {'name': 'get_object_details', 'args': {'schema_name': 'public', 'object_name': 'raw_judges', 'object_type': 'table'}, 'id': 'call_Hd6PuucTv6F1Wu49g0qXgip8', 'type': 'tool_call'}, {'name': 'get_object_details', 'args': {'schema_name': 'public', 'object_name': 'regions', 'object_type': 'table'}, 'id': 'call_rik9ET6qGwcWKGhLjfElLRjU', 'type': 'tool_call'}, {'name': 'get_object_details', 'args': {'schema_name': 'public', 'object_name': 'users', 'object_type': 'table'}, 'id': 'call_aNT3bFFHXSYz560gpGvbosJa', 'type': 'tool_call'}], usage_metadata={'input_tokens': 1769, 'output_tokens': 313, 'total_tokens': 2082, 'input_token_details': {'audio': 0, 'cache_read': 1536}, 'output_token_details': {'audio': 0, 'reasoning': 0}}),\n",
       "  ToolMessage(content=\"{'basic': {'schema': 'public', 'name': 'cause_categories', 'type': 'table'}, 'columns': [{'column': 'category_code', 'data_type': 'numeric', 'is_nullable': 'NO', 'default': None}, {'column': 'name', 'data_type': 'character varying', 'is_nullable': 'NO', 'default': None}], 'constraints': [{'name': '2200_16426_1_not_null', 'type': 'CHECK', 'columns': []}, {'name': '2200_16426_2_not_null', 'type': 'CHECK', 'columns': []}], 'indexes': []}\", name='get_object_details', id='bac361bc-4224-4bb6-ba45-ec31444a9afb', tool_call_id='call_tmuZds1xOiX8V4ZggfNdPxC7'),\n",
       "  ToolMessage(content=\"{'basic': {'schema': 'public', 'name': 'courts', 'type': 'table'}, 'columns': [{'column': 'court_code', 'data_type': 'integer', 'is_nullable': 'YES', 'default': None}, {'column': 'name', 'data_type': 'character varying', 'is_nullable': 'YES', 'default': None}, {'column': 'instance_code', 'data_type': 'integer', 'is_nullable': 'YES', 'default': None}, {'column': 'region_code', 'data_type': 'integer', 'is_nullable': 'YES', 'default': None}], 'constraints': [], 'indexes': []}\", name='get_object_details', id='892331da-45b7-4223-bff0-b904d85b3a6f', tool_call_id='call_7zAdoGfymBU1Ie0w7i1zuuEA'),\n",
       "  ToolMessage(content=\"{'basic': {'schema': 'public', 'name': 'documents', 'type': 'table'}, 'columns': [{'column': 'doc_id', 'data_type': 'integer', 'is_nullable': 'YES', 'default': None}, {'column': 'court_code_documents', 'data_type': 'integer', 'is_nullable': 'YES', 'default': None}, {'column': 'judgment_code', 'data_type': 'integer', 'is_nullable': 'YES', 'default': None}, {'column': 'justice_kind', 'data_type': 'real', 'is_nullable': 'YES', 'default': None}, {'column': 'category_code', 'data_type': 'real', 'is_nullable': 'YES', 'default': None}, {'column': 'cause_num', 'data_type': 'character varying', 'is_nullable': 'YES', 'default': None}, {'column': 'adjudication_date', 'data_type': 'character varying', 'is_nullable': 'YES', 'default': None}, {'column': 'receipt_date', 'data_type': 'character varying', 'is_nullable': 'YES', 'default': None}, {'column': 'short_name_documents', 'data_type': 'character varying', 'is_nullable': 'YES', 'default': None}, {'column': 'doc_url', 'data_type': 'character varying', 'is_nullable': 'YES', 'default': None}, {'column': 'status', 'data_type': 'integer', 'is_nullable': 'YES', 'default': None}, {'column': 'date_publ', 'data_type': 'character varying', 'is_nullable': 'YES', 'default': None}, {'column': 'judge_id', 'data_type': 'real', 'is_nullable': 'YES', 'default': None}, {'column': 'short_name_judges', 'data_type': 'character varying', 'is_nullable': 'YES', 'default': None}, {'column': 'court_code_judges', 'data_type': 'real', 'is_nullable': 'YES', 'default': None}, {'column': 'record_type', 'data_type': 'character varying', 'is_nullable': 'YES', 'default': None}], 'constraints': [], 'indexes': []}\", name='get_object_details', id='a0db9952-1290-4d4c-8591-acc6c4cc8449', tool_call_id='call_ks5wW13C2XlRkxLb56b7qgvo'),\n",
       "  ToolMessage(content=\"{'basic': {'schema': 'public', 'name': 'instances', 'type': 'table'}, 'columns': [{'column': 'instance_code', 'data_type': 'integer', 'is_nullable': 'YES', 'default': None}, {'column': 'name', 'data_type': 'character varying', 'is_nullable': 'YES', 'default': None}], 'constraints': [], 'indexes': []}\", name='get_object_details', id='624b6b7f-c086-45b5-94e0-285c521f1074', tool_call_id='call_H1hVhgvkrZGqIJIDovfex7xn'),\n",
       "  ToolMessage(content=\"{'basic': {'schema': 'public', 'name': 'judges', 'type': 'table'}, 'columns': [{'column': 'id', 'data_type': 'integer', 'is_nullable': 'YES', 'default': None}, {'column': 'full_name', 'data_type': 'character varying', 'is_nullable': 'YES', 'default': None}, {'column': 'sex', 'data_type': 'character varying', 'is_nullable': 'YES', 'default': None}, {'column': 'court_name', 'data_type': 'character varying', 'is_nullable': 'YES', 'default': None}, {'column': 'last_name', 'data_type': 'character varying', 'is_nullable': 'YES', 'default': None}, {'column': 'first_name', 'data_type': 'character varying', 'is_nullable': 'YES', 'default': None}, {'column': 'patronymic', 'data_type': 'character varying', 'is_nullable': 'YES', 'default': None}, {'column': 'short_name', 'data_type': 'character varying', 'is_nullable': 'YES', 'default': None}, {'column': 'court_code', 'data_type': 'real', 'is_nullable': 'YES', 'default': None}], 'constraints': [], 'indexes': []}\", name='get_object_details', id='2420eb38-5c01-483b-b2a4-3d7b9181b0d2', tool_call_id='call_vf0XUM3VWcKj0jy1Vy156pJf'),\n",
       "  ToolMessage(content=\"{'basic': {'schema': 'public', 'name': 'judgment_forms', 'type': 'table'}, 'columns': [{'column': 'judgment_code', 'data_type': 'integer', 'is_nullable': 'YES', 'default': None}, {'column': 'name', 'data_type': 'character varying', 'is_nullable': 'YES', 'default': None}], 'constraints': [], 'indexes': []}\", name='get_object_details', id='6af2b679-332e-41ee-9db0-caa98192de5b', tool_call_id='call_WbLb2iWItAEct4h5UjInBVis'),\n",
       "  ToolMessage(content=\"{'basic': {'schema': 'public', 'name': 'justice_kinds', 'type': 'table'}, 'columns': [{'column': 'justice_kind', 'data_type': 'integer', 'is_nullable': 'YES', 'default': None}, {'column': 'name', 'data_type': 'character varying', 'is_nullable': 'YES', 'default': None}], 'constraints': [], 'indexes': []}\", name='get_object_details', id='3799a34c-6b2d-4e08-92f4-ea84e3606b5c', tool_call_id='call_H1kZPWzp8IXeZY0RUOSlyI7m'),\n",
       "  ToolMessage(content=\"{'basic': {'schema': 'public', 'name': 'raw_documents', 'type': 'table'}, 'columns': [{'column': 'doc_id', 'data_type': 'integer', 'is_nullable': 'YES', 'default': None}, {'column': 'court_code', 'data_type': 'integer', 'is_nullable': 'YES', 'default': None}, {'column': 'judgment_code', 'data_type': 'integer', 'is_nullable': 'YES', 'default': None}, {'column': 'justice_kind', 'data_type': 'integer', 'is_nullable': 'YES', 'default': None}, {'column': 'category_code', 'data_type': 'integer', 'is_nullable': 'YES', 'default': None}, {'column': 'cause_num', 'data_type': 'character varying', 'is_nullable': 'YES', 'default': None}, {'column': 'adjudication_date', 'data_type': 'character varying', 'is_nullable': 'YES', 'default': None}, {'column': 'receipt_date', 'data_type': 'character varying', 'is_nullable': 'YES', 'default': None}, {'column': 'judge', 'data_type': 'character varying', 'is_nullable': 'YES', 'default': None}, {'column': 'doc_url', 'data_type': 'character varying', 'is_nullable': 'YES', 'default': None}, {'column': 'status', 'data_type': 'integer', 'is_nullable': 'YES', 'default': None}, {'column': 'date_publ', 'data_type': 'character varying', 'is_nullable': 'YES', 'default': None}], 'constraints': [], 'indexes': []}\", name='get_object_details', id='cd94e995-321c-4b66-9213-5ca238e491e3', tool_call_id='call_XjrCJA85O8V3hyQYcFkbVrWH'),\n",
       "  ToolMessage(content=\"{'basic': {'schema': 'public', 'name': 'raw_judges', 'type': 'table'}, 'columns': [{'column': 'id', 'data_type': 'integer', 'is_nullable': 'YES', 'default': None}, {'column': 'full_name', 'data_type': 'character varying', 'is_nullable': 'YES', 'default': None}, {'column': 'sex', 'data_type': 'character varying', 'is_nullable': 'YES', 'default': None}, {'column': 'court_name', 'data_type': 'character varying', 'is_nullable': 'YES', 'default': None}], 'constraints': [], 'indexes': []}\", name='get_object_details', id='4d8fed85-04b7-4e41-9988-7ef1dfc3efb1', tool_call_id='call_Hd6PuucTv6F1Wu49g0qXgip8'),\n",
       "  ToolMessage(content=\"{'basic': {'schema': 'public', 'name': 'regions', 'type': 'table'}, 'columns': [{'column': 'region_code', 'data_type': 'integer', 'is_nullable': 'YES', 'default': None}, {'column': 'name', 'data_type': 'character varying', 'is_nullable': 'YES', 'default': None}], 'constraints': [], 'indexes': []}\", name='get_object_details', id='7fd82115-61a2-4331-8413-6b26bdcb1997', tool_call_id='call_rik9ET6qGwcWKGhLjfElLRjU'),\n",
       "  ToolMessage(content='{\\'basic\\': {\\'schema\\': \\'public\\', \\'name\\': \\'users\\', \\'type\\': \\'table\\'}, \\'columns\\': [{\\'column\\': \\'id\\', \\'data_type\\': \\'integer\\', \\'is_nullable\\': \\'NO\\', \\'default\\': \"nextval(\\'users_id_seq\\'::regclass)\"}, {\\'column\\': \\'username\\', \\'data_type\\': \\'character varying\\', \\'is_nullable\\': \\'NO\\', \\'default\\': None}, {\\'column\\': \\'email\\', \\'data_type\\': \\'character varying\\', \\'is_nullable\\': \\'NO\\', \\'default\\': None}, {\\'column\\': \\'created_at\\', \\'data_type\\': \\'timestamp without time zone\\', \\'is_nullable\\': \\'YES\\', \\'default\\': \\'CURRENT_TIMESTAMP\\'}], \\'constraints\\': [{\\'name\\': \\'users_pkey\\', \\'type\\': \\'PRIMARY KEY\\', \\'columns\\': [\\'id\\']}, {\\'name\\': \\'users_email_key\\', \\'type\\': \\'UNIQUE\\', \\'columns\\': [\\'email\\']}, {\\'name\\': \\'2200_16401_1_not_null\\', \\'type\\': \\'CHECK\\', \\'columns\\': []}, {\\'name\\': \\'2200_16401_2_not_null\\', \\'type\\': \\'CHECK\\', \\'columns\\': []}, {\\'name\\': \\'2200_16401_3_not_null\\', \\'type\\': \\'CHECK\\', \\'columns\\': []}], \\'indexes\\': [{\\'name\\': \\'users_pkey\\', \\'definition\\': \\'CREATE UNIQUE INDEX users_pkey ON public.users USING btree (id)\\'}, {\\'name\\': \\'users_email_key\\', \\'definition\\': \\'CREATE UNIQUE INDEX users_email_key ON public.users USING btree (email)\\'}]}', name='get_object_details', id='b57a7d87-10e1-4238-98e8-388cef5ed321', tool_call_id='call_aNT3bFFHXSYz560gpGvbosJa'),\n",
       "  AIMessage(content='', additional_kwargs={'tool_calls': [{'id': 'call_BDC3FXcuBWulkfwtcfNRhhAR', 'function': {'arguments': '{\"sql\":\"SELECT COUNT(*) FROM public.documents WHERE cause_num = \\'136/1512/24\\'\"}', 'name': 'execute_sql'}, 'type': 'function'}], 'refusal': None}, response_metadata={'token_usage': {'completion_tokens': 31, 'prompt_tokens': 4287, 'total_tokens': 4318, 'completion_tokens_details': {'accepted_prediction_tokens': 0, 'audio_tokens': 0, 'reasoning_tokens': 0, 'rejected_prediction_tokens': 0}, 'prompt_tokens_details': {'audio_tokens': 0, 'cached_tokens': 2048}}, 'model_name': 'gpt-4o-2024-08-06', 'system_fingerprint': 'fp_1827dd0c55', 'id': 'chatcmpl-COTRbrFtzdhzjpCduHfvkksWJloyT', 'service_tier': 'default', 'finish_reason': 'tool_calls', 'logprobs': None}, id='run--29ff191b-092c-4603-ab4e-a56e2dc1a410-0', tool_calls=[{'name': 'execute_sql', 'args': {'sql': \"SELECT COUNT(*) FROM public.documents WHERE cause_num = '136/1512/24'\"}, 'id': 'call_BDC3FXcuBWulkfwtcfNRhhAR', 'type': 'tool_call'}], usage_metadata={'input_tokens': 4287, 'output_tokens': 31, 'total_tokens': 4318, 'input_token_details': {'audio': 0, 'cache_read': 2048}, 'output_token_details': {'audio': 0, 'reasoning': 0}}),\n",
       "  ToolMessage(content=\"[{'count': 3}]\", name='execute_sql', id='43d2cb28-0051-4cd1-b4d6-3d23a3161945', tool_call_id='call_BDC3FXcuBWulkfwtcfNRhhAR'),\n",
       "  AIMessage(content='У базі даних є 3 записи по справі з номером 136/1512/24.', additional_kwargs={'refusal': None}, response_metadata={'token_usage': {'completion_tokens': 24, 'prompt_tokens': 4333, 'total_tokens': 4357, 'completion_tokens_details': {'accepted_prediction_tokens': 0, 'audio_tokens': 0, 'reasoning_tokens': 0, 'rejected_prediction_tokens': 0}, 'prompt_tokens_details': {'audio_tokens': 0, 'cached_tokens': 4224}}, 'model_name': 'gpt-4o-2024-08-06', 'system_fingerprint': 'fp_1827dd0c55', 'id': 'chatcmpl-COTRtc6jHg095RDeQJueIFlsRGzjb', 'service_tier': 'default', 'finish_reason': 'stop', 'logprobs': None}, id='run--8a5dd3bd-3a97-4ab0-8d20-3fde6a108167-0', usage_metadata={'input_tokens': 4333, 'output_tokens': 24, 'total_tokens': 4357, 'input_token_details': {'audio': 0, 'cache_read': 4224}, 'output_token_details': {'audio': 0, 'reasoning': 0}})]}"
      ]
     },
     "execution_count": 58,
     "metadata": {},
     "output_type": "execute_result"
    }
   ],
   "source": [
    "result"
   ]
  },
  {
   "cell_type": "markdown",
   "id": "a9387631",
   "metadata": {},
   "source": [
    "### Next good graph"
   ]
  },
  {
   "cell_type": "code",
   "execution_count": 1,
   "id": "1f0b91db",
   "metadata": {},
   "outputs": [],
   "source": [
    "import os\n",
    "from dotenv import load_dotenv\n",
    "\n",
    "from typing import TypedDict, List, Dict, Any, Optional\n",
    "\n",
    "from typing_extensions import Literal\n",
    "\n",
    "from langchain_core.prompts import PromptTemplate\n",
    "from langgraph.graph import StateGraph, START, END\n",
    "from langchain_openai import ChatOpenAI\n",
    "from langchain_core.messages import HumanMessage\n",
    "from langchain_core.messages import SystemMessage, HumanMessage, ToolMessage, filter_messages\n",
    "import requests\n",
    "from striprtf.striprtf import rtf_to_text\n",
    "\n",
    "load_dotenv()\n",
    "# Set your OpenAI API key here\n",
    "api_key = os.getenv(\"OPENAI_API_KEY\")\n",
    "\n",
    "# Initialize our LLM\n",
    "model = ChatOpenAI(model=\"gpt-4o\", temperature=0)"
   ]
  },
  {
   "cell_type": "code",
   "execution_count": 6,
   "id": "ed50b5fc",
   "metadata": {},
   "outputs": [],
   "source": [
    "class AgentState(TypedDict):\n",
    "    messages: Annotated[list[AnyMessage], add_messages]"
   ]
  },
  {
   "cell_type": "code",
   "execution_count": 4,
   "id": "1234ca20",
   "metadata": {},
   "outputs": [],
   "source": [
    "from langchain_mcp_adapters.client import MultiServerMCPClient\n",
    "from typing import List, TypedDict, Annotated, Optional\n",
    "from langchain_core.messages import AnyMessage, SystemMessage, HumanMessage\n",
    "from langgraph.graph.message import add_messages\n",
    "from langgraph.prebuilt import create_react_agent\n",
    "\n",
    "mcp_config = {\n",
    "    \"postgres\": {\n",
    "        \"transport\": \"sse\",\n",
    "        \"url\": \"http://127.0.0.1:8000/sse\" \n",
    "    }\n",
    "}\n",
    "\n",
    "_client = None\n",
    "\n",
    "def get_mcp_client():\n",
    "    \"\"\"Get or initialize MCP client lazily to avoid issues with LangGraph Platform.\"\"\"\n",
    "    global _client\n",
    "    if _client is None:\n",
    "        _client = MultiServerMCPClient(mcp_config)\n",
    "    return _client\n",
    "\n",
    "\n",
    "client = get_mcp_client()\n",
    "mcp_tools = await client.get_tools()\n",
    "# agent =  create_react_agent(model, mcp_tools)"
   ]
  },
  {
   "cell_type": "code",
   "execution_count": 7,
   "id": "131bd2a3",
   "metadata": {},
   "outputs": [],
   "source": [
    "async def call_model(state: AgentState):\n",
    "    prompt = f\"\"\"\n",
    "    You are a helpful assistant. You can analyse summarize texts (court cases) and run computations with provided tools\n",
    "\"\"\"\n",
    "    sys_msg = SystemMessage(content=prompt)\n",
    "    response = model.bind_tools(mcp_tools).invoke([sys_msg]+state[\"messages\"])\n",
    "    return {\"messages\": response}"
   ]
  },
  {
   "cell_type": "code",
   "execution_count": 8,
   "id": "e10424b1",
   "metadata": {},
   "outputs": [],
   "source": [
    "from langgraph.graph import StateGraph, MessagesState, START\n",
    "from langgraph.prebuilt import ToolNode, tools_condition\n",
    "\n",
    "builder = StateGraph(MessagesState)\n",
    "builder.add_node(call_model)\n",
    "builder.add_node(ToolNode(mcp_tools))\n",
    "builder.add_edge(START, \"call_model\")\n",
    "builder.add_conditional_edges(\n",
    "    \"call_model\",\n",
    "    tools_condition,\n",
    ")\n",
    "builder.add_edge(\"tools\", \"call_model\")\n",
    "graph = builder.compile()"
   ]
  },
  {
   "cell_type": "code",
   "execution_count": 9,
   "id": "cb9c24ea",
   "metadata": {},
   "outputs": [
    {
     "data": {
      "image/png": "[encoded data removed]",
      "text/plain": [
       "<IPython.core.display.Image object>"
      ]
     },
     "metadata": {},
     "output_type": "display_data"
    }
   ],
   "source": [
    "from IPython.display import Image, display\n",
    "\n",
    "display(Image(graph.get_graph(xray=True).draw_mermaid_png()))"
   ]
  },
  {
   "cell_type": "code",
   "execution_count": 10,
   "id": "c704caa3",
   "metadata": {},
   "outputs": [],
   "source": [
    "math_response = await graph.ainvoke({\"messages\": \"скільки записів є по справі 136/1512/24?\"})"
   ]
  },
  {
   "cell_type": "code",
   "execution_count": 24,
   "id": "1a1263d4",
   "metadata": {},
   "outputs": [],
   "source": [
    "q = \"\"\"який результат виведе ця кверя select count(*) from documents d \n",
    "where 1 =1 \n",
    "and cause_num = '136/1512/24'\"\"\"   \n",
    "\n",
    "math_response = await graph.ainvoke({\"messages\": q})"
   ]
  },
  {
   "cell_type": "code",
   "execution_count": 26,
   "id": "089b8b8a",
   "metadata": {},
   "outputs": [],
   "source": [
    "q = \"\"\"хто суддя по справі  '136/1512/24'\"\"\"   \n",
    "\n",
    "math_response = await graph.ainvoke({\"messages\": q})"
   ]
  },
  {
   "cell_type": "code",
   "execution_count": 11,
   "id": "62df4b7b",
   "metadata": {},
   "outputs": [
    {
     "name": "stdout",
     "output_type": "stream",
     "text": [
      "================================\u001b[1m Human Message \u001b[0m=================================\n",
      "\n",
      "скільки записів є по справі 136/1512/24?\n",
      "==================================\u001b[1m Ai Message \u001b[0m==================================\n",
      "Tool Calls:\n",
      "  list_schemas (call_lcGztss5Xb8NR9RzeTH4Axv6)\n",
      " Call ID: call_lcGztss5Xb8NR9RzeTH4Axv6\n",
      "  Args:\n",
      "=================================\u001b[1m Tool Message \u001b[0m=================================\n",
      "Name: list_schemas\n",
      "\n",
      "[{'schema_name': 'information_schema', 'schema_owner': 'kaliani', 'schema_type': 'System Information Schema'}, {'schema_name': 'pg_catalog', 'schema_owner': 'kaliani', 'schema_type': 'System Schema'}, {'schema_name': 'pg_toast', 'schema_owner': 'kaliani', 'schema_type': 'System Schema'}, {'schema_name': 'public', 'schema_owner': 'pg_database_owner', 'schema_type': 'User Schema'}]\n",
      "==================================\u001b[1m Ai Message \u001b[0m==================================\n",
      "Tool Calls:\n",
      "  list_objects (call_vrjwUcNg1U1kKXQYywXlxNDi)\n",
      " Call ID: call_vrjwUcNg1U1kKXQYywXlxNDi\n",
      "  Args:\n",
      "    schema_name: public\n",
      "=================================\u001b[1m Tool Message \u001b[0m=================================\n",
      "Name: list_objects\n",
      "\n",
      "[{'schema': 'public', 'name': 'cause_categories', 'type': 'BASE TABLE'}, {'schema': 'public', 'name': 'courts', 'type': 'BASE TABLE'}, {'schema': 'public', 'name': 'documents', 'type': 'BASE TABLE'}, {'schema': 'public', 'name': 'instances', 'type': 'BASE TABLE'}, {'schema': 'public', 'name': 'judges', 'type': 'BASE TABLE'}, {'schema': 'public', 'name': 'judgment_forms', 'type': 'BASE TABLE'}, {'schema': 'public', 'name': 'justice_kinds', 'type': 'BASE TABLE'}, {'schema': 'public', 'name': 'raw_documents', 'type': 'BASE TABLE'}, {'schema': 'public', 'name': 'raw_judges', 'type': 'BASE TABLE'}, {'schema': 'public', 'name': 'regions', 'type': 'BASE TABLE'}, {'schema': 'public', 'name': 'users', 'type': 'BASE TABLE'}]\n",
      "==================================\u001b[1m Ai Message \u001b[0m==================================\n",
      "Tool Calls:\n",
      "  get_object_details (call_0GhQ9ib577gCmCB9EknjaARy)\n",
      " Call ID: call_0GhQ9ib577gCmCB9EknjaARy\n",
      "  Args:\n",
      "    schema_name: public\n",
      "    object_name: cause_categories\n",
      "  get_object_details (call_KJjpJuSSfjsaduNAwQuyM7Bu)\n",
      " Call ID: call_KJjpJuSSfjsaduNAwQuyM7Bu\n",
      "  Args:\n",
      "    schema_name: public\n",
      "    object_name: courts\n",
      "  get_object_details (call_cIspFj5bHaHhYHwKihG0ANAV)\n",
      " Call ID: call_cIspFj5bHaHhYHwKihG0ANAV\n",
      "  Args:\n",
      "    schema_name: public\n",
      "    object_name: documents\n",
      "  get_object_details (call_5fJJMutOvhohkrt9apCGOBCz)\n",
      " Call ID: call_5fJJMutOvhohkrt9apCGOBCz\n",
      "  Args:\n",
      "    schema_name: public\n",
      "    object_name: instances\n",
      "  get_object_details (call_fDkritWRNDj66AKPk4h08pfz)\n",
      " Call ID: call_fDkritWRNDj66AKPk4h08pfz\n",
      "  Args:\n",
      "    schema_name: public\n",
      "    object_name: judges\n",
      "  get_object_details (call_Mj4YmbOhYuCrmAt3euHipyxH)\n",
      " Call ID: call_Mj4YmbOhYuCrmAt3euHipyxH\n",
      "  Args:\n",
      "    schema_name: public\n",
      "    object_name: judgment_forms\n",
      "  get_object_details (call_CtrxZD5bpPpguvOYZ22gNztL)\n",
      " Call ID: call_CtrxZD5bpPpguvOYZ22gNztL\n",
      "  Args:\n",
      "    schema_name: public\n",
      "    object_name: justice_kinds\n",
      "  get_object_details (call_SeEFc9RbSgShgJF65lMxisJt)\n",
      " Call ID: call_SeEFc9RbSgShgJF65lMxisJt\n",
      "  Args:\n",
      "    schema_name: public\n",
      "    object_name: raw_documents\n",
      "  get_object_details (call_DGOtiLEeseMDMfa80rbtmmc6)\n",
      " Call ID: call_DGOtiLEeseMDMfa80rbtmmc6\n",
      "  Args:\n",
      "    schema_name: public\n",
      "    object_name: raw_judges\n",
      "  get_object_details (call_1AJSCZkbWY92lhWHcyhHDuyf)\n",
      " Call ID: call_1AJSCZkbWY92lhWHcyhHDuyf\n",
      "  Args:\n",
      "    schema_name: public\n",
      "    object_name: regions\n",
      "  get_object_details (call_pfPqvz4o3eI26Xc65Rs8uEUN)\n",
      " Call ID: call_pfPqvz4o3eI26Xc65Rs8uEUN\n",
      "  Args:\n",
      "    schema_name: public\n",
      "    object_name: users\n",
      "=================================\u001b[1m Tool Message \u001b[0m=================================\n",
      "Name: get_object_details\n",
      "\n",
      "{'basic': {'schema': 'public', 'name': 'cause_categories', 'type': 'table'}, 'columns': [{'column': 'category_code', 'data_type': 'numeric', 'is_nullable': 'NO', 'default': None}, {'column': 'name', 'data_type': 'character varying', 'is_nullable': 'NO', 'default': None}], 'constraints': [{'name': '2200_16426_1_not_null', 'type': 'CHECK', 'columns': []}, {'name': '2200_16426_2_not_null', 'type': 'CHECK', 'columns': []}], 'indexes': []}\n",
      "=================================\u001b[1m Tool Message \u001b[0m=================================\n",
      "Name: get_object_details\n",
      "\n",
      "{'basic': {'schema': 'public', 'name': 'courts', 'type': 'table'}, 'columns': [{'column': 'court_code', 'data_type': 'integer', 'is_nullable': 'YES', 'default': None}, {'column': 'name', 'data_type': 'character varying', 'is_nullable': 'YES', 'default': None}, {'column': 'instance_code', 'data_type': 'integer', 'is_nullable': 'YES', 'default': None}, {'column': 'region_code', 'data_type': 'integer', 'is_nullable': 'YES', 'default': None}], 'constraints': [], 'indexes': []}\n",
      "=================================\u001b[1m Tool Message \u001b[0m=================================\n",
      "Name: get_object_details\n",
      "\n",
      "{'basic': {'schema': 'public', 'name': 'documents', 'type': 'table'}, 'columns': [{'column': 'doc_id', 'data_type': 'integer', 'is_nullable': 'YES', 'default': None}, {'column': 'court_code_documents', 'data_type': 'integer', 'is_nullable': 'YES', 'default': None}, {'column': 'judgment_code', 'data_type': 'integer', 'is_nullable': 'YES', 'default': None}, {'column': 'justice_kind', 'data_type': 'real', 'is_nullable': 'YES', 'default': None}, {'column': 'category_code', 'data_type': 'real', 'is_nullable': 'YES', 'default': None}, {'column': 'cause_num', 'data_type': 'character varying', 'is_nullable': 'YES', 'default': None}, {'column': 'adjudication_date', 'data_type': 'character varying', 'is_nullable': 'YES', 'default': None}, {'column': 'receipt_date', 'data_type': 'character varying', 'is_nullable': 'YES', 'default': None}, {'column': 'short_name_documents', 'data_type': 'character varying', 'is_nullable': 'YES', 'default': None}, {'column': 'doc_url', 'data_type': 'character varying', 'is_nullable': 'YES', 'default': None}, {'column': 'status', 'data_type': 'integer', 'is_nullable': 'YES', 'default': None}, {'column': 'date_publ', 'data_type': 'character varying', 'is_nullable': 'YES', 'default': None}, {'column': 'judge_id', 'data_type': 'real', 'is_nullable': 'YES', 'default': None}, {'column': 'short_name_judges', 'data_type': 'character varying', 'is_nullable': 'YES', 'default': None}, {'column': 'court_code_judges', 'data_type': 'real', 'is_nullable': 'YES', 'default': None}, {'column': 'record_type', 'data_type': 'character varying', 'is_nullable': 'YES', 'default': None}], 'constraints': [], 'indexes': []}\n",
      "=================================\u001b[1m Tool Message \u001b[0m=================================\n",
      "Name: get_object_details\n",
      "\n",
      "{'basic': {'schema': 'public', 'name': 'instances', 'type': 'table'}, 'columns': [{'column': 'instance_code', 'data_type': 'integer', 'is_nullable': 'YES', 'default': None}, {'column': 'name', 'data_type': 'character varying', 'is_nullable': 'YES', 'default': None}], 'constraints': [], 'indexes': []}\n",
      "=================================\u001b[1m Tool Message \u001b[0m=================================\n",
      "Name: get_object_details\n",
      "\n",
      "{'basic': {'schema': 'public', 'name': 'judges', 'type': 'table'}, 'columns': [{'column': 'id', 'data_type': 'integer', 'is_nullable': 'YES', 'default': None}, {'column': 'full_name', 'data_type': 'character varying', 'is_nullable': 'YES', 'default': None}, {'column': 'sex', 'data_type': 'character varying', 'is_nullable': 'YES', 'default': None}, {'column': 'court_name', 'data_type': 'character varying', 'is_nullable': 'YES', 'default': None}, {'column': 'last_name', 'data_type': 'character varying', 'is_nullable': 'YES', 'default': None}, {'column': 'first_name', 'data_type': 'character varying', 'is_nullable': 'YES', 'default': None}, {'column': 'patronymic', 'data_type': 'character varying', 'is_nullable': 'YES', 'default': None}, {'column': 'short_name', 'data_type': 'character varying', 'is_nullable': 'YES', 'default': None}, {'column': 'court_code', 'data_type': 'real', 'is_nullable': 'YES', 'default': None}], 'constraints': [], 'indexes': []}\n",
      "=================================\u001b[1m Tool Message \u001b[0m=================================\n",
      "Name: get_object_details\n",
      "\n",
      "{'basic': {'schema': 'public', 'name': 'judgment_forms', 'type': 'table'}, 'columns': [{'column': 'judgment_code', 'data_type': 'integer', 'is_nullable': 'YES', 'default': None}, {'column': 'name', 'data_type': 'character varying', 'is_nullable': 'YES', 'default': None}], 'constraints': [], 'indexes': []}\n",
      "=================================\u001b[1m Tool Message \u001b[0m=================================\n",
      "Name: get_object_details\n",
      "\n",
      "{'basic': {'schema': 'public', 'name': 'justice_kinds', 'type': 'table'}, 'columns': [{'column': 'justice_kind', 'data_type': 'integer', 'is_nullable': 'YES', 'default': None}, {'column': 'name', 'data_type': 'character varying', 'is_nullable': 'YES', 'default': None}], 'constraints': [], 'indexes': []}\n",
      "=================================\u001b[1m Tool Message \u001b[0m=================================\n",
      "Name: get_object_details\n",
      "\n",
      "{'basic': {'schema': 'public', 'name': 'raw_documents', 'type': 'table'}, 'columns': [{'column': 'doc_id', 'data_type': 'integer', 'is_nullable': 'YES', 'default': None}, {'column': 'court_code', 'data_type': 'integer', 'is_nullable': 'YES', 'default': None}, {'column': 'judgment_code', 'data_type': 'integer', 'is_nullable': 'YES', 'default': None}, {'column': 'justice_kind', 'data_type': 'integer', 'is_nullable': 'YES', 'default': None}, {'column': 'category_code', 'data_type': 'integer', 'is_nullable': 'YES', 'default': None}, {'column': 'cause_num', 'data_type': 'character varying', 'is_nullable': 'YES', 'default': None}, {'column': 'adjudication_date', 'data_type': 'character varying', 'is_nullable': 'YES', 'default': None}, {'column': 'receipt_date', 'data_type': 'character varying', 'is_nullable': 'YES', 'default': None}, {'column': 'judge', 'data_type': 'character varying', 'is_nullable': 'YES', 'default': None}, {'column': 'doc_url', 'data_type': 'character varying', 'is_nullable': 'YES', 'default': None}, {'column': 'status', 'data_type': 'integer', 'is_nullable': 'YES', 'default': None}, {'column': 'date_publ', 'data_type': 'character varying', 'is_nullable': 'YES', 'default': None}], 'constraints': [], 'indexes': []}\n",
      "=================================\u001b[1m Tool Message \u001b[0m=================================\n",
      "Name: get_object_details\n",
      "\n",
      "{'basic': {'schema': 'public', 'name': 'raw_judges', 'type': 'table'}, 'columns': [{'column': 'id', 'data_type': 'integer', 'is_nullable': 'YES', 'default': None}, {'column': 'full_name', 'data_type': 'character varying', 'is_nullable': 'YES', 'default': None}, {'column': 'sex', 'data_type': 'character varying', 'is_nullable': 'YES', 'default': None}, {'column': 'court_name', 'data_type': 'character varying', 'is_nullable': 'YES', 'default': None}], 'constraints': [], 'indexes': []}\n",
      "=================================\u001b[1m Tool Message \u001b[0m=================================\n",
      "Name: get_object_details\n",
      "\n",
      "{'basic': {'schema': 'public', 'name': 'regions', 'type': 'table'}, 'columns': [{'column': 'region_code', 'data_type': 'integer', 'is_nullable': 'YES', 'default': None}, {'column': 'name', 'data_type': 'character varying', 'is_nullable': 'YES', 'default': None}], 'constraints': [], 'indexes': []}\n",
      "=================================\u001b[1m Tool Message \u001b[0m=================================\n",
      "Name: get_object_details\n",
      "\n",
      "{'basic': {'schema': 'public', 'name': 'users', 'type': 'table'}, 'columns': [{'column': 'id', 'data_type': 'integer', 'is_nullable': 'NO', 'default': \"nextval('users_id_seq'::regclass)\"}, {'column': 'username', 'data_type': 'character varying', 'is_nullable': 'NO', 'default': None}, {'column': 'email', 'data_type': 'character varying', 'is_nullable': 'NO', 'default': None}, {'column': 'created_at', 'data_type': 'timestamp without time zone', 'is_nullable': 'YES', 'default': 'CURRENT_TIMESTAMP'}], 'constraints': [{'name': 'users_pkey', 'type': 'PRIMARY KEY', 'columns': ['id']}, {'name': 'users_email_key', 'type': 'UNIQUE', 'columns': ['email']}, {'name': '2200_16401_1_not_null', 'type': 'CHECK', 'columns': []}, {'name': '2200_16401_2_not_null', 'type': 'CHECK', 'columns': []}, {'name': '2200_16401_3_not_null', 'type': 'CHECK', 'columns': []}], 'indexes': [{'name': 'users_pkey', 'definition': 'CREATE UNIQUE INDEX users_pkey ON public.users USING btree (id)'}, {'name': 'users_email_key', 'definition': 'CREATE UNIQUE INDEX users_email_key ON public.users USING btree (email)'}]}\n",
      "==================================\u001b[1m Ai Message \u001b[0m==================================\n",
      "Tool Calls:\n",
      "  execute_sql (call_hucoEgTlA8zERpW5HYragNHb)\n",
      " Call ID: call_hucoEgTlA8zERpW5HYragNHb\n",
      "  Args:\n",
      "    sql: SELECT COUNT(*) FROM documents WHERE cause_num = '136/1512/24'\n",
      "=================================\u001b[1m Tool Message \u001b[0m=================================\n",
      "Name: execute_sql\n",
      "\n",
      "[{'count': 3}]\n",
      "==================================\u001b[1m Ai Message \u001b[0m==================================\n",
      "\n",
      "У справі з номером 136/1512/24 є 3 записи.\n"
     ]
    }
   ],
   "source": [
    "for m in math_response[\"messages\"]:\n",
    "    m.pretty_print()"
   ]
  },
  {
   "cell_type": "code",
   "execution_count": 16,
   "id": "ad8a887e",
   "metadata": {},
   "outputs": [],
   "source": [
    "q = \"\"\"який результат виведе ця кверя select count(*) from documents d \n",
    "where 1 =1 \n",
    "and cause_num = '136/1512/24'\"\"\"   \n",
    "\n",
    "math_response = await agent.ainvoke({\"messages\": q})"
   ]
  },
  {
   "cell_type": "code",
   "execution_count": 17,
   "id": "15012256",
   "metadata": {},
   "outputs": [
    {
     "data": {
      "text/plain": [
       "{'messages': [HumanMessage(content=\"який результат виведе ця кверя select count(*) from documents d \\nwhere 1 =1 \\nand cause_num = '136/1512/24'\", additional_kwargs={}, response_metadata={}, id='4c71b6b7-b528-47c8-b4d2-13cea141cc1f'),\n",
       "  AIMessage(content='', additional_kwargs={'tool_calls': [{'id': 'call_NYDoFSiS8K6DDV3MVcWZH4hb', 'function': {'arguments': '{\"sql\":\"select count(*) from documents d where 1 =1 and cause_num = \\'136/1512/24\\'\",\"analyze\":true}', 'name': 'explain_query'}, 'type': 'function'}], 'refusal': None}, response_metadata={'token_usage': {'completion_tokens': 42, 'prompt_tokens': 735, 'total_tokens': 777, 'completion_tokens_details': {'accepted_prediction_tokens': 0, 'audio_tokens': 0, 'reasoning_tokens': 0, 'rejected_prediction_tokens': 0}, 'prompt_tokens_details': {'audio_tokens': 0, 'cached_tokens': 0}}, 'model_name': 'gpt-4o-2024-08-06', 'system_fingerprint': 'fp_cbf1785567', 'id': 'chatcmpl-COliQdJ3AlOjgIKWKGbD6CqASk4yl', 'service_tier': 'default', 'finish_reason': 'tool_calls', 'logprobs': None}, id='run--9f5d8c65-edc2-4069-a5cb-cddd0c5cee47-0', tool_calls=[{'name': 'explain_query', 'args': {'sql': \"select count(*) from documents d where 1 =1 and cause_num = '136/1512/24'\", 'analyze': True}, 'id': 'call_NYDoFSiS8K6DDV3MVcWZH4hb', 'type': 'tool_call'}], usage_metadata={'input_tokens': 735, 'output_tokens': 42, 'total_tokens': 777, 'input_token_details': {'audio': 0, 'cache_read': 0}, 'output_token_details': {'audio': 0, 'reasoning': 0}}),\n",
       "  ToolMessage(content=\"Planning Time: 0.064 ms\\nExecution Time: 16598.989 ms\\n→ Aggregate (Cost: 327594.41..327594.42) [Rows: 1] [Actual: 16592.39..16597.97 ms, Rows: 1, Loops: 1]\\n  → Gather (Cost: 327594.19..327594.40) [Rows: 2] [Actual: 16592.20..16597.94 ms, Rows: 3, Loops: 1]\\n    → Aggregate (Cost: 326594.19..326594.20) [Rows: 1] [Actual: 16510.26..16510.26 ms, Rows: 1, Loops: 3]\\n      → Seq Scan (Cost: 0.00..326594.19) on documents [Rows: 2] [Actual: 6103.05..16510.19 ms, Rows: 1, Loops: 3]\\n        Filter: ((cause_num)::text = '136/1512/24'::text)\", name='explain_query', id='2ee2782e-0474-498f-a2de-3caab392eddc', tool_call_id='call_NYDoFSiS8K6DDV3MVcWZH4hb'),\n",
       "  AIMessage(content=\"Запит виконує послідовне сканування таблиці `documents` для підрахунку кількості рядків, де `cause_num` дорівнює `'136/1512/24'`. Результат запиту - 1 рядок, що відповідає умовам.\", additional_kwargs={'refusal': None}, response_metadata={'token_usage': {'completion_tokens': 65, 'prompt_tokens': 1022, 'total_tokens': 1087, 'completion_tokens_details': {'accepted_prediction_tokens': 0, 'audio_tokens': 0, 'reasoning_tokens': 0, 'rejected_prediction_tokens': 0}, 'prompt_tokens_details': {'audio_tokens': 0, 'cached_tokens': 0}}, 'model_name': 'gpt-4o-2024-08-06', 'system_fingerprint': 'fp_cbf1785567', 'id': 'chatcmpl-COliiXw4JZ4DMqYOnLPtr9m02tC7j', 'service_tier': 'default', 'finish_reason': 'stop', 'logprobs': None}, id='run--c777fa47-0347-4d71-83d1-f77e6b791bad-0', usage_metadata={'input_tokens': 1022, 'output_tokens': 65, 'total_tokens': 1087, 'input_token_details': {'audio': 0, 'cache_read': 0}, 'output_token_details': {'audio': 0, 'reasoning': 0}})]}"
      ]
     },
     "execution_count": 17,
     "metadata": {},
     "output_type": "execute_result"
    }
   ],
   "source": [
    "math_response"
   ]
  },
  {
   "cell_type": "markdown",
   "id": "41987793",
   "metadata": {},
   "source": [
    "### Mixed tools graph"
   ]
  },
  {
   "cell_type": "code",
   "execution_count": 1,
   "id": "551c29cf",
   "metadata": {},
   "outputs": [],
   "source": [
    "import os\n",
    "from dotenv import load_dotenv\n",
    "\n",
    "from typing import TypedDict, List, Dict, Any, Optional\n",
    "\n",
    "from typing_extensions import Literal\n",
    "\n",
    "from langchain_core.prompts import PromptTemplate\n",
    "from langgraph.graph import StateGraph, START, END\n",
    "from langchain_openai import ChatOpenAI\n",
    "from langchain_core.messages import HumanMessage\n",
    "from langchain_core.messages import SystemMessage, HumanMessage, ToolMessage, filter_messages\n",
    "import requests\n",
    "from striprtf.striprtf import rtf_to_text\n",
    "\n",
    "load_dotenv()\n",
    "# Set your OpenAI API key here\n",
    "api_key = os.getenv(\"OPENAI_API_KEY\")\n",
    "\n",
    "# Initialize our LLM\n",
    "model = ChatOpenAI(model=\"gpt-4o\", temperature=0)"
   ]
  },
  {
   "cell_type": "code",
   "execution_count": 2,
   "id": "badd3ef2",
   "metadata": {},
   "outputs": [],
   "source": [
    "from langchain_mcp_adapters.client import MultiServerMCPClient\n",
    "from typing import List, TypedDict, Annotated, Optional\n",
    "from langchain_core.messages import AnyMessage, SystemMessage, HumanMessage\n",
    "from langgraph.graph.message import add_messages\n",
    "from langgraph.prebuilt import create_react_agent\n",
    "\n",
    "mcp_config = {\n",
    "    \"postgres\": {\n",
    "        \"transport\": \"sse\",\n",
    "        \"url\": \"http://127.0.0.1:8000/sse\" \n",
    "    }\n",
    "}\n",
    "\n",
    "_client = None\n",
    "\n",
    "def get_mcp_client():\n",
    "    \"\"\"Get or initialize MCP client lazily to avoid issues with LangGraph Platform.\"\"\"\n",
    "    global _client\n",
    "    if _client is None:\n",
    "        _client = MultiServerMCPClient(mcp_config)\n",
    "    return _client\n",
    "\n",
    "\n",
    "client = get_mcp_client()\n",
    "mcp_tools = await client.get_tools()\n",
    "agent =  create_react_agent(model, mcp_tools)"
   ]
  },
  {
   "cell_type": "code",
   "execution_count": 3,
   "id": "bccb11c9",
   "metadata": {},
   "outputs": [],
   "source": [
    "from langchain_core.tools import tool\n",
    "\n",
    "@tool\n",
    "def extract_rtf_text(url: str) -> str:\n",
    "    \"\"\"\n",
    "    Download an RTF document from the given URL and extract plain text from it.\n",
    "    \"\"\"\n",
    "    response = requests.get(url)\n",
    "    response.raise_for_status()\n",
    "\n",
    "    rtf_content = response.content.decode(\"utf-8\", errors=\"ignore\")\n",
    "\n",
    "    text = rtf_to_text(rtf_content)\n",
    "    return text"
   ]
  },
  {
   "cell_type": "code",
   "execution_count": 4,
   "id": "909b26a8",
   "metadata": {},
   "outputs": [],
   "source": [
    "class AgentState(TypedDict):\n",
    "    messages: Annotated[list[AnyMessage], add_messages]"
   ]
  },
  {
   "cell_type": "code",
   "execution_count": 6,
   "id": "c89a74b3",
   "metadata": {},
   "outputs": [],
   "source": [
    "async def call_model(state: AgentState):\n",
    "    prompt = f\"\"\"\n",
    "    You are a helpful assistant. You can analyse summarize texts (court cases) and run computations with provided tools\n",
    "\"\"\"\n",
    "    sys_msg = SystemMessage(content=prompt)\n",
    "    response = model.bind_tools(mcp_tools).invoke([sys_msg]+state[\"messages\"])\n",
    "    return {\"messages\": response}"
   ]
  },
  {
   "cell_type": "code",
   "execution_count": 7,
   "id": "7e8bf885",
   "metadata": {},
   "outputs": [],
   "source": [
    "from langgraph.graph import StateGraph, MessagesState, START\n",
    "from langgraph.prebuilt import ToolNode, tools_condition\n",
    "\n",
    "builder = StateGraph(MessagesState)\n",
    "builder.add_node(call_model)\n",
    "builder.add_node(ToolNode(mcp_tools))\n",
    "builder.add_edge(START, \"call_model\")\n",
    "builder.add_conditional_edges(\n",
    "    \"call_model\",\n",
    "    tools_condition,\n",
    ")\n",
    "builder.add_edge(\"tools\", \"call_model\")\n",
    "graph = builder.compile()"
   ]
  },
  {
   "cell_type": "code",
   "execution_count": 8,
   "id": "2133f01a",
   "metadata": {},
   "outputs": [
    {
     "data": {
      "image/png": "[encoded data removed]",
      "text/plain": [
       "<IPython.core.display.Image object>"
      ]
     },
     "metadata": {},
     "output_type": "display_data"
    }
   ],
   "source": [
    "from IPython.display import Image, display\n",
    "\n",
    "display(Image(graph.get_graph(xray=True).draw_mermaid_png()))"
   ]
  },
  {
   "cell_type": "code",
   "execution_count": 9,
   "id": "c1dbcd43",
   "metadata": {},
   "outputs": [
    {
     "data": {
      "text/plain": [
       "[StructuredTool(name='list_schemas', description='List all schemas in the database', args_schema={'properties': {}, 'title': 'list_schemasArguments', 'type': 'object'}, response_format='content_and_artifact', coroutine=<function convert_mcp_tool_to_langchain_tool.<locals>.call_tool at 0x0000017CFFBD74C0>),\n",
       " StructuredTool(name='list_objects', description='List objects in a schema', args_schema={'properties': {'schema_name': {'description': 'Schema name', 'title': 'Schema Name', 'type': 'string'}, 'object_type': {'default': 'table', 'description': \"Object type: 'table', 'view', 'sequence', or 'extension'\", 'title': 'Object Type', 'type': 'string'}}, 'required': ['schema_name'], 'title': 'list_objectsArguments', 'type': 'object'}, response_format='content_and_artifact', coroutine=<function convert_mcp_tool_to_langchain_tool.<locals>.call_tool at 0x0000017CFFBD76A0>),\n",
       " StructuredTool(name='get_object_details', description='Show detailed information about a database object', args_schema={'properties': {'schema_name': {'description': 'Schema name', 'title': 'Schema Name', 'type': 'string'}, 'object_name': {'description': 'Object name', 'title': 'Object Name', 'type': 'string'}, 'object_type': {'default': 'table', 'description': \"Object type: 'table', 'view', 'sequence', or 'extension'\", 'title': 'Object Type', 'type': 'string'}}, 'required': ['schema_name', 'object_name'], 'title': 'get_object_detailsArguments', 'type': 'object'}, response_format='content_and_artifact', coroutine=<function convert_mcp_tool_to_langchain_tool.<locals>.call_tool at 0x0000017CFFBD7880>),\n",
       " StructuredTool(name='explain_query', description='Explains the execution plan for a SQL query, showing how the database will execute it and provides detailed cost estimates.', args_schema={'properties': {'sql': {'description': 'SQL query to explain', 'title': 'Sql', 'type': 'string'}, 'analyze': {'default': False, 'description': 'When True, actually runs the query to show real execution statistics instead of estimates. Takes longer but provides more accurate information.', 'title': 'Analyze', 'type': 'boolean'}, 'hypothetical_indexes': {'default': [], 'description': 'A list of hypothetical indexes to simulate. Each index must be a dictionary with these keys:\\n    - \\'table\\': The table name to add the index to (e.g., \\'users\\')\\n    - \\'columns\\': List of column names to include in the index (e.g., [\\'email\\'] or [\\'last_name\\', \\'first_name\\'])\\n    - \\'using\\': Optional index method (default: \\'btree\\', other options include \\'hash\\', \\'gist\\', etc.)\\n\\nExamples: [\\n    {\"table\": \"users\", \"columns\": [\"email\"], \"using\": \"btree\"},\\n    {\"table\": \"orders\", \"columns\": [\"user_id\", \"created_at\"]}\\n]\\nIf there is no hypothetical index, you can pass an empty list.', 'items': {'additionalProperties': True, 'type': 'object'}, 'title': 'Hypothetical Indexes', 'type': 'array'}}, 'required': ['sql'], 'title': 'explain_queryArguments', 'type': 'object'}, response_format='content_and_artifact', coroutine=<function convert_mcp_tool_to_langchain_tool.<locals>.call_tool at 0x0000017CFFBD7240>),\n",
       " StructuredTool(name='analyze_workload_indexes', description='Analyze frequently executed queries in the database and recommend optimal indexes', args_schema={'properties': {'max_index_size_mb': {'default': 10000, 'description': 'Max index size in MB', 'title': 'Max Index Size Mb', 'type': 'integer'}, 'method': {'default': 'dta', 'description': 'Method to use for analysis', 'enum': ['dta', 'llm'], 'title': 'Method', 'type': 'string'}}, 'title': 'analyze_workload_indexesArguments', 'type': 'object'}, response_format='content_and_artifact', coroutine=<function convert_mcp_tool_to_langchain_tool.<locals>.call_tool at 0x0000017CFFBD6FC0>),\n",
       " StructuredTool(name='analyze_query_indexes', description='Analyze a list of (up to 10) SQL queries and recommend optimal indexes', args_schema={'properties': {'queries': {'description': 'List of Query strings to analyze', 'items': {'type': 'string'}, 'title': 'Queries', 'type': 'array'}, 'max_index_size_mb': {'default': 10000, 'description': 'Max index size in MB', 'title': 'Max Index Size Mb', 'type': 'integer'}, 'method': {'default': 'dta', 'description': 'Method to use for analysis', 'enum': ['dta', 'llm'], 'title': 'Method', 'type': 'string'}}, 'required': ['queries'], 'title': 'analyze_query_indexesArguments', 'type': 'object'}, response_format='content_and_artifact', coroutine=<function convert_mcp_tool_to_langchain_tool.<locals>.call_tool at 0x0000017CFFBD7A60>),\n",
       " StructuredTool(name='analyze_db_health', description=\"Analyzes database health. Here are the available health checks:\\n- index - checks for invalid, duplicate, and bloated indexes\\n- connection - checks the number of connection and their utilization\\n- vacuum - checks vacuum health for transaction id wraparound\\n- sequence - checks sequences at risk of exceeding their maximum value\\n- replication - checks replication health including lag and slots\\n- buffer - checks for buffer cache hit rates for indexes and tables\\n- constraint - checks for invalid constraints\\n- all - runs all checks\\nYou can optionally specify a single health check or a comma-separated list of health checks. The default is 'all' checks.\", args_schema={'properties': {'health_type': {'default': 'all', 'description': 'Optional. Valid values are: all, buffer, connection, constraint, index, replication, sequence, vacuum.', 'title': 'Health Type', 'type': 'string'}}, 'title': 'analyze_db_healthArguments', 'type': 'object'}, response_format='content_and_artifact', coroutine=<function convert_mcp_tool_to_langchain_tool.<locals>.call_tool at 0x0000017CFFBD7600>),\n",
       " StructuredTool(name='get_top_queries', description=\"Reports the slowest or most resource-intensive queries using data from the 'pg_stat_statements' extension.\", args_schema={'properties': {'sort_by': {'default': 'resources', 'description': \"Ranking criteria: 'total_time' for total execution time or 'mean_time' for mean execution time per call, or 'resources' for resource-intensive queries\", 'title': 'Sort By', 'type': 'string'}, 'limit': {'default': 10, 'description': 'Number of queries to return when ranking based on mean_time or total_time', 'title': 'Limit', 'type': 'integer'}}, 'title': 'get_top_queriesArguments', 'type': 'object'}, response_format='content_and_artifact', coroutine=<function convert_mcp_tool_to_langchain_tool.<locals>.call_tool at 0x0000017CFFBD7420>),\n",
       " StructuredTool(name='execute_sql', description='Execute any SQL query', args_schema={'properties': {'sql': {'default': 'all', 'description': 'SQL to run', 'title': 'Sql', 'type': 'string'}}, 'title': 'execute_sqlArguments', 'type': 'object'}, response_format='content_and_artifact', coroutine=<function convert_mcp_tool_to_langchain_tool.<locals>.call_tool at 0x0000017CFFBD7740>),\n",
       " StructuredTool(name='extract_rtf_text', description='Download an RTF document from the given URL and extract plain text from it.', args_schema=<class 'langchain_core.utils.pydantic.extract_rtf_text'>, func=<function extract_rtf_text at 0x0000017CFFE24720>)]"
      ]
     },
     "execution_count": 9,
     "metadata": {},
     "output_type": "execute_result"
    }
   ],
   "source": [
    "mcp_tools"
   ]
  },
  {
   "cell_type": "code",
   "execution_count": 10,
   "id": "aed1d90d",
   "metadata": {},
   "outputs": [],
   "source": [
    "agent =  create_react_agent(model, mcp_tools)"
   ]
  },
  {
   "cell_type": "code",
   "execution_count": null,
   "metadata": {},
   "outputs": [],
   "source": [
    "math_response = await agent.ainvoke({\"messages\": \"скільки записів є по справі 136/1512/24?\"})"
   ]
  },
  {
   "cell_type": "code",
   "execution_count": 12,
   "id": "6dae7f36",
   "metadata": {},
   "outputs": [],
   "source": [
    "math_response = await graph.ainvoke({\"messages\": \"скільки записів є по справі 136/1512/24?\"})"
   ]
  },
  {
   "cell_type": "code",
   "execution_count": 16,
   "id": "e2d84565",
   "metadata": {},
   "outputs": [],
   "source": [
    "math_response = await graph.ainvoke({\"messages\": \"скільки записів є по справі 136/1512/24 в таблиці documents?\"})"
   ]
  },
  {
   "cell_type": "code",
   "execution_count": 15,
   "id": "1f333410",
   "metadata": {},
   "outputs": [],
   "source": [
    "math_response = await graph.ainvoke({\"messages\": \"скільки записів є по справі doc_id = 136/1512/24 в таблиці documents?\"})"
   ]
  },
  {
   "cell_type": "code",
   "execution_count": 10,
   "id": "c111e642",
   "metadata": {},
   "outputs": [],
   "source": [
    "qq = \"\"\"\n",
    "знайди в таблиці documents doc_id 120887237 та 120879576\n",
    "дістань url з doc_url поля і вивантаж ці тексти порівняй їх\n",
    "і поясни в чому вони схожі \n",
    "\"\"\""
   ]
  },
  {
   "cell_type": "code",
   "execution_count": 9,
   "id": "5308ebaa",
   "metadata": {},
   "outputs": [],
   "source": [
    "qq = \"\"\"\n",
    "find in table documents doc_id 120887237 \n",
    "put url from field doc_url and download an RTF document from the given URL and extract plain text from it.\n",
    "\"\"\""
   ]
  },
  {
   "cell_type": "code",
   "execution_count": 11,
   "id": "2e8c7f50",
   "metadata": {},
   "outputs": [],
   "source": [
    "math_response = await graph.ainvoke({\"messages\": qq})"
   ]
  },
  {
   "cell_type": "code",
   "execution_count": 27,
   "id": "5398340b",
   "metadata": {},
   "outputs": [
    {
     "name": "stdout",
     "output_type": "stream",
     "text": [
      "================================\u001b[1m Human Message \u001b[0m=================================\n",
      "\n",
      "\n",
      "знайди в таблиці documents doc_id 120887237 та 120879576\n",
      "дістань url з doc_url поля і вивантаж ці тексти порівняй їх\n",
      "і поясни в чому вони схожі \n",
      "\n",
      "==================================\u001b[1m Ai Message \u001b[0m==================================\n",
      "Tool Calls:\n",
      "  execute_sql (call_IZ8pzpGWkPjzfHEDxNkx9LKl)\n",
      " Call ID: call_IZ8pzpGWkPjzfHEDxNkx9LKl\n",
      "  Args:\n",
      "    sql: SELECT doc_url FROM documents WHERE doc_id = 120887237;\n",
      "  execute_sql (call_KSMK0eiQFcuYPLQZbp8vQZlS)\n",
      " Call ID: call_KSMK0eiQFcuYPLQZbp8vQZlS\n",
      "  Args:\n",
      "    sql: SELECT doc_url FROM documents WHERE doc_id = 120879576;\n",
      "=================================\u001b[1m Tool Message \u001b[0m=================================\n",
      "Name: execute_sql\n",
      "\n",
      "[{'doc_url': 'http://od.reyestr.court.gov.ua/files/60/4f92f26de65a221c48b7c6f7d74ee9bc.rtf'}]\n",
      "=================================\u001b[1m Tool Message \u001b[0m=================================\n",
      "Name: execute_sql\n",
      "\n",
      "[{'doc_url': 'http://od.reyestr.court.gov.ua/files/60/70528f94d4b8ac51ca1d7746fff1e312.rtf'}]\n",
      "==================================\u001b[1m Ai Message \u001b[0m==================================\n",
      "Tool Calls:\n",
      "  extract_rtf_text (call_UmKhrN2Nc5hxnOp2l1LNsKDf)\n",
      " Call ID: call_UmKhrN2Nc5hxnOp2l1LNsKDf\n",
      "  Args:\n",
      "    url: http://od.reyestr.court.gov.ua/files/60/4f92f26de65a221c48b7c6f7d74ee9bc.rtf\n",
      "  extract_rtf_text (call_xzd0YGEPczgopGDOALuVIKK0)\n",
      " Call ID: call_xzd0YGEPczgopGDOALuVIKK0\n",
      "  Args:\n",
      "    url: http://od.reyestr.court.gov.ua/files/60/70528f94d4b8ac51ca1d7746fff1e312.rtf\n",
      "=================================\u001b[1m Tool Message \u001b[0m=================================\n",
      "Name: extract_rtf_text\n",
      "\n",
      "\n",
      "ГОСПОДАРСЬКИЙ СУД  ТЕРНОПІЛЬСЬКОЇ ОБЛАСТІ\n",
      " \n",
      "УХВАЛА\n",
      "\n",
      "08 серпня 2024 року |м. Тернопіль|Справа № 921/470/24 |\n",
      "\n",
      "Господарський суд Тернопільської області\n",
      "          у складі   судді Шумського І.П.    \n",
      "розглянувши матеріали справи\n",
      "за позовом - Дочірнього підприємства \"Фаворит -1\" Приватного підприємства \"Дружба сервіс-житло 1\" (46009, місто Тернопіль, вулиця Спадиста, 8)\n",
      "до відповідача - Фізичної особи - підприємця Чагайни Віталія Анатолійовича ( АДРЕСА_1 )\n",
      "про стягнення 21938,38 грн боргу, 2512,23 грн - інфляційних втрат, 835,47 грн - 3% річних, 635,10 грн - пені.\n",
      "\n",
      "Встановив.\n",
      "25.07.2024 Дочірнє підприємство \"Фаворит -1\" Приватного підприємства \"Дружба сервіс-житло 1\" звернулось до Господарського суду Тернопільської області з позовом до Фізичної особи - підприємця Чагайни Віталія Анатолійовича про стягнення 21938,38 грн боргу, 2512,23 грн - інфляційних втрат, 835,47 грн - 3% річних, 635,10 грн - пені.\n",
      "Згідно протоколу автоматизованого розподілу судової справи між суддями від 26.07.2024 справу №921/470/24 передано на розгляд судді Шумському І.П.\n",
      "Ухвалою Господарського суду Тернопільської області від 31.07.2023 позовну заяву       б/н від 25.07.2024 Дочірнього підприємства \"Фаворит -1\" Приватного підприємства \"Дружба сервіс-житло 1\" залишено без руху; встановлено заявнику строк для усунення недоліків позовної заяви десять днів з дня вручення копії ухвали про залишення позовної заяви без руху.\n",
      "05.08.2024 позивач подав заяву б/н від 05.08.2024 (вх. № 6189 від 05.08.2024) з якої вбачається, що позивачем у визначений судом строк усунуто недоліки позовної заяви, які було визначено в ухвалі про залишення позовної заяви без руху від 31.07.2024.\n",
      "Ухвалою суду від 06.08.2024 прийнято позовну заяву до розгляду та відкрито провадження у справі №921/470/24; постановлено здійснювати розгляд справи за правилами загального позовного провадження; призначено у справі підготовче засідання на 26 серпня 2024 року о 10 год. 50 хв. \n",
      "Однак, у зв`язку із перебуванням судді Шумського І. П. у відпустці та, відповідно, неможливістю проведення підготовчого засідання 26.08.2024, підготовче засідання у справі № 921/470/24 відбудеться 07.10.2024 о 12:20 год.\n",
      "Керуючись ст. 7, 13, 177, 232-235 Господарського процесуального кодексу України, господарський суд \n",
      "У Х В А Л И В:\n",
      "1. Підготовче засідання у справі №921/470/24 призначити на 12:20 год. 07.10.2024. \n",
      "Засідання відбудеться в приміщенні господарського суду за адресою: м. Тернопіль, вул. Кн. Острозького, 14а (зал судових засідань № 1, 4 - й поверх).\n",
      "\n",
      "\n",
      "2. Ухвала суду набирає законної сили з моменту її підписання (08.08.2024) та оскарженню не підлягає.\n",
      "3. Копію ухвали направити Дочірньому підприємству \"Фаворит -1\" Приватного підприємства \"Дружба сервіс-житло 1\" та Фізичній особі - підприємцю Чагайни Віталію Анатолійовичу в електронній формі до їх електронних кабінетів в ЄСІТС.\n",
      "\n",
      "Учасники   справи  можуть отримати  інформацію  по  справі на офіційному веб-порталі судової влади України в мережі Інтернет за веб - адресою: https://te.court.gov.ua/sud5022.\n",
      "\n",
      "\n",
      "Суддя                                                                                 І.П. Шумський \n",
      "\n",
      "\n",
      "\u0000\n",
      "=================================\u001b[1m Tool Message \u001b[0m=================================\n",
      "Name: extract_rtf_text\n",
      "\n",
      "\n",
      "\n",
      "МАКАРІВСЬКИЙ РАЙОННИЙ СУД КИЇВСЬКОЇ ОБЛАСТІ\n",
      "вул. Димитрія Ростовського, 35, смт Макарів, Бучанський район, Київська область, 08001,\n",
      "тел/факс (04578)5-13-39, e-mail inbox@mk.ko.court.gov.ua\n",
      "\n",
      "У Х В А Л А\n",
      "\n",
      "\"05\" серпня 2024 р.                                                  Справа № 370/2196/24\n",
      "Провадження № 2/370/1032/24\n",
      "\n",
      "Суддя Макарівського районного суду Київської області Сініцина О.С., перевіривши на дотримання вимог статей 175, 177 Цивільного процесуального кодексу України позовну заяву Товариства з обмеженою відповідальністю «Київоблгаз Збут» до ОСОБА_1 про стягнення заборгованості за оплату послуг з газопостачання природного газу,\n",
      "\n",
      "в с т а н о в и в:\n",
      "\n",
      "До Макарівського районного суду Київської області 16 липня 2024 року надійшла позовна заява Товариства з обмеженою відповідальністю «Київоблгаз Збут» до ОСОБА_1 про стягнення заборгованості за оплату послуг з газопостачання природного газу у розмірі 8685 грн 48 коп., яка відповідає вимогам статей 175, 177 Цивільного процесуального кодексу України.\n",
      "Відповідно до частини восьмої статті 28 Цивільного процесуального кодексу України, позови, що виникають із договорів, у яких зазначено місце виконання або виконувати які через їх особливість можна тільки в певному місці, можуть пред`являтися також за місцем виконання цих договорів.\n",
      "Зі змісту позовної заяви вбачається, що місце виконання договору: Київська область, Бучанський район, село Северинівка, що належить до територіальної юрисдикції Макарівського районного суду Київської області.\n",
      "Ураховуючи, що підстави для залишення позовної заяви без руху, повернення позовної заяви чи відмови у відкритті провадження у справі, встановлені приписами статей 185–186 Цивільного процесуального кодексу України, відсутні, позовну заяву слід прийняти до розгляду та відкрити провадження у справі.\n",
      "У відповідності до частини першої статті 276 Цивільного процесуального кодексу України позовна заява містить клопотання про розгляд справи в порядку спрощеного позовного провадження.\n",
      "Питання про розгляд справи в порядку спрощеного позовного провадження суд вирішує в ухвалі про відкриття провадження у справі (частина статті 277 Цивільного процесуального кодексу України).\n",
      "Оскільки предмет позовних вимог не підпадає під обмеження, які визначені частиною четвертою статті 274 Цивільного процесуального кодексу України, справа є незначної складності й малозначною, розгляд, якої може бути в порядку спрощеного позовного провадження без повідомлення (виклику) сторін.\n",
      "На підставі наведеного та керуючись статтями 19, 175, 177, 187, 190, 260, 261, 274, 277, 353 Цивільного процесуального кодексу України, суд\n",
      "\n",
      "п о с т а н о в и в :\n",
      "\n",
      "Прийняти позовну заяву до розгляду та відкрити провадження у справі за позовом Товариства з обмеженою відповідальністю «Київоблгаз Збут» до ОСОБА_1 про стягнення заборгованості за оплату послуг з газопостачання природного газу.\n",
      "Справу розглядати за правилами спрощеного позовного провадження без повідомлення (виклику) сторін, в приміщенні Макарівського районного суду Київської області за адресою: вулиця Димитрія Ростовського, 35, смт Макарів, Бучанський район, Київська область.\n",
      "Встановити відповідачу п`ятнадцятиденний строк з дня вручення даної ухвали для подання відзиву на позовну заяву. \n",
      "У зазначений строк відповідач має право надіслати суду відзив на позовну заяву, який повинен відповідати вимогам статті 178 Цивільного процесуального кодексу України. \n",
      "Відповідно до вимог частини четвертої статті 178 Цивільного процесуального кодексу України, одночасно з надісланням (наданням) відзиву до суду, копія відзиву та доданих до нього документів повинна бути надіслана іншим учасникам справи.\n",
      "Роз`яснити, що відповідно до частини третьої статті 83 Цивільного процесуального кодексу України, відповідач повинен подати суду докази разом з поданням відзиву.\n",
      "У разі ненадання відповідачем відзиву у встановлений судом строк без поважних причин суд вирішує справу за наявними матеріалами (частина восьма статті 178 Цивільного процесуального кодексу).\n",
      "Роз`яснити відповідачу право на пред`явлення зустрічного позову у строк для подання відзиву відповідно до частини першої статті 193 Цивільного процесуального кодексу України.\n",
      "Встановити позивачу п`ятиденний строк з дня отримання відзиву для подання відповіді на відзив, копія якої одночасно з поданням до суду повинна бути надіслана іншим учасникам справи. До відповіді на відзив застосовуються правила, встановлені частинами третьою–п`ятою статті 178 Цивільного процесуального кодексу України.\n",
      "Встановити відповідачу п`ятиденний строк з дня отримання відповіді на відзив для подання заперечення, копія якого одночасно з поданням до суду повинна бути надіслана іншим учасникам справи.\n",
      "Роз`яснити учасникам справи, що відповідно до вимог частини п`ятої статті 279 Цивільного процесуального кодексу України, суд розглядає справу в порядку спрощеного позовного провадження без повідомлення сторін за наявними у справі матеріалами, за відсутності клопотання будь-якої зі сторін про інше.\n",
      "За клопотанням однієї із сторін або з власної ініціативи суду розгляд справи проводиться в судовому засіданні з повідомленням (викликом) сторін.\n",
      "Клопотання про розгляд справи у судовому засіданні з повідомленням сторін відповідач має подати в строк для подання відзиву, а позивач – разом з позовом або не пізніше п`яти днів з дня отримання відзиву (частина сьома статті 279 Цивільного процесуального кодексу України).\n",
      "Учасники справи можуть отримати інформацію щодо даної справи в мережі Інтернет за веб адресою сторінки на офіційному веб порталі судової влади України – https://mk.ko.court.gov.ua/sud1016/. \n",
      "Копію ухвали про відкриття провадження у справі надіслати учасникам справи, а відповідачу додатково копію позовної заяви з доданими до неї документами.\n",
      "Ухвала набирає законної сили з моменту її підписання суддею та оскарженню не підлягає.\n",
      "\n",
      "Реквізити сторін:\n",
      "- позивач Товариство з обмеженою відповідальністю «Київоблгаз Збут», адреса: вулиця Полярна, будинок 20, корпус А, місто Київ, 04108, код ЄДРПОУ 39592941.\n",
      "- відповідач ОСОБА_1 , адреса реєстрації: \n",
      " АДРЕСА_1 , РНОКПП НОМЕР_1 .\n",
      "\n",
      "\n",
      "\n",
      "Суддя О.С. Сініцина\n",
      "\n",
      "\n",
      "\n",
      "\n",
      "\n",
      "\n",
      "\n",
      "\n",
      "\u0000\n",
      "==================================\u001b[1m Ai Message \u001b[0m==================================\n",
      "\n",
      "Обидва документи є судовими ухвалами, але вони стосуються різних справ і різних судів. Ось основні схожості між ними:\n",
      "\n",
      "1. **Тип документу**: Обидва документи є ухвалами суду, що стосуються розгляду позовних заяв.\n",
      "\n",
      "2. **Процедура**: Обидва документи описують процес прийняття позовної заяви до розгляду, включаючи перевірку на відповідність вимогам процесуального кодексу.\n",
      "\n",
      "3. **Судова система**: Обидва документи належать до судової системи України і містять посилання на відповідні статті процесуального кодексу України.\n",
      "\n",
      "4. **Формат**: Обидва документи мають схожий формат, включаючи заголовок з назвою суду, дату, номер справи, опис процесуальних дій та рішення суду.\n",
      "\n",
      "5. **Мова**: Обидва документи написані українською мовою.\n",
      "\n",
      "Ці схожості відображають загальні риси судових документів в Україні, які дотримуються певних стандартів і процедур.\n"
     ]
    }
   ],
   "source": [
    "for i in math_response['messages']:\n",
    "    i.pretty_print()"
   ]
  },
  {
   "cell_type": "markdown",
   "id": "9ce7c705",
   "metadata": {},
   "source": [
    "###  Backlog"
   ]
  },
  {
   "cell_type": "code",
   "execution_count": 6,
   "id": "ae3e5e7c",
   "metadata": {},
   "outputs": [
    {
     "name": "stdout",
     "output_type": "stream",
     "text": [
      "{'messages': [HumanMessage(content=\"який результат виведе ця кверя select count(*) from documents d \\nwhere 1 =1 \\nand cause_num = '136/1512/24'\", additional_kwargs={}, response_metadata={}, id='07949526-b093-428a-9356-410f51e5c2f6'), AIMessage(content='', additional_kwargs={'tool_calls': [{'id': 'call_fKgLB72SjjNtWZE5E9P3nbaB', 'function': {'arguments': '{}', 'name': 'list_schemas'}, 'type': 'function'}], 'refusal': None}, response_metadata={'token_usage': {'completion_tokens': 11, 'prompt_tokens': 735, 'total_tokens': 746, 'completion_tokens_details': {'accepted_prediction_tokens': 0, 'audio_tokens': 0, 'reasoning_tokens': 0, 'rejected_prediction_tokens': 0}, 'prompt_tokens_details': {'audio_tokens': 0, 'cached_tokens': 0}}, 'model_name': 'gpt-4o-2024-08-06', 'system_fingerprint': 'fp_cbf1785567', 'id': 'chatcmpl-CMI6XU1y4sWY6dEmbaFHnRLDYvaJV', 'service_tier': 'default', 'finish_reason': 'tool_calls', 'logprobs': None}, id='run--c154742a-7981-4c7b-a143-029b2bc9445b-0', tool_calls=[{'name': 'list_schemas', 'args': {}, 'id': 'call_fKgLB72SjjNtWZE5E9P3nbaB', 'type': 'tool_call'}], usage_metadata={'input_tokens': 735, 'output_tokens': 11, 'total_tokens': 746, 'input_token_details': {'audio': 0, 'cache_read': 0}, 'output_token_details': {'audio': 0, 'reasoning': 0}}), ToolMessage(content=\"[{'schema_name': 'information_schema', 'schema_owner': 'kaliani', 'schema_type': 'System Information Schema'}, {'schema_name': 'pg_catalog', 'schema_owner': 'kaliani', 'schema_type': 'System Schema'}, {'schema_name': 'pg_toast', 'schema_owner': 'kaliani', 'schema_type': 'System Schema'}, {'schema_name': 'public', 'schema_owner': 'pg_database_owner', 'schema_type': 'User Schema'}]\", name='list_schemas', id='1cc46a8b-b661-4833-91fe-0d96a3a1a586', tool_call_id='call_fKgLB72SjjNtWZE5E9P3nbaB'), AIMessage(content='', additional_kwargs={'tool_calls': [{'id': 'call_5oSvJeAUCfne26WfDzani8Ts', 'function': {'arguments': '{\"schema_name\":\"public\",\"object_type\":\"table\"}', 'name': 'list_objects'}, 'type': 'function'}], 'refusal': None}, response_metadata={'token_usage': {'completion_tokens': 20, 'prompt_tokens': 858, 'total_tokens': 878, 'completion_tokens_details': {'accepted_prediction_tokens': 0, 'audio_tokens': 0, 'reasoning_tokens': 0, 'rejected_prediction_tokens': 0}, 'prompt_tokens_details': {'audio_tokens': 0, 'cached_tokens': 0}}, 'model_name': 'gpt-4o-2024-08-06', 'system_fingerprint': 'fp_cbf1785567', 'id': 'chatcmpl-CMI6YV0vSCyC00KH8HPLlosqLL624', 'service_tier': 'default', 'finish_reason': 'tool_calls', 'logprobs': None}, id='run--e4efce42-e3b2-49ee-9046-cbbcd96e03a4-0', tool_calls=[{'name': 'list_objects', 'args': {'schema_name': 'public', 'object_type': 'table'}, 'id': 'call_5oSvJeAUCfne26WfDzani8Ts', 'type': 'tool_call'}], usage_metadata={'input_tokens': 858, 'output_tokens': 20, 'total_tokens': 878, 'input_token_details': {'audio': 0, 'cache_read': 0}, 'output_token_details': {'audio': 0, 'reasoning': 0}}), ToolMessage(content=\"[{'schema': 'public', 'name': 'cause_categories', 'type': 'BASE TABLE'}, {'schema': 'public', 'name': 'courts', 'type': 'BASE TABLE'}, {'schema': 'public', 'name': 'documents', 'type': 'BASE TABLE'}, {'schema': 'public', 'name': 'instances', 'type': 'BASE TABLE'}, {'schema': 'public', 'name': 'judges', 'type': 'BASE TABLE'}, {'schema': 'public', 'name': 'judgment_forms', 'type': 'BASE TABLE'}, {'schema': 'public', 'name': 'justice_kinds', 'type': 'BASE TABLE'}, {'schema': 'public', 'name': 'raw_documents', 'type': 'BASE TABLE'}, {'schema': 'public', 'name': 'raw_judges', 'type': 'BASE TABLE'}, {'schema': 'public', 'name': 'regions', 'type': 'BASE TABLE'}, {'schema': 'public', 'name': 'users', 'type': 'BASE TABLE'}]\", name='list_objects', id='d3ecaeff-b904-482a-81b1-d9be222e5b34', tool_call_id='call_5oSvJeAUCfne26WfDzani8Ts'), AIMessage(content='', additional_kwargs={'tool_calls': [{'id': 'call_YF43XMiLrpENYwrql5kGaj57', 'function': {'arguments': '{\"schema_name\":\"public\",\"object_name\":\"documents\",\"object_type\":\"table\"}', 'name': 'get_object_details'}, 'type': 'function'}], 'refusal': None}, response_metadata={'token_usage': {'completion_tokens': 26, 'prompt_tokens': 1108, 'total_tokens': 1134, 'completion_tokens_details': {'accepted_prediction_tokens': 0, 'audio_tokens': 0, 'reasoning_tokens': 0, 'rejected_prediction_tokens': 0}, 'prompt_tokens_details': {'audio_tokens': 0, 'cached_tokens': 0}}, 'model_name': 'gpt-4o-2024-08-06', 'system_fingerprint': 'fp_cbf1785567', 'id': 'chatcmpl-CMI6Zei1NMZjtAG4u68Zh07CeLyGJ', 'service_tier': 'default', 'finish_reason': 'tool_calls', 'logprobs': None}, id='run--cfc58dcc-e0bd-4b32-8107-21be2ac89eb4-0', tool_calls=[{'name': 'get_object_details', 'args': {'schema_name': 'public', 'object_name': 'documents', 'object_type': 'table'}, 'id': 'call_YF43XMiLrpENYwrql5kGaj57', 'type': 'tool_call'}], usage_metadata={'input_tokens': 1108, 'output_tokens': 26, 'total_tokens': 1134, 'input_token_details': {'audio': 0, 'cache_read': 0}, 'output_token_details': {'audio': 0, 'reasoning': 0}}), ToolMessage(content=\"{'basic': {'schema': 'public', 'name': 'documents', 'type': 'table'}, 'columns': [{'column': 'doc_id', 'data_type': 'integer', 'is_nullable': 'YES', 'default': None}, {'column': 'court_code_documents', 'data_type': 'integer', 'is_nullable': 'YES', 'default': None}, {'column': 'judgment_code', 'data_type': 'integer', 'is_nullable': 'YES', 'default': None}, {'column': 'justice_kind', 'data_type': 'real', 'is_nullable': 'YES', 'default': None}, {'column': 'category_code', 'data_type': 'real', 'is_nullable': 'YES', 'default': None}, {'column': 'cause_num', 'data_type': 'character varying', 'is_nullable': 'YES', 'default': None}, {'column': 'adjudication_date', 'data_type': 'character varying', 'is_nullable': 'YES', 'default': None}, {'column': 'receipt_date', 'data_type': 'character varying', 'is_nullable': 'YES', 'default': None}, {'column': 'short_name_documents', 'data_type': 'character varying', 'is_nullable': 'YES', 'default': None}, {'column': 'doc_url', 'data_type': 'character varying', 'is_nullable': 'YES', 'default': None}, {'column': 'status', 'data_type': 'integer', 'is_nullable': 'YES', 'default': None}, {'column': 'date_publ', 'data_type': 'character varying', 'is_nullable': 'YES', 'default': None}, {'column': 'judge_id', 'data_type': 'real', 'is_nullable': 'YES', 'default': None}, {'column': 'short_name_judges', 'data_type': 'character varying', 'is_nullable': 'YES', 'default': None}, {'column': 'court_code_judges', 'data_type': 'real', 'is_nullable': 'YES', 'default': None}, {'column': 'record_type', 'data_type': 'character varying', 'is_nullable': 'YES', 'default': None}], 'constraints': [], 'indexes': []}\", name='get_object_details', id='63829e93-e879-438f-98ad-0fb9994218aa', tool_call_id='call_YF43XMiLrpENYwrql5kGaj57'), AIMessage(content='', additional_kwargs={'tool_calls': [{'id': 'call_jzb3i3wgew9x4bO4BhdV6K53', 'function': {'arguments': '{\"sql\":\"select count(*) from public.documents where 1 = 1 and cause_num = \\'136/1512/24\\'\"}', 'name': 'execute_sql'}, 'type': 'function'}], 'refusal': None}, response_metadata={'token_usage': {'completion_tokens': 37, 'prompt_tokens': 1611, 'total_tokens': 1648, 'completion_tokens_details': {'accepted_prediction_tokens': 0, 'audio_tokens': 0, 'reasoning_tokens': 0, 'rejected_prediction_tokens': 0}, 'prompt_tokens_details': {'audio_tokens': 0, 'cached_tokens': 1024}}, 'model_name': 'gpt-4o-2024-08-06', 'system_fingerprint': 'fp_cbf1785567', 'id': 'chatcmpl-CMI6am9NsKIjwlmCYDejUC9bn1HwU', 'service_tier': 'default', 'finish_reason': 'tool_calls', 'logprobs': None}, id='run--224813b8-fc81-4686-afec-1d4fbcdbf54d-0', tool_calls=[{'name': 'execute_sql', 'args': {'sql': \"select count(*) from public.documents where 1 = 1 and cause_num = '136/1512/24'\"}, 'id': 'call_jzb3i3wgew9x4bO4BhdV6K53', 'type': 'tool_call'}], usage_metadata={'input_tokens': 1611, 'output_tokens': 37, 'total_tokens': 1648, 'input_token_details': {'audio': 0, 'cache_read': 1024}, 'output_token_details': {'audio': 0, 'reasoning': 0}}), ToolMessage(content=\"[{'count': 3}]\", name='execute_sql', id='b3c8704d-927c-4a16-83e9-f21bba761b03', tool_call_id='call_jzb3i3wgew9x4bO4BhdV6K53'), AIMessage(content=\"Запит повернув результат: 3 записи у таблиці `documents` відповідають умовам, де `cause_num = '136/1512/24'`.\", additional_kwargs={'refusal': None}, response_metadata={'token_usage': {'completion_tokens': 36, 'prompt_tokens': 1663, 'total_tokens': 1699, 'completion_tokens_details': {'accepted_prediction_tokens': 0, 'audio_tokens': 0, 'reasoning_tokens': 0, 'rejected_prediction_tokens': 0}, 'prompt_tokens_details': {'audio_tokens': 0, 'cached_tokens': 1536}}, 'model_name': 'gpt-4o-2024-08-06', 'system_fingerprint': 'fp_cbf1785567', 'id': 'chatcmpl-CMI6snIdFAOgZvT7ZKEBbfBr3e9aW', 'service_tier': 'default', 'finish_reason': 'stop', 'logprobs': None}, id='run--1cca8b7d-7185-4ebb-813f-889de98309c9-0', usage_metadata={'input_tokens': 1663, 'output_tokens': 36, 'total_tokens': 1699, 'input_token_details': {'audio': 0, 'cache_read': 1536}, 'output_token_details': {'audio': 0, 'reasoning': 0}})]}\n"
     ]
    }
   ],
   "source": [
    "import asyncio\n",
    "from langchain_mcp_adapters.client import MultiServerMCPClient\n",
    "from langchain_mcp_adapters.tools import load_mcp_tools\n",
    "from langgraph.prebuilt import create_react_agent\n",
    "\n",
    "mcp_config = {\n",
    "    \"postgres\": {\n",
    "        \"transport\": \"sse\",\n",
    "        \"url\": \"http://127.0.0.1:8000/sse\"   # зверни увагу на /sse\n",
    "    }\n",
    "}\n",
    "\n",
    "async def run_agent():\n",
    "        \n",
    "        client = MultiServerMCPClient(mcp_config)\n",
    "\n",
    "        async with client.session(\"postgres\") as session:\n",
    "              tools = await load_mcp_tools(session)\n",
    "              model = ChatOpenAI(model=\"gpt-4o\")\n",
    "              agent = create_react_agent(model, tools)\n",
    "              q = \"\"\"який результат виведе ця кверя select count(*) from documents d \n",
    "where 1 =1 \n",
    "and cause_num = '136/1512/24'\"\"\"    \n",
    "              resp = await agent.ainvoke({\"messages\": q})\n",
    "              print(resp)\n",
    "\n",
    "result = await run_agent()"
   ]
  },
  {
   "cell_type": "code",
   "execution_count": 2,
   "id": "bea7902d",
   "metadata": {},
   "outputs": [],
   "source": [
    "from typing import TypedDict, List\n",
    "from langchain_mcp_adapters.client import MultiServerMCPClient\n",
    "\n",
    "class AgentState(TypedDict):\n",
    "    researcher_messages: str\n",
    "    text: str\n",
    "    summary: str\n",
    "    url: str"
   ]
  },
  {
   "cell_type": "code",
   "execution_count": 3,
   "id": "774e26c4",
   "metadata": {},
   "outputs": [],
   "source": [
    "_client = None\n",
    "\n",
    "mcp_config = {\n",
    "    \"postgres\": {\n",
    "        \"transport\": \"sse\",\n",
    "        \"url\": \"http://127.0.0.1:8000/sse\"  \n",
    "    }\n",
    "}\n",
    "\n",
    "def get_mcp_client():\n",
    "    \"\"\"Get or initialize MCP client lazily to avoid issues with LangGraph Platform.\"\"\"\n",
    "    global _client\n",
    "    if _client is None:\n",
    "        _client = MultiServerMCPClient(mcp_config)\n",
    "    return _client"
   ]
  },
  {
   "cell_type": "code",
   "execution_count": 4,
   "id": "7b841ef2",
   "metadata": {},
   "outputs": [],
   "source": [
    "model = ChatOpenAI(model=\"gpt-4.1\", temperature=0)"
   ]
  },
  {
   "cell_type": "code",
   "execution_count": null,
   "id": "146d9fa2",
   "metadata": {},
   "outputs": [],
   "source": []
  },
  {
   "cell_type": "code",
   "execution_count": 7,
   "id": "4e0d2055",
   "metadata": {},
   "outputs": [],
   "source": [
    "async def extract_rtf_text(state: AgentState) :\n",
    "    \"\"\"\n",
    "    Extract text from URL in RTF format.\n",
    "\n",
    "    Args:\n",
    "        url (str): The URL of the RTF document.\n",
    "\n",
    "    Returns:\n",
    "        str: The extracted plain text from the RTF document.\n",
    "    \"\"\"\n",
    "    response = requests.get(state[\"url\"])\n",
    "    response.raise_for_status()\n",
    "\n",
    "    rtf_content = response.content.decode(\"utf-8\", errors=\"ignore\")\n",
    "\n",
    "    text = rtf_to_text(rtf_content)\n",
    "    return text"
   ]
  },
  {
   "cell_type": "code",
   "execution_count": 14,
   "id": "06c2343b",
   "metadata": {},
   "outputs": [
    {
     "ename": "PydanticUserError",
     "evalue": "Please use `typing_extensions.TypedDict` instead of `typing.TypedDict` on Python < 3.12.\n\nFor further information visit https://errors.pydantic.dev/2.11/u/typed-dict-version",
     "output_type": "error",
     "traceback": [
      "\u001b[31m---------------------------------------------------------------------------\u001b[39m",
      "\u001b[31mPydanticUserError\u001b[39m                         Traceback (most recent call last)",
      "\u001b[36mCell\u001b[39m\u001b[36m \u001b[39m\u001b[32mIn[14]\u001b[39m\u001b[32m, line 4\u001b[39m\n\u001b[32m      2\u001b[39m mcp_tools = \u001b[38;5;28;01mawait\u001b[39;00m client.get_tools()\n\u001b[32m      3\u001b[39m tools = mcp_tools + [extract_rtf_text]\n\u001b[32m----> \u001b[39m\u001b[32m4\u001b[39m model_with_tools = \u001b[43mmodel\u001b[49m\u001b[43m.\u001b[49m\u001b[43mbind_tools\u001b[49m\u001b[43m(\u001b[49m\u001b[43mtools\u001b[49m\u001b[43m)\u001b[49m\n",
      "\u001b[36mFile \u001b[39m\u001b[32me:\\vibe-judges\\myenv\\Lib\\site-packages\\langchain_openai\\chat_models\\base.py:1726\u001b[39m, in \u001b[36mBaseChatOpenAI.bind_tools\u001b[39m\u001b[34m(self, tools, tool_choice, strict, parallel_tool_calls, **kwargs)\u001b[39m\n\u001b[32m   1724\u001b[39m \u001b[38;5;28;01mif\u001b[39;00m parallel_tool_calls \u001b[38;5;129;01mis\u001b[39;00m \u001b[38;5;129;01mnot\u001b[39;00m \u001b[38;5;28;01mNone\u001b[39;00m:\n\u001b[32m   1725\u001b[39m     kwargs[\u001b[33m\"\u001b[39m\u001b[33mparallel_tool_calls\u001b[39m\u001b[33m\"\u001b[39m] = parallel_tool_calls\n\u001b[32m-> \u001b[39m\u001b[32m1726\u001b[39m formatted_tools = \u001b[43m[\u001b[49m\n\u001b[32m   1727\u001b[39m \u001b[43m    \u001b[49m\u001b[43mconvert_to_openai_tool\u001b[49m\u001b[43m(\u001b[49m\u001b[43mtool\u001b[49m\u001b[43m,\u001b[49m\u001b[43m \u001b[49m\u001b[43mstrict\u001b[49m\u001b[43m=\u001b[49m\u001b[43mstrict\u001b[49m\u001b[43m)\u001b[49m\u001b[43m \u001b[49m\u001b[38;5;28;43;01mfor\u001b[39;49;00m\u001b[43m \u001b[49m\u001b[43mtool\u001b[49m\u001b[43m \u001b[49m\u001b[38;5;129;43;01min\u001b[39;49;00m\u001b[43m \u001b[49m\u001b[43mtools\u001b[49m\n\u001b[32m   1728\u001b[39m \u001b[43m\u001b[49m\u001b[43m]\u001b[49m\n\u001b[32m   1729\u001b[39m tool_names = []\n\u001b[32m   1730\u001b[39m \u001b[38;5;28;01mfor\u001b[39;00m tool \u001b[38;5;129;01min\u001b[39;00m formatted_tools:\n",
      "\u001b[36mFile \u001b[39m\u001b[32me:\\vibe-judges\\myenv\\Lib\\site-packages\\langchain_openai\\chat_models\\base.py:1727\u001b[39m, in \u001b[36m<listcomp>\u001b[39m\u001b[34m(.0)\u001b[39m\n\u001b[32m   1724\u001b[39m \u001b[38;5;28;01mif\u001b[39;00m parallel_tool_calls \u001b[38;5;129;01mis\u001b[39;00m \u001b[38;5;129;01mnot\u001b[39;00m \u001b[38;5;28;01mNone\u001b[39;00m:\n\u001b[32m   1725\u001b[39m     kwargs[\u001b[33m\"\u001b[39m\u001b[33mparallel_tool_calls\u001b[39m\u001b[33m\"\u001b[39m] = parallel_tool_calls\n\u001b[32m   1726\u001b[39m formatted_tools = [\n\u001b[32m-> \u001b[39m\u001b[32m1727\u001b[39m     \u001b[43mconvert_to_openai_tool\u001b[49m\u001b[43m(\u001b[49m\u001b[43mtool\u001b[49m\u001b[43m,\u001b[49m\u001b[43m \u001b[49m\u001b[43mstrict\u001b[49m\u001b[43m=\u001b[49m\u001b[43mstrict\u001b[49m\u001b[43m)\u001b[49m \u001b[38;5;28;01mfor\u001b[39;00m tool \u001b[38;5;129;01min\u001b[39;00m tools\n\u001b[32m   1728\u001b[39m ]\n\u001b[32m   1729\u001b[39m tool_names = []\n\u001b[32m   1730\u001b[39m \u001b[38;5;28;01mfor\u001b[39;00m tool \u001b[38;5;129;01min\u001b[39;00m formatted_tools:\n",
      "\u001b[36mFile \u001b[39m\u001b[32me:\\vibe-judges\\myenv\\Lib\\site-packages\\langchain_core\\utils\\function_calling.py:598\u001b[39m, in \u001b[36mconvert_to_openai_tool\u001b[39m\u001b[34m(tool, strict)\u001b[39m\n\u001b[32m    596\u001b[39m         oai_tool[\u001b[33m\"\u001b[39m\u001b[33mformat\u001b[39m\u001b[33m\"\u001b[39m] = tool.metadata[\u001b[33m\"\u001b[39m\u001b[33mformat\u001b[39m\u001b[33m\"\u001b[39m]\n\u001b[32m    597\u001b[39m     \u001b[38;5;28;01mreturn\u001b[39;00m oai_tool\n\u001b[32m--> \u001b[39m\u001b[32m598\u001b[39m oai_function = \u001b[43mconvert_to_openai_function\u001b[49m\u001b[43m(\u001b[49m\u001b[43mtool\u001b[49m\u001b[43m,\u001b[49m\u001b[43m \u001b[49m\u001b[43mstrict\u001b[49m\u001b[43m=\u001b[49m\u001b[43mstrict\u001b[49m\u001b[43m)\u001b[49m\n\u001b[32m    599\u001b[39m \u001b[38;5;28;01mreturn\u001b[39;00m {\u001b[33m\"\u001b[39m\u001b[33mtype\u001b[39m\u001b[33m\"\u001b[39m: \u001b[33m\"\u001b[39m\u001b[33mfunction\u001b[39m\u001b[33m\"\u001b[39m, \u001b[33m\"\u001b[39m\u001b[33mfunction\u001b[39m\u001b[33m\"\u001b[39m: oai_function}\n",
      "\u001b[36mFile \u001b[39m\u001b[32me:\\vibe-judges\\myenv\\Lib\\site-packages\\langchain_core\\utils\\function_calling.py:478\u001b[39m, in \u001b[36mconvert_to_openai_function\u001b[39m\u001b[34m(function, strict)\u001b[39m\n\u001b[32m    475\u001b[39m     oai_function = cast(\u001b[33m\"\u001b[39m\u001b[33mdict\u001b[39m\u001b[33m\"\u001b[39m, _format_tool_to_openai_function(function))\n\u001b[32m    476\u001b[39m \u001b[38;5;28;01melif\u001b[39;00m \u001b[38;5;28mcallable\u001b[39m(function):\n\u001b[32m    477\u001b[39m     oai_function = cast(\n\u001b[32m--> \u001b[39m\u001b[32m478\u001b[39m         \u001b[33m\"\u001b[39m\u001b[33mdict\u001b[39m\u001b[33m\"\u001b[39m, \u001b[43m_convert_python_function_to_openai_function\u001b[49m\u001b[43m(\u001b[49m\u001b[43mfunction\u001b[49m\u001b[43m)\u001b[49m\n\u001b[32m    479\u001b[39m     )\n\u001b[32m    480\u001b[39m \u001b[38;5;28;01melse\u001b[39;00m:\n\u001b[32m    481\u001b[39m     msg = (\n\u001b[32m    482\u001b[39m         \u001b[33mf\u001b[39m\u001b[33m\"\u001b[39m\u001b[33mUnsupported function\u001b[39m\u001b[38;5;130;01m\\n\u001b[39;00m\u001b[38;5;130;01m\\n\u001b[39;00m\u001b[38;5;132;01m{\u001b[39;00mfunction\u001b[38;5;132;01m}\u001b[39;00m\u001b[38;5;130;01m\\n\u001b[39;00m\u001b[38;5;130;01m\\n\u001b[39;00m\u001b[33mFunctions must be passed in\u001b[39m\u001b[33m\"\u001b[39m\n\u001b[32m    483\u001b[39m         \u001b[33m\"\u001b[39m\u001b[33m as Dict, pydantic.BaseModel, or Callable. If they\u001b[39m\u001b[33m'\u001b[39m\u001b[33mre a dict they must\u001b[39m\u001b[33m\"\u001b[39m\n\u001b[32m    484\u001b[39m         \u001b[33m\"\u001b[39m\u001b[33m either be in OpenAI function format or valid JSON schema with top-level\u001b[39m\u001b[33m\"\u001b[39m\n\u001b[32m    485\u001b[39m         \u001b[33m\"\u001b[39m\u001b[33m \u001b[39m\u001b[33m'\u001b[39m\u001b[33mtitle\u001b[39m\u001b[33m'\u001b[39m\u001b[33m and \u001b[39m\u001b[33m'\u001b[39m\u001b[33mdescription\u001b[39m\u001b[33m'\u001b[39m\u001b[33m keys.\u001b[39m\u001b[33m\"\u001b[39m\n\u001b[32m    486\u001b[39m     )\n",
      "\u001b[36mFile \u001b[39m\u001b[32me:\\vibe-judges\\myenv\\Lib\\site-packages\\langchain_core\\utils\\function_calling.py:226\u001b[39m, in \u001b[36m_convert_python_function_to_openai_function\u001b[39m\u001b[34m(function)\u001b[39m\n\u001b[32m    213\u001b[39m \u001b[38;5;250m\u001b[39m\u001b[33;03m\"\"\"Convert a Python function to an OpenAI function-calling API compatible dict.\u001b[39;00m\n\u001b[32m    214\u001b[39m \n\u001b[32m    215\u001b[39m \u001b[33;03mAssumes the Python function has type hints and a docstring with a description. If\u001b[39;00m\n\u001b[32m   (...)\u001b[39m\u001b[32m    223\u001b[39m \u001b[33;03m    The OpenAI function description.\u001b[39;00m\n\u001b[32m    224\u001b[39m \u001b[33;03m\"\"\"\u001b[39;00m\n\u001b[32m    225\u001b[39m func_name = _get_python_function_name(function)\n\u001b[32m--> \u001b[39m\u001b[32m226\u001b[39m model = \u001b[43mlangchain_core\u001b[49m\u001b[43m.\u001b[49m\u001b[43mtools\u001b[49m\u001b[43m.\u001b[49m\u001b[43mbase\u001b[49m\u001b[43m.\u001b[49m\u001b[43mcreate_schema_from_function\u001b[49m\u001b[43m(\u001b[49m\n\u001b[32m    227\u001b[39m \u001b[43m    \u001b[49m\u001b[43mfunc_name\u001b[49m\u001b[43m,\u001b[49m\n\u001b[32m    228\u001b[39m \u001b[43m    \u001b[49m\u001b[43mfunction\u001b[49m\u001b[43m,\u001b[49m\n\u001b[32m    229\u001b[39m \u001b[43m    \u001b[49m\u001b[43mfilter_args\u001b[49m\u001b[43m=\u001b[49m\u001b[43m(\u001b[49m\u001b[43m)\u001b[49m\u001b[43m,\u001b[49m\n\u001b[32m    230\u001b[39m \u001b[43m    \u001b[49m\u001b[43mparse_docstring\u001b[49m\u001b[43m=\u001b[49m\u001b[38;5;28;43;01mTrue\u001b[39;49;00m\u001b[43m,\u001b[49m\n\u001b[32m    231\u001b[39m \u001b[43m    \u001b[49m\u001b[43merror_on_invalid_docstring\u001b[49m\u001b[43m=\u001b[49m\u001b[38;5;28;43;01mFalse\u001b[39;49;00m\u001b[43m,\u001b[49m\n\u001b[32m    232\u001b[39m \u001b[43m    \u001b[49m\u001b[43minclude_injected\u001b[49m\u001b[43m=\u001b[49m\u001b[38;5;28;43;01mFalse\u001b[39;49;00m\u001b[43m,\u001b[49m\n\u001b[32m    233\u001b[39m \u001b[43m\u001b[49m\u001b[43m)\u001b[49m\n\u001b[32m    234\u001b[39m \u001b[38;5;28;01mreturn\u001b[39;00m _convert_pydantic_to_openai_function(\n\u001b[32m    235\u001b[39m     model,\n\u001b[32m    236\u001b[39m     name=func_name,\n\u001b[32m    237\u001b[39m     description=model.\u001b[34m__doc__\u001b[39m,\n\u001b[32m    238\u001b[39m )\n",
      "\u001b[36mFile \u001b[39m\u001b[32me:\\vibe-judges\\myenv\\Lib\\site-packages\\langchain_core\\tools\\base.py:322\u001b[39m, in \u001b[36mcreate_schema_from_function\u001b[39m\u001b[34m(model_name, func, filter_args, parse_docstring, error_on_invalid_docstring, include_injected)\u001b[39m\n\u001b[32m    317\u001b[39m     \u001b[38;5;28;01mwith\u001b[39;00m warnings.catch_warnings():\n\u001b[32m    318\u001b[39m         \u001b[38;5;66;03m# We are using deprecated functionality here.\u001b[39;00m\n\u001b[32m    319\u001b[39m         \u001b[38;5;66;03m# This code should be re-written to simply construct a pydantic model\u001b[39;00m\n\u001b[32m    320\u001b[39m         \u001b[38;5;66;03m# using inspect.signature and create_model.\u001b[39;00m\n\u001b[32m    321\u001b[39m         warnings.simplefilter(\u001b[33m\"\u001b[39m\u001b[33mignore\u001b[39m\u001b[33m\"\u001b[39m, category=PydanticDeprecationWarning)\n\u001b[32m--> \u001b[39m\u001b[32m322\u001b[39m         validated = \u001b[43mvalidate_arguments\u001b[49m\u001b[43m(\u001b[49m\u001b[43mfunc\u001b[49m\u001b[43m,\u001b[49m\u001b[43m \u001b[49m\u001b[43mconfig\u001b[49m\u001b[43m=\u001b[49m\u001b[43m_SchemaConfig\u001b[49m\u001b[43m)\u001b[49m  \u001b[38;5;66;03m# type: ignore[operator]\u001b[39;00m\n\u001b[32m    324\u001b[39m \u001b[38;5;66;03m# Let's ignore `self` and `cls` arguments for class and instance methods\u001b[39;00m\n\u001b[32m    325\u001b[39m \u001b[38;5;66;03m# If qualified name has a \".\", then it likely belongs in a class namespace\u001b[39;00m\n\u001b[32m    326\u001b[39m in_class = \u001b[38;5;28mbool\u001b[39m(func.\u001b[34m__qualname__\u001b[39m \u001b[38;5;129;01mand\u001b[39;00m \u001b[33m\"\u001b[39m\u001b[33m.\u001b[39m\u001b[33m\"\u001b[39m \u001b[38;5;129;01min\u001b[39;00m func.\u001b[34m__qualname__\u001b[39m)\n",
      "\u001b[36mFile \u001b[39m\u001b[32me:\\vibe-judges\\myenv\\Lib\\site-packages\\pydantic\\deprecated\\decorator.py:65\u001b[39m, in \u001b[36mvalidate_arguments\u001b[39m\u001b[34m(func, config)\u001b[39m\n\u001b[32m     62\u001b[39m     \u001b[38;5;28;01mreturn\u001b[39;00m wrapper_function\n\u001b[32m     64\u001b[39m \u001b[38;5;28;01mif\u001b[39;00m func:\n\u001b[32m---> \u001b[39m\u001b[32m65\u001b[39m     \u001b[38;5;28;01mreturn\u001b[39;00m \u001b[43mvalidate\u001b[49m\u001b[43m(\u001b[49m\u001b[43mfunc\u001b[49m\u001b[43m)\u001b[49m\n\u001b[32m     66\u001b[39m \u001b[38;5;28;01melse\u001b[39;00m:\n\u001b[32m     67\u001b[39m     \u001b[38;5;28;01mreturn\u001b[39;00m validate\n",
      "\u001b[36mFile \u001b[39m\u001b[32me:\\vibe-judges\\myenv\\Lib\\site-packages\\pydantic\\deprecated\\decorator.py:52\u001b[39m, in \u001b[36mvalidate_arguments.<locals>.validate\u001b[39m\u001b[34m(_func)\u001b[39m\n\u001b[32m     51\u001b[39m \u001b[38;5;28;01mdef\u001b[39;00m\u001b[38;5;250m \u001b[39m\u001b[34mvalidate\u001b[39m(_func: \u001b[33m'\u001b[39m\u001b[33mAnyCallable\u001b[39m\u001b[33m'\u001b[39m) -> \u001b[33m'\u001b[39m\u001b[33mAnyCallable\u001b[39m\u001b[33m'\u001b[39m:\n\u001b[32m---> \u001b[39m\u001b[32m52\u001b[39m     vd = \u001b[43mValidatedFunction\u001b[49m\u001b[43m(\u001b[49m\u001b[43m_func\u001b[49m\u001b[43m,\u001b[49m\u001b[43m \u001b[49m\u001b[43mconfig\u001b[49m\u001b[43m)\u001b[49m\n\u001b[32m     54\u001b[39m     \u001b[38;5;129m@wraps\u001b[39m(_func)\n\u001b[32m     55\u001b[39m     \u001b[38;5;28;01mdef\u001b[39;00m\u001b[38;5;250m \u001b[39m\u001b[34mwrapper_function\u001b[39m(*args: Any, **kwargs: Any) -> Any:\n\u001b[32m     56\u001b[39m         \u001b[38;5;28;01mreturn\u001b[39;00m vd.call(*args, **kwargs)\n",
      "\u001b[36mFile \u001b[39m\u001b[32me:\\vibe-judges\\myenv\\Lib\\site-packages\\pydantic\\deprecated\\decorator.py:143\u001b[39m, in \u001b[36mValidatedFunction.__init__\u001b[39m\u001b[34m(self, function, config)\u001b[39m\n\u001b[32m    139\u001b[39m \u001b[38;5;28;01mif\u001b[39;00m \u001b[38;5;129;01mnot\u001b[39;00m takes_kwargs:\n\u001b[32m    140\u001b[39m     \u001b[38;5;66;03m# same with kwargs\u001b[39;00m\n\u001b[32m    141\u001b[39m     fields[\u001b[38;5;28mself\u001b[39m.v_kwargs_name] = \u001b[38;5;28mdict\u001b[39m[Any, Any], \u001b[38;5;28;01mNone\u001b[39;00m\n\u001b[32m--> \u001b[39m\u001b[32m143\u001b[39m \u001b[38;5;28;43mself\u001b[39;49m\u001b[43m.\u001b[49m\u001b[43mcreate_model\u001b[49m\u001b[43m(\u001b[49m\u001b[43mfields\u001b[49m\u001b[43m,\u001b[49m\u001b[43m \u001b[49m\u001b[43mtakes_args\u001b[49m\u001b[43m,\u001b[49m\u001b[43m \u001b[49m\u001b[43mtakes_kwargs\u001b[49m\u001b[43m,\u001b[49m\u001b[43m \u001b[49m\u001b[43mconfig\u001b[49m\u001b[43m)\u001b[49m\n",
      "\u001b[36mFile \u001b[39m\u001b[32me:\\vibe-judges\\myenv\\Lib\\site-packages\\pydantic\\deprecated\\decorator.py:284\u001b[39m, in \u001b[36mValidatedFunction.create_model\u001b[39m\u001b[34m(self, fields, takes_args, takes_kwargs, config)\u001b[39m\n\u001b[32m    280\u001b[39m         \u001b[38;5;28;01mraise\u001b[39;00m \u001b[38;5;167;01mTypeError\u001b[39;00m(\u001b[33mf\u001b[39m\u001b[33m'\u001b[39m\u001b[33mmultiple values for argument\u001b[39m\u001b[38;5;132;01m{\u001b[39;00mplural\u001b[38;5;132;01m}\u001b[39;00m\u001b[33m: \u001b[39m\u001b[38;5;132;01m{\u001b[39;00mkeys\u001b[38;5;132;01m}\u001b[39;00m\u001b[33m'\u001b[39m)\n\u001b[32m    282\u001b[39m     model_config = config_wrapper.config_dict\n\u001b[32m--> \u001b[39m\u001b[32m284\u001b[39m \u001b[38;5;28mself\u001b[39m.model = \u001b[43mcreate_model\u001b[49m\u001b[43m(\u001b[49m\u001b[43mto_pascal\u001b[49m\u001b[43m(\u001b[49m\u001b[38;5;28;43mself\u001b[39;49m\u001b[43m.\u001b[49m\u001b[43mraw_function\u001b[49m\u001b[43m.\u001b[49m\u001b[34;43m__name__\u001b[39;49m\u001b[43m)\u001b[49m\u001b[43m,\u001b[49m\u001b[43m \u001b[49m\u001b[43m__base__\u001b[49m\u001b[43m=\u001b[49m\u001b[43mDecoratorBaseModel\u001b[49m\u001b[43m,\u001b[49m\u001b[43m \u001b[49m\u001b[43m*\u001b[49m\u001b[43m*\u001b[49m\u001b[43mfields\u001b[49m\u001b[43m)\u001b[49m\n",
      "\u001b[36mFile \u001b[39m\u001b[32me:\\vibe-judges\\myenv\\Lib\\site-packages\\pydantic\\main.py:1763\u001b[39m, in \u001b[36mcreate_model\u001b[39m\u001b[34m(model_name, __config__, __doc__, __base__, __module__, __validators__, __cls_kwargs__, **field_definitions)\u001b[39m\n\u001b[32m   1760\u001b[39m     ns[\u001b[33m'\u001b[39m\u001b[33m__orig_bases__\u001b[39m\u001b[33m'\u001b[39m] = __base__\n\u001b[32m   1761\u001b[39m namespace.update(ns)\n\u001b[32m-> \u001b[39m\u001b[32m1763\u001b[39m \u001b[38;5;28;01mreturn\u001b[39;00m \u001b[43mmeta\u001b[49m\u001b[43m(\u001b[49m\n\u001b[32m   1764\u001b[39m \u001b[43m    \u001b[49m\u001b[43mmodel_name\u001b[49m\u001b[43m,\u001b[49m\n\u001b[32m   1765\u001b[39m \u001b[43m    \u001b[49m\u001b[43mresolved_bases\u001b[49m\u001b[43m,\u001b[49m\n\u001b[32m   1766\u001b[39m \u001b[43m    \u001b[49m\u001b[43mnamespace\u001b[49m\u001b[43m,\u001b[49m\n\u001b[32m   1767\u001b[39m \u001b[43m    \u001b[49m\u001b[43m__pydantic_reset_parent_namespace__\u001b[49m\u001b[43m=\u001b[49m\u001b[38;5;28;43;01mFalse\u001b[39;49;00m\u001b[43m,\u001b[49m\n\u001b[32m   1768\u001b[39m \u001b[43m    \u001b[49m\u001b[43m_create_model_module\u001b[49m\u001b[43m=\u001b[49m\u001b[34;43m__module__\u001b[39;49m\u001b[43m,\u001b[49m\n\u001b[32m   1769\u001b[39m \u001b[43m    \u001b[49m\u001b[43m*\u001b[49m\u001b[43m*\u001b[49m\u001b[43mkwds\u001b[49m\u001b[43m,\u001b[49m\n\u001b[32m   1770\u001b[39m \u001b[43m\u001b[49m\u001b[43m)\u001b[49m\n",
      "\u001b[36mFile \u001b[39m\u001b[32me:\\vibe-judges\\myenv\\Lib\\site-packages\\pydantic\\_internal\\_model_construction.py:237\u001b[39m, in \u001b[36mModelMetaclass.__new__\u001b[39m\u001b[34m(mcs, cls_name, bases, namespace, __pydantic_generic_metadata__, __pydantic_reset_parent_namespace__, _create_model_module, **kwargs)\u001b[39m\n\u001b[32m    233\u001b[39m     set_model_mocks(\u001b[38;5;28mcls\u001b[39m)\n\u001b[32m    234\u001b[39m \u001b[38;5;28;01melse\u001b[39;00m:\n\u001b[32m    235\u001b[39m     \u001b[38;5;66;03m# Any operation that requires accessing the field infos instances should be put inside\u001b[39;00m\n\u001b[32m    236\u001b[39m     \u001b[38;5;66;03m# `complete_model_class()`:\u001b[39;00m\n\u001b[32m--> \u001b[39m\u001b[32m237\u001b[39m     \u001b[43mcomplete_model_class\u001b[49m\u001b[43m(\u001b[49m\n\u001b[32m    238\u001b[39m \u001b[43m        \u001b[49m\u001b[38;5;28;43mcls\u001b[39;49m\u001b[43m,\u001b[49m\n\u001b[32m    239\u001b[39m \u001b[43m        \u001b[49m\u001b[43mconfig_wrapper\u001b[49m\u001b[43m,\u001b[49m\n\u001b[32m    240\u001b[39m \u001b[43m        \u001b[49m\u001b[43mraise_errors\u001b[49m\u001b[43m=\u001b[49m\u001b[38;5;28;43;01mFalse\u001b[39;49;00m\u001b[43m,\u001b[49m\n\u001b[32m    241\u001b[39m \u001b[43m        \u001b[49m\u001b[43mns_resolver\u001b[49m\u001b[43m=\u001b[49m\u001b[43mns_resolver\u001b[49m\u001b[43m,\u001b[49m\n\u001b[32m    242\u001b[39m \u001b[43m        \u001b[49m\u001b[43mcreate_model_module\u001b[49m\u001b[43m=\u001b[49m\u001b[43m_create_model_module\u001b[49m\u001b[43m,\u001b[49m\n\u001b[32m    243\u001b[39m \u001b[43m    \u001b[49m\u001b[43m)\u001b[49m\n\u001b[32m    245\u001b[39m \u001b[38;5;28;01mif\u001b[39;00m config_wrapper.frozen \u001b[38;5;129;01mand\u001b[39;00m \u001b[33m'\u001b[39m\u001b[33m__hash__\u001b[39m\u001b[33m'\u001b[39m \u001b[38;5;129;01mnot\u001b[39;00m \u001b[38;5;129;01min\u001b[39;00m namespace:\n\u001b[32m    246\u001b[39m     set_default_hash_func(\u001b[38;5;28mcls\u001b[39m, bases)\n",
      "\u001b[36mFile \u001b[39m\u001b[32me:\\vibe-judges\\myenv\\Lib\\site-packages\\pydantic\\_internal\\_model_construction.py:597\u001b[39m, in \u001b[36mcomplete_model_class\u001b[39m\u001b[34m(cls, config_wrapper, raise_errors, ns_resolver, create_model_module)\u001b[39m\n\u001b[32m    590\u001b[39m gen_schema = GenerateSchema(\n\u001b[32m    591\u001b[39m     config_wrapper,\n\u001b[32m    592\u001b[39m     ns_resolver,\n\u001b[32m    593\u001b[39m     typevars_map,\n\u001b[32m    594\u001b[39m )\n\u001b[32m    596\u001b[39m \u001b[38;5;28;01mtry\u001b[39;00m:\n\u001b[32m--> \u001b[39m\u001b[32m597\u001b[39m     schema = \u001b[43mgen_schema\u001b[49m\u001b[43m.\u001b[49m\u001b[43mgenerate_schema\u001b[49m\u001b[43m(\u001b[49m\u001b[38;5;28;43mcls\u001b[39;49m\u001b[43m)\u001b[49m\n\u001b[32m    598\u001b[39m \u001b[38;5;28;01mexcept\u001b[39;00m PydanticUndefinedAnnotation \u001b[38;5;28;01mas\u001b[39;00m e:\n\u001b[32m    599\u001b[39m     \u001b[38;5;28;01mif\u001b[39;00m raise_errors:\n",
      "\u001b[36mFile \u001b[39m\u001b[32me:\\vibe-judges\\myenv\\Lib\\site-packages\\pydantic\\_internal\\_generate_schema.py:711\u001b[39m, in \u001b[36mGenerateSchema.generate_schema\u001b[39m\u001b[34m(self, obj)\u001b[39m\n\u001b[32m    708\u001b[39m schema = \u001b[38;5;28mself\u001b[39m._generate_schema_from_get_schema_method(obj, obj)\n\u001b[32m    710\u001b[39m \u001b[38;5;28;01mif\u001b[39;00m schema \u001b[38;5;129;01mis\u001b[39;00m \u001b[38;5;28;01mNone\u001b[39;00m:\n\u001b[32m--> \u001b[39m\u001b[32m711\u001b[39m     schema = \u001b[38;5;28;43mself\u001b[39;49m\u001b[43m.\u001b[49m\u001b[43m_generate_schema_inner\u001b[49m\u001b[43m(\u001b[49m\u001b[43mobj\u001b[49m\u001b[43m)\u001b[49m\n\u001b[32m    713\u001b[39m metadata_js_function = _extract_get_pydantic_json_schema(obj)\n\u001b[32m    714\u001b[39m \u001b[38;5;28;01mif\u001b[39;00m metadata_js_function \u001b[38;5;129;01mis\u001b[39;00m \u001b[38;5;129;01mnot\u001b[39;00m \u001b[38;5;28;01mNone\u001b[39;00m:\n",
      "\u001b[36mFile \u001b[39m\u001b[32me:\\vibe-judges\\myenv\\Lib\\site-packages\\pydantic\\_internal\\_generate_schema.py:1004\u001b[39m, in \u001b[36mGenerateSchema._generate_schema_inner\u001b[39m\u001b[34m(self, obj)\u001b[39m\n\u001b[32m   1002\u001b[39m \u001b[38;5;28;01mif\u001b[39;00m lenient_issubclass(obj, BaseModel):\n\u001b[32m   1003\u001b[39m     \u001b[38;5;28;01mwith\u001b[39;00m \u001b[38;5;28mself\u001b[39m.model_type_stack.push(obj):\n\u001b[32m-> \u001b[39m\u001b[32m1004\u001b[39m         \u001b[38;5;28;01mreturn\u001b[39;00m \u001b[38;5;28;43mself\u001b[39;49m\u001b[43m.\u001b[49m\u001b[43m_model_schema\u001b[49m\u001b[43m(\u001b[49m\u001b[43mobj\u001b[49m\u001b[43m)\u001b[49m\n\u001b[32m   1006\u001b[39m \u001b[38;5;28;01mif\u001b[39;00m \u001b[38;5;28misinstance\u001b[39m(obj, PydanticRecursiveRef):\n\u001b[32m   1007\u001b[39m     \u001b[38;5;28;01mreturn\u001b[39;00m core_schema.definition_reference_schema(schema_ref=obj.type_ref)\n",
      "\u001b[36mFile \u001b[39m\u001b[32me:\\vibe-judges\\myenv\\Lib\\site-packages\\pydantic\\_internal\\_generate_schema.py:837\u001b[39m, in \u001b[36mGenerateSchema._model_schema\u001b[39m\u001b[34m(self, cls)\u001b[39m\n\u001b[32m    825\u001b[39m     model_schema = core_schema.model_schema(\n\u001b[32m    826\u001b[39m         \u001b[38;5;28mcls\u001b[39m,\n\u001b[32m    827\u001b[39m         inner_schema,\n\u001b[32m   (...)\u001b[39m\u001b[32m    833\u001b[39m         ref=model_ref,\n\u001b[32m    834\u001b[39m     )\n\u001b[32m    835\u001b[39m \u001b[38;5;28;01melse\u001b[39;00m:\n\u001b[32m    836\u001b[39m     fields_schema: core_schema.CoreSchema = core_schema.model_fields_schema(\n\u001b[32m--> \u001b[39m\u001b[32m837\u001b[39m         \u001b[43m{\u001b[49m\u001b[43mk\u001b[49m\u001b[43m:\u001b[49m\u001b[43m \u001b[49m\u001b[38;5;28;43mself\u001b[39;49m\u001b[43m.\u001b[49m\u001b[43m_generate_md_field_schema\u001b[49m\u001b[43m(\u001b[49m\u001b[43mk\u001b[49m\u001b[43m,\u001b[49m\u001b[43m \u001b[49m\u001b[43mv\u001b[49m\u001b[43m,\u001b[49m\u001b[43m \u001b[49m\u001b[43mdecorators\u001b[49m\u001b[43m)\u001b[49m\u001b[43m \u001b[49m\u001b[38;5;28;43;01mfor\u001b[39;49;00m\u001b[43m \u001b[49m\u001b[43mk\u001b[49m\u001b[43m,\u001b[49m\u001b[43m \u001b[49m\u001b[43mv\u001b[49m\u001b[43m \u001b[49m\u001b[38;5;129;43;01min\u001b[39;49;00m\u001b[43m \u001b[49m\u001b[43mfields\u001b[49m\u001b[43m.\u001b[49m\u001b[43mitems\u001b[49m\u001b[43m(\u001b[49m\u001b[43m)\u001b[49m\u001b[43m}\u001b[49m,\n\u001b[32m    838\u001b[39m         computed_fields=[\n\u001b[32m    839\u001b[39m             \u001b[38;5;28mself\u001b[39m._computed_field_schema(d, decorators.field_serializers)\n\u001b[32m    840\u001b[39m             \u001b[38;5;28;01mfor\u001b[39;00m d \u001b[38;5;129;01min\u001b[39;00m computed_fields.values()\n\u001b[32m    841\u001b[39m         ],\n\u001b[32m    842\u001b[39m         extras_schema=extras_schema,\n\u001b[32m    843\u001b[39m         extras_keys_schema=extras_keys_schema,\n\u001b[32m    844\u001b[39m         model_name=\u001b[38;5;28mcls\u001b[39m.\u001b[34m__name__\u001b[39m,\n\u001b[32m    845\u001b[39m     )\n\u001b[32m    846\u001b[39m     inner_schema = apply_validators(fields_schema, decorators.root_validators.values(), \u001b[38;5;28;01mNone\u001b[39;00m)\n\u001b[32m    847\u001b[39m     inner_schema = apply_model_validators(inner_schema, model_validators, \u001b[33m'\u001b[39m\u001b[33minner\u001b[39m\u001b[33m'\u001b[39m)\n",
      "\u001b[36mFile \u001b[39m\u001b[32me:\\vibe-judges\\myenv\\Lib\\site-packages\\pydantic\\_internal\\_generate_schema.py:837\u001b[39m, in \u001b[36m<dictcomp>\u001b[39m\u001b[34m(.0)\u001b[39m\n\u001b[32m    825\u001b[39m     model_schema = core_schema.model_schema(\n\u001b[32m    826\u001b[39m         \u001b[38;5;28mcls\u001b[39m,\n\u001b[32m    827\u001b[39m         inner_schema,\n\u001b[32m   (...)\u001b[39m\u001b[32m    833\u001b[39m         ref=model_ref,\n\u001b[32m    834\u001b[39m     )\n\u001b[32m    835\u001b[39m \u001b[38;5;28;01melse\u001b[39;00m:\n\u001b[32m    836\u001b[39m     fields_schema: core_schema.CoreSchema = core_schema.model_fields_schema(\n\u001b[32m--> \u001b[39m\u001b[32m837\u001b[39m         {k: \u001b[38;5;28;43mself\u001b[39;49m\u001b[43m.\u001b[49m\u001b[43m_generate_md_field_schema\u001b[49m\u001b[43m(\u001b[49m\u001b[43mk\u001b[49m\u001b[43m,\u001b[49m\u001b[43m \u001b[49m\u001b[43mv\u001b[49m\u001b[43m,\u001b[49m\u001b[43m \u001b[49m\u001b[43mdecorators\u001b[49m\u001b[43m)\u001b[49m \u001b[38;5;28;01mfor\u001b[39;00m k, v \u001b[38;5;129;01min\u001b[39;00m fields.items()},\n\u001b[32m    838\u001b[39m         computed_fields=[\n\u001b[32m    839\u001b[39m             \u001b[38;5;28mself\u001b[39m._computed_field_schema(d, decorators.field_serializers)\n\u001b[32m    840\u001b[39m             \u001b[38;5;28;01mfor\u001b[39;00m d \u001b[38;5;129;01min\u001b[39;00m computed_fields.values()\n\u001b[32m    841\u001b[39m         ],\n\u001b[32m    842\u001b[39m         extras_schema=extras_schema,\n\u001b[32m    843\u001b[39m         extras_keys_schema=extras_keys_schema,\n\u001b[32m    844\u001b[39m         model_name=\u001b[38;5;28mcls\u001b[39m.\u001b[34m__name__\u001b[39m,\n\u001b[32m    845\u001b[39m     )\n\u001b[32m    846\u001b[39m     inner_schema = apply_validators(fields_schema, decorators.root_validators.values(), \u001b[38;5;28;01mNone\u001b[39;00m)\n\u001b[32m    847\u001b[39m     inner_schema = apply_model_validators(inner_schema, model_validators, \u001b[33m'\u001b[39m\u001b[33minner\u001b[39m\u001b[33m'\u001b[39m)\n",
      "\u001b[36mFile \u001b[39m\u001b[32me:\\vibe-judges\\myenv\\Lib\\site-packages\\pydantic\\_internal\\_generate_schema.py:1206\u001b[39m, in \u001b[36mGenerateSchema._generate_md_field_schema\u001b[39m\u001b[34m(self, name, field_info, decorators)\u001b[39m\n\u001b[32m   1199\u001b[39m \u001b[38;5;28;01mdef\u001b[39;00m\u001b[38;5;250m \u001b[39m\u001b[34m_generate_md_field_schema\u001b[39m(\n\u001b[32m   1200\u001b[39m     \u001b[38;5;28mself\u001b[39m,\n\u001b[32m   1201\u001b[39m     name: \u001b[38;5;28mstr\u001b[39m,\n\u001b[32m   1202\u001b[39m     field_info: FieldInfo,\n\u001b[32m   1203\u001b[39m     decorators: DecoratorInfos,\n\u001b[32m   1204\u001b[39m ) -> core_schema.ModelField:\n\u001b[32m   1205\u001b[39m \u001b[38;5;250m    \u001b[39m\u001b[33;03m\"\"\"Prepare a ModelField to represent a model field.\"\"\"\u001b[39;00m\n\u001b[32m-> \u001b[39m\u001b[32m1206\u001b[39m     common_field = \u001b[38;5;28;43mself\u001b[39;49m\u001b[43m.\u001b[49m\u001b[43m_common_field_schema\u001b[49m\u001b[43m(\u001b[49m\u001b[43mname\u001b[49m\u001b[43m,\u001b[49m\u001b[43m \u001b[49m\u001b[43mfield_info\u001b[49m\u001b[43m,\u001b[49m\u001b[43m \u001b[49m\u001b[43mdecorators\u001b[49m\u001b[43m)\u001b[49m\n\u001b[32m   1207\u001b[39m     \u001b[38;5;28;01mreturn\u001b[39;00m core_schema.model_field(\n\u001b[32m   1208\u001b[39m         common_field[\u001b[33m'\u001b[39m\u001b[33mschema\u001b[39m\u001b[33m'\u001b[39m],\n\u001b[32m   1209\u001b[39m         serialization_exclude=common_field[\u001b[33m'\u001b[39m\u001b[33mserialization_exclude\u001b[39m\u001b[33m'\u001b[39m],\n\u001b[32m   (...)\u001b[39m\u001b[32m   1213\u001b[39m         metadata=common_field[\u001b[33m'\u001b[39m\u001b[33mmetadata\u001b[39m\u001b[33m'\u001b[39m],\n\u001b[32m   1214\u001b[39m     )\n",
      "\u001b[36mFile \u001b[39m\u001b[32me:\\vibe-judges\\myenv\\Lib\\site-packages\\pydantic\\_internal\\_generate_schema.py:1372\u001b[39m, in \u001b[36mGenerateSchema._common_field_schema\u001b[39m\u001b[34m(self, name, field_info, decorators)\u001b[39m\n\u001b[32m   1368\u001b[39m         schema = \u001b[38;5;28mself\u001b[39m._apply_annotations(\n\u001b[32m   1369\u001b[39m             source_type, annotations + validators_from_decorators, transform_inner_schema=set_discriminator\n\u001b[32m   1370\u001b[39m         )\n\u001b[32m   1371\u001b[39m     \u001b[38;5;28;01melse\u001b[39;00m:\n\u001b[32m-> \u001b[39m\u001b[32m1372\u001b[39m         schema = \u001b[38;5;28;43mself\u001b[39;49m\u001b[43m.\u001b[49m\u001b[43m_apply_annotations\u001b[49m\u001b[43m(\u001b[49m\n\u001b[32m   1373\u001b[39m \u001b[43m            \u001b[49m\u001b[43msource_type\u001b[49m\u001b[43m,\u001b[49m\n\u001b[32m   1374\u001b[39m \u001b[43m            \u001b[49m\u001b[43mannotations\u001b[49m\u001b[43m \u001b[49m\u001b[43m+\u001b[49m\u001b[43m \u001b[49m\u001b[43mvalidators_from_decorators\u001b[49m\u001b[43m,\u001b[49m\n\u001b[32m   1375\u001b[39m \u001b[43m        \u001b[49m\u001b[43m)\u001b[49m\n\u001b[32m   1377\u001b[39m \u001b[38;5;66;03m# This V1 compatibility shim should eventually be removed\u001b[39;00m\n\u001b[32m   1378\u001b[39m \u001b[38;5;66;03m# push down any `each_item=True` validators\u001b[39;00m\n\u001b[32m   1379\u001b[39m \u001b[38;5;66;03m# note that this won't work for any Annotated types that get wrapped by a function validator\u001b[39;00m\n\u001b[32m   1380\u001b[39m \u001b[38;5;66;03m# but that's okay because that didn't exist in V1\u001b[39;00m\n\u001b[32m   1381\u001b[39m this_field_validators = filter_field_decorator_info_by_field(decorators.validators.values(), name)\n",
      "\u001b[36mFile \u001b[39m\u001b[32me:\\vibe-judges\\myenv\\Lib\\site-packages\\pydantic\\_internal\\_generate_schema.py:2297\u001b[39m, in \u001b[36mGenerateSchema._apply_annotations\u001b[39m\u001b[34m(self, source_type, annotations, transform_inner_schema)\u001b[39m\n\u001b[32m   2292\u001b[39m         \u001b[38;5;28;01mcontinue\u001b[39;00m\n\u001b[32m   2293\u001b[39m     get_inner_schema = \u001b[38;5;28mself\u001b[39m._get_wrapped_inner_schema(\n\u001b[32m   2294\u001b[39m         get_inner_schema, annotation, pydantic_js_annotation_functions\n\u001b[32m   2295\u001b[39m     )\n\u001b[32m-> \u001b[39m\u001b[32m2297\u001b[39m schema = \u001b[43mget_inner_schema\u001b[49m\u001b[43m(\u001b[49m\u001b[43msource_type\u001b[49m\u001b[43m)\u001b[49m\n\u001b[32m   2298\u001b[39m \u001b[38;5;28;01mif\u001b[39;00m pydantic_js_annotation_functions:\n\u001b[32m   2299\u001b[39m     core_metadata = schema.setdefault(\u001b[33m'\u001b[39m\u001b[33mmetadata\u001b[39m\u001b[33m'\u001b[39m, {})\n",
      "\u001b[36mFile \u001b[39m\u001b[32me:\\vibe-judges\\myenv\\Lib\\site-packages\\pydantic\\_internal\\_schema_generation_shared.py:83\u001b[39m, in \u001b[36mCallbackGetCoreSchemaHandler.__call__\u001b[39m\u001b[34m(self, source_type)\u001b[39m\n\u001b[32m     82\u001b[39m \u001b[38;5;28;01mdef\u001b[39;00m\u001b[38;5;250m \u001b[39m\u001b[34m__call__\u001b[39m(\u001b[38;5;28mself\u001b[39m, source_type: Any, /) -> core_schema.CoreSchema:\n\u001b[32m---> \u001b[39m\u001b[32m83\u001b[39m     schema = \u001b[38;5;28;43mself\u001b[39;49m\u001b[43m.\u001b[49m\u001b[43m_handler\u001b[49m\u001b[43m(\u001b[49m\u001b[43msource_type\u001b[49m\u001b[43m)\u001b[49m\n\u001b[32m     84\u001b[39m     \u001b[38;5;28;01mif\u001b[39;00m \u001b[38;5;28mself\u001b[39m._ref_mode == \u001b[33m'\u001b[39m\u001b[33mto-def\u001b[39m\u001b[33m'\u001b[39m:\n\u001b[32m     85\u001b[39m         ref = schema.get(\u001b[33m'\u001b[39m\u001b[33mref\u001b[39m\u001b[33m'\u001b[39m)\n",
      "\u001b[36mFile \u001b[39m\u001b[32me:\\vibe-judges\\myenv\\Lib\\site-packages\\pydantic\\_internal\\_generate_schema.py:2279\u001b[39m, in \u001b[36mGenerateSchema._apply_annotations.<locals>.inner_handler\u001b[39m\u001b[34m(obj)\u001b[39m\n\u001b[32m   2276\u001b[39m schema = \u001b[38;5;28mself\u001b[39m._generate_schema_from_get_schema_method(obj, source_type)\n\u001b[32m   2278\u001b[39m \u001b[38;5;28;01mif\u001b[39;00m schema \u001b[38;5;129;01mis\u001b[39;00m \u001b[38;5;28;01mNone\u001b[39;00m:\n\u001b[32m-> \u001b[39m\u001b[32m2279\u001b[39m     schema = \u001b[38;5;28;43mself\u001b[39;49m\u001b[43m.\u001b[49m\u001b[43m_generate_schema_inner\u001b[49m\u001b[43m(\u001b[49m\u001b[43mobj\u001b[49m\u001b[43m)\u001b[49m\n\u001b[32m   2281\u001b[39m metadata_js_function = _extract_get_pydantic_json_schema(obj)\n\u001b[32m   2282\u001b[39m \u001b[38;5;28;01mif\u001b[39;00m metadata_js_function \u001b[38;5;129;01mis\u001b[39;00m \u001b[38;5;129;01mnot\u001b[39;00m \u001b[38;5;28;01mNone\u001b[39;00m:\n",
      "\u001b[36mFile \u001b[39m\u001b[32me:\\vibe-judges\\myenv\\Lib\\site-packages\\pydantic\\_internal\\_generate_schema.py:1009\u001b[39m, in \u001b[36mGenerateSchema._generate_schema_inner\u001b[39m\u001b[34m(self, obj)\u001b[39m\n\u001b[32m   1006\u001b[39m \u001b[38;5;28;01mif\u001b[39;00m \u001b[38;5;28misinstance\u001b[39m(obj, PydanticRecursiveRef):\n\u001b[32m   1007\u001b[39m     \u001b[38;5;28;01mreturn\u001b[39;00m core_schema.definition_reference_schema(schema_ref=obj.type_ref)\n\u001b[32m-> \u001b[39m\u001b[32m1009\u001b[39m \u001b[38;5;28;01mreturn\u001b[39;00m \u001b[38;5;28;43mself\u001b[39;49m\u001b[43m.\u001b[49m\u001b[43mmatch_type\u001b[49m\u001b[43m(\u001b[49m\u001b[43mobj\u001b[49m\u001b[43m)\u001b[49m\n",
      "\u001b[36mFile \u001b[39m\u001b[32me:\\vibe-judges\\myenv\\Lib\\site-packages\\pydantic\\_internal\\_generate_schema.py:1091\u001b[39m, in \u001b[36mGenerateSchema.match_type\u001b[39m\u001b[34m(self, obj)\u001b[39m\n\u001b[32m   1089\u001b[39m     \u001b[38;5;28;01mreturn\u001b[39;00m \u001b[38;5;28mself\u001b[39m._literal_schema(obj)\n\u001b[32m   1090\u001b[39m \u001b[38;5;28;01melif\u001b[39;00m is_typeddict(obj):\n\u001b[32m-> \u001b[39m\u001b[32m1091\u001b[39m     \u001b[38;5;28;01mreturn\u001b[39;00m \u001b[38;5;28;43mself\u001b[39;49m\u001b[43m.\u001b[49m\u001b[43m_typed_dict_schema\u001b[49m\u001b[43m(\u001b[49m\u001b[43mobj\u001b[49m\u001b[43m,\u001b[49m\u001b[43m \u001b[49m\u001b[38;5;28;43;01mNone\u001b[39;49;00m\u001b[43m)\u001b[49m\n\u001b[32m   1092\u001b[39m \u001b[38;5;28;01melif\u001b[39;00m _typing_extra.is_namedtuple(obj):\n\u001b[32m   1093\u001b[39m     \u001b[38;5;28;01mreturn\u001b[39;00m \u001b[38;5;28mself\u001b[39m._namedtuple_schema(obj, \u001b[38;5;28;01mNone\u001b[39;00m)\n",
      "\u001b[36mFile \u001b[39m\u001b[32me:\\vibe-judges\\myenv\\Lib\\site-packages\\pydantic\\_internal\\_generate_schema.py:1511\u001b[39m, in \u001b[36mGenerateSchema._typed_dict_schema\u001b[39m\u001b[34m(self, typed_dict_cls, origin)\u001b[39m\n\u001b[32m   1508\u001b[39m     typed_dict_cls = origin\n\u001b[32m   1510\u001b[39m \u001b[38;5;28;01mif\u001b[39;00m \u001b[38;5;129;01mnot\u001b[39;00m _SUPPORTS_TYPEDDICT \u001b[38;5;129;01mand\u001b[39;00m \u001b[38;5;28mtype\u001b[39m(typed_dict_cls).\u001b[34m__module__\u001b[39m == \u001b[33m'\u001b[39m\u001b[33mtyping\u001b[39m\u001b[33m'\u001b[39m:\n\u001b[32m-> \u001b[39m\u001b[32m1511\u001b[39m     \u001b[38;5;28;01mraise\u001b[39;00m PydanticUserError(\n\u001b[32m   1512\u001b[39m         \u001b[33m'\u001b[39m\u001b[33mPlease use `typing_extensions.TypedDict` instead of `typing.TypedDict` on Python < 3.12.\u001b[39m\u001b[33m'\u001b[39m,\n\u001b[32m   1513\u001b[39m         code=\u001b[33m'\u001b[39m\u001b[33mtyped-dict-version\u001b[39m\u001b[33m'\u001b[39m,\n\u001b[32m   1514\u001b[39m     )\n\u001b[32m   1516\u001b[39m \u001b[38;5;28;01mtry\u001b[39;00m:\n\u001b[32m   1517\u001b[39m     \u001b[38;5;66;03m# if a typed dictionary class doesn't have config, we use the parent's config, hence a default of `None`\u001b[39;00m\n\u001b[32m   1518\u001b[39m     \u001b[38;5;66;03m# see https://github.com/pydantic/pydantic/issues/10917\u001b[39;00m\n\u001b[32m   1519\u001b[39m     config: ConfigDict | \u001b[38;5;28;01mNone\u001b[39;00m = get_attribute_from_bases(typed_dict_cls, \u001b[33m'\u001b[39m\u001b[33m__pydantic_config__\u001b[39m\u001b[33m'\u001b[39m)\n",
      "\u001b[31mPydanticUserError\u001b[39m: Please use `typing_extensions.TypedDict` instead of `typing.TypedDict` on Python < 3.12.\n\nFor further information visit https://errors.pydantic.dev/2.11/u/typed-dict-version"
     ]
    }
   ],
   "source": [
    "client = get_mcp_client()\n",
    "mcp_tools = await client.get_tools()\n",
    "tools = mcp_tools + [extract_rtf_text]\n",
    "model_with_tools = model.bind_tools(tools)"
   ]
  },
  {
   "cell_type": "code",
   "execution_count": 10,
   "metadata": {},
   "outputs": [],
   "source": [
    "async def llm_call_router(state: AgentState):\n",
    "    \"\"\"Analyze current state and decide on next actions.\n",
    "    \n",
    "    The model analyzes the current conversation state and decides whether to:\n",
    "    1. Call search tools to gather more information\n",
    "    2. Provide a final answer based on gathered information\n",
    "    \n",
    "    Returns updated state with the model's response.\n",
    "    \"\"\"\n",
    "    return {\n",
    "        \"researcher_messages\": [\n",
    "            model_with_tools.invoke(\n",
    "                [SystemMessage(content=general_prompt)] + state[\"researcher_messages\"]\n",
    "            )\n",
    "        ]\n",
    "    }"
   ]
  },
  {
   "cell_type": "code",
   "execution_count": 9,
   "id": "79e7562b",
   "metadata": {},
   "outputs": [],
   "source": [
    "async def tool_node(state: AgentState):\n",
    "    \"\"\"Execute tool calls using MCP tools.\n",
    "\n",
    "    This node:\n",
    "    1. Retrieves current tool calls from the last message\n",
    "    2. Executes all tool calls using async operations (required for MCP)\n",
    "    3. Returns formatted tool results\n",
    "\n",
    "    Note: MCP requires async operations due to inter-process communication\n",
    "    with the MCP server subprocess. This is unavoidable.\n",
    "    \"\"\"\n",
    "    tool_calls = state[\"researcher_messages\"][-1].tool_calls\n",
    "\n",
    "    async def execute_tools():\n",
    "        \"\"\"Execute all tool calls. MCP tools require async execution.\"\"\"\n",
    "        # Get fresh tool references from MCP server\n",
    "        client = get_mcp_client()\n",
    "        mcp_tools = await client.get_tools()\n",
    "        tools = mcp_tools + [extract_rtf_text]\n",
    "        tools_by_name = {tool.name: tool for tool in tools}\n",
    "\n",
    "        # Execute tool calls (sequentially for reliability)\n",
    "        observations = []\n",
    "        for tool_call in tool_calls:\n",
    "            tool = tools_by_name[tool_call[\"name\"]]\n",
    "            if tool_call[\"name\"] == \"think_tool\":\n",
    "                # think_tool is sync, use regular invoke\n",
    "                observation = tool.invoke(tool_call[\"args\"])\n",
    "            else:\n",
    "                # MCP tools are async, use ainvoke\n",
    "                observation = await tool.ainvoke(tool_call[\"args\"])\n",
    "            observations.append(observation)\n",
    "\n",
    "        # Format results as tool messages\n",
    "        tool_outputs = [\n",
    "            ToolMessage(\n",
    "                content=observation,\n",
    "                name=tool_call[\"name\"],\n",
    "                tool_call_id=tool_call[\"id\"],\n",
    "            )\n",
    "            for observation, tool_call in zip(observations, tool_calls)\n",
    "        ]\n",
    "\n",
    "        return tool_outputs\n",
    "\n",
    "    messages = await execute_tools()\n",
    "\n",
    "    return {\"researcher_messages\": messages}"
   ]
  },
  {
   "cell_type": "code",
   "execution_count": 11,
   "id": "7d001969",
   "metadata": {},
   "outputs": [],
   "source": [
    "async def tool_node(state: AgentState):\n",
    "    \"\"\"Execute tool calls using MCP tools.\n",
    "\n",
    "    This node:\n",
    "    1. Retrieves current tool calls from the last message\n",
    "    2. Executes all tool calls using async operations (required for MCP)\n",
    "    3. Returns formatted tool results\n",
    "\n",
    "    Note: MCP requires async operations due to inter-process communication\n",
    "    with the MCP server subprocess. This is unavoidable.\n",
    "    \"\"\"\n",
    "    tool_calls = state[\"researcher_messages\"][-1].tool_calls\n",
    "\n",
    "    async def execute_tools():\n",
    "        \"\"\"Execute all tool calls. MCP tools require async execution.\"\"\"\n",
    "        # Get fresh tool references from MCP server\n",
    "        client = get_mcp_client()\n",
    "        mcp_tools = await client.get_tools()\n",
    "        tools = mcp_tools + [extract_rtf_text]\n",
    "        tools_by_name = {tool.name: tool for tool in tools}\n",
    "\n",
    "        # Execute tool calls (sequentially for reliability)\n",
    "        observations = []\n",
    "        for tool_call in tool_calls:\n",
    "            tool = tools_by_name[tool_call[\"name\"]]\n",
    "            if tool_call[\"name\"] == \"think_tool\":\n",
    "                # think_tool is sync, use regular invoke\n",
    "                observation = tool.invoke(tool_call[\"args\"])\n",
    "            else:\n",
    "                # MCP tools are async, use ainvoke\n",
    "                observation = await tool.ainvoke(tool_call[\"args\"])\n",
    "            observations.append(observation)\n",
    "\n",
    "        # Format results as tool messages\n",
    "        tool_outputs = [\n",
    "            ToolMessage(\n",
    "                content=observation,\n",
    "                name=tool_call[\"name\"],\n",
    "                tool_call_id=tool_call[\"id\"],\n",
    "            )\n",
    "            for observation, tool_call in zip(observations, tool_calls)\n",
    "        ]\n",
    "\n",
    "        return tool_outputs\n",
    "\n",
    "    messages = await execute_tools()\n",
    "\n",
    "    return {\"researcher_messages\": messages}"
   ]
  },
  {
   "cell_type": "code",
   "execution_count": 8,
   "metadata": {},
   "outputs": [],
   "source": [
    "def summarize(state: AgentState) -> dict:\n",
    "    \"\"\"\n",
    "    Summarizes the given text using the LLM.\n",
    "    \n",
    "    Args:\n",
    "        text (str): The text to summarize.\n",
    "\n",
    "    Returns:\n",
    "        str: The summary of the text.\n",
    "    \"\"\"\n",
    "    summarization_prompt = PromptTemplate.from_template(\n",
    "        \"\"\"Summarize the following text in one short sentence. Summarize to ukrainian.\n",
    "        \n",
    "        Text: {text}\n",
    "        \n",
    "        Summary:\"\"\"\n",
    "    )\n",
    "    \n",
    "    # Create a chain by connecting the prompt template to the language model\n",
    "    # The \"|\" operator pipes the output of the prompt into the model\n",
    "    chain = summarization_prompt | model\n",
    "    \n",
    "    # Execute the chain with the input text from the state dictionary\n",
    "    # This passes the text to be summarized to the model\n",
    "    response = chain.invoke({\"text\": state[\"text\"]})\n",
    "    \n",
    "    # Return a dictionary with the summary extracted from the model's response\n",
    "    # This will be merged into the agent's state\n",
    "    return {\"summary\": response.content}\n"
   ]
  },
  {
   "cell_type": "code",
   "execution_count": 39,
   "id": "7c69c3bb",
   "metadata": {},
   "outputs": [],
   "source": [
    "\n",
    "def should_continue(state: AgentState) -> Literal[\"tool_node\", \"summarize\"]:\n",
    "    \"\"\"Determine whether to continue with tool execution or compress research.\n",
    "\n",
    "    Determines whether to continue with tool execution or compress research\n",
    "    based on whether the LLM made tool calls.\n",
    "    \"\"\"\n",
    "    messages = state[\"researcher_messages\"]\n",
    "    last_message = messages[-1]\n",
    "\n",
    "    # Continue to tool execution if tools were called\n",
    "    if last_message.tool_calls:\n",
    "        return \"tool_node\"\n",
    "    # Otherwise, compress research findings\n",
    "    return \"summarize\""
   ]
  },
  {
   "cell_type": "code",
   "execution_count": 17,
   "id": "7695c36c",
   "metadata": {},
   "outputs": [],
   "source": [
    "agent_builder_mcp = StateGraph(AgentState)"
   ]
  },
  {
   "cell_type": "code",
   "execution_count": null,
   "id": "f19e8d24",
   "metadata": {},
   "outputs": [],
   "source": [
    "# agent_builder_mcp.add_node(\"llm_call_router\", llm_call_router)\n",
    "# agent_builder_mcp.add_node(\"tool_node\", tool_node)\n",
    "# agent_builder_mcp.add_node(\"summarize\", summarize)\n",
    "\n",
    "# agent_builder_mcp.add_edge(START, \"llm_call_router\")\n",
    "# agent_builder_mcp.add_conditional_edges(\n",
    "#     \"llm_call_router\",\n",
    "#     should_continue,\n",
    "#     {\n",
    "#         \"tool_node\": \"tool_node\",        # Continue to tool execution\n",
    "#         \"summarize\": \"summarize\",  # Compress research findings\n",
    "#     },\n",
    "# )\n",
    "# agent_builder_mcp.add_edge(\"tool_node\", \"llm_call_router\")  # Loop back for more processing\n",
    "# agent_builder_mcp.add_edge(\"summarize\", END)\n",
    "\n",
    "# # Compile the agent\n",
    "# agent_mcp = agent_builder_mcp.compile()"
   ]
  },
  {
   "cell_type": "code",
   "execution_count": 18,
   "id": "18e4c15c",
   "metadata": {},
   "outputs": [],
   "source": [
    "agent_builder_mcp.add_node(\"llm_call_router\", llm_call_router)\n",
    "agent_builder_mcp.add_node(\"tool_node\", tool_node)\n",
    "agent_builder_mcp.add_node(\"summarize\", summarize)\n",
    "\n",
    "agent_builder_mcp.add_edge(START, \"llm_call_router\")\n",
    "agent_builder_mcp.add_edge(\"llm_call_router\", \"tool_node\")\n",
    "agent_builder_mcp.add_edge(\"tool_node\", \"summarize\")\n",
    "agent_builder_mcp.add_edge(\"summarize\", END)\n",
    "agent_mcp = agent_builder_mcp.compile()"
   ]
  },
  {
   "cell_type": "code",
   "execution_count": 19,
   "id": "11e4d8a8",
   "metadata": {},
   "outputs": [
    {
     "data": {
      "image/png": "[encoded data removed]",
      "text/plain": [
       "<IPython.core.display.Image object>"
      ]
     },
     "metadata": {},
     "output_type": "display_data"
    }
   ],
   "source": [
    "from IPython.display import Image, display\n",
    "\n",
    "display(Image(agent_mcp.get_graph(xray=True).draw_mermaid_png()))"
   ]
  },
  {
   "cell_type": "code",
   "execution_count": 20,
   "id": "06c2e86f",
   "metadata": {},
   "outputs": [
    {
     "ename": "AttributeError",
     "evalue": "'function' object has no attribute 'name'",
     "output_type": "error",
     "traceback": [
      "\u001b[31m---------------------------------------------------------------------------\u001b[39m",
      "\u001b[31mAttributeError\u001b[39m                            Traceback (most recent call last)",
      "\u001b[36mCell\u001b[39m\u001b[36m \u001b[39m\u001b[32mIn[20]\u001b[39m\u001b[32m, line 3\u001b[39m\n\u001b[32m      1\u001b[39m qq = \u001b[33m\"\u001b[39m\u001b[33mхто суддя в doc_id 120879625?\u001b[39m\u001b[33m\"\u001b[39m\n\u001b[32m----> \u001b[39m\u001b[32m3\u001b[39m result = \u001b[38;5;28;01mawait\u001b[39;00m agent_mcp.ainvoke({\u001b[33m\"\u001b[39m\u001b[33mresearcher_messages\u001b[39m\u001b[33m\"\u001b[39m: [HumanMessage(content=\u001b[33mf\u001b[39m\u001b[33m\"\u001b[39m\u001b[38;5;132;01m{\u001b[39;00mqq\u001b[38;5;132;01m}\u001b[39;00m\u001b[33m.\u001b[39m\u001b[33m\"\u001b[39m)]})\n\u001b[32m      4\u001b[39m result[\u001b[33m'\u001b[39m\u001b[33mresearcher_messages\u001b[39m\u001b[33m'\u001b[39m]\n",
      "\u001b[36mFile \u001b[39m\u001b[32me:\\vibe-judges\\myenv\\Lib\\site-packages\\langgraph\\pregel\\main.py:3112\u001b[39m, in \u001b[36mPregel.ainvoke\u001b[39m\u001b[34m(self, input, config, context, stream_mode, print_mode, output_keys, interrupt_before, interrupt_after, durability, **kwargs)\u001b[39m\n\u001b[32m   3109\u001b[39m chunks: \u001b[38;5;28mlist\u001b[39m[\u001b[38;5;28mdict\u001b[39m[\u001b[38;5;28mstr\u001b[39m, Any] | Any] = []\n\u001b[32m   3110\u001b[39m interrupts: \u001b[38;5;28mlist\u001b[39m[Interrupt] = []\n\u001b[32m-> \u001b[39m\u001b[32m3112\u001b[39m \u001b[38;5;28;01masync\u001b[39;00m \u001b[38;5;28;01mfor\u001b[39;00m chunk \u001b[38;5;129;01min\u001b[39;00m \u001b[38;5;28mself\u001b[39m.astream(\n\u001b[32m   3113\u001b[39m     \u001b[38;5;28minput\u001b[39m,\n\u001b[32m   3114\u001b[39m     config,\n\u001b[32m   3115\u001b[39m     context=context,\n\u001b[32m   3116\u001b[39m     stream_mode=[\u001b[33m\"\u001b[39m\u001b[33mupdates\u001b[39m\u001b[33m\"\u001b[39m, \u001b[33m\"\u001b[39m\u001b[33mvalues\u001b[39m\u001b[33m\"\u001b[39m]\n\u001b[32m   3117\u001b[39m     \u001b[38;5;28;01mif\u001b[39;00m stream_mode == \u001b[33m\"\u001b[39m\u001b[33mvalues\u001b[39m\u001b[33m\"\u001b[39m\n\u001b[32m   3118\u001b[39m     \u001b[38;5;28;01melse\u001b[39;00m stream_mode,\n\u001b[32m   3119\u001b[39m     print_mode=print_mode,\n\u001b[32m   3120\u001b[39m     output_keys=output_keys,\n\u001b[32m   3121\u001b[39m     interrupt_before=interrupt_before,\n\u001b[32m   3122\u001b[39m     interrupt_after=interrupt_after,\n\u001b[32m   3123\u001b[39m     durability=durability,\n\u001b[32m   3124\u001b[39m     **kwargs,\n\u001b[32m   3125\u001b[39m ):\n\u001b[32m   3126\u001b[39m     \u001b[38;5;28;01mif\u001b[39;00m stream_mode == \u001b[33m\"\u001b[39m\u001b[33mvalues\u001b[39m\u001b[33m\"\u001b[39m:\n\u001b[32m   3127\u001b[39m         \u001b[38;5;28;01mif\u001b[39;00m \u001b[38;5;28mlen\u001b[39m(chunk) == \u001b[32m2\u001b[39m:\n",
      "\u001b[36mFile \u001b[39m\u001b[32me:\\vibe-judges\\myenv\\Lib\\site-packages\\langgraph\\pregel\\main.py:2939\u001b[39m, in \u001b[36mPregel.astream\u001b[39m\u001b[34m(self, input, config, context, stream_mode, print_mode, output_keys, interrupt_before, interrupt_after, durability, subgraphs, debug, **kwargs)\u001b[39m\n\u001b[32m   2937\u001b[39m \u001b[38;5;28;01mfor\u001b[39;00m task \u001b[38;5;129;01min\u001b[39;00m \u001b[38;5;28;01mawait\u001b[39;00m loop.amatch_cached_writes():\n\u001b[32m   2938\u001b[39m     loop.output_writes(task.id, task.writes, cached=\u001b[38;5;28;01mTrue\u001b[39;00m)\n\u001b[32m-> \u001b[39m\u001b[32m2939\u001b[39m \u001b[38;5;28;01masync\u001b[39;00m \u001b[38;5;28;01mfor\u001b[39;00m _ \u001b[38;5;129;01min\u001b[39;00m runner.atick(\n\u001b[32m   2940\u001b[39m     [t \u001b[38;5;28;01mfor\u001b[39;00m t \u001b[38;5;129;01min\u001b[39;00m loop.tasks.values() \u001b[38;5;28;01mif\u001b[39;00m \u001b[38;5;129;01mnot\u001b[39;00m t.writes],\n\u001b[32m   2941\u001b[39m     timeout=\u001b[38;5;28mself\u001b[39m.step_timeout,\n\u001b[32m   2942\u001b[39m     get_waiter=get_waiter,\n\u001b[32m   2943\u001b[39m     schedule_task=loop.aaccept_push,\n\u001b[32m   2944\u001b[39m ):\n\u001b[32m   2945\u001b[39m     \u001b[38;5;66;03m# emit output\u001b[39;00m\n\u001b[32m   2946\u001b[39m     \u001b[38;5;28;01mfor\u001b[39;00m o \u001b[38;5;129;01min\u001b[39;00m _output(\n\u001b[32m   2947\u001b[39m         stream_mode,\n\u001b[32m   2948\u001b[39m         print_mode,\n\u001b[32m   (...)\u001b[39m\u001b[32m   2951\u001b[39m         asyncio.QueueEmpty,\n\u001b[32m   2952\u001b[39m     ):\n\u001b[32m   2953\u001b[39m         \u001b[38;5;28;01myield\u001b[39;00m o\n",
      "\u001b[36mFile \u001b[39m\u001b[32me:\\vibe-judges\\myenv\\Lib\\site-packages\\langgraph\\pregel\\_runner.py:295\u001b[39m, in \u001b[36mPregelRunner.atick\u001b[39m\u001b[34m(self, tasks, reraise, timeout, retry_policy, get_waiter, schedule_task)\u001b[39m\n\u001b[32m    293\u001b[39m t = tasks[\u001b[32m0\u001b[39m]\n\u001b[32m    294\u001b[39m \u001b[38;5;28;01mtry\u001b[39;00m:\n\u001b[32m--> \u001b[39m\u001b[32m295\u001b[39m     \u001b[38;5;28;01mawait\u001b[39;00m arun_with_retry(\n\u001b[32m    296\u001b[39m         t,\n\u001b[32m    297\u001b[39m         retry_policy,\n\u001b[32m    298\u001b[39m         stream=\u001b[38;5;28mself\u001b[39m.use_astream,\n\u001b[32m    299\u001b[39m         configurable={\n\u001b[32m    300\u001b[39m             CONFIG_KEY_CALL: partial(\n\u001b[32m    301\u001b[39m                 _acall,\n\u001b[32m    302\u001b[39m                 weakref.ref(t),\n\u001b[32m    303\u001b[39m                 stream=\u001b[38;5;28mself\u001b[39m.use_astream,\n\u001b[32m    304\u001b[39m                 retry_policy=retry_policy,\n\u001b[32m    305\u001b[39m                 futures=weakref.ref(futures),\n\u001b[32m    306\u001b[39m                 schedule_task=schedule_task,\n\u001b[32m    307\u001b[39m                 submit=\u001b[38;5;28mself\u001b[39m.submit,\n\u001b[32m    308\u001b[39m                 loop=loop,\n\u001b[32m    309\u001b[39m             ),\n\u001b[32m    310\u001b[39m         },\n\u001b[32m    311\u001b[39m     )\n\u001b[32m    312\u001b[39m     \u001b[38;5;28mself\u001b[39m.commit(t, \u001b[38;5;28;01mNone\u001b[39;00m)\n\u001b[32m    313\u001b[39m \u001b[38;5;28;01mexcept\u001b[39;00m \u001b[38;5;167;01mException\u001b[39;00m \u001b[38;5;28;01mas\u001b[39;00m exc:\n",
      "\u001b[36mFile \u001b[39m\u001b[32me:\\vibe-judges\\myenv\\Lib\\site-packages\\langgraph\\pregel\\_retry.py:137\u001b[39m, in \u001b[36marun_with_retry\u001b[39m\u001b[34m(task, retry_policy, stream, match_cached_writes, configurable)\u001b[39m\n\u001b[32m    135\u001b[39m         \u001b[38;5;28;01mbreak\u001b[39;00m\n\u001b[32m    136\u001b[39m     \u001b[38;5;28;01melse\u001b[39;00m:\n\u001b[32m--> \u001b[39m\u001b[32m137\u001b[39m         \u001b[38;5;28;01mreturn\u001b[39;00m \u001b[38;5;28;01mawait\u001b[39;00m task.proc.ainvoke(task.input, config)\n\u001b[32m    138\u001b[39m \u001b[38;5;28;01mexcept\u001b[39;00m ParentCommand \u001b[38;5;28;01mas\u001b[39;00m exc:\n\u001b[32m    139\u001b[39m     ns: \u001b[38;5;28mstr\u001b[39m = config[CONF][CONFIG_KEY_CHECKPOINT_NS]\n",
      "\u001b[36mFile \u001b[39m\u001b[32me:\\vibe-judges\\myenv\\Lib\\site-packages\\langgraph\\_internal\\_runnable.py:706\u001b[39m, in \u001b[36mRunnableSeq.ainvoke\u001b[39m\u001b[34m(self, input, config, **kwargs)\u001b[39m\n\u001b[32m    704\u001b[39m     \u001b[38;5;66;03m# run in context\u001b[39;00m\n\u001b[32m    705\u001b[39m     \u001b[38;5;28;01mwith\u001b[39;00m set_config_context(config, run) \u001b[38;5;28;01mas\u001b[39;00m context:\n\u001b[32m--> \u001b[39m\u001b[32m706\u001b[39m         \u001b[38;5;28minput\u001b[39m = \u001b[38;5;28;01mawait\u001b[39;00m asyncio.create_task(\n\u001b[32m    707\u001b[39m             step.ainvoke(\u001b[38;5;28minput\u001b[39m, config, **kwargs), context=context\n\u001b[32m    708\u001b[39m         )\n\u001b[32m    709\u001b[39m \u001b[38;5;28;01melse\u001b[39;00m:\n\u001b[32m    710\u001b[39m     \u001b[38;5;28minput\u001b[39m = \u001b[38;5;28;01mawait\u001b[39;00m step.ainvoke(\u001b[38;5;28minput\u001b[39m, config, **kwargs)\n",
      "\u001b[36mFile \u001b[39m\u001b[32me:\\vibe-judges\\myenv\\Lib\\site-packages\\langgraph\\_internal\\_runnable.py:474\u001b[39m, in \u001b[36mRunnableCallable.ainvoke\u001b[39m\u001b[34m(self, input, config, **kwargs)\u001b[39m\n\u001b[32m    472\u001b[39m         \u001b[38;5;28;01mawait\u001b[39;00m run_manager.on_chain_end(ret)\n\u001b[32m    473\u001b[39m \u001b[38;5;28;01melse\u001b[39;00m:\n\u001b[32m--> \u001b[39m\u001b[32m474\u001b[39m     ret = \u001b[38;5;28;01mawait\u001b[39;00m \u001b[38;5;28mself\u001b[39m.afunc(*args, **kwargs)\n\u001b[32m    475\u001b[39m \u001b[38;5;28;01mif\u001b[39;00m \u001b[38;5;28mself\u001b[39m.recurse \u001b[38;5;129;01mand\u001b[39;00m \u001b[38;5;28misinstance\u001b[39m(ret, Runnable):\n\u001b[32m    476\u001b[39m     \u001b[38;5;28;01mreturn\u001b[39;00m \u001b[38;5;28;01mawait\u001b[39;00m ret.ainvoke(\u001b[38;5;28minput\u001b[39m, config)\n",
      "\u001b[36mCell\u001b[39m\u001b[36m \u001b[39m\u001b[32mIn[7]\u001b[39m\u001b[32m, line 46\u001b[39m, in \u001b[36mtool_node\u001b[39m\u001b[34m(state)\u001b[39m\n\u001b[32m     35\u001b[39m     tool_outputs = [\n\u001b[32m     36\u001b[39m         ToolMessage(\n\u001b[32m     37\u001b[39m             content=observation,\n\u001b[32m   (...)\u001b[39m\u001b[32m     41\u001b[39m         \u001b[38;5;28;01mfor\u001b[39;00m observation, tool_call \u001b[38;5;129;01min\u001b[39;00m \u001b[38;5;28mzip\u001b[39m(observations, tool_calls)\n\u001b[32m     42\u001b[39m     ]\n\u001b[32m     44\u001b[39m     \u001b[38;5;28;01mreturn\u001b[39;00m tool_outputs\n\u001b[32m---> \u001b[39m\u001b[32m46\u001b[39m messages = \u001b[38;5;28;01mawait\u001b[39;00m execute_tools()\n\u001b[32m     48\u001b[39m \u001b[38;5;28;01mreturn\u001b[39;00m {\u001b[33m\"\u001b[39m\u001b[33mresearcher_messages\u001b[39m\u001b[33m\"\u001b[39m: messages}\n",
      "\u001b[36mCell\u001b[39m\u001b[36m \u001b[39m\u001b[32mIn[7]\u001b[39m\u001b[32m, line 20\u001b[39m, in \u001b[36mtool_node.<locals>.execute_tools\u001b[39m\u001b[34m()\u001b[39m\n\u001b[32m     18\u001b[39m mcp_tools = \u001b[38;5;28;01mawait\u001b[39;00m client.get_tools()\n\u001b[32m     19\u001b[39m tools = mcp_tools + [extract_rtf_text]\n\u001b[32m---> \u001b[39m\u001b[32m20\u001b[39m tools_by_name = \u001b[43m{\u001b[49m\u001b[43mtool\u001b[49m\u001b[43m.\u001b[49m\u001b[43mname\u001b[49m\u001b[43m:\u001b[49m\u001b[43m \u001b[49m\u001b[43mtool\u001b[49m\u001b[43m \u001b[49m\u001b[38;5;28;43;01mfor\u001b[39;49;00m\u001b[43m \u001b[49m\u001b[43mtool\u001b[49m\u001b[43m \u001b[49m\u001b[38;5;129;43;01min\u001b[39;49;00m\u001b[43m \u001b[49m\u001b[43mtools\u001b[49m\u001b[43m}\u001b[49m\n\u001b[32m     22\u001b[39m \u001b[38;5;66;03m# Execute tool calls (sequentially for reliability)\u001b[39;00m\n\u001b[32m     23\u001b[39m observations = []\n",
      "\u001b[36mCell\u001b[39m\u001b[36m \u001b[39m\u001b[32mIn[7]\u001b[39m\u001b[32m, line 20\u001b[39m, in \u001b[36m<dictcomp>\u001b[39m\u001b[34m(.0)\u001b[39m\n\u001b[32m     18\u001b[39m mcp_tools = \u001b[38;5;28;01mawait\u001b[39;00m client.get_tools()\n\u001b[32m     19\u001b[39m tools = mcp_tools + [extract_rtf_text]\n\u001b[32m---> \u001b[39m\u001b[32m20\u001b[39m tools_by_name = {\u001b[43mtool\u001b[49m\u001b[43m.\u001b[49m\u001b[43mname\u001b[49m: tool \u001b[38;5;28;01mfor\u001b[39;00m tool \u001b[38;5;129;01min\u001b[39;00m tools}\n\u001b[32m     22\u001b[39m \u001b[38;5;66;03m# Execute tool calls (sequentially for reliability)\u001b[39;00m\n\u001b[32m     23\u001b[39m observations = []\n",
      "\u001b[31mAttributeError\u001b[39m: 'function' object has no attribute 'name'",
      "During task with name 'tool_node' and id '3aaa6ad9-21f3-7dac-f644-9c7e470a9924'"
     ]
    }
   ],
   "source": [
    "qq = \"хто суддя в doc_id 120879625?\"\n",
    "\n",
    "result = await agent_mcp.ainvoke({\"researcher_messages\": [HumanMessage(content=f\"{qq}.\")]})\n",
    "result['researcher_messages']"
   ]
  },
  {
   "cell_type": "code",
   "execution_count": 2,
   "id": "03e27f88",
   "metadata": {},
   "outputs": [],
   "source": [
    "# !pip install langchain-mcp-adapters"
   ]
  },
  {
   "cell_type": "code",
   "execution_count": null,
   "id": "1fd42318",
   "metadata": {},
   "outputs": [],
   "source": []
  },
  {
   "cell_type": "code",
   "execution_count": 2,
   "id": "d2469741",
   "metadata": {},
   "outputs": [],
   "source": [
    "from langchain_mcp_adapters.client import MultiServerMCPClient\n",
    "\n",
    "# 'stdio', 'sse', 'websocket', 'streamable_http'.\n",
    "\n",
    "mcp_config = {\n",
    "    \"postgres\": {\n",
    "        \"transport\": \"sse\",\n",
    "        \"url\": \"http://127.0.0.1:8000/sse\"   # зверни увагу на /sse\n",
    "    }\n",
    "}\n",
    "\n",
    "client = MultiServerMCPClient(mcp_config)\n",
    "tools = await client.get_tools()"
   ]
  },
  {
   "cell_type": "code",
   "execution_count": 3,
   "id": "442c8c96",
   "metadata": {},
   "outputs": [],
   "source": [
    "llm = model.bind_tools(tools)"
   ]
  },
  {
   "cell_type": "code",
   "execution_count": 8,
   "id": "bdd899e1",
   "metadata": {},
   "outputs": [
    {
     "data": {
      "text/plain": [
       "AIMessage(content='', additional_kwargs={'tool_calls': [{'id': 'call_Xf87VnMSNWzejOl9mYsXCA4y', 'function': {'arguments': '{}', 'name': 'list_schemas'}, 'type': 'function'}], 'refusal': None}, response_metadata={'token_usage': {'completion_tokens': 11, 'prompt_tokens': 711, 'total_tokens': 722, 'completion_tokens_details': {'accepted_prediction_tokens': 0, 'audio_tokens': 0, 'reasoning_tokens': 0, 'rejected_prediction_tokens': 0}, 'prompt_tokens_details': {'audio_tokens': 0, 'cached_tokens': 0}}, 'model_name': 'gpt-4o-2024-08-06', 'system_fingerprint': 'fp_cbf1785567', 'id': 'chatcmpl-CMFWe9BfOTVHmKL8DvjT6qdtX8yW4', 'service_tier': 'default', 'finish_reason': 'tool_calls', 'logprobs': None}, id='run--acc63b7c-3c63-485a-95ad-efcacb9fd1cc-0', tool_calls=[{'name': 'list_schemas', 'args': {}, 'id': 'call_Xf87VnMSNWzejOl9mYsXCA4y', 'type': 'tool_call'}], usage_metadata={'input_tokens': 711, 'output_tokens': 11, 'total_tokens': 722, 'input_token_details': {'audio': 0, 'cache_read': 0}, 'output_token_details': {'audio': 0, 'reasoning': 0}})"
      ]
     },
     "execution_count": 8,
     "metadata": {},
     "output_type": "execute_result"
    }
   ],
   "source": [
    "llm.invoke(\"\"\"\n",
    "які поля є в таблиці documents?       \n",
    "\"\"\")"
   ]
  },
  {
   "cell_type": "code",
   "execution_count": null,
   "id": "31206f7c",
   "metadata": {},
   "outputs": [
    {
     "ename": "UnsupportedOperation",
     "evalue": "fileno",
     "output_type": "error",
     "traceback": [
      "\u001b[31m---------------------------------------------------------------------------\u001b[39m",
      "\u001b[31mNotImplementedError\u001b[39m                       Traceback (most recent call last)",
      "\u001b[36mFile \u001b[39m\u001b[32me:\\vibe-judges\\myenv\\Lib\\site-packages\\mcp\\os\\win32\\utilities.py:169\u001b[39m, in \u001b[36mcreate_windows_process\u001b[39m\u001b[34m(command, args, env, errlog, cwd)\u001b[39m\n\u001b[32m    167\u001b[39m \u001b[38;5;28;01mtry\u001b[39;00m:\n\u001b[32m    168\u001b[39m     \u001b[38;5;66;03m# First try using anyio with Windows-specific flags to hide console window\u001b[39;00m\n\u001b[32m--> \u001b[39m\u001b[32m169\u001b[39m     process = \u001b[38;5;28;01mawait\u001b[39;00m anyio.open_process(\n\u001b[32m    170\u001b[39m         [command, *args],\n\u001b[32m    171\u001b[39m         env=env,\n\u001b[32m    172\u001b[39m         \u001b[38;5;66;03m# Ensure we don't create console windows for each process\u001b[39;00m\n\u001b[32m    173\u001b[39m         creationflags=subprocess.CREATE_NO_WINDOW  \u001b[38;5;66;03m# type: ignore\u001b[39;00m\n\u001b[32m    174\u001b[39m         \u001b[38;5;28;01mif\u001b[39;00m \u001b[38;5;28mhasattr\u001b[39m(subprocess, \u001b[33m\"\u001b[39m\u001b[33mCREATE_NO_WINDOW\u001b[39m\u001b[33m\"\u001b[39m)\n\u001b[32m    175\u001b[39m         \u001b[38;5;28;01melse\u001b[39;00m \u001b[32m0\u001b[39m,\n\u001b[32m    176\u001b[39m         stderr=errlog,\n\u001b[32m    177\u001b[39m         cwd=cwd,\n\u001b[32m    178\u001b[39m     )\n\u001b[32m    179\u001b[39m \u001b[38;5;28;01mexcept\u001b[39;00m \u001b[38;5;167;01mNotImplementedError\u001b[39;00m:\n\u001b[32m    180\u001b[39m     \u001b[38;5;66;03m# If Windows doesn't support async subprocess creation, use fallback\u001b[39;00m\n",
      "\u001b[36mFile \u001b[39m\u001b[32me:\\vibe-judges\\myenv\\Lib\\site-packages\\anyio\\_core\\_subprocesses.py:190\u001b[39m, in \u001b[36mopen_process\u001b[39m\u001b[34m(command, stdin, stdout, stderr, cwd, env, startupinfo, creationflags, start_new_session, pass_fds, user, group, extra_groups, umask)\u001b[39m\n\u001b[32m    188\u001b[39m     kwargs[\u001b[33m\"\u001b[39m\u001b[33mumask\u001b[39m\u001b[33m\"\u001b[39m] = umask\n\u001b[32m--> \u001b[39m\u001b[32m190\u001b[39m \u001b[38;5;28;01mreturn\u001b[39;00m \u001b[38;5;28;01mawait\u001b[39;00m get_async_backend().open_process(\n\u001b[32m    191\u001b[39m     command,\n\u001b[32m    192\u001b[39m     stdin=stdin,\n\u001b[32m    193\u001b[39m     stdout=stdout,\n\u001b[32m    194\u001b[39m     stderr=stderr,\n\u001b[32m    195\u001b[39m     cwd=cwd,\n\u001b[32m    196\u001b[39m     env=env,\n\u001b[32m    197\u001b[39m     startupinfo=startupinfo,\n\u001b[32m    198\u001b[39m     creationflags=creationflags,\n\u001b[32m    199\u001b[39m     start_new_session=start_new_session,\n\u001b[32m    200\u001b[39m     pass_fds=pass_fds,\n\u001b[32m    201\u001b[39m     **kwargs,\n\u001b[32m    202\u001b[39m )\n",
      "\u001b[36mFile \u001b[39m\u001b[32me:\\vibe-judges\\myenv\\Lib\\site-packages\\anyio\\_backends\\_asyncio.py:2567\u001b[39m, in \u001b[36mAsyncIOBackend.open_process\u001b[39m\u001b[34m(cls, command, stdin, stdout, stderr, **kwargs)\u001b[39m\n\u001b[32m   2566\u001b[39m \u001b[38;5;28;01melse\u001b[39;00m:\n\u001b[32m-> \u001b[39m\u001b[32m2567\u001b[39m     process = \u001b[38;5;28;01mawait\u001b[39;00m asyncio.create_subprocess_exec(\n\u001b[32m   2568\u001b[39m         *command,\n\u001b[32m   2569\u001b[39m         stdin=stdin,\n\u001b[32m   2570\u001b[39m         stdout=stdout,\n\u001b[32m   2571\u001b[39m         stderr=stderr,\n\u001b[32m   2572\u001b[39m         **kwargs,\n\u001b[32m   2573\u001b[39m     )\n\u001b[32m   2575\u001b[39m stdin_stream = StreamWriterWrapper(process.stdin) \u001b[38;5;28;01mif\u001b[39;00m process.stdin \u001b[38;5;28;01melse\u001b[39;00m \u001b[38;5;28;01mNone\u001b[39;00m\n",
      "\u001b[36mFile \u001b[39m\u001b[32mC:\\Program Files\\WindowsApps\\PythonSoftwareFoundation.Python.3.11_3.11.2544.0_x64__qbz5n2kfra8p0\\Lib\\asyncio\\subprocess.py:223\u001b[39m, in \u001b[36mcreate_subprocess_exec\u001b[39m\u001b[34m(program, stdin, stdout, stderr, limit, *args, **kwds)\u001b[39m\n\u001b[32m    221\u001b[39m protocol_factory = \u001b[38;5;28;01mlambda\u001b[39;00m: SubprocessStreamProtocol(limit=limit,\n\u001b[32m    222\u001b[39m                                                     loop=loop)\n\u001b[32m--> \u001b[39m\u001b[32m223\u001b[39m transport, protocol = \u001b[38;5;28;01mawait\u001b[39;00m loop.subprocess_exec(\n\u001b[32m    224\u001b[39m     protocol_factory,\n\u001b[32m    225\u001b[39m     program, *args,\n\u001b[32m    226\u001b[39m     stdin=stdin, stdout=stdout,\n\u001b[32m    227\u001b[39m     stderr=stderr, **kwds)\n\u001b[32m    228\u001b[39m \u001b[38;5;28;01mreturn\u001b[39;00m Process(transport, protocol, loop)\n",
      "\u001b[36mFile \u001b[39m\u001b[32mC:\\Program Files\\WindowsApps\\PythonSoftwareFoundation.Python.3.11_3.11.2544.0_x64__qbz5n2kfra8p0\\Lib\\asyncio\\base_events.py:1708\u001b[39m, in \u001b[36mBaseEventLoop.subprocess_exec\u001b[39m\u001b[34m(self, protocol_factory, program, stdin, stdout, stderr, universal_newlines, shell, bufsize, encoding, errors, text, *args, **kwargs)\u001b[39m\n\u001b[32m   1707\u001b[39m     \u001b[38;5;28mself\u001b[39m._log_subprocess(debug_log, stdin, stdout, stderr)\n\u001b[32m-> \u001b[39m\u001b[32m1708\u001b[39m transport = \u001b[38;5;28;01mawait\u001b[39;00m \u001b[38;5;28mself\u001b[39m._make_subprocess_transport(\n\u001b[32m   1709\u001b[39m     protocol, popen_args, \u001b[38;5;28;01mFalse\u001b[39;00m, stdin, stdout, stderr,\n\u001b[32m   1710\u001b[39m     bufsize, **kwargs)\n\u001b[32m   1711\u001b[39m \u001b[38;5;28;01mif\u001b[39;00m \u001b[38;5;28mself\u001b[39m._debug \u001b[38;5;129;01mand\u001b[39;00m debug_log \u001b[38;5;129;01mis\u001b[39;00m \u001b[38;5;129;01mnot\u001b[39;00m \u001b[38;5;28;01mNone\u001b[39;00m:\n",
      "\u001b[36mFile \u001b[39m\u001b[32mC:\\Program Files\\WindowsApps\\PythonSoftwareFoundation.Python.3.11_3.11.2544.0_x64__qbz5n2kfra8p0\\Lib\\asyncio\\base_events.py:503\u001b[39m, in \u001b[36mBaseEventLoop._make_subprocess_transport\u001b[39m\u001b[34m(self, protocol, args, shell, stdin, stdout, stderr, bufsize, extra, **kwargs)\u001b[39m\n\u001b[32m    502\u001b[39m \u001b[38;5;250m\u001b[39m\u001b[33;03m\"\"\"Create subprocess transport.\"\"\"\u001b[39;00m\n\u001b[32m--> \u001b[39m\u001b[32m503\u001b[39m \u001b[38;5;28;01mraise\u001b[39;00m \u001b[38;5;167;01mNotImplementedError\u001b[39;00m\n",
      "\u001b[31mNotImplementedError\u001b[39m: ",
      "\nDuring handling of the above exception, another exception occurred:\n",
      "\u001b[31mUnsupportedOperation\u001b[39m                      Traceback (most recent call last)",
      "\u001b[36mFile \u001b[39m\u001b[32me:\\vibe-judges\\myenv\\Lib\\site-packages\\mcp\\os\\win32\\utilities.py:209\u001b[39m, in \u001b[36m_create_windows_fallback_process\u001b[39m\u001b[34m(command, args, env, errlog, cwd)\u001b[39m\n\u001b[32m    207\u001b[39m \u001b[38;5;28;01mtry\u001b[39;00m:\n\u001b[32m    208\u001b[39m     \u001b[38;5;66;03m# Try launching with creationflags to avoid opening a new console window\u001b[39;00m\n\u001b[32m--> \u001b[39m\u001b[32m209\u001b[39m     popen_obj = \u001b[43msubprocess\u001b[49m\u001b[43m.\u001b[49m\u001b[43mPopen\u001b[49m\u001b[43m(\u001b[49m\n\u001b[32m    210\u001b[39m \u001b[43m        \u001b[49m\u001b[43m[\u001b[49m\u001b[43mcommand\u001b[49m\u001b[43m,\u001b[49m\u001b[43m \u001b[49m\u001b[43m*\u001b[49m\u001b[43margs\u001b[49m\u001b[43m]\u001b[49m\u001b[43m,\u001b[49m\n\u001b[32m    211\u001b[39m \u001b[43m        \u001b[49m\u001b[43mstdin\u001b[49m\u001b[43m=\u001b[49m\u001b[43msubprocess\u001b[49m\u001b[43m.\u001b[49m\u001b[43mPIPE\u001b[49m\u001b[43m,\u001b[49m\n\u001b[32m    212\u001b[39m \u001b[43m        \u001b[49m\u001b[43mstdout\u001b[49m\u001b[43m=\u001b[49m\u001b[43msubprocess\u001b[49m\u001b[43m.\u001b[49m\u001b[43mPIPE\u001b[49m\u001b[43m,\u001b[49m\n\u001b[32m    213\u001b[39m \u001b[43m        \u001b[49m\u001b[43mstderr\u001b[49m\u001b[43m=\u001b[49m\u001b[43merrlog\u001b[49m\u001b[43m,\u001b[49m\n\u001b[32m    214\u001b[39m \u001b[43m        \u001b[49m\u001b[43menv\u001b[49m\u001b[43m=\u001b[49m\u001b[43menv\u001b[49m\u001b[43m,\u001b[49m\n\u001b[32m    215\u001b[39m \u001b[43m        \u001b[49m\u001b[43mcwd\u001b[49m\u001b[43m=\u001b[49m\u001b[43mcwd\u001b[49m\u001b[43m,\u001b[49m\n\u001b[32m    216\u001b[39m \u001b[43m        \u001b[49m\u001b[43mbufsize\u001b[49m\u001b[43m=\u001b[49m\u001b[32;43m0\u001b[39;49m\u001b[43m,\u001b[49m\u001b[43m  \u001b[49m\u001b[38;5;66;43;03m# Unbuffered output\u001b[39;49;00m\n\u001b[32m    217\u001b[39m \u001b[43m        \u001b[49m\u001b[43mcreationflags\u001b[49m\u001b[43m=\u001b[49m\u001b[38;5;28;43mgetattr\u001b[39;49m\u001b[43m(\u001b[49m\u001b[43msubprocess\u001b[49m\u001b[43m,\u001b[49m\u001b[43m \u001b[49m\u001b[33;43m\"\u001b[39;49m\u001b[33;43mCREATE_NO_WINDOW\u001b[39;49m\u001b[33;43m\"\u001b[39;49m\u001b[43m,\u001b[49m\u001b[43m \u001b[49m\u001b[32;43m0\u001b[39;49m\u001b[43m)\u001b[49m\u001b[43m,\u001b[49m\n\u001b[32m    218\u001b[39m \u001b[43m    \u001b[49m\u001b[43m)\u001b[49m\n\u001b[32m    219\u001b[39m \u001b[38;5;28;01mexcept\u001b[39;00m \u001b[38;5;167;01mException\u001b[39;00m:\n\u001b[32m    220\u001b[39m     \u001b[38;5;66;03m# If creationflags failed, fallback without them\u001b[39;00m\n",
      "\u001b[36mFile \u001b[39m\u001b[32mC:\\Program Files\\WindowsApps\\PythonSoftwareFoundation.Python.3.11_3.11.2544.0_x64__qbz5n2kfra8p0\\Lib\\subprocess.py:992\u001b[39m, in \u001b[36mPopen.__init__\u001b[39m\u001b[34m(self, args, bufsize, executable, stdin, stdout, stderr, preexec_fn, close_fds, shell, cwd, env, universal_newlines, startupinfo, creationflags, restore_signals, start_new_session, pass_fds, user, group, extra_groups, encoding, errors, text, umask, pipesize, process_group)\u001b[39m\n\u001b[32m    975\u001b[39m \u001b[38;5;66;03m# Input and output objects. The general principle is like\u001b[39;00m\n\u001b[32m    976\u001b[39m \u001b[38;5;66;03m# this:\u001b[39;00m\n\u001b[32m    977\u001b[39m \u001b[38;5;66;03m#\u001b[39;00m\n\u001b[32m   (...)\u001b[39m\u001b[32m    987\u001b[39m \u001b[38;5;66;03m# are -1 when not using PIPEs. The child objects are -1\u001b[39;00m\n\u001b[32m    988\u001b[39m \u001b[38;5;66;03m# when not redirecting.\u001b[39;00m\n\u001b[32m    990\u001b[39m (p2cread, p2cwrite,\n\u001b[32m    991\u001b[39m  c2pread, c2pwrite,\n\u001b[32m--> \u001b[39m\u001b[32m992\u001b[39m  errread, errwrite) = \u001b[38;5;28;43mself\u001b[39;49m\u001b[43m.\u001b[49m\u001b[43m_get_handles\u001b[49m\u001b[43m(\u001b[49m\u001b[43mstdin\u001b[49m\u001b[43m,\u001b[49m\u001b[43m \u001b[49m\u001b[43mstdout\u001b[49m\u001b[43m,\u001b[49m\u001b[43m \u001b[49m\u001b[43mstderr\u001b[49m\u001b[43m)\u001b[49m\n\u001b[32m    994\u001b[39m \u001b[38;5;66;03m# From here on, raising exceptions may cause file descriptor leakage\u001b[39;00m\n\u001b[32m    995\u001b[39m \n\u001b[32m    996\u001b[39m \u001b[38;5;66;03m# We wrap OS handles *before* launching the child, otherwise a\u001b[39;00m\n\u001b[32m    997\u001b[39m \u001b[38;5;66;03m# quickly terminating child could make our fds unwrappable\u001b[39;00m\n\u001b[32m    998\u001b[39m \u001b[38;5;66;03m# (see #8458).\u001b[39;00m\n",
      "\u001b[36mFile \u001b[39m\u001b[32mC:\\Program Files\\WindowsApps\\PythonSoftwareFoundation.Python.3.11_3.11.2544.0_x64__qbz5n2kfra8p0\\Lib\\subprocess.py:1406\u001b[39m, in \u001b[36mPopen._get_handles\u001b[39m\u001b[34m(self, stdin, stdout, stderr)\u001b[39m\n\u001b[32m   1404\u001b[39m \u001b[38;5;28;01melse\u001b[39;00m:\n\u001b[32m   1405\u001b[39m     \u001b[38;5;66;03m# Assuming file-like object\u001b[39;00m\n\u001b[32m-> \u001b[39m\u001b[32m1406\u001b[39m     errwrite = msvcrt.get_osfhandle(\u001b[43mstderr\u001b[49m\u001b[43m.\u001b[49m\u001b[43mfileno\u001b[49m\u001b[43m(\u001b[49m\u001b[43m)\u001b[49m)\n\u001b[32m   1407\u001b[39m errwrite = \u001b[38;5;28mself\u001b[39m._make_inheritable(errwrite)\n",
      "\u001b[36mFile \u001b[39m\u001b[32me:\\vibe-judges\\myenv\\Lib\\site-packages\\ipykernel\\iostream.py:371\u001b[39m, in \u001b[36mOutStream.fileno\u001b[39m\u001b[34m(self)\u001b[39m\n\u001b[32m    370\u001b[39m msg = \u001b[33m\"\u001b[39m\u001b[33mfileno\u001b[39m\u001b[33m\"\u001b[39m\n\u001b[32m--> \u001b[39m\u001b[32m371\u001b[39m \u001b[38;5;28;01mraise\u001b[39;00m io.UnsupportedOperation(msg)\n",
      "\u001b[31mUnsupportedOperation\u001b[39m: fileno",
      "\nDuring handling of the above exception, another exception occurred:\n",
      "\u001b[31mUnsupportedOperation\u001b[39m                      Traceback (most recent call last)",
      "\u001b[36mCell\u001b[39m\u001b[36m \u001b[39m\u001b[32mIn[3]\u001b[39m\u001b[32m, line 15\u001b[39m\n\u001b[32m      1\u001b[39m \u001b[38;5;28;01mfrom\u001b[39;00m\u001b[38;5;250m \u001b[39m\u001b[34;01mlangchain_mcp_adapters\u001b[39;00m\u001b[34;01m.\u001b[39;00m\u001b[34;01mclient\u001b[39;00m\u001b[38;5;250m \u001b[39m\u001b[38;5;28;01mimport\u001b[39;00m MultiServerMCPClient\n\u001b[32m      4\u001b[39m client = MultiServerMCPClient(\n\u001b[32m      5\u001b[39m     {\n\u001b[32m      6\u001b[39m         \u001b[33m\"\u001b[39m\u001b[33mmath\u001b[39m\u001b[33m\"\u001b[39m: {\n\u001b[32m   (...)\u001b[39m\u001b[32m     12\u001b[39m     }\n\u001b[32m     13\u001b[39m )\n\u001b[32m---> \u001b[39m\u001b[32m15\u001b[39m tools = \u001b[38;5;28;01mawait\u001b[39;00m client.get_tools()\n",
      "\u001b[36mFile \u001b[39m\u001b[32me:\\vibe-judges\\myenv\\Lib\\site-packages\\langchain_mcp_adapters\\client.py:157\u001b[39m, in \u001b[36mMultiServerMCPClient.get_tools\u001b[39m\u001b[34m(self, server_name)\u001b[39m\n\u001b[32m    153\u001b[39m     load_mcp_tool_task = asyncio.create_task(\n\u001b[32m    154\u001b[39m         load_mcp_tools(\u001b[38;5;28;01mNone\u001b[39;00m, connection=connection)\n\u001b[32m    155\u001b[39m     )\n\u001b[32m    156\u001b[39m     load_mcp_tool_tasks.append(load_mcp_tool_task)\n\u001b[32m--> \u001b[39m\u001b[32m157\u001b[39m tools_list = \u001b[38;5;28;01mawait\u001b[39;00m asyncio.gather(*load_mcp_tool_tasks)\n\u001b[32m    158\u001b[39m \u001b[38;5;28;01mfor\u001b[39;00m tools \u001b[38;5;129;01min\u001b[39;00m tools_list:\n\u001b[32m    159\u001b[39m     all_tools.extend(tools)\n",
      "\u001b[36mFile \u001b[39m\u001b[32me:\\vibe-judges\\myenv\\Lib\\site-packages\\langchain_mcp_adapters\\tools.py:188\u001b[39m, in \u001b[36mload_mcp_tools\u001b[39m\u001b[34m(session, connection)\u001b[39m\n\u001b[32m    184\u001b[39m     \u001b[38;5;28;01mraise\u001b[39;00m \u001b[38;5;167;01mValueError\u001b[39;00m(msg)\n\u001b[32m    186\u001b[39m \u001b[38;5;28;01mif\u001b[39;00m session \u001b[38;5;129;01mis\u001b[39;00m \u001b[38;5;28;01mNone\u001b[39;00m:\n\u001b[32m    187\u001b[39m     \u001b[38;5;66;03m# If a session is not provided, we will create one on the fly\u001b[39;00m\n\u001b[32m--> \u001b[39m\u001b[32m188\u001b[39m     \u001b[38;5;28;01masync\u001b[39;00m \u001b[38;5;28;01mwith\u001b[39;00m create_session(connection) \u001b[38;5;28;01mas\u001b[39;00m tool_session:\n\u001b[32m    189\u001b[39m         \u001b[38;5;28;01mawait\u001b[39;00m tool_session.initialize()\n\u001b[32m    190\u001b[39m         tools = \u001b[38;5;28;01mawait\u001b[39;00m _list_all_tools(tool_session)\n",
      "\u001b[36mFile \u001b[39m\u001b[32mC:\\Program Files\\WindowsApps\\PythonSoftwareFoundation.Python.3.11_3.11.2544.0_x64__qbz5n2kfra8p0\\Lib\\contextlib.py:210\u001b[39m, in \u001b[36m_AsyncGeneratorContextManager.__aenter__\u001b[39m\u001b[34m(self)\u001b[39m\n\u001b[32m    208\u001b[39m \u001b[38;5;28;01mdel\u001b[39;00m \u001b[38;5;28mself\u001b[39m.args, \u001b[38;5;28mself\u001b[39m.kwds, \u001b[38;5;28mself\u001b[39m.func\n\u001b[32m    209\u001b[39m \u001b[38;5;28;01mtry\u001b[39;00m:\n\u001b[32m--> \u001b[39m\u001b[32m210\u001b[39m     \u001b[38;5;28;01mreturn\u001b[39;00m \u001b[38;5;28;01mawait\u001b[39;00m anext(\u001b[38;5;28mself\u001b[39m.gen)\n\u001b[32m    211\u001b[39m \u001b[38;5;28;01mexcept\u001b[39;00m \u001b[38;5;167;01mStopAsyncIteration\u001b[39;00m:\n\u001b[32m    212\u001b[39m     \u001b[38;5;28;01mraise\u001b[39;00m \u001b[38;5;167;01mRuntimeError\u001b[39;00m(\u001b[33m\"\u001b[39m\u001b[33mgenerator didn\u001b[39m\u001b[33m'\u001b[39m\u001b[33mt yield\u001b[39m\u001b[33m\"\u001b[39m) \u001b[38;5;28;01mfrom\u001b[39;00m\u001b[38;5;250m \u001b[39m\u001b[38;5;28;01mNone\u001b[39;00m\n",
      "\u001b[36mFile \u001b[39m\u001b[32me:\\vibe-judges\\myenv\\Lib\\site-packages\\langchain_mcp_adapters\\sessions.py:403\u001b[39m, in \u001b[36mcreate_session\u001b[39m\u001b[34m(connection)\u001b[39m\n\u001b[32m    401\u001b[39m         msg = \u001b[33m\"\u001b[39m\u001b[33m'\u001b[39m\u001b[33margs\u001b[39m\u001b[33m'\u001b[39m\u001b[33m parameter is required for stdio connection\u001b[39m\u001b[33m\"\u001b[39m\n\u001b[32m    402\u001b[39m         \u001b[38;5;28;01mraise\u001b[39;00m \u001b[38;5;167;01mValueError\u001b[39;00m(msg)\n\u001b[32m--> \u001b[39m\u001b[32m403\u001b[39m     \u001b[38;5;28;01masync\u001b[39;00m \u001b[38;5;28;01mwith\u001b[39;00m _create_stdio_session(**params) \u001b[38;5;28;01mas\u001b[39;00m session:\n\u001b[32m    404\u001b[39m         \u001b[38;5;28;01myield\u001b[39;00m session\n\u001b[32m    405\u001b[39m \u001b[38;5;28;01melif\u001b[39;00m transport == \u001b[33m\"\u001b[39m\u001b[33mwebsocket\u001b[39m\u001b[33m\"\u001b[39m:\n",
      "\u001b[36mFile \u001b[39m\u001b[32mC:\\Program Files\\WindowsApps\\PythonSoftwareFoundation.Python.3.11_3.11.2544.0_x64__qbz5n2kfra8p0\\Lib\\contextlib.py:210\u001b[39m, in \u001b[36m_AsyncGeneratorContextManager.__aenter__\u001b[39m\u001b[34m(self)\u001b[39m\n\u001b[32m    208\u001b[39m \u001b[38;5;28;01mdel\u001b[39;00m \u001b[38;5;28mself\u001b[39m.args, \u001b[38;5;28mself\u001b[39m.kwds, \u001b[38;5;28mself\u001b[39m.func\n\u001b[32m    209\u001b[39m \u001b[38;5;28;01mtry\u001b[39;00m:\n\u001b[32m--> \u001b[39m\u001b[32m210\u001b[39m     \u001b[38;5;28;01mreturn\u001b[39;00m \u001b[38;5;28;01mawait\u001b[39;00m anext(\u001b[38;5;28mself\u001b[39m.gen)\n\u001b[32m    211\u001b[39m \u001b[38;5;28;01mexcept\u001b[39;00m \u001b[38;5;167;01mStopAsyncIteration\u001b[39;00m:\n\u001b[32m    212\u001b[39m     \u001b[38;5;28;01mraise\u001b[39;00m \u001b[38;5;167;01mRuntimeError\u001b[39;00m(\u001b[33m\"\u001b[39m\u001b[33mgenerator didn\u001b[39m\u001b[33m'\u001b[39m\u001b[33mt yield\u001b[39m\u001b[33m\"\u001b[39m) \u001b[38;5;28;01mfrom\u001b[39;00m\u001b[38;5;250m \u001b[39m\u001b[38;5;28;01mNone\u001b[39;00m\n",
      "\u001b[36mFile \u001b[39m\u001b[32me:\\vibe-judges\\myenv\\Lib\\site-packages\\langchain_mcp_adapters\\sessions.py:228\u001b[39m, in \u001b[36m_create_stdio_session\u001b[39m\u001b[34m(command, args, env, cwd, encoding, encoding_error_handler, session_kwargs)\u001b[39m\n\u001b[32m    218\u001b[39m server_params = StdioServerParameters(\n\u001b[32m    219\u001b[39m     command=command,\n\u001b[32m    220\u001b[39m     args=args,\n\u001b[32m   (...)\u001b[39m\u001b[32m    224\u001b[39m     encoding_error_handler=encoding_error_handler,\n\u001b[32m    225\u001b[39m )\n\u001b[32m    227\u001b[39m \u001b[38;5;66;03m# Create and store the connection\u001b[39;00m\n\u001b[32m--> \u001b[39m\u001b[32m228\u001b[39m \u001b[38;5;28;01masync\u001b[39;00m \u001b[38;5;28;01mwith\u001b[39;00m (\n\u001b[32m    229\u001b[39m     stdio_client(server_params) \u001b[38;5;28;01mas\u001b[39;00m (read, write),\n\u001b[32m    230\u001b[39m     ClientSession(read, write, **(session_kwargs \u001b[38;5;129;01mor\u001b[39;00m {})) \u001b[38;5;28;01mas\u001b[39;00m session,\n\u001b[32m    231\u001b[39m ):\n\u001b[32m    232\u001b[39m     \u001b[38;5;28;01myield\u001b[39;00m session\n",
      "\u001b[36mFile \u001b[39m\u001b[32mC:\\Program Files\\WindowsApps\\PythonSoftwareFoundation.Python.3.11_3.11.2544.0_x64__qbz5n2kfra8p0\\Lib\\contextlib.py:210\u001b[39m, in \u001b[36m_AsyncGeneratorContextManager.__aenter__\u001b[39m\u001b[34m(self)\u001b[39m\n\u001b[32m    208\u001b[39m \u001b[38;5;28;01mdel\u001b[39;00m \u001b[38;5;28mself\u001b[39m.args, \u001b[38;5;28mself\u001b[39m.kwds, \u001b[38;5;28mself\u001b[39m.func\n\u001b[32m    209\u001b[39m \u001b[38;5;28;01mtry\u001b[39;00m:\n\u001b[32m--> \u001b[39m\u001b[32m210\u001b[39m     \u001b[38;5;28;01mreturn\u001b[39;00m \u001b[38;5;28;01mawait\u001b[39;00m anext(\u001b[38;5;28mself\u001b[39m.gen)\n\u001b[32m    211\u001b[39m \u001b[38;5;28;01mexcept\u001b[39;00m \u001b[38;5;167;01mStopAsyncIteration\u001b[39;00m:\n\u001b[32m    212\u001b[39m     \u001b[38;5;28;01mraise\u001b[39;00m \u001b[38;5;167;01mRuntimeError\u001b[39;00m(\u001b[33m\"\u001b[39m\u001b[33mgenerator didn\u001b[39m\u001b[33m'\u001b[39m\u001b[33mt yield\u001b[39m\u001b[33m\"\u001b[39m) \u001b[38;5;28;01mfrom\u001b[39;00m\u001b[38;5;250m \u001b[39m\u001b[38;5;28;01mNone\u001b[39;00m\n",
      "\u001b[36mFile \u001b[39m\u001b[32me:\\vibe-judges\\myenv\\Lib\\site-packages\\mcp\\client\\stdio\\__init__.py:124\u001b[39m, in \u001b[36mstdio_client\u001b[39m\u001b[34m(server, errlog)\u001b[39m\n\u001b[32m    121\u001b[39m     command = _get_executable_command(server.command)\n\u001b[32m    123\u001b[39m     \u001b[38;5;66;03m# Open process with stderr piped for capture\u001b[39;00m\n\u001b[32m--> \u001b[39m\u001b[32m124\u001b[39m     process = \u001b[38;5;28;01mawait\u001b[39;00m _create_platform_compatible_process(\n\u001b[32m    125\u001b[39m         command=command,\n\u001b[32m    126\u001b[39m         args=server.args,\n\u001b[32m    127\u001b[39m         env=({**get_default_environment(), **server.env} \u001b[38;5;28;01mif\u001b[39;00m server.env \u001b[38;5;129;01mis\u001b[39;00m \u001b[38;5;129;01mnot\u001b[39;00m \u001b[38;5;28;01mNone\u001b[39;00m \u001b[38;5;28;01melse\u001b[39;00m get_default_environment()),\n\u001b[32m    128\u001b[39m         errlog=errlog,\n\u001b[32m    129\u001b[39m         cwd=server.cwd,\n\u001b[32m    130\u001b[39m     )\n\u001b[32m    131\u001b[39m \u001b[38;5;28;01mexcept\u001b[39;00m \u001b[38;5;167;01mOSError\u001b[39;00m:\n\u001b[32m    132\u001b[39m     \u001b[38;5;66;03m# Clean up streams if process creation fails\u001b[39;00m\n\u001b[32m    133\u001b[39m     \u001b[38;5;28;01mawait\u001b[39;00m read_stream.aclose()\n",
      "\u001b[36mFile \u001b[39m\u001b[32me:\\vibe-judges\\myenv\\Lib\\site-packages\\mcp\\client\\stdio\\__init__.py:248\u001b[39m, in \u001b[36m_create_platform_compatible_process\u001b[39m\u001b[34m(command, args, env, errlog, cwd)\u001b[39m\n\u001b[32m    241\u001b[39m \u001b[38;5;250m\u001b[39m\u001b[33;03m\"\"\"\u001b[39;00m\n\u001b[32m    242\u001b[39m \u001b[33;03mCreates a subprocess in a platform-compatible way.\u001b[39;00m\n\u001b[32m    243\u001b[39m \n\u001b[32m    244\u001b[39m \u001b[33;03mUnix: Creates process in a new session/process group for killpg support\u001b[39;00m\n\u001b[32m    245\u001b[39m \u001b[33;03mWindows: Creates process in a Job Object for reliable child termination\u001b[39;00m\n\u001b[32m    246\u001b[39m \u001b[33;03m\"\"\"\u001b[39;00m\n\u001b[32m    247\u001b[39m \u001b[38;5;28;01mif\u001b[39;00m sys.platform == \u001b[33m\"\u001b[39m\u001b[33mwin32\u001b[39m\u001b[33m\"\u001b[39m:\n\u001b[32m--> \u001b[39m\u001b[32m248\u001b[39m     process = \u001b[38;5;28;01mawait\u001b[39;00m create_windows_process(command, args, env, errlog, cwd)\n\u001b[32m    249\u001b[39m \u001b[38;5;28;01melse\u001b[39;00m:\n\u001b[32m    250\u001b[39m     process = \u001b[38;5;28;01mawait\u001b[39;00m anyio.open_process(\n\u001b[32m    251\u001b[39m         [command, *args],\n\u001b[32m    252\u001b[39m         env=env,\n\u001b[32m   (...)\u001b[39m\u001b[32m    255\u001b[39m         start_new_session=\u001b[38;5;28;01mTrue\u001b[39;00m,\n\u001b[32m    256\u001b[39m     )\n",
      "\u001b[36mFile \u001b[39m\u001b[32me:\\vibe-judges\\myenv\\Lib\\site-packages\\mcp\\os\\win32\\utilities.py:181\u001b[39m, in \u001b[36mcreate_windows_process\u001b[39m\u001b[34m(command, args, env, errlog, cwd)\u001b[39m\n\u001b[32m    169\u001b[39m     process = \u001b[38;5;28;01mawait\u001b[39;00m anyio.open_process(\n\u001b[32m    170\u001b[39m         [command, *args],\n\u001b[32m    171\u001b[39m         env=env,\n\u001b[32m   (...)\u001b[39m\u001b[32m    177\u001b[39m         cwd=cwd,\n\u001b[32m    178\u001b[39m     )\n\u001b[32m    179\u001b[39m \u001b[38;5;28;01mexcept\u001b[39;00m \u001b[38;5;167;01mNotImplementedError\u001b[39;00m:\n\u001b[32m    180\u001b[39m     \u001b[38;5;66;03m# If Windows doesn't support async subprocess creation, use fallback\u001b[39;00m\n\u001b[32m--> \u001b[39m\u001b[32m181\u001b[39m     process = \u001b[38;5;28;01mawait\u001b[39;00m _create_windows_fallback_process(command, args, env, errlog, cwd)\n\u001b[32m    182\u001b[39m \u001b[38;5;28;01mexcept\u001b[39;00m \u001b[38;5;167;01mException\u001b[39;00m:\n\u001b[32m    183\u001b[39m     \u001b[38;5;66;03m# Try again without creation flags\u001b[39;00m\n\u001b[32m    184\u001b[39m     process = \u001b[38;5;28;01mawait\u001b[39;00m anyio.open_process(\n\u001b[32m    185\u001b[39m         [command, *args],\n\u001b[32m    186\u001b[39m         env=env,\n\u001b[32m    187\u001b[39m         stderr=errlog,\n\u001b[32m    188\u001b[39m         cwd=cwd,\n\u001b[32m    189\u001b[39m     )\n",
      "\u001b[36mFile \u001b[39m\u001b[32me:\\vibe-judges\\myenv\\Lib\\site-packages\\mcp\\os\\win32\\utilities.py:221\u001b[39m, in \u001b[36m_create_windows_fallback_process\u001b[39m\u001b[34m(command, args, env, errlog, cwd)\u001b[39m\n\u001b[32m    209\u001b[39m     popen_obj = subprocess.Popen(\n\u001b[32m    210\u001b[39m         [command, *args],\n\u001b[32m    211\u001b[39m         stdin=subprocess.PIPE,\n\u001b[32m   (...)\u001b[39m\u001b[32m    217\u001b[39m         creationflags=\u001b[38;5;28mgetattr\u001b[39m(subprocess, \u001b[33m\"\u001b[39m\u001b[33mCREATE_NO_WINDOW\u001b[39m\u001b[33m\"\u001b[39m, \u001b[32m0\u001b[39m),\n\u001b[32m    218\u001b[39m     )\n\u001b[32m    219\u001b[39m \u001b[38;5;28;01mexcept\u001b[39;00m \u001b[38;5;167;01mException\u001b[39;00m:\n\u001b[32m    220\u001b[39m     \u001b[38;5;66;03m# If creationflags failed, fallback without them\u001b[39;00m\n\u001b[32m--> \u001b[39m\u001b[32m221\u001b[39m     popen_obj = \u001b[43msubprocess\u001b[49m\u001b[43m.\u001b[49m\u001b[43mPopen\u001b[49m\u001b[43m(\u001b[49m\n\u001b[32m    222\u001b[39m \u001b[43m        \u001b[49m\u001b[43m[\u001b[49m\u001b[43mcommand\u001b[49m\u001b[43m,\u001b[49m\u001b[43m \u001b[49m\u001b[43m*\u001b[49m\u001b[43margs\u001b[49m\u001b[43m]\u001b[49m\u001b[43m,\u001b[49m\n\u001b[32m    223\u001b[39m \u001b[43m        \u001b[49m\u001b[43mstdin\u001b[49m\u001b[43m=\u001b[49m\u001b[43msubprocess\u001b[49m\u001b[43m.\u001b[49m\u001b[43mPIPE\u001b[49m\u001b[43m,\u001b[49m\n\u001b[32m    224\u001b[39m \u001b[43m        \u001b[49m\u001b[43mstdout\u001b[49m\u001b[43m=\u001b[49m\u001b[43msubprocess\u001b[49m\u001b[43m.\u001b[49m\u001b[43mPIPE\u001b[49m\u001b[43m,\u001b[49m\n\u001b[32m    225\u001b[39m \u001b[43m        \u001b[49m\u001b[43mstderr\u001b[49m\u001b[43m=\u001b[49m\u001b[43merrlog\u001b[49m\u001b[43m,\u001b[49m\n\u001b[32m    226\u001b[39m \u001b[43m        \u001b[49m\u001b[43menv\u001b[49m\u001b[43m=\u001b[49m\u001b[43menv\u001b[49m\u001b[43m,\u001b[49m\n\u001b[32m    227\u001b[39m \u001b[43m        \u001b[49m\u001b[43mcwd\u001b[49m\u001b[43m=\u001b[49m\u001b[43mcwd\u001b[49m\u001b[43m,\u001b[49m\n\u001b[32m    228\u001b[39m \u001b[43m        \u001b[49m\u001b[43mbufsize\u001b[49m\u001b[43m=\u001b[49m\u001b[32;43m0\u001b[39;49m\u001b[43m,\u001b[49m\n\u001b[32m    229\u001b[39m \u001b[43m    \u001b[49m\u001b[43m)\u001b[49m\n\u001b[32m    230\u001b[39m \u001b[38;5;28;01mreturn\u001b[39;00m FallbackProcess(popen_obj)\n",
      "\u001b[36mFile \u001b[39m\u001b[32mC:\\Program Files\\WindowsApps\\PythonSoftwareFoundation.Python.3.11_3.11.2544.0_x64__qbz5n2kfra8p0\\Lib\\subprocess.py:992\u001b[39m, in \u001b[36mPopen.__init__\u001b[39m\u001b[34m(self, args, bufsize, executable, stdin, stdout, stderr, preexec_fn, close_fds, shell, cwd, env, universal_newlines, startupinfo, creationflags, restore_signals, start_new_session, pass_fds, user, group, extra_groups, encoding, errors, text, umask, pipesize, process_group)\u001b[39m\n\u001b[32m    973\u001b[39m         \u001b[38;5;28;01mraise\u001b[39;00m \u001b[38;5;167;01mValueError\u001b[39;00m(\u001b[33mf\u001b[39m\u001b[33m\"\u001b[39m\u001b[33mUser ID cannot be negative, got \u001b[39m\u001b[38;5;132;01m{\u001b[39;00muid\u001b[38;5;132;01m}\u001b[39;00m\u001b[33m\"\u001b[39m)\n\u001b[32m    975\u001b[39m \u001b[38;5;66;03m# Input and output objects. The general principle is like\u001b[39;00m\n\u001b[32m    976\u001b[39m \u001b[38;5;66;03m# this:\u001b[39;00m\n\u001b[32m    977\u001b[39m \u001b[38;5;66;03m#\u001b[39;00m\n\u001b[32m   (...)\u001b[39m\u001b[32m    987\u001b[39m \u001b[38;5;66;03m# are -1 when not using PIPEs. The child objects are -1\u001b[39;00m\n\u001b[32m    988\u001b[39m \u001b[38;5;66;03m# when not redirecting.\u001b[39;00m\n\u001b[32m    990\u001b[39m (p2cread, p2cwrite,\n\u001b[32m    991\u001b[39m  c2pread, c2pwrite,\n\u001b[32m--> \u001b[39m\u001b[32m992\u001b[39m  errread, errwrite) = \u001b[38;5;28;43mself\u001b[39;49m\u001b[43m.\u001b[49m\u001b[43m_get_handles\u001b[49m\u001b[43m(\u001b[49m\u001b[43mstdin\u001b[49m\u001b[43m,\u001b[49m\u001b[43m \u001b[49m\u001b[43mstdout\u001b[49m\u001b[43m,\u001b[49m\u001b[43m \u001b[49m\u001b[43mstderr\u001b[49m\u001b[43m)\u001b[49m\n\u001b[32m    994\u001b[39m \u001b[38;5;66;03m# From here on, raising exceptions may cause file descriptor leakage\u001b[39;00m\n\u001b[32m    995\u001b[39m \n\u001b[32m    996\u001b[39m \u001b[38;5;66;03m# We wrap OS handles *before* launching the child, otherwise a\u001b[39;00m\n\u001b[32m    997\u001b[39m \u001b[38;5;66;03m# quickly terminating child could make our fds unwrappable\u001b[39;00m\n\u001b[32m    998\u001b[39m \u001b[38;5;66;03m# (see #8458).\u001b[39;00m\n\u001b[32m   1000\u001b[39m \u001b[38;5;28;01mif\u001b[39;00m _mswindows:\n",
      "\u001b[36mFile \u001b[39m\u001b[32mC:\\Program Files\\WindowsApps\\PythonSoftwareFoundation.Python.3.11_3.11.2544.0_x64__qbz5n2kfra8p0\\Lib\\subprocess.py:1406\u001b[39m, in \u001b[36mPopen._get_handles\u001b[39m\u001b[34m(self, stdin, stdout, stderr)\u001b[39m\n\u001b[32m   1403\u001b[39m         errwrite = msvcrt.get_osfhandle(stderr)\n\u001b[32m   1404\u001b[39m     \u001b[38;5;28;01melse\u001b[39;00m:\n\u001b[32m   1405\u001b[39m         \u001b[38;5;66;03m# Assuming file-like object\u001b[39;00m\n\u001b[32m-> \u001b[39m\u001b[32m1406\u001b[39m         errwrite = msvcrt.get_osfhandle(\u001b[43mstderr\u001b[49m\u001b[43m.\u001b[49m\u001b[43mfileno\u001b[49m\u001b[43m(\u001b[49m\u001b[43m)\u001b[49m)\n\u001b[32m   1407\u001b[39m     errwrite = \u001b[38;5;28mself\u001b[39m._make_inheritable(errwrite)\n\u001b[32m   1409\u001b[39m \u001b[38;5;28;01mreturn\u001b[39;00m (p2cread, p2cwrite,\n\u001b[32m   1410\u001b[39m         c2pread, c2pwrite,\n\u001b[32m   1411\u001b[39m         errread, errwrite)\n",
      "\u001b[36mFile \u001b[39m\u001b[32me:\\vibe-judges\\myenv\\Lib\\site-packages\\ipykernel\\iostream.py:371\u001b[39m, in \u001b[36mOutStream.fileno\u001b[39m\u001b[34m(self)\u001b[39m\n\u001b[32m    369\u001b[39m     \u001b[38;5;28;01mreturn\u001b[39;00m \u001b[38;5;28mself\u001b[39m._original_stdstream_copy\n\u001b[32m    370\u001b[39m msg = \u001b[33m\"\u001b[39m\u001b[33mfileno\u001b[39m\u001b[33m\"\u001b[39m\n\u001b[32m--> \u001b[39m\u001b[32m371\u001b[39m \u001b[38;5;28;01mraise\u001b[39;00m io.UnsupportedOperation(msg)\n",
      "\u001b[31mUnsupportedOperation\u001b[39m: fileno"
     ]
    }
   ],
   "source": [
    "from langchain_mcp_adapters.client import MultiServerMCPClient\n",
    "\n",
    "\n",
    "client = MultiServerMCPClient(\n",
    "    {\n",
    "        \"math\": {\n",
    "            \"command\": \"python\",\n",
    "            # Replace with absolute path to your math_server.py file\n",
    "            \"args\": [\"E:\\vibe-judges\\notebooks\\math.py\"],\n",
    "            \"transport\": \"stdio\",\n",
    "        }\n",
    "    }\n",
    ")\n",
    "\n",
    "tools = await client.get_tools()\n",
    "print(\"finish\")"
   ]
  },
  {
   "cell_type": "code",
   "execution_count": null,
   "id": "57d44bfe",
   "metadata": {},
   "outputs": [],
   "source": [
    "# Load environment variables and set up auto-reload\n",
    "from dotenv import load_dotenv\n",
    "load_dotenv()\n",
    "\n",
    "%load_ext autoreload\n",
    "%autoreload 2"
   ]
  },
  {
   "cell_type": "code",
   "execution_count": 21,
   "id": "641781f4",
   "metadata": {},
   "outputs": [
    {
     "name": "stdout",
     "output_type": "stream",
     "text": [
      "List all schemas in the database\n",
      "List objects in a schema\n",
      "Show detailed information about a database object\n",
      "Explains the execution plan for a SQL query, showing how the database will execute it and provides detailed cost estimates.\n",
      "Analyze frequently executed queries in the database and recommend optimal indexes\n",
      "Analyze a list of (up to 10) SQL queries and recommend optimal indexes\n",
      "Analyzes database health. Here are the available health checks:\n",
      "- index - checks for invalid, duplicate, and bloated indexes\n",
      "- connection - checks the number of connection and their utilization\n",
      "- vacuum - checks vacuum health for transaction id wraparound\n",
      "- sequence - checks sequences at risk of exceeding their maximum value\n",
      "- replication - checks replication health including lag and slots\n",
      "- buffer - checks for buffer cache hit rates for indexes and tables\n",
      "- constraint - checks for invalid constraints\n",
      "- all - runs all checks\n",
      "You can optionally specify a single health check or a comma-separated list of health checks. The default is 'all' checks.\n",
      "Reports the slowest or most resource-intensive queries using data from the 'pg_stat_statements' extension.\n",
      "Execute any SQL query\n"
     ]
    }
   ],
   "source": [
    "for tool in tools:\n",
    "    print(tool.description)\n",
    "    # print(tool.description[:77] + \"...\" if len(tool.description) > 80 else tool.description)"
   ]
  },
  {
   "cell_type": "code",
   "execution_count": 5,
   "id": "883b9409",
   "metadata": {},
   "outputs": [],
   "source": [
    "from langchain.agents import AgentExecutor, create_react_agent"
   ]
  },
  {
   "cell_type": "code",
   "execution_count": 3,
   "id": "5d22b92c",
   "metadata": {},
   "outputs": [],
   "source": [
    "from langchain_core.prompts import PromptTemplate\n",
    "\n",
    "template = '''Answer the following questions as best you can. You have access to the following tools:\n",
    "\n",
    "{tools}\n",
    "\n",
    "Use the following format:\n",
    "\n",
    "Question: the input question you must answer\n",
    "Thought: you should always think about what to do\n",
    "Action: the action to take, should be one of [{tool_names}]\n",
    "Action Input: the input to the action\n",
    "Observation: the result of the action\n",
    "... (this Thought/Action/Action Input/Observation can repeat N times)\n",
    "Thought: I now know the final answer\n",
    "Final Answer: the final answer to the original input question\n",
    "\n",
    "Begin!\n",
    "\n",
    "Question: {input}\n",
    "Thought:{agent_scratchpad}'''\n",
    "\n",
    "prompt = PromptTemplate.from_template(template)"
   ]
  },
  {
   "cell_type": "code",
   "execution_count": 6,
   "id": "96fe6b25",
   "metadata": {},
   "outputs": [],
   "source": [
    "llm = model.bind_tools(tools)\n",
    "\n",
    "agent = create_react_agent(llm, tools, prompt)\n",
    "\n",
    "\n",
    "agent_executor = AgentExecutor(agent=agent, tools=tools, handle_parsing_errors=True)"
   ]
  },
  {
   "cell_type": "code",
   "execution_count": 9,
   "id": "ceda3fa6",
   "metadata": {},
   "outputs": [
    {
     "data": {
      "text/plain": [
       "{'input': 'виведи всі таблиці які існуюють в базі?',\n",
       " 'output': 'Agent stopped due to iteration limit or time limit.'}"
      ]
     },
     "execution_count": 9,
     "metadata": {},
     "output_type": "execute_result"
    }
   ],
   "source": [
    "await agent_executor.ainvoke({\"input\": \"виведи всі таблиці які існуюють в базі?\"})"
   ]
  },
  {
   "cell_type": "code",
   "execution_count": 8,
   "id": "6861e3f7",
   "metadata": {},
   "outputs": [
    {
     "data": {
      "text/plain": [
       "{'input': 'виведи всі таблиці які існуюють в базі?',\n",
       " 'output': 'Agent stopped due to iteration limit or time limit.'}"
      ]
     },
     "execution_count": 8,
     "metadata": {},
     "output_type": "execute_result"
    }
   ],
   "source": [
    "x"
   ]
  },
  {
   "cell_type": "code",
   "execution_count": 19,
   "id": "108d73ca",
   "metadata": {},
   "outputs": [],
   "source": [
    "text = \"пошукай скільки документів по справі 136/1512/24\"\n",
    "\n",
    "agent = create_react_agent(model, \n",
    "                           tools, \n",
    "                           prompt)"
   ]
  },
  {
   "cell_type": "code",
   "execution_count": 20,
   "id": "ec7a444c",
   "metadata": {},
   "outputs": [
    {
     "ename": "KeyError",
     "evalue": "'intermediate_steps'",
     "output_type": "error",
     "traceback": [
      "\u001b[31m---------------------------------------------------------------------------\u001b[39m",
      "\u001b[31mKeyError\u001b[39m                                  Traceback (most recent call last)",
      "\u001b[36mCell\u001b[39m\u001b[36m \u001b[39m\u001b[32mIn[20]\u001b[39m\u001b[32m, line 1\u001b[39m\n\u001b[32m----> \u001b[39m\u001b[32m1\u001b[39m math_response  = \u001b[38;5;28;01mawait\u001b[39;00m agent.ainvoke(\n\u001b[32m      2\u001b[39m     {\u001b[33m\"\u001b[39m\u001b[33mmessages\u001b[39m\u001b[33m\"\u001b[39m: [{\u001b[33m\"\u001b[39m\u001b[33mrole\u001b[39m\u001b[33m\"\u001b[39m: \u001b[33m\"\u001b[39m\u001b[33muser\u001b[39m\u001b[33m\"\u001b[39m, \u001b[33m\"\u001b[39m\u001b[33mcontent\u001b[39m\u001b[33m\"\u001b[39m: \u001b[33m\"\u001b[39m\u001b[33mякі є поля в таблиці documents?\u001b[39m\u001b[33m\"\u001b[39m}]}\n\u001b[32m      3\u001b[39m )\n",
      "\u001b[36mFile \u001b[39m\u001b[32me:\\vibe-judges\\myenv\\Lib\\site-packages\\langchain_core\\runnables\\base.py:3290\u001b[39m, in \u001b[36mRunnableSequence.ainvoke\u001b[39m\u001b[34m(self, input, config, **kwargs)\u001b[39m\n\u001b[32m   3288\u001b[39m             \u001b[38;5;28;01melse\u001b[39;00m:\n\u001b[32m   3289\u001b[39m                 part = functools.partial(step.ainvoke, input_, config)\n\u001b[32m-> \u001b[39m\u001b[32m3290\u001b[39m             input_ = \u001b[38;5;28;01mawait\u001b[39;00m coro_with_context(part(), context, create_task=\u001b[38;5;28;01mTrue\u001b[39;00m)\n\u001b[32m   3291\u001b[39m     \u001b[38;5;66;03m# finish the root run\u001b[39;00m\n\u001b[32m   3292\u001b[39m \u001b[38;5;28;01mexcept\u001b[39;00m \u001b[38;5;167;01mBaseException\u001b[39;00m \u001b[38;5;28;01mas\u001b[39;00m e:\n",
      "\u001b[36mFile \u001b[39m\u001b[32me:\\vibe-judges\\myenv\\Lib\\site-packages\\langchain_core\\runnables\\passthrough.py:559\u001b[39m, in \u001b[36mRunnableAssign.ainvoke\u001b[39m\u001b[34m(self, input, config, **kwargs)\u001b[39m\n\u001b[32m    552\u001b[39m \u001b[38;5;129m@override\u001b[39m\n\u001b[32m    553\u001b[39m \u001b[38;5;28;01masync\u001b[39;00m \u001b[38;5;28;01mdef\u001b[39;00m\u001b[38;5;250m \u001b[39m\u001b[34mainvoke\u001b[39m(\n\u001b[32m    554\u001b[39m     \u001b[38;5;28mself\u001b[39m,\n\u001b[32m   (...)\u001b[39m\u001b[32m    557\u001b[39m     **kwargs: Any,\n\u001b[32m    558\u001b[39m ) -> \u001b[38;5;28mdict\u001b[39m[\u001b[38;5;28mstr\u001b[39m, Any]:\n\u001b[32m--> \u001b[39m\u001b[32m559\u001b[39m     \u001b[38;5;28;01mreturn\u001b[39;00m \u001b[38;5;28;01mawait\u001b[39;00m \u001b[38;5;28mself\u001b[39m._acall_with_config(\u001b[38;5;28mself\u001b[39m._ainvoke, \u001b[38;5;28minput\u001b[39m, config, **kwargs)\n",
      "\u001b[36mFile \u001b[39m\u001b[32me:\\vibe-judges\\myenv\\Lib\\site-packages\\langchain_core\\runnables\\base.py:2143\u001b[39m, in \u001b[36mRunnable._acall_with_config\u001b[39m\u001b[34m(self, func, input_, config, run_type, serialized, **kwargs)\u001b[39m\n\u001b[32m   2139\u001b[39m     \u001b[38;5;28;01mwith\u001b[39;00m set_config_context(child_config) \u001b[38;5;28;01mas\u001b[39;00m context:\n\u001b[32m   2140\u001b[39m         coro = acall_func_with_variable_args(\n\u001b[32m   2141\u001b[39m             func, input_, config, run_manager, **kwargs\n\u001b[32m   2142\u001b[39m         )\n\u001b[32m-> \u001b[39m\u001b[32m2143\u001b[39m         output: Output = \u001b[38;5;28;01mawait\u001b[39;00m coro_with_context(coro, context)\n\u001b[32m   2144\u001b[39m \u001b[38;5;28;01mexcept\u001b[39;00m \u001b[38;5;167;01mBaseException\u001b[39;00m \u001b[38;5;28;01mas\u001b[39;00m e:\n\u001b[32m   2145\u001b[39m     \u001b[38;5;28;01mawait\u001b[39;00m run_manager.on_chain_error(e)\n",
      "\u001b[36mFile \u001b[39m\u001b[32me:\\vibe-judges\\myenv\\Lib\\site-packages\\langchain_core\\runnables\\passthrough.py:545\u001b[39m, in \u001b[36mRunnableAssign._ainvoke\u001b[39m\u001b[34m(self, value, run_manager, config, **kwargs)\u001b[39m\n\u001b[32m    540\u001b[39m     msg = \u001b[33m\"\u001b[39m\u001b[33mThe input to RunnablePassthrough.assign() must be a dict.\u001b[39m\u001b[33m\"\u001b[39m\n\u001b[32m    541\u001b[39m     \u001b[38;5;28;01mraise\u001b[39;00m \u001b[38;5;167;01mValueError\u001b[39;00m(msg)  \u001b[38;5;66;03m# noqa: TRY004\u001b[39;00m\n\u001b[32m    543\u001b[39m \u001b[38;5;28;01mreturn\u001b[39;00m {\n\u001b[32m    544\u001b[39m     **value,\n\u001b[32m--> \u001b[39m\u001b[32m545\u001b[39m     **\u001b[38;5;28;01mawait\u001b[39;00m \u001b[38;5;28mself\u001b[39m.mapper.ainvoke(\n\u001b[32m    546\u001b[39m         value,\n\u001b[32m    547\u001b[39m         patch_config(config, callbacks=run_manager.get_child()),\n\u001b[32m    548\u001b[39m         **kwargs,\n\u001b[32m    549\u001b[39m     ),\n\u001b[32m    550\u001b[39m }\n",
      "\u001b[36mFile \u001b[39m\u001b[32me:\\vibe-judges\\myenv\\Lib\\site-packages\\langchain_core\\runnables\\base.py:4043\u001b[39m, in \u001b[36mRunnableParallel.ainvoke\u001b[39m\u001b[34m(self, input, config, **kwargs)\u001b[39m\n\u001b[32m   4040\u001b[39m \u001b[38;5;28;01mtry\u001b[39;00m:\n\u001b[32m   4041\u001b[39m     \u001b[38;5;66;03m# copy to avoid issues from the caller mutating the steps during invoke()\u001b[39;00m\n\u001b[32m   4042\u001b[39m     steps = \u001b[38;5;28mdict\u001b[39m(\u001b[38;5;28mself\u001b[39m.steps__)\n\u001b[32m-> \u001b[39m\u001b[32m4043\u001b[39m     results = \u001b[38;5;28;01mawait\u001b[39;00m asyncio.gather(\n\u001b[32m   4044\u001b[39m         *(\n\u001b[32m   4045\u001b[39m             _ainvoke_step(\n\u001b[32m   4046\u001b[39m                 step,\n\u001b[32m   4047\u001b[39m                 \u001b[38;5;28minput\u001b[39m,\n\u001b[32m   4048\u001b[39m                 \u001b[38;5;66;03m# mark each step as a child run\u001b[39;00m\n\u001b[32m   4049\u001b[39m                 config,\n\u001b[32m   4050\u001b[39m                 key,\n\u001b[32m   4051\u001b[39m             )\n\u001b[32m   4052\u001b[39m             \u001b[38;5;28;01mfor\u001b[39;00m key, step \u001b[38;5;129;01min\u001b[39;00m steps.items()\n\u001b[32m   4053\u001b[39m         )\n\u001b[32m   4054\u001b[39m     )\n\u001b[32m   4055\u001b[39m     output = \u001b[38;5;28mdict\u001b[39m(\u001b[38;5;28mzip\u001b[39m(steps, results))\n\u001b[32m   4056\u001b[39m \u001b[38;5;66;03m# finish the root run\u001b[39;00m\n",
      "\u001b[36mFile \u001b[39m\u001b[32me:\\vibe-judges\\myenv\\Lib\\site-packages\\langchain_core\\runnables\\base.py:4035\u001b[39m, in \u001b[36mRunnableParallel.ainvoke.<locals>._ainvoke_step\u001b[39m\u001b[34m(step, input_, config, key)\u001b[39m\n\u001b[32m   4030\u001b[39m child_config = patch_config(\n\u001b[32m   4031\u001b[39m     config,\n\u001b[32m   4032\u001b[39m     callbacks=run_manager.get_child(\u001b[33mf\u001b[39m\u001b[33m\"\u001b[39m\u001b[33mmap:key:\u001b[39m\u001b[38;5;132;01m{\u001b[39;00mkey\u001b[38;5;132;01m}\u001b[39;00m\u001b[33m\"\u001b[39m),\n\u001b[32m   4033\u001b[39m )\n\u001b[32m   4034\u001b[39m \u001b[38;5;28;01mwith\u001b[39;00m set_config_context(child_config) \u001b[38;5;28;01mas\u001b[39;00m context:\n\u001b[32m-> \u001b[39m\u001b[32m4035\u001b[39m     \u001b[38;5;28;01mreturn\u001b[39;00m \u001b[38;5;28;01mawait\u001b[39;00m coro_with_context(\n\u001b[32m   4036\u001b[39m         step.ainvoke(input_, child_config), context, create_task=\u001b[38;5;28;01mTrue\u001b[39;00m\n\u001b[32m   4037\u001b[39m     )\n",
      "\u001b[36mFile \u001b[39m\u001b[32me:\\vibe-judges\\myenv\\Lib\\site-packages\\langchain_core\\runnables\\base.py:5051\u001b[39m, in \u001b[36mRunnableLambda.ainvoke\u001b[39m\u001b[34m(self, input, config, **kwargs)\u001b[39m\n\u001b[32m   5033\u001b[39m \u001b[38;5;129m@override\u001b[39m\n\u001b[32m   5034\u001b[39m \u001b[38;5;28;01masync\u001b[39;00m \u001b[38;5;28;01mdef\u001b[39;00m\u001b[38;5;250m \u001b[39m\u001b[34mainvoke\u001b[39m(\n\u001b[32m   5035\u001b[39m     \u001b[38;5;28mself\u001b[39m,\n\u001b[32m   (...)\u001b[39m\u001b[32m   5038\u001b[39m     **kwargs: Optional[Any],\n\u001b[32m   5039\u001b[39m ) -> Output:\n\u001b[32m   5040\u001b[39m \u001b[38;5;250m    \u001b[39m\u001b[33;03m\"\"\"Invoke this ``Runnable`` asynchronously.\u001b[39;00m\n\u001b[32m   5041\u001b[39m \n\u001b[32m   5042\u001b[39m \u001b[33;03m    Args:\u001b[39;00m\n\u001b[32m   (...)\u001b[39m\u001b[32m   5049\u001b[39m \n\u001b[32m   5050\u001b[39m \u001b[33;03m    \"\"\"\u001b[39;00m\n\u001b[32m-> \u001b[39m\u001b[32m5051\u001b[39m     \u001b[38;5;28;01mreturn\u001b[39;00m \u001b[38;5;28;01mawait\u001b[39;00m \u001b[38;5;28mself\u001b[39m._acall_with_config(\n\u001b[32m   5052\u001b[39m         \u001b[38;5;28mself\u001b[39m._ainvoke,\n\u001b[32m   5053\u001b[39m         \u001b[38;5;28minput\u001b[39m,\n\u001b[32m   5054\u001b[39m         ensure_config(config),\n\u001b[32m   5055\u001b[39m         **kwargs,\n\u001b[32m   5056\u001b[39m     )\n",
      "\u001b[36mFile \u001b[39m\u001b[32me:\\vibe-judges\\myenv\\Lib\\site-packages\\langchain_core\\runnables\\base.py:2143\u001b[39m, in \u001b[36mRunnable._acall_with_config\u001b[39m\u001b[34m(self, func, input_, config, run_type, serialized, **kwargs)\u001b[39m\n\u001b[32m   2139\u001b[39m     \u001b[38;5;28;01mwith\u001b[39;00m set_config_context(child_config) \u001b[38;5;28;01mas\u001b[39;00m context:\n\u001b[32m   2140\u001b[39m         coro = acall_func_with_variable_args(\n\u001b[32m   2141\u001b[39m             func, input_, config, run_manager, **kwargs\n\u001b[32m   2142\u001b[39m         )\n\u001b[32m-> \u001b[39m\u001b[32m2143\u001b[39m         output: Output = \u001b[38;5;28;01mawait\u001b[39;00m coro_with_context(coro, context)\n\u001b[32m   2144\u001b[39m \u001b[38;5;28;01mexcept\u001b[39;00m \u001b[38;5;167;01mBaseException\u001b[39;00m \u001b[38;5;28;01mas\u001b[39;00m e:\n\u001b[32m   2145\u001b[39m     \u001b[38;5;28;01mawait\u001b[39;00m run_manager.on_chain_error(e)\n",
      "\u001b[36mFile \u001b[39m\u001b[32me:\\vibe-judges\\myenv\\Lib\\site-packages\\langchain_core\\runnables\\base.py:4981\u001b[39m, in \u001b[36mRunnableLambda._ainvoke\u001b[39m\u001b[34m(self, value, run_manager, config, **kwargs)\u001b[39m\n\u001b[32m   4979\u001b[39m                     output = chunk\n\u001b[32m   4980\u001b[39m \u001b[38;5;28;01melse\u001b[39;00m:\n\u001b[32m-> \u001b[39m\u001b[32m4981\u001b[39m     output = \u001b[38;5;28;01mawait\u001b[39;00m acall_func_with_variable_args(\n\u001b[32m   4982\u001b[39m         cast(\u001b[33m\"\u001b[39m\u001b[33mCallable\u001b[39m\u001b[33m\"\u001b[39m, afunc), value, config, run_manager, **kwargs\n\u001b[32m   4983\u001b[39m     )\n\u001b[32m   4984\u001b[39m \u001b[38;5;66;03m# If the output is a Runnable, invoke it\u001b[39;00m\n\u001b[32m   4985\u001b[39m \u001b[38;5;28;01mif\u001b[39;00m \u001b[38;5;28misinstance\u001b[39m(output, Runnable):\n",
      "\u001b[36mFile \u001b[39m\u001b[32me:\\vibe-judges\\myenv\\Lib\\site-packages\\langchain_core\\runnables\\base.py:4951\u001b[39m, in \u001b[36mRunnableLambda._ainvoke.<locals>.f\u001b[39m\u001b[34m(*args, **kwargs)\u001b[39m\n\u001b[32m   4949\u001b[39m \u001b[38;5;129m@wraps\u001b[39m(func)\n\u001b[32m   4950\u001b[39m \u001b[38;5;28;01masync\u001b[39;00m \u001b[38;5;28;01mdef\u001b[39;00m\u001b[38;5;250m \u001b[39m\u001b[34mf\u001b[39m(*args: Any, **kwargs: Any) -> Any:\n\u001b[32m-> \u001b[39m\u001b[32m4951\u001b[39m     \u001b[38;5;28;01mreturn\u001b[39;00m \u001b[38;5;28;01mawait\u001b[39;00m run_in_executor(config, func, *args, **kwargs)\n",
      "\u001b[36mFile \u001b[39m\u001b[32me:\\vibe-judges\\myenv\\Lib\\site-packages\\langchain_core\\runnables\\config.py:611\u001b[39m, in \u001b[36mrun_in_executor\u001b[39m\u001b[34m(executor_or_config, func, *args, **kwargs)\u001b[39m\n\u001b[32m    607\u001b[39m         \u001b[38;5;28;01mraise\u001b[39;00m \u001b[38;5;167;01mRuntimeError\u001b[39;00m \u001b[38;5;28;01mfrom\u001b[39;00m\u001b[38;5;250m \u001b[39m\u001b[34;01mexc\u001b[39;00m\n\u001b[32m    609\u001b[39m \u001b[38;5;28;01mif\u001b[39;00m executor_or_config \u001b[38;5;129;01mis\u001b[39;00m \u001b[38;5;28;01mNone\u001b[39;00m \u001b[38;5;129;01mor\u001b[39;00m \u001b[38;5;28misinstance\u001b[39m(executor_or_config, \u001b[38;5;28mdict\u001b[39m):\n\u001b[32m    610\u001b[39m     \u001b[38;5;66;03m# Use default executor with context copied from current context\u001b[39;00m\n\u001b[32m--> \u001b[39m\u001b[32m611\u001b[39m     \u001b[38;5;28;01mreturn\u001b[39;00m \u001b[38;5;28;01mawait\u001b[39;00m asyncio.get_running_loop().run_in_executor(\n\u001b[32m    612\u001b[39m         \u001b[38;5;28;01mNone\u001b[39;00m,\n\u001b[32m    613\u001b[39m         cast(\u001b[33m\"\u001b[39m\u001b[33mCallable[..., T]\u001b[39m\u001b[33m\"\u001b[39m, partial(copy_context().run, wrapper)),\n\u001b[32m    614\u001b[39m     )\n\u001b[32m    616\u001b[39m \u001b[38;5;28;01mreturn\u001b[39;00m \u001b[38;5;28;01mawait\u001b[39;00m asyncio.get_running_loop().run_in_executor(executor_or_config, wrapper)\n",
      "\u001b[36mFile \u001b[39m\u001b[32mC:\\Program Files\\WindowsApps\\PythonSoftwareFoundation.Python.3.11_3.11.2544.0_x64__qbz5n2kfra8p0\\Lib\\concurrent\\futures\\thread.py:58\u001b[39m, in \u001b[36m_WorkItem.run\u001b[39m\u001b[34m(self)\u001b[39m\n\u001b[32m     55\u001b[39m     \u001b[38;5;28;01mreturn\u001b[39;00m\n\u001b[32m     57\u001b[39m \u001b[38;5;28;01mtry\u001b[39;00m:\n\u001b[32m---> \u001b[39m\u001b[32m58\u001b[39m     result = \u001b[38;5;28;43mself\u001b[39;49m\u001b[43m.\u001b[49m\u001b[43mfn\u001b[49m\u001b[43m(\u001b[49m\u001b[43m*\u001b[49m\u001b[38;5;28;43mself\u001b[39;49m\u001b[43m.\u001b[49m\u001b[43margs\u001b[49m\u001b[43m,\u001b[49m\u001b[43m \u001b[49m\u001b[43m*\u001b[49m\u001b[43m*\u001b[49m\u001b[38;5;28;43mself\u001b[39;49m\u001b[43m.\u001b[49m\u001b[43mkwargs\u001b[49m\u001b[43m)\u001b[49m\n\u001b[32m     59\u001b[39m \u001b[38;5;28;01mexcept\u001b[39;00m \u001b[38;5;167;01mBaseException\u001b[39;00m \u001b[38;5;28;01mas\u001b[39;00m exc:\n\u001b[32m     60\u001b[39m     \u001b[38;5;28mself\u001b[39m.future.set_exception(exc)\n",
      "\u001b[36mFile \u001b[39m\u001b[32me:\\vibe-judges\\myenv\\Lib\\site-packages\\langchain_core\\runnables\\config.py:602\u001b[39m, in \u001b[36mrun_in_executor.<locals>.wrapper\u001b[39m\u001b[34m()\u001b[39m\n\u001b[32m    600\u001b[39m \u001b[38;5;28;01mdef\u001b[39;00m\u001b[38;5;250m \u001b[39m\u001b[34mwrapper\u001b[39m() -> T:\n\u001b[32m    601\u001b[39m     \u001b[38;5;28;01mtry\u001b[39;00m:\n\u001b[32m--> \u001b[39m\u001b[32m602\u001b[39m         \u001b[38;5;28;01mreturn\u001b[39;00m \u001b[43mfunc\u001b[49m\u001b[43m(\u001b[49m\u001b[43m*\u001b[49m\u001b[43margs\u001b[49m\u001b[43m,\u001b[49m\u001b[43m \u001b[49m\u001b[43m*\u001b[49m\u001b[43m*\u001b[49m\u001b[43mkwargs\u001b[49m\u001b[43m)\u001b[49m\n\u001b[32m    603\u001b[39m     \u001b[38;5;28;01mexcept\u001b[39;00m \u001b[38;5;167;01mStopIteration\u001b[39;00m \u001b[38;5;28;01mas\u001b[39;00m exc:\n\u001b[32m    604\u001b[39m         \u001b[38;5;66;03m# StopIteration can't be set on an asyncio.Future\u001b[39;00m\n\u001b[32m    605\u001b[39m         \u001b[38;5;66;03m# it raises a TypeError and leaves the Future pending forever\u001b[39;00m\n\u001b[32m    606\u001b[39m         \u001b[38;5;66;03m# so we need to convert it to a RuntimeError\u001b[39;00m\n\u001b[32m    607\u001b[39m         \u001b[38;5;28;01mraise\u001b[39;00m \u001b[38;5;167;01mRuntimeError\u001b[39;00m \u001b[38;5;28;01mfrom\u001b[39;00m\u001b[38;5;250m \u001b[39m\u001b[34;01mexc\u001b[39;00m\n",
      "\u001b[36mFile \u001b[39m\u001b[32me:\\vibe-judges\\myenv\\Lib\\site-packages\\langchain_core\\runnables\\base.py:4945\u001b[39m, in \u001b[36mRunnableLambda._ainvoke.<locals>.func\u001b[39m\u001b[34m(value, run_manager, config, **kwargs)\u001b[39m\n\u001b[32m   4939\u001b[39m \u001b[38;5;28;01mdef\u001b[39;00m\u001b[38;5;250m \u001b[39m\u001b[34mfunc\u001b[39m(\n\u001b[32m   4940\u001b[39m     value: Input,\n\u001b[32m   4941\u001b[39m     run_manager: AsyncCallbackManagerForChainRun,\n\u001b[32m   4942\u001b[39m     config: RunnableConfig,\n\u001b[32m   4943\u001b[39m     **kwargs: Any,\n\u001b[32m   4944\u001b[39m ) -> Output:\n\u001b[32m-> \u001b[39m\u001b[32m4945\u001b[39m     \u001b[38;5;28;01mreturn\u001b[39;00m \u001b[43mcall_func_with_variable_args\u001b[49m\u001b[43m(\u001b[49m\n\u001b[32m   4946\u001b[39m \u001b[43m        \u001b[49m\u001b[38;5;28;43mself\u001b[39;49m\u001b[43m.\u001b[49m\u001b[43mfunc\u001b[49m\u001b[43m,\u001b[49m\u001b[43m \u001b[49m\u001b[43mvalue\u001b[49m\u001b[43m,\u001b[49m\u001b[43m \u001b[49m\u001b[43mconfig\u001b[49m\u001b[43m,\u001b[49m\u001b[43m \u001b[49m\u001b[43mrun_manager\u001b[49m\u001b[43m.\u001b[49m\u001b[43mget_sync\u001b[49m\u001b[43m(\u001b[49m\u001b[43m)\u001b[49m\u001b[43m,\u001b[49m\u001b[43m \u001b[49m\u001b[43m*\u001b[49m\u001b[43m*\u001b[49m\u001b[43mkwargs\u001b[49m\n\u001b[32m   4947\u001b[39m \u001b[43m    \u001b[49m\u001b[43m)\u001b[49m\n",
      "\u001b[36mFile \u001b[39m\u001b[32me:\\vibe-judges\\myenv\\Lib\\site-packages\\langchain_core\\runnables\\config.py:430\u001b[39m, in \u001b[36mcall_func_with_variable_args\u001b[39m\u001b[34m(func, input, config, run_manager, **kwargs)\u001b[39m\n\u001b[32m    428\u001b[39m \u001b[38;5;28;01mif\u001b[39;00m run_manager \u001b[38;5;129;01mis\u001b[39;00m \u001b[38;5;129;01mnot\u001b[39;00m \u001b[38;5;28;01mNone\u001b[39;00m \u001b[38;5;129;01mand\u001b[39;00m accepts_run_manager(func):\n\u001b[32m    429\u001b[39m     kwargs[\u001b[33m\"\u001b[39m\u001b[33mrun_manager\u001b[39m\u001b[33m\"\u001b[39m] = run_manager\n\u001b[32m--> \u001b[39m\u001b[32m430\u001b[39m \u001b[38;5;28;01mreturn\u001b[39;00m \u001b[43mfunc\u001b[49m\u001b[43m(\u001b[49m\u001b[38;5;28;43minput\u001b[39;49m\u001b[43m,\u001b[49m\u001b[43m \u001b[49m\u001b[43m*\u001b[49m\u001b[43m*\u001b[49m\u001b[43mkwargs\u001b[49m\u001b[43m)\u001b[49m\n",
      "\u001b[36mFile \u001b[39m\u001b[32me:\\vibe-judges\\myenv\\Lib\\site-packages\\langchain\\agents\\react\\agent.py:139\u001b[39m, in \u001b[36mcreate_react_agent.<locals>.<lambda>\u001b[39m\u001b[34m(x)\u001b[39m\n\u001b[32m    135\u001b[39m     llm_with_stop = llm\n\u001b[32m    136\u001b[39m output_parser = output_parser \u001b[38;5;129;01mor\u001b[39;00m ReActSingleInputOutputParser()\n\u001b[32m    137\u001b[39m \u001b[38;5;28;01mreturn\u001b[39;00m (\n\u001b[32m    138\u001b[39m     RunnablePassthrough.assign(\n\u001b[32m--> \u001b[39m\u001b[32m139\u001b[39m         agent_scratchpad=\u001b[38;5;28;01mlambda\u001b[39;00m x: format_log_to_str(\u001b[43mx\u001b[49m\u001b[43m[\u001b[49m\u001b[33;43m\"\u001b[39;49m\u001b[33;43mintermediate_steps\u001b[39;49m\u001b[33;43m\"\u001b[39;49m\u001b[43m]\u001b[49m),\n\u001b[32m    140\u001b[39m     )\n\u001b[32m    141\u001b[39m     | prompt\n\u001b[32m    142\u001b[39m     | llm_with_stop\n\u001b[32m    143\u001b[39m     | output_parser\n\u001b[32m    144\u001b[39m )\n",
      "\u001b[31mKeyError\u001b[39m: 'intermediate_steps'"
     ]
    }
   ],
   "source": [
    "math_response  = await agent.ainvoke(\n",
    "    {\"messages\": [{\"role\": \"user\", \"content\": \"які є поля в таблиці documents?\"}]}\n",
    ")"
   ]
  },
  {
   "cell_type": "code",
   "execution_count": 17,
   "id": "d397983d",
   "metadata": {},
   "outputs": [
    {
     "data": {
      "text/plain": [
       "<coroutine object RunnableSequence.ainvoke at 0x0000018E3B5DD900>"
      ]
     },
     "execution_count": 17,
     "metadata": {},
     "output_type": "execute_result"
    }
   ],
   "source": [
    "agent.ainvoke(\n",
    "    {\"messages\": [{\"role\": \"user\", \"content\": \"які є поля в таблиці documents?\"}]}\n",
    ")"
   ]
  },
  {
   "cell_type": "code",
   "execution_count": 13,
   "id": "713aebae",
   "metadata": {},
   "outputs": [
    {
     "ename": "TypeError",
     "evalue": "'coroutine' object is not subscriptable",
     "output_type": "error",
     "traceback": [
      "\u001b[31m---------------------------------------------------------------------------\u001b[39m",
      "\u001b[31mTypeError\u001b[39m                                 Traceback (most recent call last)",
      "\u001b[36mCell\u001b[39m\u001b[36m \u001b[39m\u001b[32mIn[13]\u001b[39m\u001b[32m, line 1\u001b[39m\n\u001b[32m----> \u001b[39m\u001b[32m1\u001b[39m \u001b[43mtools\u001b[49m\u001b[43m[\u001b[49m\u001b[32;43m0\u001b[39;49m\u001b[43m]\u001b[49m\n",
      "\u001b[31mTypeError\u001b[39m: 'coroutine' object is not subscriptable"
     ]
    }
   ],
   "source": [
    "agent = create_react_agent(\"openai:gpt-4.1\", tools)\n",
    "math_response = await agent.ainvoke({\"messages\": \"what's (3 + 5) x 12?\"})"
   ]
  },
  {
   "cell_type": "code",
   "execution_count": 11,
   "id": "2dbcb507",
   "metadata": {},
   "outputs": [
    {
     "ename": "RuntimeError",
     "evalue": "Already running asyncio in this thread",
     "output_type": "error",
     "traceback": [
      "\u001b[31m---------------------------------------------------------------------------\u001b[39m",
      "\u001b[31mRuntimeError\u001b[39m                              Traceback (most recent call last)",
      "\u001b[36mCell\u001b[39m\u001b[36m \u001b[39m\u001b[32mIn[11]\u001b[39m\u001b[32m, line 16\u001b[39m\n\u001b[32m     13\u001b[39m     \u001b[38;5;28;01mreturn\u001b[39;00m a * b\n\u001b[32m     15\u001b[39m \u001b[38;5;28;01mif\u001b[39;00m \u001b[34m__name__\u001b[39m == \u001b[33m\"\u001b[39m\u001b[33m__main__\u001b[39m\u001b[33m\"\u001b[39m:\n\u001b[32m---> \u001b[39m\u001b[32m16\u001b[39m     \u001b[43mmcp\u001b[49m\u001b[43m.\u001b[49m\u001b[43mrun\u001b[49m\u001b[43m(\u001b[49m\u001b[43mtransport\u001b[49m\u001b[43m=\u001b[49m\u001b[33;43m\"\u001b[39;49m\u001b[33;43mstdio\u001b[39;49m\u001b[33;43m\"\u001b[39;49m\u001b[43m)\u001b[49m\n",
      "\u001b[36mFile \u001b[39m\u001b[32me:\\vibe-judges\\myenv\\Lib\\site-packages\\mcp\\server\\fastmcp\\server.py:262\u001b[39m, in \u001b[36mFastMCP.run\u001b[39m\u001b[34m(self, transport, mount_path)\u001b[39m\n\u001b[32m    260\u001b[39m \u001b[38;5;28;01mmatch\u001b[39;00m transport:\n\u001b[32m    261\u001b[39m     \u001b[38;5;28;01mcase\u001b[39;00m \u001b[33m\"\u001b[39m\u001b[33mstdio\u001b[39m\u001b[33m\"\u001b[39m:\n\u001b[32m--> \u001b[39m\u001b[32m262\u001b[39m         \u001b[43manyio\u001b[49m\u001b[43m.\u001b[49m\u001b[43mrun\u001b[49m\u001b[43m(\u001b[49m\u001b[38;5;28;43mself\u001b[39;49m\u001b[43m.\u001b[49m\u001b[43mrun_stdio_async\u001b[49m\u001b[43m)\u001b[49m\n\u001b[32m    263\u001b[39m     \u001b[38;5;28;01mcase\u001b[39;00m \u001b[33m\"\u001b[39m\u001b[33msse\u001b[39m\u001b[33m\"\u001b[39m:\n\u001b[32m    264\u001b[39m         anyio.run(\u001b[38;5;28;01mlambda\u001b[39;00m: \u001b[38;5;28mself\u001b[39m.run_sse_async(mount_path))\n",
      "\u001b[36mFile \u001b[39m\u001b[32me:\\vibe-judges\\myenv\\Lib\\site-packages\\anyio\\_core\\_eventloop.py:59\u001b[39m, in \u001b[36mrun\u001b[39m\u001b[34m(func, backend, backend_options, *args)\u001b[39m\n\u001b[32m     57\u001b[39m     \u001b[38;5;28;01mpass\u001b[39;00m\n\u001b[32m     58\u001b[39m \u001b[38;5;28;01melse\u001b[39;00m:\n\u001b[32m---> \u001b[39m\u001b[32m59\u001b[39m     \u001b[38;5;28;01mraise\u001b[39;00m \u001b[38;5;167;01mRuntimeError\u001b[39;00m(\u001b[33mf\u001b[39m\u001b[33m\"\u001b[39m\u001b[33mAlready running \u001b[39m\u001b[38;5;132;01m{\u001b[39;00masynclib_name\u001b[38;5;132;01m}\u001b[39;00m\u001b[33m in this thread\u001b[39m\u001b[33m\"\u001b[39m)\n\u001b[32m     61\u001b[39m \u001b[38;5;28;01mtry\u001b[39;00m:\n\u001b[32m     62\u001b[39m     async_backend = get_async_backend(backend)\n",
      "\u001b[31mRuntimeError\u001b[39m: Already running asyncio in this thread"
     ]
    }
   ],
   "source": [
    "from mcp.server.fastmcp import FastMCP\n",
    "\n",
    "mcp = FastMCP(\"Math\")\n",
    "\n",
    "@mcp.tool()\n",
    "def add(a: int, b: int) -> int:\n",
    "    \"\"\"Add two numbers\"\"\"\n",
    "    return a + b\n",
    "\n",
    "@mcp.tool()\n",
    "def multiply(a: int, b: int) -> int:\n",
    "    \"\"\"Multiply two numbers\"\"\"\n",
    "    return a * b\n",
    "\n",
    "if __name__ == \"__main__\":\n",
    "    mcp.run(transport=\"stdio\")"
   ]
  }
 ],
 "metadata": {
  "kernelspec": {
   "display_name": "myenv",
   "language": "python",
   "name": "python3"
  },
  "language_info": {
   "codemirror_mode": {
    "name": "ipython",
    "version": 3
   },
   "file_extension": ".py",
   "mimetype": "text/x-python",
   "name": "python",
   "nbconvert_exporter": "python",
   "pygments_lexer": "ipython3",
   "version": "3.11.9"
  }
 },
 "nbformat": 4,
 "nbformat_minor": 5
}
