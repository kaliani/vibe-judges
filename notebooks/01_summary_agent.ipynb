{
 "cells": [
  {
   "cell_type": "code",
   "execution_count": 42,
   "id": "95259ae8",
   "metadata": {},
   "outputs": [],
   "source": [
    "import requests\n",
    "from striprtf.striprtf import rtf_to_text\n",
    "\n",
    "def download_rtf_text(url: str) -> str:\n",
    "    response = requests.get(url)\n",
    "    response.raise_for_status()\n",
    "\n",
    "    rtf_content = response.content.decode(\"utf-8\", errors=\"ignore\")\n",
    "\n",
    "    text = rtf_to_text(rtf_content)\n",
    "    return text\n",
    "\n",
    "\n",
    "url = \"http://od.reyestr.court.gov.ua/files/61/520ce2d5f53b2a22eafd30fca9c17d43.rtf\"\n",
    "tt = download_rtf_text(url)"
   ]
  },
  {
   "cell_type": "code",
   "execution_count": 43,
   "id": "9855381a",
   "metadata": {},
   "outputs": [
    {
     "name": "stdout",
     "output_type": "stream",
     "text": [
      "\n",
      "   КИЇВСЬКИЙ ОКРУЖНИЙ АДМІНІСТРАТИВНИЙ СУД |\n",
      "У Х В А Л А\n",
      "про залишення позовної заяви без руху\n",
      "04 грудня 2024 року                           м. Київ                                     № 320/57291/24\n",
      "Суддя Київського окружного адміністративного суду Жук Р.В., дослідивши матеріали адміністративного позову та додані до нього документи\n",
      "за позовом   Товариства з обмеженою відповідальністю \"Мегого\"\n",
      "до                  Комісії з регулювання азартних ігор та лотерей\n",
      "третя особа Товариство з обмеженою відповідальністю \"ГГБЕТ\" \n",
      "про               визнання протиправним та скасування рішення від 22.08.2024 №409, -\n",
      "ВСТАНОВИВ:\n",
      "До Київського окружного адміністративного суду звернулось Товариство з обмеженою відповідальністю \"Мегого\" з адміністративним позовом до Комісії з регулювання азартних ігор та лотерей, третя особа - Товариство з обмеженою відповідальністю \"ГГБЕТ\", про визнання протиправним та скасування рішення від 22.08.2024 №409.\n",
      "Відповідно до частини 1 статті 171 Кодексу адміністративного судочинства України суддя після одержання позовної заяви з`ясовує, зокрема, чи: відповідає позовна заява вимогам, встановленим статтями 160, 161, 172 цього Кодексу; позов подано у строк, установлений законом (якщо позов подано з пропущенням встановленого законом строку звернення до суду, то чи достатньо підстав для визнання причин пропуску строку звернення до суду поважними); немає інших підстав для залишення позовної заяви без руху, повернення позовної заяви або відмови у відкритті провадження в адміністративній справі, встановлених цим Кодексом.\n",
      "Наданий адміністративний позов не відповідає вимогам статті 161 Кодексу адміністративного судочинства України з огляду на таке.\n",
      "Відповідно до частини третьої статті 161 Кодексу адміністративного судочинства України до позовної заяви додається документ про сплату судового збору у встановлених порядку і розмірі або документи, які підтверджують підстави звільнення від сплати судового збору відповідно до закону.\n",
      "Частиною першою статті 4 Закону України “Про судовий збір” передбачено, що судовий збір справляється у відповідному розмірі від прожиткового мінімуму для працездатних осіб, встановленого законом на 1 січня календарного року, в якому відповідна заява або скарга подається до суду, - у відсотковому співвідношенні до ціни позову та у фіксованому розмірі.\n",
      "Згідно з пунктом 3 частини другої статті 4 Закону України “Про судовий збір” за подання до адміністративного суду адміністративного позову майнового характеру, який подано суб`єктом владних повноважень, юридичною особою встановлюється ставка судового збору – 1,5 відсотка ціни позову, але не менше 1 розміру прожиткового мінімуму для працездатних осіб і не більше 10 розмірів прожиткового мінімуму для працездатних осіб.\n",
      "Положеннями статті 7 Закону України \"Про Державний бюджет України на 2024 рік\" установлено у 2024 році прожитковий мінімум для працездатних осіб: з 1 січня 2024 року - 3028 гривні.\n",
      "Як вбачається з позовної заяви, позивач заявлено вимогу майнового характеру.\n",
      "Отже, у даному випадку судовий збір дорівнює 30 280,00 грн (2 400 000,00 грн х 1,5%, не більше 30 280,00 грн).\n",
      "Судом встановлено, що позивачем до позовної заяви доказів сплати судового збору за подання даного адміністративного позову не додано.\n",
      "Таким чином, позивачу у порядку усунення недоліків позовної заяви необхідно надати суду: доказ надіслання листом з описом вкладення відповідачу копій позовної заяви та доданих до неї документів; докази сплати судового збору в розмірі 30 280,00 грн (оригінал платіжного доручення (квитанції) на рахунок Київського окружного адміністративного суду, який слід сплатити за наступними реквізитами:\n",
      "Отримувач коштів: ГУК у Київ. обл./м.Київ/22030101;\n",
      "код отримувача (код за ЄДРПОУ): 37955989;\n",
      "Банк отримувача: Казначейство України (ел. адм. подат.);\n",
      "код банку отримувача (МФО): 899998;\n",
      "рахунок отримувача: UA718999980313151206084010001;\n",
      "код класифікації доходів бюджету: 22030101;\n",
      "призначення платежу: *;101; (код клієнта за ЄДРПОУ для юридичних осіб (доповнюється зліва нулями до восьми цифр, якщо значущих цифр менше 8), реєстраційний номер облікової картки платника податків – фізичної особи (завжди має 10 цифр) або серія та номер паспорта громадянина України, в разі якщо платник через свої релігійні переконання відмовився від прийняття реєстраційного номера облікової картки платника податків і має відповідну відмітку у паспорті); Судовий збір, за позовом (ПІБ чи назва установи, організації позивача), Київський окружний адміністративний суд (назва суду, де розглядається справа).\n",
      "Інформація щодо реквізитів сплати судового збору за подання позовних заяв до Київського окружного адміністративного суду є загальнодоступною, оприлюднена на офіційному веб-порталі “Судова влада України” за інтернет-адресою https://adm.ko.court.gov.ua/sud1070/gromadyanam/tax/, а також розміщена на інформаційних стендах Київського окружного адміністративного суду.\n",
      "Згідно з частинами 1, 2 статті 169 Кодексу адміністративного судочинства України суддя, встановивши, що позовну заяву подано без додержання вимог, встановлених статтями 160, 161 цього Кодексу, протягом п`яти днів з дня подання позовної заяви постановляє ухвалу про залишення позовної заяви без руху.\n",
      "В ухвалі про залишення позовної заяви без руху зазначаються недоліки позовної заяви, спосіб і строк їх усунення, який не може перевищувати десяти днів з дня вручення ухвали про залишення позовної заяви без руху.\n",
      "Керуючись статтями 161, 169, 171, 243, 248 Кодексу адміністративного судочинства України, суд\n",
      "У Х В А Л И В:\n",
      "1. Залишити позовну заяву Товариства з обмеженою відповідальністю \"Мегого\" без руху.\n",
      "3. Встановити позивачу 10-денний строк з дня отримання даної ухвали на усунення недоліків позовної заяви.\n",
      "4. Попередити позивача про те, що у разі, якщо недоліки не буде усунуто у встановлений судом строк, позовну заяву буде повернуто відповідно до пункту першого частини четвертої статті 169 Кодексу адміністративного судочинства України.\n",
      "\n",
      "Відповідно до частини першої статті 256 Кодексу адміністративного судочинства України,  набирає законної сили негайно після її проголошення, якщо інше не передбачено цим Кодексом. Відповідно до статті 294, частин другої та третьої статті 293 Кодексу адміністративного судочинства України даної ухвала оскарженню не підлягає.\n",
      "\n",
      "Суддя                                                                                                      Жук Р.В. \n",
      "\n",
      "\u0000\n"
     ]
    }
   ],
   "source": [
    "print(tt)"
   ]
  },
  {
   "cell_type": "code",
   "execution_count": 1,
   "id": "893f3cf4",
   "metadata": {},
   "outputs": [
    {
     "name": "stderr",
     "output_type": "stream",
     "text": [
      "USER_AGENT environment variable not set, consider setting it to identify your requests.\n"
     ]
    }
   ],
   "source": [
    "from langchain_community.document_loaders import WebBaseLoader"
   ]
  },
  {
   "cell_type": "code",
   "execution_count": 8,
   "id": "b5520a6d",
   "metadata": {},
   "outputs": [],
   "source": [
    "url = \"http://od.reyestr.court.gov.ua/files/61/520ce2d5f53b2a22eafd30fca9c17d43.rtf\"\n",
    "\n",
    "loader = WebBaseLoader(url)"
   ]
  },
  {
   "cell_type": "code",
   "execution_count": 9,
   "id": "e72210e5",
   "metadata": {},
   "outputs": [],
   "source": [
    "docs = loader.load(\n",
    "    \n",
    ")"
   ]
  },
  {
   "cell_type": "code",
   "execution_count": 12,
   "id": "bb5744fb",
   "metadata": {},
   "outputs": [
    {
     "name": "stdout",
     "output_type": "stream",
     "text": [
      "{\\rtf1\\ansi\\ansicpg1251\\deff0\\deflang1049{\\fonttbl{\\f0\\fnil\\fcharset204{\\*\\fname Times New Roman;}Ti\n"
     ]
    }
   ],
   "source": [
    "print(docs[0].page_content[:100])"
   ]
  },
  {
   "cell_type": "code",
   "execution_count": 17,
   "id": "ea761525",
   "metadata": {},
   "outputs": [
    {
     "name": "stdout",
     "output_type": "stream",
     "text": [
      "Collecting langgraph\n",
      "  Downloading langgraph-0.6.7-py3-none-any.whl.metadata (6.8 kB)\n",
      "Collecting langchain_openai\n",
      "  Downloading langchain_openai-0.3.33-py3-none-any.whl.metadata (2.4 kB)\n",
      "Requirement already satisfied: langchain-core>=0.1 in e:\\vibe-judges\\myenv\\lib\\site-packages (from langgraph) (0.3.75)\n",
      "Collecting langgraph-checkpoint<3.0.0,>=2.1.0 (from langgraph)\n",
      "  Downloading langgraph_checkpoint-2.1.1-py3-none-any.whl.metadata (4.2 kB)\n",
      "Collecting langgraph-prebuilt<0.7.0,>=0.6.0 (from langgraph)\n",
      "  Downloading langgraph_prebuilt-0.6.4-py3-none-any.whl.metadata (4.5 kB)\n",
      "Collecting langgraph-sdk<0.3.0,>=0.2.2 (from langgraph)\n",
      "  Downloading langgraph_sdk-0.2.6-py3-none-any.whl.metadata (1.5 kB)\n",
      "Requirement already satisfied: pydantic>=2.7.4 in e:\\vibe-judges\\myenv\\lib\\site-packages (from langgraph) (2.11.7)\n",
      "Collecting xxhash>=3.5.0 (from langgraph)\n",
      "  Downloading xxhash-3.5.0-cp311-cp311-win_amd64.whl.metadata (13 kB)\n",
      "Collecting langchain-core>=0.1 (from langgraph)\n",
      "  Downloading langchain_core-0.3.76-py3-none-any.whl.metadata (3.7 kB)\n",
      "Collecting openai<2.0.0,>=1.104.2 (from langchain_openai)\n",
      "  Downloading openai-1.107.1-py3-none-any.whl.metadata (29 kB)\n",
      "Collecting tiktoken<1,>=0.7 (from langchain_openai)\n",
      "  Downloading tiktoken-0.11.0-cp311-cp311-win_amd64.whl.metadata (6.9 kB)\n",
      "Requirement already satisfied: langsmith>=0.3.45 in e:\\vibe-judges\\myenv\\lib\\site-packages (from langchain-core>=0.1->langgraph) (0.4.27)\n",
      "Requirement already satisfied: tenacity!=8.4.0,<10.0.0,>=8.1.0 in e:\\vibe-judges\\myenv\\lib\\site-packages (from langchain-core>=0.1->langgraph) (9.1.2)\n",
      "Requirement already satisfied: jsonpatch<2.0,>=1.33 in e:\\vibe-judges\\myenv\\lib\\site-packages (from langchain-core>=0.1->langgraph) (1.33)\n",
      "Requirement already satisfied: PyYAML>=5.3 in e:\\vibe-judges\\myenv\\lib\\site-packages (from langchain-core>=0.1->langgraph) (6.0.2)\n",
      "Requirement already satisfied: typing-extensions>=4.7 in e:\\vibe-judges\\myenv\\lib\\site-packages (from langchain-core>=0.1->langgraph) (4.15.0)\n",
      "Requirement already satisfied: packaging>=23.2 in e:\\vibe-judges\\myenv\\lib\\site-packages (from langchain-core>=0.1->langgraph) (25.0)\n",
      "Collecting ormsgpack>=1.10.0 (from langgraph-checkpoint<3.0.0,>=2.1.0->langgraph)\n",
      "  Downloading ormsgpack-1.10.0-cp311-cp311-win_amd64.whl.metadata (44 kB)\n",
      "     ---------------------------------------- 0.0/44.7 kB ? eta -:--:--\n",
      "     ---------------------------------------- 44.7/44.7 kB 2.2 MB/s eta 0:00:00\n",
      "Requirement already satisfied: httpx>=0.25.2 in e:\\vibe-judges\\myenv\\lib\\site-packages (from langgraph-sdk<0.3.0,>=0.2.2->langgraph) (0.28.1)\n",
      "Requirement already satisfied: orjson>=3.10.1 in e:\\vibe-judges\\myenv\\lib\\site-packages (from langgraph-sdk<0.3.0,>=0.2.2->langgraph) (3.11.3)\n",
      "Requirement already satisfied: anyio<5,>=3.5.0 in e:\\vibe-judges\\myenv\\lib\\site-packages (from openai<2.0.0,>=1.104.2->langchain_openai) (4.10.0)\n",
      "Collecting distro<2,>=1.7.0 (from openai<2.0.0,>=1.104.2->langchain_openai)\n",
      "  Using cached distro-1.9.0-py3-none-any.whl.metadata (6.8 kB)\n",
      "Collecting jiter<1,>=0.4.0 (from openai<2.0.0,>=1.104.2->langchain_openai)\n",
      "  Downloading jiter-0.10.0-cp311-cp311-win_amd64.whl.metadata (5.3 kB)\n",
      "Requirement already satisfied: sniffio in e:\\vibe-judges\\myenv\\lib\\site-packages (from openai<2.0.0,>=1.104.2->langchain_openai) (1.3.1)\n",
      "Collecting tqdm>4 (from openai<2.0.0,>=1.104.2->langchain_openai)\n",
      "  Using cached tqdm-4.67.1-py3-none-any.whl.metadata (57 kB)\n",
      "Requirement already satisfied: annotated-types>=0.6.0 in e:\\vibe-judges\\myenv\\lib\\site-packages (from pydantic>=2.7.4->langgraph) (0.7.0)\n",
      "Requirement already satisfied: pydantic-core==2.33.2 in e:\\vibe-judges\\myenv\\lib\\site-packages (from pydantic>=2.7.4->langgraph) (2.33.2)\n",
      "Requirement already satisfied: typing-inspection>=0.4.0 in e:\\vibe-judges\\myenv\\lib\\site-packages (from pydantic>=2.7.4->langgraph) (0.4.1)\n",
      "Collecting regex>=2022.1.18 (from tiktoken<1,>=0.7->langchain_openai)\n",
      "  Downloading regex-2025.9.1-cp311-cp311-win_amd64.whl.metadata (41 kB)\n",
      "     ---------------------------------------- 0.0/41.5 kB ? eta -:--:--\n",
      "     ---------------------------------------- 41.5/41.5 kB 2.0 MB/s eta 0:00:00\n",
      "Requirement already satisfied: requests>=2.26.0 in e:\\vibe-judges\\myenv\\lib\\site-packages (from tiktoken<1,>=0.7->langchain_openai) (2.32.5)\n",
      "Requirement already satisfied: idna>=2.8 in e:\\vibe-judges\\myenv\\lib\\site-packages (from anyio<5,>=3.5.0->openai<2.0.0,>=1.104.2->langchain_openai) (3.10)\n",
      "Requirement already satisfied: certifi in e:\\vibe-judges\\myenv\\lib\\site-packages (from httpx>=0.25.2->langgraph-sdk<0.3.0,>=0.2.2->langgraph) (2025.8.3)\n",
      "Requirement already satisfied: httpcore==1.* in e:\\vibe-judges\\myenv\\lib\\site-packages (from httpx>=0.25.2->langgraph-sdk<0.3.0,>=0.2.2->langgraph) (1.0.9)\n",
      "Requirement already satisfied: h11>=0.16 in e:\\vibe-judges\\myenv\\lib\\site-packages (from httpcore==1.*->httpx>=0.25.2->langgraph-sdk<0.3.0,>=0.2.2->langgraph) (0.16.0)\n",
      "Requirement already satisfied: jsonpointer>=1.9 in e:\\vibe-judges\\myenv\\lib\\site-packages (from jsonpatch<2.0,>=1.33->langchain-core>=0.1->langgraph) (3.0.0)\n",
      "Requirement already satisfied: requests-toolbelt>=1.0.0 in e:\\vibe-judges\\myenv\\lib\\site-packages (from langsmith>=0.3.45->langchain-core>=0.1->langgraph) (1.0.0)\n",
      "Requirement already satisfied: zstandard>=0.23.0 in e:\\vibe-judges\\myenv\\lib\\site-packages (from langsmith>=0.3.45->langchain-core>=0.1->langgraph) (0.24.0)\n",
      "Requirement already satisfied: charset_normalizer<4,>=2 in e:\\vibe-judges\\myenv\\lib\\site-packages (from requests>=2.26.0->tiktoken<1,>=0.7->langchain_openai) (3.4.3)\n",
      "Requirement already satisfied: urllib3<3,>=1.21.1 in e:\\vibe-judges\\myenv\\lib\\site-packages (from requests>=2.26.0->tiktoken<1,>=0.7->langchain_openai) (2.5.0)\n",
      "Requirement already satisfied: colorama in e:\\vibe-judges\\myenv\\lib\\site-packages (from tqdm>4->openai<2.0.0,>=1.104.2->langchain_openai) (0.4.6)\n",
      "Downloading langgraph-0.6.7-py3-none-any.whl (153 kB)\n",
      "   ---------------------------------------- 0.0/153.3 kB ? eta -:--:--\n",
      "   ------------------------------------- -- 143.4/153.3 kB 2.9 MB/s eta 0:00:01\n",
      "   ---------------------------------------- 153.3/153.3 kB 3.1 MB/s eta 0:00:00\n",
      "Downloading langchain_openai-0.3.33-py3-none-any.whl (74 kB)\n",
      "   ---------------------------------------- 0.0/75.0 kB ? eta -:--:--\n",
      "   ---------------------------------------- 75.0/75.0 kB 4.0 MB/s eta 0:00:00\n",
      "Downloading langchain_core-0.3.76-py3-none-any.whl (447 kB)\n",
      "   ---------------------------------------- 0.0/447.5 kB ? eta -:--:--\n",
      "   ---------------------- ----------------- 256.0/447.5 kB 7.9 MB/s eta 0:00:01\n",
      "   ---------------------------------------- 447.5/447.5 kB 9.3 MB/s eta 0:00:00\n",
      "Downloading langgraph_checkpoint-2.1.1-py3-none-any.whl (43 kB)\n",
      "   ---------------------------------------- 0.0/43.9 kB ? eta -:--:--\n",
      "   ---------------------------------------- 43.9/43.9 kB 2.2 MB/s eta 0:00:00\n",
      "Downloading langgraph_prebuilt-0.6.4-py3-none-any.whl (28 kB)\n",
      "Downloading langgraph_sdk-0.2.6-py3-none-any.whl (54 kB)\n",
      "   ---------------------------------------- 0.0/54.6 kB ? eta -:--:--\n",
      "   ---------------------------------------- 54.6/54.6 kB 2.8 MB/s eta 0:00:00\n",
      "Downloading openai-1.107.1-py3-none-any.whl (945 kB)\n",
      "   ---------------------------------------- 0.0/945.2 kB ? eta -:--:--\n",
      "   -------------------------------- ------ 798.7/945.2 kB 16.8 MB/s eta 0:00:01\n",
      "   --------------------------------------- 945.2/945.2 kB 14.8 MB/s eta 0:00:00\n",
      "Downloading tiktoken-0.11.0-cp311-cp311-win_amd64.whl (884 kB)\n",
      "   ---------------------------------------- 0.0/884.4 kB ? eta -:--:--\n",
      "   ----------------------------------- --- 798.7/884.4 kB 25.4 MB/s eta 0:00:01\n",
      "   --------------------------------------- 884.4/884.4 kB 18.6 MB/s eta 0:00:00\n",
      "Downloading xxhash-3.5.0-cp311-cp311-win_amd64.whl (30 kB)\n",
      "Using cached distro-1.9.0-py3-none-any.whl (20 kB)\n",
      "Downloading jiter-0.10.0-cp311-cp311-win_amd64.whl (209 kB)\n",
      "   ---------------------------------------- 0.0/209.2 kB ? eta -:--:--\n",
      "   --------------------------------------- 209.2/209.2 kB 13.3 MB/s eta 0:00:00\n",
      "Downloading ormsgpack-1.10.0-cp311-cp311-win_amd64.whl (121 kB)\n",
      "   ---------------------------------------- 0.0/121.2 kB ? eta -:--:--\n",
      "   ---------------------------------------- 121.2/121.2 kB 7.4 MB/s eta 0:00:00\n",
      "Downloading regex-2025.9.1-cp311-cp311-win_amd64.whl (276 kB)\n",
      "   ---------------------------------------- 0.0/276.2 kB ? eta -:--:--\n",
      "   --------------------------------------- 276.2/276.2 kB 16.6 MB/s eta 0:00:00\n",
      "Using cached tqdm-4.67.1-py3-none-any.whl (78 kB)\n",
      "Installing collected packages: xxhash, tqdm, regex, ormsgpack, jiter, distro, tiktoken, openai, langgraph-sdk, langchain-core, langgraph-checkpoint, langchain_openai, langgraph-prebuilt, langgraph\n",
      "  Attempting uninstall: langchain-core\n",
      "    Found existing installation: langchain-core 0.3.75\n",
      "    Uninstalling langchain-core-0.3.75:\n",
      "      Successfully uninstalled langchain-core-0.3.75\n",
      "Successfully installed distro-1.9.0 jiter-0.10.0 langchain-core-0.3.76 langchain_openai-0.3.33 langgraph-0.6.7 langgraph-checkpoint-2.1.1 langgraph-prebuilt-0.6.4 langgraph-sdk-0.2.6 openai-1.107.1 ormsgpack-1.10.0 regex-2025.9.1 tiktoken-0.11.0 tqdm-4.67.1 xxhash-3.5.0\n",
      "Note: you may need to restart the kernel to use updated packages.\n"
     ]
    },
    {
     "name": "stderr",
     "output_type": "stream",
     "text": [
      "\n",
      "[notice] A new release of pip is available: 24.0 -> 25.2\n",
      "[notice] To update, run: python.exe -m pip install --upgrade pip\n"
     ]
    }
   ],
   "source": [
    "%pip install langgraph langchain_openai"
   ]
  },
  {
   "cell_type": "code",
   "execution_count": 1,
   "id": "5677533d",
   "metadata": {},
   "outputs": [],
   "source": [
    "import os\n",
    "from dotenv import load_dotenv\n",
    "\n",
    "from typing import TypedDict, List, Dict, Any, Optional\n",
    "from langgraph.graph import StateGraph, START, END\n",
    "from langchain_openai import ChatOpenAI\n",
    "from langchain_core.messages import HumanMessage\n",
    "import requests\n",
    "from striprtf.striprtf import rtf_to_text\n",
    "\n",
    "load_dotenv()\n",
    "# Set your OpenAI API key here\n",
    "api_key = os.getenv(\"OPENAI_API_KEY\")\n",
    "\n",
    "# Initialize our LLM\n",
    "model = ChatOpenAI(model=\"gpt-4o\", temperature=0)\n"
   ]
  },
  {
   "cell_type": "code",
   "execution_count": 5,
   "id": "575f9189",
   "metadata": {},
   "outputs": [],
   "source": [
    "class AgentState(TypedDict):\n",
    "\n",
    "    url: Optional[str]  # Contains the URL to fetch the RTF document\n",
    "    text: Optional[str]  # Extracted text from the RTF document\n",
    "    summary: Optional[str]  # Summary of the text"
   ]
  },
  {
   "cell_type": "code",
   "execution_count": null,
   "id": "5b8bb306",
   "metadata": {},
   "outputs": [],
   "source": [
    "# url = \"http://od.reyestr.court.gov.ua/files/61/520ce2d5f53b2a22eafd30fca9c17d43.rtf\"\n",
    "# text = download_rtf_text(url)"
   ]
  },
  {
   "cell_type": "code",
   "execution_count": 6,
   "id": "e38bbb44",
   "metadata": {},
   "outputs": [],
   "source": [
    "url = \"http://od.reyestr.court.gov.ua/files/61/520ce2d5f53b2a22eafd30fca9c17d43.rtf\""
   ]
  },
  {
   "cell_type": "code",
   "execution_count": 3,
   "id": "efc5e488",
   "metadata": {},
   "outputs": [],
   "source": [
    "def extract_rtf_text(url: str) -> str:\n",
    "    \"\"\"\n",
    "    Extract text from URL in RTF format.\n",
    "\n",
    "    Args:\n",
    "        url (str): The URL of the RTF document.\n",
    "\n",
    "    Returns:\n",
    "        str: The extracted plain text from the RTF document.\n",
    "    \"\"\"\n",
    "    response = requests.get(url)\n",
    "    response.raise_for_status()\n",
    "\n",
    "    rtf_content = response.content.decode(\"utf-8\", errors=\"ignore\")\n",
    "\n",
    "    text = rtf_to_text(rtf_content)\n",
    "    return text\n",
    "\n",
    "def divide(a: int, b: int) -> float:\n",
    "    \"\"\"Divide a and b.\"\"\"\n",
    "    return a / b\n",
    "\n",
    "\n",
    "def summarize_text(text: str) -> str:\n",
    "    \"\"\"\n",
    "    Summarizes the given text using the LLM.\n",
    "    \n",
    "    Args:\n",
    "        text (str): The text to summarize.\n",
    "\n",
    "    Returns:\n",
    "        str: The summary of the text.\n",
    "    \"\"\"\n",
    "    prompt = f\"Summarize the following text:\\n\\n{text}\"\n",
    "    response = model.invoke([HumanMessage(content=prompt)])\n",
    "    return response.content\n",
    "\n",
    "tools = [\n",
    "    extract_rtf_text,\n",
    "    divide, \n",
    "    summarize_text\n",
    "]\n",
    "\n",
    "llm_with_tools = model.bind_tools(tools, parallel_tool_calls=False)"
   ]
  },
  {
   "cell_type": "code",
   "execution_count": null,
   "id": "15a0699c",
   "metadata": {},
   "outputs": [],
   "source": [
    "# summarize_text(text: str) -> str:\n",
    "#     Summarizes the provided text.\n",
    "\n",
    "#     Args:\n",
    "#         text (str): The text to be summarized.\n",
    "\n",
    "#     Returns:\n",
    "#         str: The summarized text.\n",
    "\n",
    "\n",
    "#     Returns:\n",
    "#         str: The extracted plain text from the RTF document.\n",
    "\n",
    "# # extract_rtf_text(url: str) -> str:\n",
    "# #     Extracts and returns the plain text from a given RTF document URL.\n",
    "\n",
    "# #     Args:\n",
    "# #         url (str): The URL of the RTF document."
   ]
  },
  {
   "cell_type": "code",
   "execution_count": 11,
   "id": "3e6db3aa",
   "metadata": {},
   "outputs": [],
   "source": [
    "from langchain_core.messages import HumanMessage, SystemMessage\n",
    "from langchain_core.utils.function_calling import convert_to_openai_tool\n",
    "\n",
    "def assistant(state: AgentState):\n",
    "    textual_description_of_tool = \"\"\"\n",
    "extract_rtf_text(url: str) -> str:\n",
    "    Extract text from URL in RTF format.\n",
    "    \n",
    "    Args:\n",
    "        url (str): The URL of the RTF document.\n",
    "\n",
    "    Returns:\n",
    "        str: The extracted plain text from the RTF document.\n",
    "\n",
    "summarize_text(text: str) -> str:\n",
    "    Summarizes the provided text.\n",
    "\n",
    "    Args:\n",
    "        text (str): The text to be summarized.\n",
    "\n",
    "    Returns:\n",
    "        str: The summarized text.\n",
    "\n",
    "divide(a: int, b: int) -> float:\n",
    "    Divide a and b\n",
    "\"\"\"\n",
    "    # url = state[\"url\"]\n",
    "\n",
    "    sys_msg = SystemMessage(content=f\"You are an helpful agent that can summarize some textes, extract text from url and run some computatio without provided tool\\n{textual_description_of_tool} \\n  You have access to some otpional url and you can extract text from it. Currently the loaded url is : {url}\")\n",
    "\n",
    "    return {\"messages\": [llm_with_tools.invoke([sys_msg])], \"url\": state[\"url\"]}"
   ]
  },
  {
   "cell_type": "code",
   "execution_count": 4,
   "id": "c61f2fbb",
   "metadata": {},
   "outputs": [
    {
     "ename": "NameError",
     "evalue": "name 'AgentState' is not defined",
     "output_type": "error",
     "traceback": [
      "\u001b[31m---------------------------------------------------------------------------\u001b[39m",
      "\u001b[31mNameError\u001b[39m                                 Traceback (most recent call last)",
      "\u001b[36mCell\u001b[39m\u001b[36m \u001b[39m\u001b[32mIn[4]\u001b[39m\u001b[32m, line 5\u001b[39m\n\u001b[32m      2\u001b[39m \u001b[38;5;28;01mfrom\u001b[39;00m\u001b[38;5;250m \u001b[39m\u001b[34;01mlanggraph\u001b[39;00m\u001b[34;01m.\u001b[39;00m\u001b[34;01mprebuilt\u001b[39;00m\u001b[38;5;250m \u001b[39m\u001b[38;5;28;01mimport\u001b[39;00m ToolNode, tools_condition\n\u001b[32m      3\u001b[39m \u001b[38;5;28;01mfrom\u001b[39;00m\u001b[38;5;250m \u001b[39m\u001b[34;01mIPython\u001b[39;00m\u001b[34;01m.\u001b[39;00m\u001b[34;01mdisplay\u001b[39;00m\u001b[38;5;250m \u001b[39m\u001b[38;5;28;01mimport\u001b[39;00m Image, display\n\u001b[32m----> \u001b[39m\u001b[32m5\u001b[39m builder = StateGraph(\u001b[43mAgentState\u001b[49m)\n\u001b[32m      7\u001b[39m builder.add_node(\u001b[33m\"\u001b[39m\u001b[33massistant\u001b[39m\u001b[33m\"\u001b[39m, assistant)\n\u001b[32m      8\u001b[39m builder.add_node(\u001b[33m\"\u001b[39m\u001b[33mtools\u001b[39m\u001b[33m\"\u001b[39m, ToolNode(tools))\n",
      "\u001b[31mNameError\u001b[39m: name 'AgentState' is not defined"
     ]
    }
   ],
   "source": [
    "from langgraph.graph import START, StateGraph\n",
    "from langgraph.prebuilt import ToolNode, tools_condition\n",
    "from IPython.display import Image, display\n",
    "\n",
    "builder = StateGraph(AgentState)\n",
    "\n",
    "builder.add_node(\"assistant\", assistant)\n",
    "builder.add_node(\"tools\", ToolNode(tools))\n",
    "\n",
    "builder.add_edge(START, \"assistant\")\n",
    "\n",
    "builder.add_conditional_edges(\n",
    "    \"assistant\",\n",
    "    # If the latest message (result) from assistant is a tool call -> tools_condition routes to tools\n",
    "    # If the latest message (result) from assistant is a not a tool call -> tools_condition routes to END\n",
    "    tools_condition,\n",
    ")\n",
    "\n",
    "builder.add_edge(\"tools\", \"assistant\")\n",
    "react_graph = builder.compile()\n",
    "\n",
    "display(Image(react_graph.get_graph(xray=True).draw_mermaid_png()))"
   ]
  },
  {
   "cell_type": "code",
   "execution_count": 15,
   "id": "4d7ba150",
   "metadata": {},
   "outputs": [
    {
     "ename": "ValueError",
     "evalue": "No message found in input",
     "output_type": "error",
     "traceback": [
      "\u001b[31m---------------------------------------------------------------------------\u001b[39m",
      "\u001b[31mValueError\u001b[39m                                Traceback (most recent call last)",
      "\u001b[36mCell\u001b[39m\u001b[36m \u001b[39m\u001b[32mIn[15]\u001b[39m\u001b[32m, line 3\u001b[39m\n\u001b[32m      1\u001b[39m messages = [HumanMessage(content=\u001b[33m\"\u001b[39m\u001b[33mDivide 6790 by 5\u001b[39m\u001b[33m\"\u001b[39m)]\n\u001b[32m----> \u001b[39m\u001b[32m3\u001b[39m messages = \u001b[43mreact_graph\u001b[49m\u001b[43m.\u001b[49m\u001b[43minvoke\u001b[49m\u001b[43m(\u001b[49m\u001b[43m{\u001b[49m\u001b[33;43m\"\u001b[39;49m\u001b[33;43mmessages\u001b[39;49m\u001b[33;43m\"\u001b[39;49m\u001b[43m:\u001b[49m\u001b[43m \u001b[49m\u001b[43mmessages\u001b[49m\u001b[43m,\u001b[49m\u001b[43m \u001b[49m\u001b[33;43m\"\u001b[39;49m\u001b[33;43murl\u001b[39;49m\u001b[33;43m\"\u001b[39;49m\u001b[43m:\u001b[49m\u001b[43m \u001b[49m\u001b[38;5;28;43;01mNone\u001b[39;49;00m\u001b[43m}\u001b[49m\u001b[43m)\u001b[49m\n",
      "\u001b[36mFile \u001b[39m\u001b[32me:\\vibe-judges\\myenv\\Lib\\site-packages\\langgraph\\pregel\\main.py:3026\u001b[39m, in \u001b[36mPregel.invoke\u001b[39m\u001b[34m(self, input, config, context, stream_mode, print_mode, output_keys, interrupt_before, interrupt_after, durability, **kwargs)\u001b[39m\n\u001b[32m   3023\u001b[39m chunks: \u001b[38;5;28mlist\u001b[39m[\u001b[38;5;28mdict\u001b[39m[\u001b[38;5;28mstr\u001b[39m, Any] | Any] = []\n\u001b[32m   3024\u001b[39m interrupts: \u001b[38;5;28mlist\u001b[39m[Interrupt] = []\n\u001b[32m-> \u001b[39m\u001b[32m3026\u001b[39m \u001b[43m\u001b[49m\u001b[38;5;28;43;01mfor\u001b[39;49;00m\u001b[43m \u001b[49m\u001b[43mchunk\u001b[49m\u001b[43m \u001b[49m\u001b[38;5;129;43;01min\u001b[39;49;00m\u001b[43m \u001b[49m\u001b[38;5;28;43mself\u001b[39;49m\u001b[43m.\u001b[49m\u001b[43mstream\u001b[49m\u001b[43m(\u001b[49m\n\u001b[32m   3027\u001b[39m \u001b[43m    \u001b[49m\u001b[38;5;28;43minput\u001b[39;49m\u001b[43m,\u001b[49m\n\u001b[32m   3028\u001b[39m \u001b[43m    \u001b[49m\u001b[43mconfig\u001b[49m\u001b[43m,\u001b[49m\n\u001b[32m   3029\u001b[39m \u001b[43m    \u001b[49m\u001b[43mcontext\u001b[49m\u001b[43m=\u001b[49m\u001b[43mcontext\u001b[49m\u001b[43m,\u001b[49m\n\u001b[32m   3030\u001b[39m \u001b[43m    \u001b[49m\u001b[43mstream_mode\u001b[49m\u001b[43m=\u001b[49m\u001b[43m[\u001b[49m\u001b[33;43m\"\u001b[39;49m\u001b[33;43mupdates\u001b[39;49m\u001b[33;43m\"\u001b[39;49m\u001b[43m,\u001b[49m\u001b[43m \u001b[49m\u001b[33;43m\"\u001b[39;49m\u001b[33;43mvalues\u001b[39;49m\u001b[33;43m\"\u001b[39;49m\u001b[43m]\u001b[49m\n\u001b[32m   3031\u001b[39m \u001b[43m    \u001b[49m\u001b[38;5;28;43;01mif\u001b[39;49;00m\u001b[43m \u001b[49m\u001b[43mstream_mode\u001b[49m\u001b[43m \u001b[49m\u001b[43m==\u001b[49m\u001b[43m \u001b[49m\u001b[33;43m\"\u001b[39;49m\u001b[33;43mvalues\u001b[39;49m\u001b[33;43m\"\u001b[39;49m\n\u001b[32m   3032\u001b[39m \u001b[43m    \u001b[49m\u001b[38;5;28;43;01melse\u001b[39;49;00m\u001b[43m \u001b[49m\u001b[43mstream_mode\u001b[49m\u001b[43m,\u001b[49m\n\u001b[32m   3033\u001b[39m \u001b[43m    \u001b[49m\u001b[43mprint_mode\u001b[49m\u001b[43m=\u001b[49m\u001b[43mprint_mode\u001b[49m\u001b[43m,\u001b[49m\n\u001b[32m   3034\u001b[39m \u001b[43m    \u001b[49m\u001b[43moutput_keys\u001b[49m\u001b[43m=\u001b[49m\u001b[43moutput_keys\u001b[49m\u001b[43m,\u001b[49m\n\u001b[32m   3035\u001b[39m \u001b[43m    \u001b[49m\u001b[43minterrupt_before\u001b[49m\u001b[43m=\u001b[49m\u001b[43minterrupt_before\u001b[49m\u001b[43m,\u001b[49m\n\u001b[32m   3036\u001b[39m \u001b[43m    \u001b[49m\u001b[43minterrupt_after\u001b[49m\u001b[43m=\u001b[49m\u001b[43minterrupt_after\u001b[49m\u001b[43m,\u001b[49m\n\u001b[32m   3037\u001b[39m \u001b[43m    \u001b[49m\u001b[43mdurability\u001b[49m\u001b[43m=\u001b[49m\u001b[43mdurability\u001b[49m\u001b[43m,\u001b[49m\n\u001b[32m   3038\u001b[39m \u001b[43m    \u001b[49m\u001b[43m*\u001b[49m\u001b[43m*\u001b[49m\u001b[43mkwargs\u001b[49m\u001b[43m,\u001b[49m\n\u001b[32m   3039\u001b[39m \u001b[43m\u001b[49m\u001b[43m)\u001b[49m\u001b[43m:\u001b[49m\n\u001b[32m   3040\u001b[39m \u001b[43m    \u001b[49m\u001b[38;5;28;43;01mif\u001b[39;49;00m\u001b[43m \u001b[49m\u001b[43mstream_mode\u001b[49m\u001b[43m \u001b[49m\u001b[43m==\u001b[49m\u001b[43m \u001b[49m\u001b[33;43m\"\u001b[39;49m\u001b[33;43mvalues\u001b[39;49m\u001b[33;43m\"\u001b[39;49m\u001b[43m:\u001b[49m\n\u001b[32m   3041\u001b[39m \u001b[43m        \u001b[49m\u001b[38;5;28;43;01mif\u001b[39;49;00m\u001b[43m \u001b[49m\u001b[38;5;28;43mlen\u001b[39;49m\u001b[43m(\u001b[49m\u001b[43mchunk\u001b[49m\u001b[43m)\u001b[49m\u001b[43m \u001b[49m\u001b[43m==\u001b[49m\u001b[43m \u001b[49m\u001b[32;43m2\u001b[39;49m\u001b[43m:\u001b[49m\n",
      "\u001b[36mFile \u001b[39m\u001b[32me:\\vibe-judges\\myenv\\Lib\\site-packages\\langgraph\\pregel\\main.py:2647\u001b[39m, in \u001b[36mPregel.stream\u001b[39m\u001b[34m(self, input, config, context, stream_mode, print_mode, output_keys, interrupt_before, interrupt_after, durability, subgraphs, debug, **kwargs)\u001b[39m\n\u001b[32m   2645\u001b[39m \u001b[38;5;28;01mfor\u001b[39;00m task \u001b[38;5;129;01min\u001b[39;00m loop.match_cached_writes():\n\u001b[32m   2646\u001b[39m     loop.output_writes(task.id, task.writes, cached=\u001b[38;5;28;01mTrue\u001b[39;00m)\n\u001b[32m-> \u001b[39m\u001b[32m2647\u001b[39m \u001b[43m\u001b[49m\u001b[38;5;28;43;01mfor\u001b[39;49;00m\u001b[43m \u001b[49m\u001b[43m_\u001b[49m\u001b[43m \u001b[49m\u001b[38;5;129;43;01min\u001b[39;49;00m\u001b[43m \u001b[49m\u001b[43mrunner\u001b[49m\u001b[43m.\u001b[49m\u001b[43mtick\u001b[49m\u001b[43m(\u001b[49m\n\u001b[32m   2648\u001b[39m \u001b[43m    \u001b[49m\u001b[43m[\u001b[49m\u001b[43mt\u001b[49m\u001b[43m \u001b[49m\u001b[38;5;28;43;01mfor\u001b[39;49;00m\u001b[43m \u001b[49m\u001b[43mt\u001b[49m\u001b[43m \u001b[49m\u001b[38;5;129;43;01min\u001b[39;49;00m\u001b[43m \u001b[49m\u001b[43mloop\u001b[49m\u001b[43m.\u001b[49m\u001b[43mtasks\u001b[49m\u001b[43m.\u001b[49m\u001b[43mvalues\u001b[49m\u001b[43m(\u001b[49m\u001b[43m)\u001b[49m\u001b[43m \u001b[49m\u001b[38;5;28;43;01mif\u001b[39;49;00m\u001b[43m \u001b[49m\u001b[38;5;129;43;01mnot\u001b[39;49;00m\u001b[43m \u001b[49m\u001b[43mt\u001b[49m\u001b[43m.\u001b[49m\u001b[43mwrites\u001b[49m\u001b[43m]\u001b[49m\u001b[43m,\u001b[49m\n\u001b[32m   2649\u001b[39m \u001b[43m    \u001b[49m\u001b[43mtimeout\u001b[49m\u001b[43m=\u001b[49m\u001b[38;5;28;43mself\u001b[39;49m\u001b[43m.\u001b[49m\u001b[43mstep_timeout\u001b[49m\u001b[43m,\u001b[49m\n\u001b[32m   2650\u001b[39m \u001b[43m    \u001b[49m\u001b[43mget_waiter\u001b[49m\u001b[43m=\u001b[49m\u001b[43mget_waiter\u001b[49m\u001b[43m,\u001b[49m\n\u001b[32m   2651\u001b[39m \u001b[43m    \u001b[49m\u001b[43mschedule_task\u001b[49m\u001b[43m=\u001b[49m\u001b[43mloop\u001b[49m\u001b[43m.\u001b[49m\u001b[43maccept_push\u001b[49m\u001b[43m,\u001b[49m\n\u001b[32m   2652\u001b[39m \u001b[43m\u001b[49m\u001b[43m)\u001b[49m\u001b[43m:\u001b[49m\n\u001b[32m   2653\u001b[39m \u001b[43m    \u001b[49m\u001b[38;5;66;43;03m# emit output\u001b[39;49;00m\n\u001b[32m   2654\u001b[39m \u001b[43m    \u001b[49m\u001b[38;5;28;43;01myield from\u001b[39;49;00m\u001b[43m \u001b[49m\u001b[43m_output\u001b[49m\u001b[43m(\u001b[49m\n\u001b[32m   2655\u001b[39m \u001b[43m        \u001b[49m\u001b[43mstream_mode\u001b[49m\u001b[43m,\u001b[49m\u001b[43m \u001b[49m\u001b[43mprint_mode\u001b[49m\u001b[43m,\u001b[49m\u001b[43m \u001b[49m\u001b[43msubgraphs\u001b[49m\u001b[43m,\u001b[49m\u001b[43m \u001b[49m\u001b[43mstream\u001b[49m\u001b[43m.\u001b[49m\u001b[43mget\u001b[49m\u001b[43m,\u001b[49m\u001b[43m \u001b[49m\u001b[43mqueue\u001b[49m\u001b[43m.\u001b[49m\u001b[43mEmpty\u001b[49m\n\u001b[32m   2656\u001b[39m \u001b[43m    \u001b[49m\u001b[43m)\u001b[49m\n\u001b[32m   2657\u001b[39m loop.after_tick()\n",
      "\u001b[36mFile \u001b[39m\u001b[32me:\\vibe-judges\\myenv\\Lib\\site-packages\\langgraph\\pregel\\_runner.py:162\u001b[39m, in \u001b[36mPregelRunner.tick\u001b[39m\u001b[34m(self, tasks, reraise, timeout, retry_policy, get_waiter, schedule_task)\u001b[39m\n\u001b[32m    160\u001b[39m t = tasks[\u001b[32m0\u001b[39m]\n\u001b[32m    161\u001b[39m \u001b[38;5;28;01mtry\u001b[39;00m:\n\u001b[32m--> \u001b[39m\u001b[32m162\u001b[39m     \u001b[43mrun_with_retry\u001b[49m\u001b[43m(\u001b[49m\n\u001b[32m    163\u001b[39m \u001b[43m        \u001b[49m\u001b[43mt\u001b[49m\u001b[43m,\u001b[49m\n\u001b[32m    164\u001b[39m \u001b[43m        \u001b[49m\u001b[43mretry_policy\u001b[49m\u001b[43m,\u001b[49m\n\u001b[32m    165\u001b[39m \u001b[43m        \u001b[49m\u001b[43mconfigurable\u001b[49m\u001b[43m=\u001b[49m\u001b[43m{\u001b[49m\n\u001b[32m    166\u001b[39m \u001b[43m            \u001b[49m\u001b[43mCONFIG_KEY_CALL\u001b[49m\u001b[43m:\u001b[49m\u001b[43m \u001b[49m\u001b[43mpartial\u001b[49m\u001b[43m(\u001b[49m\n\u001b[32m    167\u001b[39m \u001b[43m                \u001b[49m\u001b[43m_call\u001b[49m\u001b[43m,\u001b[49m\n\u001b[32m    168\u001b[39m \u001b[43m                \u001b[49m\u001b[43mweakref\u001b[49m\u001b[43m.\u001b[49m\u001b[43mref\u001b[49m\u001b[43m(\u001b[49m\u001b[43mt\u001b[49m\u001b[43m)\u001b[49m\u001b[43m,\u001b[49m\n\u001b[32m    169\u001b[39m \u001b[43m                \u001b[49m\u001b[43mretry_policy\u001b[49m\u001b[43m=\u001b[49m\u001b[43mretry_policy\u001b[49m\u001b[43m,\u001b[49m\n\u001b[32m    170\u001b[39m \u001b[43m                \u001b[49m\u001b[43mfutures\u001b[49m\u001b[43m=\u001b[49m\u001b[43mweakref\u001b[49m\u001b[43m.\u001b[49m\u001b[43mref\u001b[49m\u001b[43m(\u001b[49m\u001b[43mfutures\u001b[49m\u001b[43m)\u001b[49m\u001b[43m,\u001b[49m\n\u001b[32m    171\u001b[39m \u001b[43m                \u001b[49m\u001b[43mschedule_task\u001b[49m\u001b[43m=\u001b[49m\u001b[43mschedule_task\u001b[49m\u001b[43m,\u001b[49m\n\u001b[32m    172\u001b[39m \u001b[43m                \u001b[49m\u001b[43msubmit\u001b[49m\u001b[43m=\u001b[49m\u001b[38;5;28;43mself\u001b[39;49m\u001b[43m.\u001b[49m\u001b[43msubmit\u001b[49m\u001b[43m,\u001b[49m\n\u001b[32m    173\u001b[39m \u001b[43m            \u001b[49m\u001b[43m)\u001b[49m\u001b[43m,\u001b[49m\n\u001b[32m    174\u001b[39m \u001b[43m        \u001b[49m\u001b[43m}\u001b[49m\u001b[43m,\u001b[49m\n\u001b[32m    175\u001b[39m \u001b[43m    \u001b[49m\u001b[43m)\u001b[49m\n\u001b[32m    176\u001b[39m     \u001b[38;5;28mself\u001b[39m.commit(t, \u001b[38;5;28;01mNone\u001b[39;00m)\n\u001b[32m    177\u001b[39m \u001b[38;5;28;01mexcept\u001b[39;00m \u001b[38;5;167;01mException\u001b[39;00m \u001b[38;5;28;01mas\u001b[39;00m exc:\n",
      "\u001b[36mFile \u001b[39m\u001b[32me:\\vibe-judges\\myenv\\Lib\\site-packages\\langgraph\\pregel\\_retry.py:42\u001b[39m, in \u001b[36mrun_with_retry\u001b[39m\u001b[34m(task, retry_policy, configurable)\u001b[39m\n\u001b[32m     40\u001b[39m     task.writes.clear()\n\u001b[32m     41\u001b[39m     \u001b[38;5;66;03m# run the task\u001b[39;00m\n\u001b[32m---> \u001b[39m\u001b[32m42\u001b[39m     \u001b[38;5;28;01mreturn\u001b[39;00m \u001b[43mtask\u001b[49m\u001b[43m.\u001b[49m\u001b[43mproc\u001b[49m\u001b[43m.\u001b[49m\u001b[43minvoke\u001b[49m\u001b[43m(\u001b[49m\u001b[43mtask\u001b[49m\u001b[43m.\u001b[49m\u001b[43minput\u001b[49m\u001b[43m,\u001b[49m\u001b[43m \u001b[49m\u001b[43mconfig\u001b[49m\u001b[43m)\u001b[49m\n\u001b[32m     43\u001b[39m \u001b[38;5;28;01mexcept\u001b[39;00m ParentCommand \u001b[38;5;28;01mas\u001b[39;00m exc:\n\u001b[32m     44\u001b[39m     ns: \u001b[38;5;28mstr\u001b[39m = config[CONF][CONFIG_KEY_CHECKPOINT_NS]\n",
      "\u001b[36mFile \u001b[39m\u001b[32me:\\vibe-judges\\myenv\\Lib\\site-packages\\langgraph\\_internal\\_runnable.py:657\u001b[39m, in \u001b[36mRunnableSeq.invoke\u001b[39m\u001b[34m(self, input, config, **kwargs)\u001b[39m\n\u001b[32m    655\u001b[39m     \u001b[38;5;66;03m# run in context\u001b[39;00m\n\u001b[32m    656\u001b[39m     \u001b[38;5;28;01mwith\u001b[39;00m set_config_context(config, run) \u001b[38;5;28;01mas\u001b[39;00m context:\n\u001b[32m--> \u001b[39m\u001b[32m657\u001b[39m         \u001b[38;5;28minput\u001b[39m = \u001b[43mcontext\u001b[49m\u001b[43m.\u001b[49m\u001b[43mrun\u001b[49m\u001b[43m(\u001b[49m\u001b[43mstep\u001b[49m\u001b[43m.\u001b[49m\u001b[43minvoke\u001b[49m\u001b[43m,\u001b[49m\u001b[43m \u001b[49m\u001b[38;5;28;43minput\u001b[39;49m\u001b[43m,\u001b[49m\u001b[43m \u001b[49m\u001b[43mconfig\u001b[49m\u001b[43m,\u001b[49m\u001b[43m \u001b[49m\u001b[43m*\u001b[49m\u001b[43m*\u001b[49m\u001b[43mkwargs\u001b[49m\u001b[43m)\u001b[49m\n\u001b[32m    658\u001b[39m \u001b[38;5;28;01melse\u001b[39;00m:\n\u001b[32m    659\u001b[39m     \u001b[38;5;28minput\u001b[39m = step.invoke(\u001b[38;5;28minput\u001b[39m, config)\n",
      "\u001b[36mFile \u001b[39m\u001b[32me:\\vibe-judges\\myenv\\Lib\\site-packages\\langgraph\\_internal\\_runnable.py:401\u001b[39m, in \u001b[36mRunnableCallable.invoke\u001b[39m\u001b[34m(self, input, config, **kwargs)\u001b[39m\n\u001b[32m    399\u001b[39m         run_manager.on_chain_end(ret)\n\u001b[32m    400\u001b[39m \u001b[38;5;28;01melse\u001b[39;00m:\n\u001b[32m--> \u001b[39m\u001b[32m401\u001b[39m     ret = \u001b[38;5;28;43mself\u001b[39;49m\u001b[43m.\u001b[49m\u001b[43mfunc\u001b[49m\u001b[43m(\u001b[49m\u001b[43m*\u001b[49m\u001b[43margs\u001b[49m\u001b[43m,\u001b[49m\u001b[43m \u001b[49m\u001b[43m*\u001b[49m\u001b[43m*\u001b[49m\u001b[43mkwargs\u001b[49m\u001b[43m)\u001b[49m\n\u001b[32m    402\u001b[39m \u001b[38;5;28;01mif\u001b[39;00m \u001b[38;5;28mself\u001b[39m.recurse \u001b[38;5;129;01mand\u001b[39;00m \u001b[38;5;28misinstance\u001b[39m(ret, Runnable):\n\u001b[32m    403\u001b[39m     \u001b[38;5;28;01mreturn\u001b[39;00m ret.invoke(\u001b[38;5;28minput\u001b[39m, config)\n",
      "\u001b[36mFile \u001b[39m\u001b[32me:\\vibe-judges\\myenv\\Lib\\site-packages\\langgraph\\prebuilt\\tool_node.py:363\u001b[39m, in \u001b[36mToolNode._func\u001b[39m\u001b[34m(self, input, config, store)\u001b[39m\n\u001b[32m    352\u001b[39m \u001b[38;5;28;01mdef\u001b[39;00m\u001b[38;5;250m \u001b[39m\u001b[34m_func\u001b[39m(\n\u001b[32m    353\u001b[39m     \u001b[38;5;28mself\u001b[39m,\n\u001b[32m    354\u001b[39m     \u001b[38;5;28minput\u001b[39m: Union[\n\u001b[32m   (...)\u001b[39m\u001b[32m    361\u001b[39m     store: Optional[BaseStore],\n\u001b[32m    362\u001b[39m ) -> Any:\n\u001b[32m--> \u001b[39m\u001b[32m363\u001b[39m     tool_calls, input_type = \u001b[38;5;28;43mself\u001b[39;49m\u001b[43m.\u001b[49m\u001b[43m_parse_input\u001b[49m\u001b[43m(\u001b[49m\u001b[38;5;28;43minput\u001b[39;49m\u001b[43m,\u001b[49m\u001b[43m \u001b[49m\u001b[43mstore\u001b[49m\u001b[43m)\u001b[49m\n\u001b[32m    364\u001b[39m     config_list = get_config_list(config, \u001b[38;5;28mlen\u001b[39m(tool_calls))\n\u001b[32m    365\u001b[39m     input_types = [input_type] * \u001b[38;5;28mlen\u001b[39m(tool_calls)\n",
      "\u001b[36mFile \u001b[39m\u001b[32me:\\vibe-judges\\myenv\\Lib\\site-packages\\langgraph\\prebuilt\\tool_node.py:573\u001b[39m, in \u001b[36mToolNode._parse_input\u001b[39m\u001b[34m(self, input, store)\u001b[39m\n\u001b[32m    571\u001b[39m     input_type = \u001b[33m\"\u001b[39m\u001b[33mdict\u001b[39m\u001b[33m\"\u001b[39m\n\u001b[32m    572\u001b[39m \u001b[38;5;28;01melse\u001b[39;00m:\n\u001b[32m--> \u001b[39m\u001b[32m573\u001b[39m     \u001b[38;5;28;01mraise\u001b[39;00m \u001b[38;5;167;01mValueError\u001b[39;00m(\u001b[33m\"\u001b[39m\u001b[33mNo message found in input\u001b[39m\u001b[33m\"\u001b[39m)\n\u001b[32m    575\u001b[39m \u001b[38;5;28;01mtry\u001b[39;00m:\n\u001b[32m    576\u001b[39m     latest_ai_message = \u001b[38;5;28mnext\u001b[39m(\n\u001b[32m    577\u001b[39m         m \u001b[38;5;28;01mfor\u001b[39;00m m \u001b[38;5;129;01min\u001b[39;00m \u001b[38;5;28mreversed\u001b[39m(messages) \u001b[38;5;28;01mif\u001b[39;00m \u001b[38;5;28misinstance\u001b[39m(m, AIMessage)\n\u001b[32m    578\u001b[39m     )\n",
      "\u001b[31mValueError\u001b[39m: No message found in input",
      "During task with name 'tools' and id '99c614cb-6f70-1e83-0800-d0ce25061232'"
     ]
    }
   ],
   "source": [
    "messages = [HumanMessage(content=\"Divide 6790 by 5\")]\n",
    "\n",
    "messages = react_graph.invoke({\"messages\": messages, \"url\": None})"
   ]
  },
  {
   "cell_type": "code",
   "execution_count": 68,
   "id": "13f06722",
   "metadata": {},
   "outputs": [
    {
     "data": {
      "text/plain": [
       "{'input_text': None}"
      ]
     },
     "execution_count": 68,
     "metadata": {},
     "output_type": "execute_result"
    }
   ],
   "source": [
    "messages"
   ]
  },
  {
   "cell_type": "code",
   "execution_count": 38,
   "id": "4b73f78a",
   "metadata": {},
   "outputs": [
    {
     "ename": "KeyError",
     "evalue": "'url'",
     "output_type": "error",
     "traceback": [
      "\u001b[31m---------------------------------------------------------------------------\u001b[39m",
      "\u001b[31mKeyError\u001b[39m                                  Traceback (most recent call last)",
      "\u001b[36mCell\u001b[39m\u001b[36m \u001b[39m\u001b[32mIn[38]\u001b[39m\u001b[32m, line 3\u001b[39m\n\u001b[32m      1\u001b[39m messages = [HumanMessage(content=\u001b[33mf\u001b[39m\u001b[33m\"\u001b[39m\u001b[33mPlease extract text from this url \u001b[39m\u001b[38;5;132;01m{\u001b[39;00murl\u001b[38;5;132;01m}\u001b[39;00m\u001b[33m\"\u001b[39m)]\n\u001b[32m----> \u001b[39m\u001b[32m3\u001b[39m messages = \u001b[43mreact_graph\u001b[49m\u001b[43m.\u001b[49m\u001b[43minvoke\u001b[49m\u001b[43m(\u001b[49m\u001b[43m{\u001b[49m\u001b[33;43m\"\u001b[39;49m\u001b[33;43mmessages\u001b[39;49m\u001b[33;43m\"\u001b[39;49m\u001b[43m:\u001b[49m\u001b[43m \u001b[49m\u001b[43mmessages\u001b[49m\u001b[43m}\u001b[49m\u001b[43m,\u001b[49m\u001b[43m \u001b[49m\u001b[43m{\u001b[49m\u001b[33;43m\"\u001b[39;49m\u001b[33;43minput_file\u001b[39;49m\u001b[33;43m\"\u001b[39;49m\u001b[43m:\u001b[49m\u001b[43m \u001b[49m\u001b[43murl\u001b[49m\u001b[43m}\u001b[49m\u001b[43m)\u001b[49m\n",
      "\u001b[36mFile \u001b[39m\u001b[32me:\\vibe-judges\\myenv\\Lib\\site-packages\\langgraph\\pregel\\main.py:3026\u001b[39m, in \u001b[36mPregel.invoke\u001b[39m\u001b[34m(self, input, config, context, stream_mode, print_mode, output_keys, interrupt_before, interrupt_after, durability, **kwargs)\u001b[39m\n\u001b[32m   3023\u001b[39m chunks: \u001b[38;5;28mlist\u001b[39m[\u001b[38;5;28mdict\u001b[39m[\u001b[38;5;28mstr\u001b[39m, Any] | Any] = []\n\u001b[32m   3024\u001b[39m interrupts: \u001b[38;5;28mlist\u001b[39m[Interrupt] = []\n\u001b[32m-> \u001b[39m\u001b[32m3026\u001b[39m \u001b[43m\u001b[49m\u001b[38;5;28;43;01mfor\u001b[39;49;00m\u001b[43m \u001b[49m\u001b[43mchunk\u001b[49m\u001b[43m \u001b[49m\u001b[38;5;129;43;01min\u001b[39;49;00m\u001b[43m \u001b[49m\u001b[38;5;28;43mself\u001b[39;49m\u001b[43m.\u001b[49m\u001b[43mstream\u001b[49m\u001b[43m(\u001b[49m\n\u001b[32m   3027\u001b[39m \u001b[43m    \u001b[49m\u001b[38;5;28;43minput\u001b[39;49m\u001b[43m,\u001b[49m\n\u001b[32m   3028\u001b[39m \u001b[43m    \u001b[49m\u001b[43mconfig\u001b[49m\u001b[43m,\u001b[49m\n\u001b[32m   3029\u001b[39m \u001b[43m    \u001b[49m\u001b[43mcontext\u001b[49m\u001b[43m=\u001b[49m\u001b[43mcontext\u001b[49m\u001b[43m,\u001b[49m\n\u001b[32m   3030\u001b[39m \u001b[43m    \u001b[49m\u001b[43mstream_mode\u001b[49m\u001b[43m=\u001b[49m\u001b[43m[\u001b[49m\u001b[33;43m\"\u001b[39;49m\u001b[33;43mupdates\u001b[39;49m\u001b[33;43m\"\u001b[39;49m\u001b[43m,\u001b[49m\u001b[43m \u001b[49m\u001b[33;43m\"\u001b[39;49m\u001b[33;43mvalues\u001b[39;49m\u001b[33;43m\"\u001b[39;49m\u001b[43m]\u001b[49m\n\u001b[32m   3031\u001b[39m \u001b[43m    \u001b[49m\u001b[38;5;28;43;01mif\u001b[39;49;00m\u001b[43m \u001b[49m\u001b[43mstream_mode\u001b[49m\u001b[43m \u001b[49m\u001b[43m==\u001b[49m\u001b[43m \u001b[49m\u001b[33;43m\"\u001b[39;49m\u001b[33;43mvalues\u001b[39;49m\u001b[33;43m\"\u001b[39;49m\n\u001b[32m   3032\u001b[39m \u001b[43m    \u001b[49m\u001b[38;5;28;43;01melse\u001b[39;49;00m\u001b[43m \u001b[49m\u001b[43mstream_mode\u001b[49m\u001b[43m,\u001b[49m\n\u001b[32m   3033\u001b[39m \u001b[43m    \u001b[49m\u001b[43mprint_mode\u001b[49m\u001b[43m=\u001b[49m\u001b[43mprint_mode\u001b[49m\u001b[43m,\u001b[49m\n\u001b[32m   3034\u001b[39m \u001b[43m    \u001b[49m\u001b[43moutput_keys\u001b[49m\u001b[43m=\u001b[49m\u001b[43moutput_keys\u001b[49m\u001b[43m,\u001b[49m\n\u001b[32m   3035\u001b[39m \u001b[43m    \u001b[49m\u001b[43minterrupt_before\u001b[49m\u001b[43m=\u001b[49m\u001b[43minterrupt_before\u001b[49m\u001b[43m,\u001b[49m\n\u001b[32m   3036\u001b[39m \u001b[43m    \u001b[49m\u001b[43minterrupt_after\u001b[49m\u001b[43m=\u001b[49m\u001b[43minterrupt_after\u001b[49m\u001b[43m,\u001b[49m\n\u001b[32m   3037\u001b[39m \u001b[43m    \u001b[49m\u001b[43mdurability\u001b[49m\u001b[43m=\u001b[49m\u001b[43mdurability\u001b[49m\u001b[43m,\u001b[49m\n\u001b[32m   3038\u001b[39m \u001b[43m    \u001b[49m\u001b[43m*\u001b[49m\u001b[43m*\u001b[49m\u001b[43mkwargs\u001b[49m\u001b[43m,\u001b[49m\n\u001b[32m   3039\u001b[39m \u001b[43m\u001b[49m\u001b[43m)\u001b[49m\u001b[43m:\u001b[49m\n\u001b[32m   3040\u001b[39m \u001b[43m    \u001b[49m\u001b[38;5;28;43;01mif\u001b[39;49;00m\u001b[43m \u001b[49m\u001b[43mstream_mode\u001b[49m\u001b[43m \u001b[49m\u001b[43m==\u001b[49m\u001b[43m \u001b[49m\u001b[33;43m\"\u001b[39;49m\u001b[33;43mvalues\u001b[39;49m\u001b[33;43m\"\u001b[39;49m\u001b[43m:\u001b[49m\n\u001b[32m   3041\u001b[39m \u001b[43m        \u001b[49m\u001b[38;5;28;43;01mif\u001b[39;49;00m\u001b[43m \u001b[49m\u001b[38;5;28;43mlen\u001b[39;49m\u001b[43m(\u001b[49m\u001b[43mchunk\u001b[49m\u001b[43m)\u001b[49m\u001b[43m \u001b[49m\u001b[43m==\u001b[49m\u001b[43m \u001b[49m\u001b[32;43m2\u001b[39;49m\u001b[43m:\u001b[49m\n",
      "\u001b[36mFile \u001b[39m\u001b[32me:\\vibe-judges\\myenv\\Lib\\site-packages\\langgraph\\pregel\\main.py:2647\u001b[39m, in \u001b[36mPregel.stream\u001b[39m\u001b[34m(self, input, config, context, stream_mode, print_mode, output_keys, interrupt_before, interrupt_after, durability, subgraphs, debug, **kwargs)\u001b[39m\n\u001b[32m   2645\u001b[39m \u001b[38;5;28;01mfor\u001b[39;00m task \u001b[38;5;129;01min\u001b[39;00m loop.match_cached_writes():\n\u001b[32m   2646\u001b[39m     loop.output_writes(task.id, task.writes, cached=\u001b[38;5;28;01mTrue\u001b[39;00m)\n\u001b[32m-> \u001b[39m\u001b[32m2647\u001b[39m \u001b[43m\u001b[49m\u001b[38;5;28;43;01mfor\u001b[39;49;00m\u001b[43m \u001b[49m\u001b[43m_\u001b[49m\u001b[43m \u001b[49m\u001b[38;5;129;43;01min\u001b[39;49;00m\u001b[43m \u001b[49m\u001b[43mrunner\u001b[49m\u001b[43m.\u001b[49m\u001b[43mtick\u001b[49m\u001b[43m(\u001b[49m\n\u001b[32m   2648\u001b[39m \u001b[43m    \u001b[49m\u001b[43m[\u001b[49m\u001b[43mt\u001b[49m\u001b[43m \u001b[49m\u001b[38;5;28;43;01mfor\u001b[39;49;00m\u001b[43m \u001b[49m\u001b[43mt\u001b[49m\u001b[43m \u001b[49m\u001b[38;5;129;43;01min\u001b[39;49;00m\u001b[43m \u001b[49m\u001b[43mloop\u001b[49m\u001b[43m.\u001b[49m\u001b[43mtasks\u001b[49m\u001b[43m.\u001b[49m\u001b[43mvalues\u001b[49m\u001b[43m(\u001b[49m\u001b[43m)\u001b[49m\u001b[43m \u001b[49m\u001b[38;5;28;43;01mif\u001b[39;49;00m\u001b[43m \u001b[49m\u001b[38;5;129;43;01mnot\u001b[39;49;00m\u001b[43m \u001b[49m\u001b[43mt\u001b[49m\u001b[43m.\u001b[49m\u001b[43mwrites\u001b[49m\u001b[43m]\u001b[49m\u001b[43m,\u001b[49m\n\u001b[32m   2649\u001b[39m \u001b[43m    \u001b[49m\u001b[43mtimeout\u001b[49m\u001b[43m=\u001b[49m\u001b[38;5;28;43mself\u001b[39;49m\u001b[43m.\u001b[49m\u001b[43mstep_timeout\u001b[49m\u001b[43m,\u001b[49m\n\u001b[32m   2650\u001b[39m \u001b[43m    \u001b[49m\u001b[43mget_waiter\u001b[49m\u001b[43m=\u001b[49m\u001b[43mget_waiter\u001b[49m\u001b[43m,\u001b[49m\n\u001b[32m   2651\u001b[39m \u001b[43m    \u001b[49m\u001b[43mschedule_task\u001b[49m\u001b[43m=\u001b[49m\u001b[43mloop\u001b[49m\u001b[43m.\u001b[49m\u001b[43maccept_push\u001b[49m\u001b[43m,\u001b[49m\n\u001b[32m   2652\u001b[39m \u001b[43m\u001b[49m\u001b[43m)\u001b[49m\u001b[43m:\u001b[49m\n\u001b[32m   2653\u001b[39m \u001b[43m    \u001b[49m\u001b[38;5;66;43;03m# emit output\u001b[39;49;00m\n\u001b[32m   2654\u001b[39m \u001b[43m    \u001b[49m\u001b[38;5;28;43;01myield from\u001b[39;49;00m\u001b[43m \u001b[49m\u001b[43m_output\u001b[49m\u001b[43m(\u001b[49m\n\u001b[32m   2655\u001b[39m \u001b[43m        \u001b[49m\u001b[43mstream_mode\u001b[49m\u001b[43m,\u001b[49m\u001b[43m \u001b[49m\u001b[43mprint_mode\u001b[49m\u001b[43m,\u001b[49m\u001b[43m \u001b[49m\u001b[43msubgraphs\u001b[49m\u001b[43m,\u001b[49m\u001b[43m \u001b[49m\u001b[43mstream\u001b[49m\u001b[43m.\u001b[49m\u001b[43mget\u001b[49m\u001b[43m,\u001b[49m\u001b[43m \u001b[49m\u001b[43mqueue\u001b[49m\u001b[43m.\u001b[49m\u001b[43mEmpty\u001b[49m\n\u001b[32m   2656\u001b[39m \u001b[43m    \u001b[49m\u001b[43m)\u001b[49m\n\u001b[32m   2657\u001b[39m loop.after_tick()\n",
      "\u001b[36mFile \u001b[39m\u001b[32me:\\vibe-judges\\myenv\\Lib\\site-packages\\langgraph\\pregel\\_runner.py:162\u001b[39m, in \u001b[36mPregelRunner.tick\u001b[39m\u001b[34m(self, tasks, reraise, timeout, retry_policy, get_waiter, schedule_task)\u001b[39m\n\u001b[32m    160\u001b[39m t = tasks[\u001b[32m0\u001b[39m]\n\u001b[32m    161\u001b[39m \u001b[38;5;28;01mtry\u001b[39;00m:\n\u001b[32m--> \u001b[39m\u001b[32m162\u001b[39m     \u001b[43mrun_with_retry\u001b[49m\u001b[43m(\u001b[49m\n\u001b[32m    163\u001b[39m \u001b[43m        \u001b[49m\u001b[43mt\u001b[49m\u001b[43m,\u001b[49m\n\u001b[32m    164\u001b[39m \u001b[43m        \u001b[49m\u001b[43mretry_policy\u001b[49m\u001b[43m,\u001b[49m\n\u001b[32m    165\u001b[39m \u001b[43m        \u001b[49m\u001b[43mconfigurable\u001b[49m\u001b[43m=\u001b[49m\u001b[43m{\u001b[49m\n\u001b[32m    166\u001b[39m \u001b[43m            \u001b[49m\u001b[43mCONFIG_KEY_CALL\u001b[49m\u001b[43m:\u001b[49m\u001b[43m \u001b[49m\u001b[43mpartial\u001b[49m\u001b[43m(\u001b[49m\n\u001b[32m    167\u001b[39m \u001b[43m                \u001b[49m\u001b[43m_call\u001b[49m\u001b[43m,\u001b[49m\n\u001b[32m    168\u001b[39m \u001b[43m                \u001b[49m\u001b[43mweakref\u001b[49m\u001b[43m.\u001b[49m\u001b[43mref\u001b[49m\u001b[43m(\u001b[49m\u001b[43mt\u001b[49m\u001b[43m)\u001b[49m\u001b[43m,\u001b[49m\n\u001b[32m    169\u001b[39m \u001b[43m                \u001b[49m\u001b[43mretry_policy\u001b[49m\u001b[43m=\u001b[49m\u001b[43mretry_policy\u001b[49m\u001b[43m,\u001b[49m\n\u001b[32m    170\u001b[39m \u001b[43m                \u001b[49m\u001b[43mfutures\u001b[49m\u001b[43m=\u001b[49m\u001b[43mweakref\u001b[49m\u001b[43m.\u001b[49m\u001b[43mref\u001b[49m\u001b[43m(\u001b[49m\u001b[43mfutures\u001b[49m\u001b[43m)\u001b[49m\u001b[43m,\u001b[49m\n\u001b[32m    171\u001b[39m \u001b[43m                \u001b[49m\u001b[43mschedule_task\u001b[49m\u001b[43m=\u001b[49m\u001b[43mschedule_task\u001b[49m\u001b[43m,\u001b[49m\n\u001b[32m    172\u001b[39m \u001b[43m                \u001b[49m\u001b[43msubmit\u001b[49m\u001b[43m=\u001b[49m\u001b[38;5;28;43mself\u001b[39;49m\u001b[43m.\u001b[49m\u001b[43msubmit\u001b[49m\u001b[43m,\u001b[49m\n\u001b[32m    173\u001b[39m \u001b[43m            \u001b[49m\u001b[43m)\u001b[49m\u001b[43m,\u001b[49m\n\u001b[32m    174\u001b[39m \u001b[43m        \u001b[49m\u001b[43m}\u001b[49m\u001b[43m,\u001b[49m\n\u001b[32m    175\u001b[39m \u001b[43m    \u001b[49m\u001b[43m)\u001b[49m\n\u001b[32m    176\u001b[39m     \u001b[38;5;28mself\u001b[39m.commit(t, \u001b[38;5;28;01mNone\u001b[39;00m)\n\u001b[32m    177\u001b[39m \u001b[38;5;28;01mexcept\u001b[39;00m \u001b[38;5;167;01mException\u001b[39;00m \u001b[38;5;28;01mas\u001b[39;00m exc:\n",
      "\u001b[36mFile \u001b[39m\u001b[32me:\\vibe-judges\\myenv\\Lib\\site-packages\\langgraph\\pregel\\_retry.py:42\u001b[39m, in \u001b[36mrun_with_retry\u001b[39m\u001b[34m(task, retry_policy, configurable)\u001b[39m\n\u001b[32m     40\u001b[39m     task.writes.clear()\n\u001b[32m     41\u001b[39m     \u001b[38;5;66;03m# run the task\u001b[39;00m\n\u001b[32m---> \u001b[39m\u001b[32m42\u001b[39m     \u001b[38;5;28;01mreturn\u001b[39;00m \u001b[43mtask\u001b[49m\u001b[43m.\u001b[49m\u001b[43mproc\u001b[49m\u001b[43m.\u001b[49m\u001b[43minvoke\u001b[49m\u001b[43m(\u001b[49m\u001b[43mtask\u001b[49m\u001b[43m.\u001b[49m\u001b[43minput\u001b[49m\u001b[43m,\u001b[49m\u001b[43m \u001b[49m\u001b[43mconfig\u001b[49m\u001b[43m)\u001b[49m\n\u001b[32m     43\u001b[39m \u001b[38;5;28;01mexcept\u001b[39;00m ParentCommand \u001b[38;5;28;01mas\u001b[39;00m exc:\n\u001b[32m     44\u001b[39m     ns: \u001b[38;5;28mstr\u001b[39m = config[CONF][CONFIG_KEY_CHECKPOINT_NS]\n",
      "\u001b[36mFile \u001b[39m\u001b[32me:\\vibe-judges\\myenv\\Lib\\site-packages\\langgraph\\_internal\\_runnable.py:657\u001b[39m, in \u001b[36mRunnableSeq.invoke\u001b[39m\u001b[34m(self, input, config, **kwargs)\u001b[39m\n\u001b[32m    655\u001b[39m     \u001b[38;5;66;03m# run in context\u001b[39;00m\n\u001b[32m    656\u001b[39m     \u001b[38;5;28;01mwith\u001b[39;00m set_config_context(config, run) \u001b[38;5;28;01mas\u001b[39;00m context:\n\u001b[32m--> \u001b[39m\u001b[32m657\u001b[39m         \u001b[38;5;28minput\u001b[39m = \u001b[43mcontext\u001b[49m\u001b[43m.\u001b[49m\u001b[43mrun\u001b[49m\u001b[43m(\u001b[49m\u001b[43mstep\u001b[49m\u001b[43m.\u001b[49m\u001b[43minvoke\u001b[49m\u001b[43m,\u001b[49m\u001b[43m \u001b[49m\u001b[38;5;28;43minput\u001b[39;49m\u001b[43m,\u001b[49m\u001b[43m \u001b[49m\u001b[43mconfig\u001b[49m\u001b[43m,\u001b[49m\u001b[43m \u001b[49m\u001b[43m*\u001b[49m\u001b[43m*\u001b[49m\u001b[43mkwargs\u001b[49m\u001b[43m)\u001b[49m\n\u001b[32m    658\u001b[39m \u001b[38;5;28;01melse\u001b[39;00m:\n\u001b[32m    659\u001b[39m     \u001b[38;5;28minput\u001b[39m = step.invoke(\u001b[38;5;28minput\u001b[39m, config)\n",
      "\u001b[36mFile \u001b[39m\u001b[32me:\\vibe-judges\\myenv\\Lib\\site-packages\\langgraph\\_internal\\_runnable.py:401\u001b[39m, in \u001b[36mRunnableCallable.invoke\u001b[39m\u001b[34m(self, input, config, **kwargs)\u001b[39m\n\u001b[32m    399\u001b[39m         run_manager.on_chain_end(ret)\n\u001b[32m    400\u001b[39m \u001b[38;5;28;01melse\u001b[39;00m:\n\u001b[32m--> \u001b[39m\u001b[32m401\u001b[39m     ret = \u001b[38;5;28;43mself\u001b[39;49m\u001b[43m.\u001b[49m\u001b[43mfunc\u001b[49m\u001b[43m(\u001b[49m\u001b[43m*\u001b[49m\u001b[43margs\u001b[49m\u001b[43m,\u001b[49m\u001b[43m \u001b[49m\u001b[43m*\u001b[49m\u001b[43m*\u001b[49m\u001b[43mkwargs\u001b[49m\u001b[43m)\u001b[49m\n\u001b[32m    402\u001b[39m \u001b[38;5;28;01mif\u001b[39;00m \u001b[38;5;28mself\u001b[39m.recurse \u001b[38;5;129;01mand\u001b[39;00m \u001b[38;5;28misinstance\u001b[39m(ret, Runnable):\n\u001b[32m    403\u001b[39m     \u001b[38;5;28;01mreturn\u001b[39;00m ret.invoke(\u001b[38;5;28minput\u001b[39m, config)\n",
      "\u001b[36mCell\u001b[39m\u001b[36m \u001b[39m\u001b[32mIn[36]\u001b[39m\u001b[32m, line 24\u001b[39m, in \u001b[36massistant\u001b[39m\u001b[34m(state)\u001b[39m\n\u001b[32m      4\u001b[39m \u001b[38;5;28;01mdef\u001b[39;00m\u001b[38;5;250m \u001b[39m\u001b[34massistant\u001b[39m(state: AgentState):\n\u001b[32m      5\u001b[39m     textual_description_of_tool = \u001b[33m\"\"\"\u001b[39m\n\u001b[32m      6\u001b[39m \u001b[33mextract_rtf_text(url: str) -> str:\u001b[39m\n\u001b[32m      7\u001b[39m \u001b[33m    Extracts and returns the plain text from a given RTF document URL.\u001b[39m\n\u001b[32m   (...)\u001b[39m\u001b[32m     22\u001b[39m \u001b[33m        str: The summarized text.\u001b[39m\n\u001b[32m     23\u001b[39m \u001b[33m\"\"\"\u001b[39m\n\u001b[32m---> \u001b[39m\u001b[32m24\u001b[39m     url = \u001b[43mstate\u001b[49m\u001b[43m[\u001b[49m\u001b[33;43m\"\u001b[39;49m\u001b[33;43murl\u001b[39;49m\u001b[33;43m\"\u001b[39;49m\u001b[43m]\u001b[49m\n\u001b[32m     26\u001b[39m     sys_msg = SystemMessage(content=\u001b[33mf\u001b[39m\u001b[33m\"\u001b[39m\u001b[33mYou are an agent that helps to extract and summarize legal documents. You have access to the following tools:\u001b[39m\u001b[38;5;130;01m\\n\u001b[39;00m\u001b[38;5;130;01m\\n\u001b[39;00m\u001b[38;5;132;01m{\u001b[39;00mtextual_description_of_tool\u001b[38;5;132;01m}\u001b[39;00m\u001b[38;5;130;01m\\n\u001b[39;00m\u001b[38;5;130;01m\\n\u001b[39;00m\u001b[33mUse these tools to process the document and provide a concise summary.  Currently the loaded url is: \u001b[39m\u001b[38;5;132;01m{\u001b[39;00murl\u001b[38;5;132;01m}\u001b[39;00m\u001b[33m\"\u001b[39m)\n\u001b[32m     28\u001b[39m     \u001b[38;5;28;01mreturn\u001b[39;00m {\u001b[33m\"\u001b[39m\u001b[33mmessages\u001b[39m\u001b[33m\"\u001b[39m: [llm_with_tools.invoke([sys_msg] + state[\u001b[33m\"\u001b[39m\u001b[33murl\u001b[39m\u001b[33m\"\u001b[39m])], \u001b[33m\"\u001b[39m\u001b[33minput_file\u001b[39m\u001b[33m\"\u001b[39m: state[\u001b[33m\"\u001b[39m\u001b[33msummary\u001b[39m\u001b[33m\"\u001b[39m]}\n",
      "\u001b[31mKeyError\u001b[39m: 'url'",
      "During task with name 'assistant' and id '77c65020-4c25-0b09-7ff8-ec95f4756f67'"
     ]
    }
   ],
   "source": [
    "messages = [HumanMessage(content=f\"Please extract text from this url {url}\")]\n",
    "\n",
    "messages = react_graph.invoke({\"messages\": messages}, {\"input_file\": url})"
   ]
  },
  {
   "cell_type": "markdown",
   "id": "e6d53315",
   "metadata": {},
   "source": [
    "### Result Agent"
   ]
  },
  {
   "cell_type": "code",
   "execution_count": null,
   "id": "eca1a6bf",
   "metadata": {},
   "outputs": [
    {
     "name": "stdout",
     "output_type": "stream",
     "text": [
      "Collecting langgraph\n",
      "  Using cached langgraph-0.6.8-py3-none-any.whl.metadata (6.8 kB)\n",
      "Collecting langchain-core>=0.1 (from langgraph)\n",
      "  Downloading langchain_core-0.3.78-py3-none-any.whl.metadata (3.2 kB)\n",
      "Collecting langgraph-checkpoint<3.0.0,>=2.1.0 (from langgraph)\n",
      "  Using cached langgraph_checkpoint-2.1.1-py3-none-any.whl.metadata (4.2 kB)\n",
      "Collecting langgraph-prebuilt<0.7.0,>=0.6.0 (from langgraph)\n",
      "  Using cached langgraph_prebuilt-0.6.4-py3-none-any.whl.metadata (4.5 kB)\n",
      "Collecting langgraph-sdk<0.3.0,>=0.2.2 (from langgraph)\n",
      "  Downloading langgraph_sdk-0.2.9-py3-none-any.whl.metadata (1.5 kB)\n",
      "Requirement already satisfied: pydantic>=2.7.4 in c:\\users\\user\\miniconda3\\lib\\site-packages (from langgraph) (2.11.9)\n",
      "Collecting xxhash>=3.5.0 (from langgraph)\n",
      "  Downloading xxhash-3.6.0-cp313-cp313-win_amd64.whl.metadata (13 kB)\n",
      "Collecting langsmith<1.0.0,>=0.3.45 (from langchain-core>=0.1->langgraph)\n",
      "  Downloading langsmith-0.4.32-py3-none-any.whl.metadata (14 kB)\n",
      "Collecting tenacity!=8.4.0,<10.0.0,>=8.1.0 (from langchain-core>=0.1->langgraph)\n",
      "  Using cached tenacity-9.1.2-py3-none-any.whl.metadata (1.2 kB)\n",
      "Requirement already satisfied: jsonpatch<2.0.0,>=1.33.0 in c:\\users\\user\\miniconda3\\lib\\site-packages (from langchain-core>=0.1->langgraph) (1.33)\n",
      "Requirement already satisfied: PyYAML<7.0.0,>=5.3.0 in c:\\users\\user\\miniconda3\\lib\\site-packages (from langchain-core>=0.1->langgraph) (6.0.2)\n",
      "Requirement already satisfied: typing-extensions<5.0.0,>=4.7.0 in c:\\users\\user\\miniconda3\\lib\\site-packages (from langchain-core>=0.1->langgraph) (4.12.2)\n",
      "Requirement already satisfied: packaging<26.0.0,>=23.2.0 in c:\\users\\user\\miniconda3\\lib\\site-packages (from langchain-core>=0.1->langgraph) (24.2)\n",
      "Collecting ormsgpack>=1.10.0 (from langgraph-checkpoint<3.0.0,>=2.1.0->langgraph)\n",
      "  Downloading ormsgpack-1.10.0-cp313-cp313-win_amd64.whl.metadata (44 kB)\n",
      "Requirement already satisfied: httpx>=0.25.2 in c:\\users\\user\\miniconda3\\lib\\site-packages (from langgraph-sdk<0.3.0,>=0.2.2->langgraph) (0.28.1)\n",
      "Collecting orjson>=3.10.1 (from langgraph-sdk<0.3.0,>=0.2.2->langgraph)\n",
      "  Downloading orjson-3.11.3-cp313-cp313-win_amd64.whl.metadata (43 kB)\n",
      "Requirement already satisfied: annotated-types>=0.6.0 in c:\\users\\user\\miniconda3\\lib\\site-packages (from pydantic>=2.7.4->langgraph) (0.6.0)\n",
      "Requirement already satisfied: pydantic-core==2.33.2 in c:\\users\\user\\miniconda3\\lib\\site-packages (from pydantic>=2.7.4->langgraph) (2.33.2)\n",
      "Requirement already satisfied: typing-inspection>=0.4.0 in c:\\users\\user\\miniconda3\\lib\\site-packages (from pydantic>=2.7.4->langgraph) (0.4.2)\n",
      "Requirement already satisfied: anyio in c:\\users\\user\\miniconda3\\lib\\site-packages (from httpx>=0.25.2->langgraph-sdk<0.3.0,>=0.2.2->langgraph) (4.9.0)\n",
      "Requirement already satisfied: certifi in c:\\users\\user\\miniconda3\\lib\\site-packages (from httpx>=0.25.2->langgraph-sdk<0.3.0,>=0.2.2->langgraph) (2025.7.14)\n",
      "Requirement already satisfied: httpcore==1.* in c:\\users\\user\\miniconda3\\lib\\site-packages (from httpx>=0.25.2->langgraph-sdk<0.3.0,>=0.2.2->langgraph) (1.0.9)\n",
      "Requirement already satisfied: idna in c:\\users\\user\\miniconda3\\lib\\site-packages (from httpx>=0.25.2->langgraph-sdk<0.3.0,>=0.2.2->langgraph) (3.7)\n",
      "Requirement already satisfied: h11>=0.16 in c:\\users\\user\\miniconda3\\lib\\site-packages (from httpcore==1.*->httpx>=0.25.2->langgraph-sdk<0.3.0,>=0.2.2->langgraph) (0.16.0)\n",
      "Requirement already satisfied: jsonpointer>=1.9 in c:\\users\\user\\miniconda3\\lib\\site-packages (from jsonpatch<2.0.0,>=1.33.0->langchain-core>=0.1->langgraph) (2.1)\n",
      "Collecting requests-toolbelt>=1.0.0 (from langsmith<1.0.0,>=0.3.45->langchain-core>=0.1->langgraph)\n",
      "  Using cached requests_toolbelt-1.0.0-py2.py3-none-any.whl.metadata (14 kB)\n",
      "Requirement already satisfied: requests>=2.0.0 in c:\\users\\user\\miniconda3\\lib\\site-packages (from langsmith<1.0.0,>=0.3.45->langchain-core>=0.1->langgraph) (2.32.3)\n",
      "Requirement already satisfied: zstandard>=0.23.0 in c:\\users\\user\\miniconda3\\lib\\site-packages (from langsmith<1.0.0,>=0.3.45->langchain-core>=0.1->langgraph) (0.23.0)\n",
      "Requirement already satisfied: charset-normalizer<4,>=2 in c:\\users\\user\\miniconda3\\lib\\site-packages (from requests>=2.0.0->langsmith<1.0.0,>=0.3.45->langchain-core>=0.1->langgraph) (3.3.2)\n",
      "Requirement already satisfied: urllib3<3,>=1.21.1 in c:\\users\\user\\miniconda3\\lib\\site-packages (from requests>=2.0.0->langsmith<1.0.0,>=0.3.45->langchain-core>=0.1->langgraph) (2.3.0)\n",
      "Requirement already satisfied: sniffio>=1.1 in c:\\users\\user\\miniconda3\\lib\\site-packages (from anyio->httpx>=0.25.2->langgraph-sdk<0.3.0,>=0.2.2->langgraph) (1.3.1)\n",
      "Downloading langgraph-0.6.8-py3-none-any.whl (154 kB)\n",
      "Downloading langchain_core-0.3.78-py3-none-any.whl (449 kB)\n",
      "Downloading langgraph_checkpoint-2.1.1-py3-none-any.whl (43 kB)\n",
      "Using cached langgraph_prebuilt-0.6.4-py3-none-any.whl (28 kB)\n",
      "Downloading langgraph_sdk-0.2.9-py3-none-any.whl (56 kB)\n",
      "Downloading xxhash-3.6.0-cp313-cp313-win_amd64.whl (31 kB)\n",
      "Downloading langsmith-0.4.32-py3-none-any.whl (386 kB)\n",
      "Downloading orjson-3.11.3-cp313-cp313-win_amd64.whl (131 kB)\n",
      "Downloading ormsgpack-1.10.0-cp313-cp313-win_amd64.whl (121 kB)\n",
      "Using cached tenacity-9.1.2-py3-none-any.whl (28 kB)\n",
      "Using cached requests_toolbelt-1.0.0-py2.py3-none-any.whl (54 kB)\n",
      "Installing collected packages: xxhash, tenacity, ormsgpack, orjson, requests-toolbelt, langsmith, langgraph-sdk, langchain-core, langgraph-checkpoint, langgraph-prebuilt, langgraph\n",
      "Successfully installed langchain-core-0.3.78 langgraph-0.6.8 langgraph-checkpoint-2.1.1 langgraph-prebuilt-0.6.4 langgraph-sdk-0.2.9 langsmith-0.4.32 orjson-3.11.3 ormsgpack-1.10.0 requests-toolbelt-1.0.0 tenacity-9.1.2 xxhash-3.6.0\n"
     ]
    }
   ],
   "source": [
    "## example\n"
   ]
  },
  {
   "cell_type": "code",
   "execution_count": 6,
   "id": "372aa9fd",
   "metadata": {},
   "outputs": [],
   "source": [
    "from typing import TypedDict, List  \n",
    "from langgraph.graph import StateGraph, START, END\n",
    "\n",
    "class AgentState(TypedDict):\n",
    "    url: str\n",
    "    text:str\n",
    "    summary : str\n",
    "    classification: str\n",
    "    entities: List[str]"
   ]
  },
  {
   "cell_type": "code",
   "execution_count": 8,
   "id": "1be6fa8f",
   "metadata": {},
   "outputs": [],
   "source": [
    "from langchain_core.prompts import PromptTemplate\n",
    "\n",
    "def extract_rtf_text(url: str) -> str:\n",
    "    \"\"\"\n",
    "    Extract text from URL in RTF format.\n",
    "\n",
    "    Args:\n",
    "        url (str): The URL of the RTF document.\n",
    "\n",
    "    Returns:\n",
    "        str: The extracted plain text from the RTF document.\n",
    "    \"\"\"\n",
    "    response = requests.get(url)\n",
    "    response.raise_for_status()\n",
    "\n",
    "    rtf_content = response.content.decode(\"utf-8\", errors=\"ignore\")\n",
    "\n",
    "    text = rtf_to_text(rtf_content)\n",
    "    return text\n",
    "\n",
    "def summarize_text(text: str) -> str:\n",
    "    \"\"\"\n",
    "    Summarizes the given text using the LLM.\n",
    "    \n",
    "    Args:\n",
    "        text (str): The text to summarize.\n",
    "        \n",
    "    Returns:\n",
    "        str: The summary of the text.\n",
    "    \"\"\"\n",
    "\n",
    "    summarization_prompt = PromptTemplate.from_template(\n",
    "        \"\"\"Summarize the following text in one short sentence. Summarize to ukrainian.\n",
    "        \n",
    "        Text: {text}\n",
    "        \n",
    "        Summary:\"\"\"\n",
    "    )\n",
    "\n",
    "    chain = summarization_prompt | model\n",
    "\n",
    "    response = chain.invoke({\"text\": text})\n",
    "\n",
    "    return {\"summary\": response.content}\n",
    "\n",
    "# Позивач (ТОВ \"Мегого\").\n",
    "# Відповідач (Комісія з регулювання азартних ігор та лотерей).\n",
    "# Треті особи (ТОВ \"ГГБЕТ\").\n",
    "# Суть вимоги (визнати протиправним та скасувати рішення).\n",
    "# Рішення суду\n",
    "\n"
   ]
  },
  {
   "cell_type": "code",
   "execution_count": 9,
   "id": "a57bc1ac",
   "metadata": {},
   "outputs": [],
   "source": [
    "from pydantic import BaseModel, Field\n",
    "from typing import Dict, Any\n",
    "\n",
    "from typing_extensions import Annotated, TypedDict\n",
    "\n",
    "class Enteties(TypedDict):\n",
    "    plaintiff: str = Field(..., description=\"The plaintiff in the case\")\n",
    "    defendant: str = Field(..., description=\"The defendant in the case\")\n",
    "    claim_essence: str = Field(..., description=\"The essence of the claim\")\n",
    "\n",
    "\n",
    "def extract_additional_entities(text: str) -> Dict[str, Any]:\n",
    "    \"\"\"\n",
    "    Extracts additional entities from the text\n",
    "    Args:\n",
    "        text (str): The text to extract entities from text  Organized by category (plaintiff, respondent, claim essence)\n",
    "    \n",
    "    Returns:\n",
    "        Dict[str, Any]: A dictionary containing the extracted entities\n",
    "\n",
    "    \"\"\"\n",
    "    # Function to identify and extract named entities from text\n",
    "    # Organized by category (plaintiff, respondent, claim essence)\n",
    "  \n",
    "    # Create template for entity extraction prompt\n",
    "    # Specifies what entities to look for and format (comma-separated\n",
    "    prompt = PromptTemplate(\n",
    "      input_variables=[\"text\"],\n",
    "      template=\"\"\"Extract all the entities (plaintiff, defendant, claim essence) from the following text.\\n\\nText: {text}\\n\\nEntities:\"\"\"\n",
    "  )\n",
    "    model_llm = model.with_structured_output(Enteties)\n",
    "    message = HumanMessage(content=prompt.format(text=text))\n",
    "\n",
    "    entities = model_llm.invoke([message])\n",
    "\n",
    "    return {\"entities\": entities}"
   ]
  },
  {
   "cell_type": "code",
   "execution_count": 10,
   "id": "bf305693",
   "metadata": {},
   "outputs": [],
   "source": [
    "def case_classification(text: str) -> str:\n",
    "\n",
    "   \"\"\"\n",
    "   Classifies the court decision into one of the categories: plaintiff, defendant, other.\n",
    "\n",
    "   Args:\n",
    "       text (str): The text of the court decision.\n",
    "\n",
    "   Returns:\n",
    "         str: The classification category.\n",
    "\"\"\"\n",
    "\n",
    "   \n",
    "   prompt = PromptTemplate(\n",
    "       input_variables=[\"text\"],\n",
    "       template=\"\"\"Classify the following court decision into one of the categories: plaintiff - the court ruled in favor of the plaintiff, defendant - the court ruled in favor of the defendant, other - the decision is procedural or does not resolve the dispute\\n\\nText: {text}\\n\\nCategory:\n",
    "       Please return only one word cateory without explanation\"\"\"\n",
    "      )\n",
    "    \n",
    "   message = HumanMessage(content=prompt.format(text=text))\n",
    "   classification = model.invoke([message]).content\n",
    "\n",
    "   return {\"classification\": classification}"
   ]
  },
  {
   "cell_type": "code",
   "execution_count": 10,
   "id": "ee4a3bd9",
   "metadata": {},
   "outputs": [],
   "source": [
    "def assistant(state: AgentState):\n",
    "    textual_description_of_tool = \"\"\"\n",
    "    You are a helpful assistant that can perform the following tasks:\n",
    "    1. Classify the following court decision into one of the categories\n",
    "    2. Extract named entities (Person, Organization, Location) from text\n",
    "    3. Summarize text in one sentence\n",
    "    4. Extract text from URL in RTF format. \n",
    "    \"\"\"\n",
    "\n",
    "    sys_msg = SystemMessage(content=f\"You are an helpful agent that can summarize some textes, extract text from url and run some computatio without provided tool\\n{textual_description_of_tool} \\n\")\n",
    "\n",
    "    return {\"messages\": [llm_with_tools.invoke([sys_msg])], \"text\": state[\"text\"]}"
   ]
  },
  {
   "cell_type": "code",
   "execution_count": 11,
   "id": "a6147061",
   "metadata": {},
   "outputs": [],
   "source": [
    "from langchain_openai import ChatOpenAI\n",
    "\n",
    "tools = [\n",
    "    extract_rtf_text,\n",
    "    summarize_text,\n",
    "    extract_additional_entities,\n",
    "    case_classification\n",
    "]\n",
    "\n",
    "model = ChatOpenAI(model=\"gpt-4o\", temperature=0)\n",
    "\n",
    "llm_with_tools = model.bind_tools(tools, parallel_tool_calls=False)"
   ]
  },
  {
   "cell_type": "code",
   "execution_count": 12,
   "id": "0b287517",
   "metadata": {},
   "outputs": [],
   "source": [
    "from langgraph.prebuilt import ToolNode, tools_condition\n",
    "\n",
    "builder = StateGraph(AgentState)\n",
    "\n",
    "builder.add_node(\"assistant\", assistant)\n",
    "builder.add_node(\"tools\", ToolNode(tools))\n",
    "\n",
    "builder.add_edge(START, \"assistant\")\n",
    "builder.add_conditional_edges(\n",
    "    \"assistant\",\n",
    "    # If the latest message requires a tool, route to tools\n",
    "    # Otherwise, provide a direct response\n",
    "    tools_condition,\n",
    ")\n",
    "builder.add_edge(\"tools\", \"assistant\")\n",
    "react_graph = builder.compile()"
   ]
  },
  {
   "cell_type": "code",
   "execution_count": 13,
   "id": "d94f0c13",
   "metadata": {},
   "outputs": [
    {
     "data": {
      "image/png": "[encoded data removed]",
      "text/plain": [
       "<IPython.core.display.Image object>"
      ]
     },
     "metadata": {},
     "output_type": "display_data"
    }
   ],
   "source": [
    "from IPython.display import Image, display\n",
    "\n",
    "display(Image(react_graph.get_graph(xray=True).draw_mermaid_png()))"
   ]
  },
  {
   "cell_type": "code",
   "execution_count": 14,
   "id": "a7e92126",
   "metadata": {},
   "outputs": [],
   "source": [
    "url = \"http://od.reyestr.court.gov.ua/files/61/520ce2d5f53b2a22eafd30fca9c17d43.rtf\""
   ]
  },
  {
   "cell_type": "code",
   "execution_count": 15,
   "id": "11b9fdfd",
   "metadata": {},
   "outputs": [],
   "source": [
    "from langchain_core.messages import AnyMessage, SystemMessage, HumanMessage\n",
    "\n",
    "messages = [HumanMessage(content=\"Please Extract text from URL in RTF format. http://od.reyestr.court.gov.ua/files/61/520ce2d5f53b2a22eafd30fca9c17d43.rtf\")]\n",
    "messages = react_graph.invoke({\"text\": messages})"
   ]
  },
  {
   "cell_type": "code",
   "execution_count": 16,
   "id": "9c00595f",
   "metadata": {},
   "outputs": [
    {
     "data": {
      "text/plain": [
       "{'text': [HumanMessage(content='Please Extract text from URL in RTF format. http://od.reyestr.court.gov.ua/files/61/520ce2d5f53b2a22eafd30fca9c17d43.rtf', additional_kwargs={}, response_metadata={})]}"
      ]
     },
     "execution_count": 16,
     "metadata": {},
     "output_type": "execute_result"
    }
   ],
   "source": [
    "messages"
   ]
  },
  {
   "cell_type": "code",
   "execution_count": 6,
   "metadata": {},
   "outputs": [],
   "source": [
    "workflow = StateGraph(AgentState)\n",
    "workflow.add_node(\"extract_rtf_text\", extract_rtf_text)\n",
    "workflow.add_node(\"summarize_text\", summarize_text)\n",
    "workflow.add_node(\"entity_extraction_node\", extract_additional_entities)\n",
    "workflow.add_node(\"case_classification\", case_classification)\n",
    "\n",
    "workflow.set_entry_point(\"extract_rtf_text\") # Set the entry point of the graph\n",
    "workflow.add_edge(\"extract_rtf_text\", \"summarize_text\")\n",
    "workflow.add_edge(\"summarize_text\", \"entity_extraction_node\")\n",
    "workflow.add_edge(\"entity_extraction_node\", \"case_classification\")\n",
    "workflow.add_edge(\"case_classification\", END)\n",
    "\n",
    "app = workflow.compile()"
   ]
  },
  {
   "cell_type": "code",
   "execution_count": 7,
   "id": "d01a50c9",
   "metadata": {},
   "outputs": [
    {
     "data": {
      "image/png": "[encoded data removed]",
      "text/plain": [
       "<IPython.core.display.Image object>"
      ]
     },
     "metadata": {},
     "output_type": "display_data"
    }
   ],
   "source": [
    "from IPython.display import Image, display\n",
    "\n",
    "display(Image(app.get_graph(xray=True).draw_mermaid_png()))"
   ]
  },
  {
   "cell_type": "code",
   "execution_count": 8,
   "metadata": {},
   "outputs": [],
   "source": [
    "url = \"http://od.reyestr.court.gov.ua/files/61/520ce2d5f53b2a22eafd30fca9c17d43.rtf\"\n",
    "state_input = {\"url\": url}\n",
    "result = app.invoke(state_input)"
   ]
  },
  {
   "cell_type": "code",
   "execution_count": 29,
   "id": "d5977ad4",
   "metadata": {},
   "outputs": [
    {
     "data": {
      "text/plain": [
       "{'url': 'http://od.reyestr.court.gov.ua/files/61/520ce2d5f53b2a22eafd30fca9c17d43.rtf',\n",
       " 'text': '\\n\\xa0\\xa0 КИЇВСЬКИЙ ОКРУЖНИЙ АДМІНІСТРАТИВНИЙ СУД |\\nУ Х В А Л А\\nпро залишення позовної заяви без руху\\n04 грудня 2024 року \\xa0\\xa0\\xa0\\xa0\\xa0\\xa0\\xa0\\xa0\\xa0\\xa0\\xa0\\xa0\\xa0\\xa0\\xa0\\xa0\\xa0\\xa0\\xa0\\xa0\\xa0\\xa0\\xa0\\xa0\\xa0\\xa0м. Київ \\xa0\\xa0\\xa0\\xa0\\xa0\\xa0\\xa0\\xa0\\xa0\\xa0\\xa0\\xa0\\xa0\\xa0\\xa0\\xa0\\xa0\\xa0\\xa0\\xa0\\xa0\\xa0\\xa0\\xa0\\xa0\\xa0\\xa0\\xa0\\xa0\\xa0\\xa0\\xa0\\xa0\\xa0\\xa0\\xa0№ 320/57291/24\\nСуддя Київського окружного адміністративного суду Жук Р.В., дослідивши матеріали адміністративного позову та додані до нього документи\\nза позовом \\xa0\\xa0Товариства з обмеженою відповідальністю \"Мегого\"\\nдо \\xa0\\xa0\\xa0\\xa0\\xa0\\xa0\\xa0\\xa0\\xa0\\xa0\\xa0\\xa0\\xa0\\xa0\\xa0\\xa0\\xa0Комісії з регулювання азартних ігор та лотерей\\nтретя особа Товариство з обмеженою відповідальністю \"ГГБЕТ\" \\nпро \\xa0\\xa0\\xa0\\xa0\\xa0\\xa0\\xa0\\xa0\\xa0\\xa0\\xa0\\xa0\\xa0\\xa0визнання протиправним та скасування рішення від 22.08.2024 №409, -\\nВСТАНОВИВ:\\nДо Київського окружного адміністративного суду звернулось Товариство з обмеженою відповідальністю \"Мегого\" з адміністративним позовом до Комісії з регулювання азартних ігор та лотерей, третя особа - Товариство з обмеженою відповідальністю \"ГГБЕТ\", про визнання протиправним та скасування рішення від 22.08.2024 №409.\\nВідповідно до частини 1 статті 171 Кодексу адміністративного судочинства України суддя після одержання позовної заяви з`ясовує, зокрема, чи: відповідає позовна заява вимогам, встановленим статтями 160, 161, 172 цього Кодексу; позов подано у строк, установлений законом (якщо позов подано з пропущенням встановленого законом строку звернення до суду, то чи достатньо підстав для визнання причин пропуску строку звернення до суду поважними); немає інших підстав для залишення позовної заяви без руху, повернення позовної заяви або відмови у відкритті провадження в адміністративній справі, встановлених цим Кодексом.\\nНаданий адміністративний позов не відповідає вимогам статті 161 Кодексу адміністративного судочинства України з огляду на таке.\\nВідповідно до частини третьої статті 161 Кодексу адміністративного судочинства України до позовної заяви додається документ про сплату судового збору у встановлених порядку і розмірі або документи, які підтверджують підстави звільнення від сплати судового збору відповідно до закону.\\nЧастиною першою статті 4 Закону України “Про судовий збір” передбачено, що судовий збір справляється у відповідному розмірі від прожиткового мінімуму для працездатних осіб, встановленого законом на 1 січня календарного року, в якому відповідна заява або скарга подається до суду, - у відсотковому співвідношенні до ціни позову та у фіксованому розмірі.\\nЗгідно з пунктом 3 частини другої статті 4 Закону України “Про судовий збір” за подання до адміністративного суду адміністративного позову майнового характеру, який подано суб`єктом владних повноважень, юридичною особою встановлюється ставка судового збору – 1,5 відсотка ціни позову, але не менше 1 розміру прожиткового мінімуму для працездатних осіб і не більше 10 розмірів прожиткового мінімуму для працездатних осіб.\\nПоложеннями статті 7 Закону України \"Про Державний бюджет України на 2024 рік\" установлено у 2024 році прожитковий мінімум для працездатних осіб: з 1 січня 2024 року - 3028 гривні.\\nЯк вбачається з позовної заяви, позивач заявлено вимогу майнового характеру.\\nОтже, у даному випадку судовий збір дорівнює 30 280,00 грн (2 400 000,00 грн х 1,5%, не більше 30 280,00 грн).\\nСудом встановлено, що позивачем до позовної заяви доказів сплати судового збору за подання даного адміністративного позову не додано.\\nТаким чином, позивачу у порядку усунення недоліків позовної заяви необхідно надати суду: доказ надіслання листом з описом вкладення відповідачу копій позовної заяви та доданих до неї документів; докази сплати судового збору в розмірі 30 280,00 грн (оригінал платіжного доручення (квитанції) на рахунок Київського окружного адміністративного суду, який слід сплатити за наступними реквізитами:\\nОтримувач коштів: ГУК у Київ. обл./м.Київ/22030101;\\nкод отримувача (код за ЄДРПОУ): 37955989;\\nБанк отримувача: Казначейство України (ел. адм. подат.);\\nкод банку отримувача (МФО): 899998;\\nрахунок отримувача: UA718999980313151206084010001;\\nкод класифікації доходів бюджету: 22030101;\\nпризначення платежу: *;101; (код клієнта за ЄДРПОУ для юридичних осіб (доповнюється зліва нулями до восьми цифр, якщо значущих цифр менше 8), реєстраційний номер облікової картки платника податків – фізичної особи (завжди має 10 цифр) або серія та номер паспорта громадянина України, в разі якщо платник через свої релігійні переконання відмовився від прийняття реєстраційного номера облікової картки платника податків і має відповідну відмітку у паспорті); Судовий збір, за позовом (ПІБ чи назва установи, організації позивача), Київський окружний адміністративний суд (назва суду, де розглядається справа).\\nІнформація щодо реквізитів сплати судового збору за подання позовних заяв до Київського окружного адміністративного суду є загальнодоступною, оприлюднена на офіційному веб-порталі “Судова влада України” за інтернет-адресою https://adm.ko.court.gov.ua/sud1070/gromadyanam/tax/, а також розміщена на інформаційних стендах Київського окружного адміністративного суду.\\nЗгідно з частинами 1, 2 статті 169 Кодексу адміністративного судочинства України суддя, встановивши, що позовну заяву подано без додержання вимог, встановлених статтями 160, 161 цього Кодексу, протягом п`яти днів з дня подання позовної заяви постановляє ухвалу про залишення позовної заяви без руху.\\nВ ухвалі про залишення позовної заяви без руху зазначаються недоліки позовної заяви, спосіб і строк їх усунення, який не може перевищувати десяти днів з дня вручення ухвали про залишення позовної заяви без руху.\\nКеруючись статтями 161, 169, 171, 243, 248 Кодексу адміністративного судочинства України, суд\\nУ Х В А Л И В:\\n1. Залишити позовну заяву Товариства з обмеженою відповідальністю \"Мегого\" без руху.\\n3. Встановити позивачу 10-денний строк з дня отримання даної ухвали на усунення недоліків позовної заяви.\\n4. Попередити позивача про те, що у разі, якщо недоліки не буде усунуто у встановлений судом строк, позовну заяву буде повернуто відповідно до пункту першого частини четвертої статті 169 Кодексу адміністративного судочинства України.\\n\\nВідповідно до частини першої статті 256 Кодексу адміністративного судочинства України, \\xa0набирає законної сили негайно після її проголошення, якщо інше не передбачено цим Кодексом. Відповідно до статті 294, частин другої та третьої статті 293 Кодексу адміністративного судочинства України даної ухвала оскарженню не підлягає.\\n\\nСуддя \\xa0\\xa0\\xa0\\xa0\\xa0\\xa0\\xa0\\xa0\\xa0\\xa0\\xa0\\xa0\\xa0\\xa0\\xa0\\xa0\\xa0\\xa0\\xa0\\xa0\\xa0\\xa0\\xa0\\xa0\\xa0\\xa0\\xa0\\xa0\\xa0\\xa0\\xa0\\xa0\\xa0\\xa0\\xa0\\xa0\\xa0\\xa0\\xa0\\xa0\\xa0\\xa0\\xa0\\xa0\\xa0\\xa0\\xa0\\xa0\\xa0\\xa0\\xa0\\xa0\\xa0\\xa0\\xa0\\xa0\\xa0\\xa0\\xa0\\xa0\\xa0\\xa0\\xa0\\xa0\\xa0\\xa0\\xa0\\xa0\\xa0\\xa0\\xa0\\xa0\\xa0\\xa0\\xa0\\xa0\\xa0\\xa0\\xa0\\xa0\\xa0\\xa0\\xa0\\xa0\\xa0\\xa0\\xa0\\xa0\\xa0\\xa0\\xa0\\xa0\\xa0\\xa0\\xa0\\xa0\\xa0\\xa0\\xa0\\xa0\\xa0Жук Р.В. \\n\\n\\x00',\n",
       " 'summary': 'Київський окружний адміністративний суд залишив без руху позовну заяву ТОВ \"Мегого\" через відсутність доказів сплати судового збору, надавши 10 днів для усунення недоліків.',\n",
       " 'classification': 'other',\n",
       " 'entities': {'plaintiff': 'Товариство з обмеженою відповідальністю \"Мегого\"',\n",
       "  'defendant': 'Комісія з регулювання азартних ігор та лотерей',\n",
       "  'claim_essence': 'визнання протиправним та скасування рішення від 22.08.2024 №409'}}"
      ]
     },
     "execution_count": 29,
     "metadata": {},
     "output_type": "execute_result"
    }
   ],
   "source": [
    "result"
   ]
  },
  {
   "cell_type": "code",
   "execution_count": null,
   "id": "899f898c",
   "metadata": {},
   "outputs": [],
   "source": [
    "# Позивач (ТОВ \"Мегого\").\n",
    "# Відповідач (Комісія з регулювання азартних ігор та лотерей).\n",
    "# Треті особи (ТОВ \"ГГБЕТ\").\n",
    "# Суть вимоги (визнати протиправним та скасувати рішення).\n",
    "# Рішення суду"
   ]
  },
  {
   "cell_type": "code",
   "execution_count": null,
   "id": "9697922b",
   "metadata": {},
   "outputs": [],
   "source": []
  },
  {
   "cell_type": "code",
   "execution_count": null,
   "id": "c3e8a9af",
   "metadata": {},
   "outputs": [],
   "source": []
  },
  {
   "cell_type": "code",
   "execution_count": null,
   "metadata": {},
   "outputs": [],
   "source": []
  },
  {
   "cell_type": "code",
   "execution_count": 1,
   "id": "7c1bab59",
   "metadata": {},
   "outputs": [],
   "source": [
    "# Importing necessary types from the typing module\n",
    "from typing import TypedDict, List  \n",
    "\n",
    "# Define a TypedDict named 'State' to represent a structured dictionary\n",
    "class State(TypedDict):\n",
    "\n",
    "    text: str  # Stores the original input text\n",
    "    classification: str  # Represents the classification result (e.g., category label)\n",
    "    entities: List[str]  # Holds a list of extracted entities (e.g., named entities)\n",
    "    summary: str  # Stores a summarized version of the text"
   ]
  },
  {
   "cell_type": "code",
   "execution_count": 2,
   "id": "992c9238",
   "metadata": {},
   "outputs": [],
   "source": [
    "from langchain_core.prompts import PromptTemplate\n",
    "\n",
    "def classification_node(text: str) -> dict:\n",
    "   \"\"\"\n",
    "   Classify the text into one of predefined categories.\n",
    "   \n",
    "   Parameters:\n",
    "       state (State): The current state dictionary containing the text to classify\n",
    "       \n",
    "   Returns:\n",
    "       dict: A dictionary with the \"classification\" key containing the category result\n",
    "       \n",
    "   Categories:\n",
    "       - News: Factual reporting of current events\n",
    "       - Blog: Personal or informal web writing\n",
    "       - Research: Academic or scientific content\n",
    "       - Other: Content that doesn't fit the above categories\n",
    "   \"\"\"\n",
    "\n",
    "   # Define a prompt template that asks the model to classify the given text\n",
    "   prompt = PromptTemplate(\n",
    "       input_variables=[\"text\"],\n",
    "       template=\"Classify the following text into one of the categories: News, Blog, Research, or Other.\\n\\nText: {text}\\n\\nCategory:\"\n",
    "   )\n",
    "\n",
    "   # Format the prompt with the input text from the state\n",
    "   message = HumanMessage(content=prompt.format(text=state[\"text\"]))\n",
    "\n",
    "   # Invoke the language model to classify the text based on the prompt\n",
    "   classification = model.invoke([message]).content.strip()\n",
    "\n",
    "   # Return the classification result in a dictionary\n",
    "   return {\"classification\": classification}"
   ]
  },
  {
   "cell_type": "code",
   "execution_count": 3,
   "id": "0b6e868b",
   "metadata": {},
   "outputs": [],
   "source": [
    "def entity_extraction_node(text: str) -> dict:\n",
    "  # Function to identify and extract named entities from text\n",
    "  # Organized by category (Person, Organization, Location)\n",
    "  \n",
    "  # Create template for entity extraction prompt\n",
    "  # Specifies what entities to look for and format (comma-separated)\n",
    "  prompt = PromptTemplate(\n",
    "      input_variables=[\"text\"],\n",
    "      template=\"Extract all the entities (Person, Organization, Location) from the following text. Provide the result as a comma-separated list.\\n\\nText: {text}\\n\\nEntities:\"\n",
    "  )\n",
    "  \n",
    "  # Format the prompt with text from state and wrap in HumanMessage\n",
    "  message = HumanMessage(content=prompt.format(text=state[\"text\"]))\n",
    "  \n",
    "  # Send to language model, get response, clean whitespace, split into list\n",
    "  entities = model.invoke([message]).content.strip().split(\", \")\n",
    "  \n",
    "  # Return dictionary with entities list to be merged into agent state\n",
    "  return {\"entities\": entities}"
   ]
  },
  {
   "cell_type": "code",
   "execution_count": 4,
   "id": "a4b93743",
   "metadata": {},
   "outputs": [],
   "source": [
    "def summarize_node(text: str) -> dict:\n",
    "    # Create a template for the summarization prompt\n",
    "    # This tells the model to summarize the input text in one sentence\n",
    "    summarization_prompt = PromptTemplate.from_template(\n",
    "        \"\"\"Summarize the following text in one short sentence.\n",
    "        \n",
    "        Text: {text}\n",
    "        \n",
    "        Summary:\"\"\"\n",
    "    )\n",
    "    \n",
    "    # Create a chain by connecting the prompt template to the language model\n",
    "    # The \"|\" operator pipes the output of the prompt into the model\n",
    "    chain = summarization_prompt | model\n",
    "    \n",
    "    # Execute the chain with the input text from the state dictionary\n",
    "    # This passes the text to be summarized to the model\n",
    "    response = chain.invoke({\"text\": state[\"text\"]})\n",
    "    \n",
    "    # Return a dictionary with the summary extracted from the model's response\n",
    "    # This will be merged into the agent's state\n",
    "    return {\"summary\": response.content}"
   ]
  },
  {
   "cell_type": "code",
   "execution_count": 5,
   "id": "b0c71bf4",
   "metadata": {},
   "outputs": [
    {
     "ename": "NameError",
     "evalue": "name 'model' is not defined",
     "output_type": "error",
     "traceback": [
      "\u001b[31m---------------------------------------------------------------------------\u001b[39m",
      "\u001b[31mNameError\u001b[39m                                 Traceback (most recent call last)",
      "\u001b[36mCell\u001b[39m\u001b[36m \u001b[39m\u001b[32mIn[5]\u001b[39m\u001b[32m, line 7\u001b[39m\n\u001b[32m      1\u001b[39m tools = [\n\u001b[32m      2\u001b[39m     classification_node,\n\u001b[32m      3\u001b[39m     entity_extraction_node, \n\u001b[32m      4\u001b[39m     summarize_node\n\u001b[32m      5\u001b[39m ]\n\u001b[32m----> \u001b[39m\u001b[32m7\u001b[39m llm_with_tools = \u001b[43mmodel\u001b[49m.bind_tools(tools, parallel_tool_calls=\u001b[38;5;28;01mFalse\u001b[39;00m)\n",
      "\u001b[31mNameError\u001b[39m: name 'model' is not defined"
     ]
    }
   ],
   "source": [
    "tools = [\n",
    "    classification_node,\n",
    "    entity_extraction_node, \n",
    "    summarize_node\n",
    "]\n",
    "\n",
    "llm_with_tools = model.bind_tools(tools, parallel_tool_calls=False)"
   ]
  },
  {
   "cell_type": "code",
   "execution_count": 8,
   "id": "6c219c18",
   "metadata": {},
   "outputs": [],
   "source": [
    "def assistant(state: State):\n",
    "    textual_description_of_tool = \"\"\"\n",
    "    You are a helpful assistant that can perform the following tasks:\n",
    "    1. Classify text into categories (News, Blog, Research, Other)\n",
    "    2. Extract named entities (Person, Organization, Location) from text\n",
    "    3. Summarize text in one sentence\n",
    "    \"\"\"\n",
    "\n",
    "    sys_msg = SystemMessage(content=f\"You are an helpful agent that can summarize some textes, extract text from url and run some computatio without provided tool\\n{textual_description_of_tool} \\n  You have access to some otpional url and you can extract text from it.\")\n",
    "\n",
    "    return {\"messages\": [llm_with_tools.invoke([sys_msg])], \"text\": state[\"text\"]}"
   ]
  },
  {
   "cell_type": "code",
   "execution_count": 10,
   "id": "2a652d2b",
   "metadata": {},
   "outputs": [
    {
     "ename": "ValueError",
     "evalue": "Function must have a docstring if description not provided.",
     "output_type": "error",
     "traceback": [
      "\u001b[31m---------------------------------------------------------------------------\u001b[39m",
      "\u001b[31mValueError\u001b[39m                                Traceback (most recent call last)",
      "\u001b[36mCell\u001b[39m\u001b[36m \u001b[39m\u001b[32mIn[10]\u001b[39m\u001b[32m, line 7\u001b[39m\n\u001b[32m      3\u001b[39m workflow = StateGraph(State)\n\u001b[32m      6\u001b[39m workflow.add_node(\u001b[33m\"\u001b[39m\u001b[33massistant\u001b[39m\u001b[33m\"\u001b[39m, assistant)\n\u001b[32m----> \u001b[39m\u001b[32m7\u001b[39m workflow.add_node(\u001b[33m\"\u001b[39m\u001b[33mtools\u001b[39m\u001b[33m\"\u001b[39m, \u001b[43mToolNode\u001b[49m\u001b[43m(\u001b[49m\u001b[43mtools\u001b[49m\u001b[43m)\u001b[49m)\n\u001b[32m      9\u001b[39m workflow.add_edge(START, \u001b[33m\"\u001b[39m\u001b[33massistant\u001b[39m\u001b[33m\"\u001b[39m)\n\u001b[32m     11\u001b[39m workflow.add_conditional_edges(\n\u001b[32m     12\u001b[39m     \u001b[33m\"\u001b[39m\u001b[33massistant\u001b[39m\u001b[33m\"\u001b[39m,\n\u001b[32m     13\u001b[39m     \u001b[38;5;66;03m# If the latest message (result) from assistant is a tool call -> tools_condition routes to tools\u001b[39;00m\n\u001b[32m     14\u001b[39m     \u001b[38;5;66;03m# If the latest message (result) from assistant is a not a tool call -> tools_condition routes to END\u001b[39;00m\n\u001b[32m     15\u001b[39m     tools_condition,\n\u001b[32m     16\u001b[39m )\n",
      "\u001b[36mFile \u001b[39m\u001b[32me:\\vibe-judges\\myenv\\Lib\\site-packages\\langgraph\\prebuilt\\tool_node.py:347\u001b[39m, in \u001b[36mToolNode.__init__\u001b[39m\u001b[34m(self, tools, name, tags, handle_tool_errors, messages_key)\u001b[39m\n\u001b[32m    345\u001b[39m \u001b[38;5;28;01mfor\u001b[39;00m tool_ \u001b[38;5;129;01min\u001b[39;00m tools:\n\u001b[32m    346\u001b[39m     \u001b[38;5;28;01mif\u001b[39;00m \u001b[38;5;129;01mnot\u001b[39;00m \u001b[38;5;28misinstance\u001b[39m(tool_, BaseTool):\n\u001b[32m--> \u001b[39m\u001b[32m347\u001b[39m         tool_ = \u001b[43mcreate_tool\u001b[49m\u001b[43m(\u001b[49m\u001b[43mtool_\u001b[49m\u001b[43m)\u001b[49m\n\u001b[32m    348\u001b[39m     \u001b[38;5;28mself\u001b[39m.tools_by_name[tool_.name] = tool_\n\u001b[32m    349\u001b[39m     \u001b[38;5;28mself\u001b[39m.tool_to_state_args[tool_.name] = _get_state_args(tool_)\n",
      "\u001b[36mFile \u001b[39m\u001b[32me:\\vibe-judges\\myenv\\Lib\\site-packages\\langchain_core\\tools\\convert.py:332\u001b[39m, in \u001b[36mtool\u001b[39m\u001b[34m(name_or_callable, runnable, description, return_direct, args_schema, infer_schema, response_format, parse_docstring, error_on_invalid_docstring, *args)\u001b[39m\n\u001b[32m    326\u001b[39m \u001b[38;5;28;01mif\u001b[39;00m name_or_callable \u001b[38;5;129;01mis\u001b[39;00m \u001b[38;5;129;01mnot\u001b[39;00m \u001b[38;5;28;01mNone\u001b[39;00m:\n\u001b[32m    327\u001b[39m     \u001b[38;5;28;01mif\u001b[39;00m \u001b[38;5;28mcallable\u001b[39m(name_or_callable) \u001b[38;5;129;01mand\u001b[39;00m \u001b[38;5;28mhasattr\u001b[39m(name_or_callable, \u001b[33m\"\u001b[39m\u001b[33m__name__\u001b[39m\u001b[33m\"\u001b[39m):\n\u001b[32m    328\u001b[39m         \u001b[38;5;66;03m# Used as a decorator without parameters\u001b[39;00m\n\u001b[32m    329\u001b[39m         \u001b[38;5;66;03m# @tool\u001b[39;00m\n\u001b[32m    330\u001b[39m         \u001b[38;5;66;03m# def my_tool():\u001b[39;00m\n\u001b[32m    331\u001b[39m         \u001b[38;5;66;03m#    pass\u001b[39;00m\n\u001b[32m--> \u001b[39m\u001b[32m332\u001b[39m         \u001b[38;5;28;01mreturn\u001b[39;00m \u001b[43m_create_tool_factory\u001b[49m\u001b[43m(\u001b[49m\u001b[43mname_or_callable\u001b[49m\u001b[43m.\u001b[49m\u001b[34;43m__name__\u001b[39;49m\u001b[43m)\u001b[49m\u001b[43m(\u001b[49m\u001b[43mname_or_callable\u001b[49m\u001b[43m)\u001b[49m\n\u001b[32m    333\u001b[39m     \u001b[38;5;28;01mif\u001b[39;00m \u001b[38;5;28misinstance\u001b[39m(name_or_callable, \u001b[38;5;28mstr\u001b[39m):\n\u001b[32m    334\u001b[39m         \u001b[38;5;66;03m# Used with a new name for the tool\u001b[39;00m\n\u001b[32m    335\u001b[39m         \u001b[38;5;66;03m# @tool(\"search\")\u001b[39;00m\n\u001b[32m   (...)\u001b[39m\u001b[32m    342\u001b[39m         \u001b[38;5;66;03m# def my_tool():\u001b[39;00m\n\u001b[32m    343\u001b[39m         \u001b[38;5;66;03m#    pass\u001b[39;00m\n\u001b[32m    344\u001b[39m         \u001b[38;5;28;01mreturn\u001b[39;00m _create_tool_factory(name_or_callable)\n",
      "\u001b[36mFile \u001b[39m\u001b[32me:\\vibe-judges\\myenv\\Lib\\site-packages\\langchain_core\\tools\\convert.py:277\u001b[39m, in \u001b[36mtool.<locals>._create_tool_factory.<locals>._tool_factory\u001b[39m\u001b[34m(dec_func)\u001b[39m\n\u001b[32m    274\u001b[39m     schema = args_schema\n\u001b[32m    276\u001b[39m \u001b[38;5;28;01mif\u001b[39;00m infer_schema \u001b[38;5;129;01mor\u001b[39;00m args_schema \u001b[38;5;129;01mis\u001b[39;00m \u001b[38;5;129;01mnot\u001b[39;00m \u001b[38;5;28;01mNone\u001b[39;00m:\n\u001b[32m--> \u001b[39m\u001b[32m277\u001b[39m     \u001b[38;5;28;01mreturn\u001b[39;00m \u001b[43mStructuredTool\u001b[49m\u001b[43m.\u001b[49m\u001b[43mfrom_function\u001b[49m\u001b[43m(\u001b[49m\n\u001b[32m    278\u001b[39m \u001b[43m        \u001b[49m\u001b[43mfunc\u001b[49m\u001b[43m,\u001b[49m\n\u001b[32m    279\u001b[39m \u001b[43m        \u001b[49m\u001b[43mcoroutine\u001b[49m\u001b[43m,\u001b[49m\n\u001b[32m    280\u001b[39m \u001b[43m        \u001b[49m\u001b[43mname\u001b[49m\u001b[43m=\u001b[49m\u001b[43mtool_name\u001b[49m\u001b[43m,\u001b[49m\n\u001b[32m    281\u001b[39m \u001b[43m        \u001b[49m\u001b[43mdescription\u001b[49m\u001b[43m=\u001b[49m\u001b[43mtool_description\u001b[49m\u001b[43m,\u001b[49m\n\u001b[32m    282\u001b[39m \u001b[43m        \u001b[49m\u001b[43mreturn_direct\u001b[49m\u001b[43m=\u001b[49m\u001b[43mreturn_direct\u001b[49m\u001b[43m,\u001b[49m\n\u001b[32m    283\u001b[39m \u001b[43m        \u001b[49m\u001b[43margs_schema\u001b[49m\u001b[43m=\u001b[49m\u001b[43mschema\u001b[49m\u001b[43m,\u001b[49m\n\u001b[32m    284\u001b[39m \u001b[43m        \u001b[49m\u001b[43minfer_schema\u001b[49m\u001b[43m=\u001b[49m\u001b[43minfer_schema\u001b[49m\u001b[43m,\u001b[49m\n\u001b[32m    285\u001b[39m \u001b[43m        \u001b[49m\u001b[43mresponse_format\u001b[49m\u001b[43m=\u001b[49m\u001b[43mresponse_format\u001b[49m\u001b[43m,\u001b[49m\n\u001b[32m    286\u001b[39m \u001b[43m        \u001b[49m\u001b[43mparse_docstring\u001b[49m\u001b[43m=\u001b[49m\u001b[43mparse_docstring\u001b[49m\u001b[43m,\u001b[49m\n\u001b[32m    287\u001b[39m \u001b[43m        \u001b[49m\u001b[43merror_on_invalid_docstring\u001b[49m\u001b[43m=\u001b[49m\u001b[43merror_on_invalid_docstring\u001b[49m\u001b[43m,\u001b[49m\n\u001b[32m    288\u001b[39m \u001b[43m    \u001b[49m\u001b[43m)\u001b[49m\n\u001b[32m    289\u001b[39m \u001b[38;5;66;03m# If someone doesn't want a schema applied, we must treat it as\u001b[39;00m\n\u001b[32m    290\u001b[39m \u001b[38;5;66;03m# a simple string->string function\u001b[39;00m\n\u001b[32m    291\u001b[39m \u001b[38;5;28;01mif\u001b[39;00m dec_func.\u001b[34m__doc__\u001b[39m \u001b[38;5;129;01mis\u001b[39;00m \u001b[38;5;28;01mNone\u001b[39;00m:\n",
      "\u001b[36mFile \u001b[39m\u001b[32me:\\vibe-judges\\myenv\\Lib\\site-packages\\langchain_core\\tools\\structured.py:242\u001b[39m, in \u001b[36mStructuredTool.from_function\u001b[39m\u001b[34m(cls, func, coroutine, name, description, return_direct, args_schema, infer_schema, response_format, parse_docstring, error_on_invalid_docstring, **kwargs)\u001b[39m\n\u001b[32m    240\u001b[39m \u001b[38;5;28;01mif\u001b[39;00m description_ \u001b[38;5;129;01mis\u001b[39;00m \u001b[38;5;28;01mNone\u001b[39;00m:\n\u001b[32m    241\u001b[39m     msg = \u001b[33m\"\u001b[39m\u001b[33mFunction must have a docstring if description not provided.\u001b[39m\u001b[33m\"\u001b[39m\n\u001b[32m--> \u001b[39m\u001b[32m242\u001b[39m     \u001b[38;5;28;01mraise\u001b[39;00m \u001b[38;5;167;01mValueError\u001b[39;00m(msg)\n\u001b[32m    243\u001b[39m \u001b[38;5;28;01mif\u001b[39;00m description \u001b[38;5;129;01mis\u001b[39;00m \u001b[38;5;28;01mNone\u001b[39;00m:\n\u001b[32m    244\u001b[39m     \u001b[38;5;66;03m# Only apply if using the function's docstring\u001b[39;00m\n\u001b[32m    245\u001b[39m     description_ = textwrap.dedent(description_).strip()\n",
      "\u001b[31mValueError\u001b[39m: Function must have a docstring if description not provided."
     ]
    }
   ],
   "source": [
    "from langgraph.prebuilt import ToolNode, tools_condition\n",
    "\n",
    "workflow = StateGraph(State)\n",
    "\n",
    "\n",
    "workflow.add_node(\"assistant\", assistant)\n",
    "workflow.add_node(\"tools\", ToolNode(tools))\n",
    "\n",
    "workflow.add_edge(START, \"assistant\")\n",
    "\n",
    "workflow.add_conditional_edges(\n",
    "    \"assistant\",\n",
    "    # If the latest message (result) from assistant is a tool call -> tools_condition routes to tools\n",
    "    # If the latest message (result) from assistant is a not a tool call -> tools_condition routes to END\n",
    "    tools_condition,\n",
    ")\n",
    "\n",
    "workflow.add_edge(\"tools\", \"assistant\")\n",
    "# Compile the graph\n",
    "app = workflow.compile()"
   ]
  },
  {
   "cell_type": "code",
   "execution_count": 8,
   "id": "5bf0d7f0",
   "metadata": {},
   "outputs": [],
   "source": [
    "workflow = StateGraph(State)\n",
    "\n",
    "# Add nodes to the graph\n",
    "workflow.add_node(\"classification_node\", classification_node)\n",
    "workflow.add_node(\"entity_extraction\", entity_extraction_node)\n",
    "workflow.add_node(\"summarization\", summarize_node)\n",
    "\n",
    "# Add edges to the graph\n",
    "workflow.set_entry_point(\"classification_node\") # Set the entry point of the graph\n",
    "workflow.add_edge(\"classification_node\", \"entity_extraction\")\n",
    "workflow.add_edge(\"entity_extraction\", \"summarization\")\n",
    "workflow.add_edge(\"summarization\", END)\n",
    "\n",
    "# Compile the graph\n",
    "app = workflow.compile()"
   ]
  },
  {
   "cell_type": "code",
   "execution_count": 9,
   "id": "a2dc80a6",
   "metadata": {},
   "outputs": [
    {
     "ename": "NameError",
     "evalue": "name 'Image' is not defined",
     "output_type": "error",
     "traceback": [
      "\u001b[31m---------------------------------------------------------------------------\u001b[39m",
      "\u001b[31mNameError\u001b[39m                                 Traceback (most recent call last)",
      "\u001b[36mCell\u001b[39m\u001b[36m \u001b[39m\u001b[32mIn[9]\u001b[39m\u001b[32m, line 1\u001b[39m\n\u001b[32m----> \u001b[39m\u001b[32m1\u001b[39m display(\u001b[43mImage\u001b[49m(app.get_graph(xray=\u001b[38;5;28;01mTrue\u001b[39;00m).draw_mermaid_png()))\n",
      "\u001b[31mNameError\u001b[39m: name 'Image' is not defined"
     ]
    }
   ],
   "source": [
    "display(Image(app.get_graph(xray=True).draw_mermaid_png()))"
   ]
  },
  {
   "cell_type": "code",
   "execution_count": 28,
   "id": "2197344b",
   "metadata": {},
   "outputs": [],
   "source": [
    "sample_text = \"\"\"\n",
    "Anthropic's MCP (Model Context Protocol) is an open-source powerhouse that lets your applications interact effortlessly with APIs across various systems.\n",
    "\"\"\""
   ]
  },
  {
   "cell_type": "code",
   "execution_count": 29,
   "id": "bf1b0032",
   "metadata": {},
   "outputs": [],
   "source": [
    "state_input = {\"text\": sample_text}"
   ]
  },
  {
   "cell_type": "code",
   "execution_count": 30,
   "id": "057df294",
   "metadata": {},
   "outputs": [
    {
     "data": {
      "text/plain": [
       "{'text': \"\\nAnthropic's MCP (Model Context Protocol) is an open-source powerhouse that lets your applications interact effortlessly with APIs across various systems.\\n\"}"
      ]
     },
     "execution_count": 30,
     "metadata": {},
     "output_type": "execute_result"
    }
   ],
   "source": [
    "state_input"
   ]
  },
  {
   "cell_type": "code",
   "execution_count": 31,
   "id": "9884c790",
   "metadata": {},
   "outputs": [],
   "source": [
    "result = app.invoke(state_input)"
   ]
  },
  {
   "cell_type": "code",
   "execution_count": 32,
   "id": "c907683d",
   "metadata": {},
   "outputs": [
    {
     "name": "stdout",
     "output_type": "stream",
     "text": [
      "Classification: Other\n"
     ]
    }
   ],
   "source": [
    "print(\"Classification:\", result[\"classification\"])\n"
   ]
  },
  {
   "cell_type": "code",
   "execution_count": 33,
   "id": "9595059e",
   "metadata": {},
   "outputs": [
    {
     "name": "stdout",
     "output_type": "stream",
     "text": [
      "\n",
      "Entities: ['Anthropic']\n"
     ]
    }
   ],
   "source": [
    "print(\"\\nEntities:\", result[\"entities\"])"
   ]
  },
  {
   "cell_type": "code",
   "execution_count": 34,
   "id": "26e6b750",
   "metadata": {},
   "outputs": [
    {
     "name": "stdout",
     "output_type": "stream",
     "text": [
      "\n",
      "Summary: Anthropic's MCP enables seamless interaction with APIs across different systems through its open-source platform.\n"
     ]
    }
   ],
   "source": [
    "print(\"\\nSummary:\", result[\"summary\"])"
   ]
  },
  {
   "cell_type": "code",
   "execution_count": 74,
   "id": "6286e7df",
   "metadata": {},
   "outputs": [],
   "source": [
    "from pydantic import BaseModel, Field\n",
    "\n",
    "from typing_extensions import Annotated, TypedDict\n",
    "\n",
    "class Enteties(TypedDict):\n",
    "    plaintiff: str = Field(..., description=\"The plaintiff in the case\")\n",
    "    respondent: str = Field(..., description=\"The respondent in the case\")\n",
    "    claim_essence: str = Field(..., description=\"The essence of the claim\")"
   ]
  },
  {
   "cell_type": "code",
   "execution_count": 75,
   "id": "51f104df",
   "metadata": {},
   "outputs": [],
   "source": [
    "prompt = PromptTemplate(\n",
    "      input_variables=[\"text\"],\n",
    "      template=\"\"\"Extract all the entities (plaintiff, respondent, claim essence) from the following text. \\n\\nText: {text}\\n\\nEntities:\"\"\"\n",
    "  )\n",
    "message = HumanMessage(content=prompt.format(text=result[\"text\"]))"
   ]
  },
  {
   "cell_type": "code",
   "execution_count": 76,
   "id": "c3e410fc",
   "metadata": {},
   "outputs": [],
   "source": [
    "model_llm = model.with_structured_output(Enteties)"
   ]
  },
  {
   "cell_type": "code",
   "execution_count": 77,
   "id": "c8b6e90a",
   "metadata": {},
   "outputs": [],
   "source": [
    "entities = model_llm.invoke([message])"
   ]
  },
  {
   "cell_type": "code",
   "execution_count": 78,
   "id": "8ad06285",
   "metadata": {},
   "outputs": [
    {
     "data": {
      "text/plain": [
       "{'plaintiff': 'Товариство з обмеженою відповідальністю \"Мегого\"',\n",
       " 'respondent': 'Комісія з регулювання азартних ігор та лотерей',\n",
       " 'claim_essence': 'визнання протиправним та скасування рішення від 22.08.2024 №409'}"
      ]
     },
     "execution_count": 78,
     "metadata": {},
     "output_type": "execute_result"
    }
   ],
   "source": [
    "entities"
   ]
  },
  {
   "cell_type": "code",
   "execution_count": 18,
   "id": "7538fa74",
   "metadata": {},
   "outputs": [
    {
     "name": "stdout",
     "output_type": "stream",
     "text": [
      "\n",
      "   КИЇВСЬКИЙ ОКРУЖНИЙ АДМІНІСТРАТИВНИЙ СУД |\n",
      "У Х В А Л А\n",
      "про залишення позовної заяви без руху\n",
      "04 грудня 2024 року                           м. Київ                                     № 320/57291/24\n",
      "Суддя Київського окружного адміністративного суду Жук Р.В., дослідивши матеріали адміністративного позову та додані до нього документи\n",
      "за позовом   Товариства з обмеженою відповідальністю \"Мегого\"\n",
      "до                  Комісії з регулювання азартних ігор та лотерей\n",
      "третя особа Товариство з обмеженою відповідальністю \"ГГБЕТ\" \n",
      "про               визнання протиправним та скасування рішення від 22.08.2024 №409, -\n",
      "ВСТАНОВИВ:\n",
      "До Київського окружного адміністративного суду звернулось Товариство з обмеженою відповідальністю \"Мегого\" з адміністративним позовом до Комісії з регулювання азартних ігор та лотерей, третя особа - Товариство з обмеженою відповідальністю \"ГГБЕТ\", про визнання протиправним та скасування рішення від 22.08.2024 №409.\n",
      "Відповідно до частини 1 статті 171 Кодексу адміністративного судочинства України суддя після одержання позовної заяви з`ясовує, зокрема, чи: відповідає позовна заява вимогам, встановленим статтями 160, 161, 172 цього Кодексу; позов подано у строк, установлений законом (якщо позов подано з пропущенням встановленого законом строку звернення до суду, то чи достатньо підстав для визнання причин пропуску строку звернення до суду поважними); немає інших підстав для залишення позовної заяви без руху, повернення позовної заяви або відмови у відкритті провадження в адміністративній справі, встановлених цим Кодексом.\n",
      "Наданий адміністративний позов не відповідає вимогам статті 161 Кодексу адміністративного судочинства України з огляду на таке.\n",
      "Відповідно до частини третьої статті 161 Кодексу адміністративного судочинства України до позовної заяви додається документ про сплату судового збору у встановлених порядку і розмірі або документи, які підтверджують підстави звільнення від сплати судового збору відповідно до закону.\n",
      "Частиною першою статті 4 Закону України “Про судовий збір” передбачено, що судовий збір справляється у відповідному розмірі від прожиткового мінімуму для працездатних осіб, встановленого законом на 1 січня календарного року, в якому відповідна заява або скарга подається до суду, - у відсотковому співвідношенні до ціни позову та у фіксованому розмірі.\n",
      "Згідно з пунктом 3 частини другої статті 4 Закону України “Про судовий збір” за подання до адміністративного суду адміністративного позову майнового характеру, який подано суб`єктом владних повноважень, юридичною особою встановлюється ставка судового збору – 1,5 відсотка ціни позову, але не менше 1 розміру прожиткового мінімуму для працездатних осіб і не більше 10 розмірів прожиткового мінімуму для працездатних осіб.\n",
      "Положеннями статті 7 Закону України \"Про Державний бюджет України на 2024 рік\" установлено у 2024 році прожитковий мінімум для працездатних осіб: з 1 січня 2024 року - 3028 гривні.\n",
      "Як вбачається з позовної заяви, позивач заявлено вимогу майнового характеру.\n",
      "Отже, у даному випадку судовий збір дорівнює 30 280,00 грн (2 400 000,00 грн х 1,5%, не більше 30 280,00 грн).\n",
      "Судом встановлено, що позивачем до позовної заяви доказів сплати судового збору за подання даного адміністративного позову не додано.\n",
      "Таким чином, позивачу у порядку усунення недоліків позовної заяви необхідно надати суду: доказ надіслання листом з описом вкладення відповідачу копій позовної заяви та доданих до неї документів; докази сплати судового збору в розмірі 30 280,00 грн (оригінал платіжного доручення (квитанції) на рахунок Київського окружного адміністративного суду, який слід сплатити за наступними реквізитами:\n",
      "Отримувач коштів: ГУК у Київ. обл./м.Київ/22030101;\n",
      "код отримувача (код за ЄДРПОУ): 37955989;\n",
      "Банк отримувача: Казначейство України (ел. адм. подат.);\n",
      "код банку отримувача (МФО): 899998;\n",
      "рахунок отримувача: UA718999980313151206084010001;\n",
      "код класифікації доходів бюджету: 22030101;\n",
      "призначення платежу: *;101; (код клієнта за ЄДРПОУ для юридичних осіб (доповнюється зліва нулями до восьми цифр, якщо значущих цифр менше 8), реєстраційний номер облікової картки платника податків – фізичної особи (завжди має 10 цифр) або серія та номер паспорта громадянина України, в разі якщо платник через свої релігійні переконання відмовився від прийняття реєстраційного номера облікової картки платника податків і має відповідну відмітку у паспорті); Судовий збір, за позовом (ПІБ чи назва установи, організації позивача), Київський окружний адміністративний суд (назва суду, де розглядається справа).\n",
      "Інформація щодо реквізитів сплати судового збору за подання позовних заяв до Київського окружного адміністративного суду є загальнодоступною, оприлюднена на офіційному веб-порталі “Судова влада України” за інтернет-адресою https://adm.ko.court.gov.ua/sud1070/gromadyanam/tax/, а також розміщена на інформаційних стендах Київського окружного адміністративного суду.\n",
      "Згідно з частинами 1, 2 статті 169 Кодексу адміністративного судочинства України суддя, встановивши, що позовну заяву подано без додержання вимог, встановлених статтями 160, 161 цього Кодексу, протягом п`яти днів з дня подання позовної заяви постановляє ухвалу про залишення позовної заяви без руху.\n",
      "В ухвалі про залишення позовної заяви без руху зазначаються недоліки позовної заяви, спосіб і строк їх усунення, який не може перевищувати десяти днів з дня вручення ухвали про залишення позовної заяви без руху.\n",
      "Керуючись статтями 161, 169, 171, 243, 248 Кодексу адміністративного судочинства України, суд\n",
      "У Х В А Л И В:\n",
      "1. Залишити позовну заяву Товариства з обмеженою відповідальністю \"Мегого\" без руху.\n",
      "3. Встановити позивачу 10-денний строк з дня отримання даної ухвали на усунення недоліків позовної заяви.\n",
      "4. Попередити позивача про те, що у разі, якщо недоліки не буде усунуто у встановлений судом строк, позовну заяву буде повернуто відповідно до пункту першого частини четвертої статті 169 Кодексу адміністративного судочинства України.\n",
      "\n",
      "Відповідно до частини першої статті 256 Кодексу адміністративного судочинства України,  набирає законної сили негайно після її проголошення, якщо інше не передбачено цим Кодексом. Відповідно до статті 294, частин другої та третьої статті 293 Кодексу адміністративного судочинства України даної ухвала оскарженню не підлягає.\n",
      "\n",
      "Суддя                                                                                                      Жук Р.В. \n",
      "\n",
      "\u0000\n"
     ]
    }
   ],
   "source": [
    "print(result[\"text\"])"
   ]
  },
  {
   "cell_type": "code",
   "execution_count": null,
   "id": "285eec76",
   "metadata": {},
   "outputs": [],
   "source": []
  },
  {
   "cell_type": "code",
   "execution_count": 1,
   "id": "1ba9a428",
   "metadata": {},
   "outputs": [],
   "source": [
    "import base64\n",
    "import requests\n",
    "from typing import List, TypedDict, Annotated, Optional\n",
    "from striprtf.striprtf import rtf_to_text\n",
    "from langchain_openai import ChatOpenAI\n",
    "from langchain_core.messages import AnyMessage, SystemMessage, HumanMessage\n",
    "from langgraph.graph.message import add_messages\n",
    "from langgraph.graph import START, StateGraph\n",
    "from langgraph.prebuilt import ToolNode, tools_condition\n",
    "from IPython.display import Image, display"
   ]
  },
  {
   "cell_type": "code",
   "execution_count": 2,
   "id": "bdfa87a0",
   "metadata": {},
   "outputs": [],
   "source": [
    "class AgentState(TypedDict):\n",
    "    # The document provided\n",
    "    input_file: Optional[str]  # Contains file path (PDF/PNG)\n",
    "    messages: Annotated[list[AnyMessage], add_messages]"
   ]
  },
  {
   "cell_type": "code",
   "execution_count": 3,
   "id": "032d25aa",
   "metadata": {},
   "outputs": [],
   "source": [
    "vision_llm = ChatOpenAI(model=\"gpt-4o\")\n",
    "\n",
    "def extract_text(img_path: str) -> str:\n",
    "    \"\"\"\n",
    "    Extract text from an image file using a multimodal model.\n",
    "    \n",
    "    Master Wayne often leaves notes with his training regimen or meal plans.\n",
    "    This allows me to properly analyze the contents.\n",
    "    \"\"\"\n",
    "    all_text = \"\"\n",
    "    try:\n",
    "        # Read image and encode as base64\n",
    "        with open(img_path, \"rb\") as image_file:\n",
    "            image_bytes = image_file.read()\n",
    "\n",
    "        image_base64 = base64.b64encode(image_bytes).decode(\"utf-8\")\n",
    "\n",
    "        # Prepare the prompt including the base64 image data\n",
    "        message = [\n",
    "            HumanMessage(\n",
    "                content=[\n",
    "                    {\n",
    "                        \"type\": \"text\",\n",
    "                        \"text\": (\n",
    "                            \"Extract all the text from this image. \"\n",
    "                            \"Return only the extracted text, no explanations.\"\n",
    "                        ),\n",
    "                    },\n",
    "                    {\n",
    "                        \"type\": \"image_url\",\n",
    "                        \"image_url\": {\n",
    "                            \"url\": f\"data:image/png;base64,{image_base64}\"\n",
    "                        },\n",
    "                    },\n",
    "                ]\n",
    "            )\n",
    "        ]\n",
    "\n",
    "        # Call the vision-capable model\n",
    "        response = vision_llm.invoke(message)\n",
    "\n",
    "        # Append extracted text\n",
    "        all_text += response.content + \"\\n\\n\"\n",
    "\n",
    "        return all_text.strip()\n",
    "    except Exception as e:\n",
    "        # A butler should handle errors gracefully\n",
    "        error_msg = f\"Error extracting text: {str(e)}\"\n",
    "        print(error_msg)\n",
    "        return \"\"\n",
    "\n",
    "def divide(a: int, b: int) -> float:\n",
    "    \"\"\"Divide a and b - for Master Wayne's occasional calculations.\"\"\"\n",
    "    return a / b\n",
    "\n",
    "\n",
    "\n",
    "\n",
    "def extract_rtf_text(url: str) -> str:\n",
    "    \"\"\"\n",
    "    Extract text from URL in RTF format.\n",
    "    \"\"\"\n",
    "    response = requests.get(url)\n",
    "    response.raise_for_status()\n",
    "\n",
    "    rtf_content = response.content.decode(\"utf-8\", errors=\"ignore\")\n",
    "\n",
    "    text = rtf_to_text(rtf_content)\n",
    "    return text\n",
    "\n",
    "\n",
    "\n",
    "def summarize_text(text: str) -> str:\n",
    "    \"\"\"\n",
    "    Summarizes the given text using the LLM.\n",
    "    \n",
    "    Args:\n",
    "        text (str): The text to summarize.\n",
    "        \n",
    "    Returns:\n",
    "        str: The summary of the text.\n",
    "    \"\"\"\n",
    "\n",
    "    summarization_prompt = PromptTemplate.from_template(\n",
    "        \"\"\"Summarize the following text in one short sentence. Summarize to ukrainian.\n",
    "        \n",
    "        Text: {text}\n",
    "        \n",
    "        Summary:\"\"\"\n",
    "    )\n",
    "\n",
    "    chain = summarization_prompt | model\n",
    "\n",
    "    response = chain.invoke({\"text\": text})\n",
    "\n",
    "    return {\"summary\": response.content}\n",
    "\n",
    "# Equip the butler with tools\n",
    "tools = [\n",
    "    divide,\n",
    "    extract_text,\n",
    "    extract_rtf_text,\n",
    "    summarize_text\n",
    "]\n",
    "\n",
    "llm = ChatOpenAI(model=\"gpt-4o\")\n",
    "llm_with_tools = llm.bind_tools(tools, parallel_tool_calls=False)"
   ]
  },
  {
   "cell_type": "code",
   "execution_count": 4,
   "id": "74777f16",
   "metadata": {},
   "outputs": [],
   "source": [
    "def assistant(state: AgentState):\n",
    "    # System message\n",
    "    textual_description_of_tool=\"\"\"\n",
    "extract_text(img_path: str) -> str:\n",
    "    Extract text from an image file using a multimodal model.\n",
    "\n",
    "    Args:\n",
    "        img_path: A local image file path (strings).\n",
    "\n",
    "    Returns:\n",
    "        A single string containing the concatenated text extracted from each image.\n",
    "divide(a: int, b: int) -> float:\n",
    "    Divide a and b\n",
    "\n",
    "    Extract text from URL in RTF format.\n",
    "\n",
    "    Args:\n",
    "        url (str): The URL of the RTF document.\n",
    "\n",
    "    Returns:\n",
    "        str: The extracted plain text from the RTF document.\n",
    "\n",
    "    Summarizes the given text using the LLM.\n",
    "    \n",
    "    Args:\n",
    "        text (str): The text to summarize.\n",
    "        \n",
    "    Returns:\n",
    "        str: The summary of the text.\n",
    "\"\"\"\n",
    "    image=state[\"input_file\"]\n",
    "    sys_msg = SystemMessage(content=f\"You are a helpful butler named Alfred that serves Mr. Wayne and Batman. You can analyse documents and run computations with provided tools:\\n{textual_description_of_tool} \\n You have access to some optional images. Currently the loaded image is: {image}\")\n",
    "\n",
    "    return {\n",
    "        \"messages\": [llm_with_tools.invoke([sys_msg] + state[\"messages\"])],\n",
    "        \"input_file\": state[\"input_file\"]\n",
    "    }"
   ]
  },
  {
   "cell_type": "code",
   "execution_count": 5,
   "id": "9f1683dd",
   "metadata": {},
   "outputs": [
    {
     "data": {
      "image/png": "[encoded data removed]",
      "text/plain": [
       "<IPython.core.display.Image object>"
      ]
     },
     "metadata": {},
     "output_type": "display_data"
    }
   ],
   "source": [
    "# The graph\n",
    "builder = StateGraph(AgentState)\n",
    "\n",
    "# Define nodes: these do the work\n",
    "builder.add_node(\"assistant\", assistant)\n",
    "builder.add_node(\"tools\", ToolNode(tools))\n",
    "\n",
    "# Define edges: these determine how the control flow moves\n",
    "builder.add_edge(START, \"assistant\")\n",
    "builder.add_conditional_edges(\n",
    "    \"assistant\",\n",
    "    # If the latest message requires a tool, route to tools\n",
    "    # Otherwise, provide a direct response\n",
    "    tools_condition,\n",
    ")\n",
    "builder.add_edge(\"tools\", \"assistant\")\n",
    "react_graph = builder.compile()\n",
    "\n",
    "# Show the butler's thought process\n",
    "display(Image(react_graph.get_graph(xray=True).draw_mermaid_png()))"
   ]
  },
  {
   "cell_type": "code",
   "execution_count": 6,
   "id": "987cf912",
   "metadata": {},
   "outputs": [],
   "source": [
    "messages = [HumanMessage(content=\"Please Extract text from URL in RTF format. http://od.reyestr.court.gov.ua/files/61/520ce2d5f53b2a22eafd30fca9c17d43.rtf\")]\n",
    "messages = react_graph.invoke({\"messages\": messages, \"input_file\": None})"
   ]
  },
  {
   "cell_type": "code",
   "execution_count": 7,
   "id": "fe3ba8e5",
   "metadata": {},
   "outputs": [
    {
     "data": {
      "text/plain": [
       "{'input_file': None,\n",
       " 'messages': [HumanMessage(content='Please Extract text from URL in RTF format. http://od.reyestr.court.gov.ua/files/61/520ce2d5f53b2a22eafd30fca9c17d43.rtf', additional_kwargs={}, response_metadata={}, id='3a987f1b-7be0-4965-81ee-a2e1369c17a2'),\n",
       "  AIMessage(content='', additional_kwargs={'tool_calls': [{'id': 'call_BdgEQv6jn5alqb2HDDpSCDMH', 'function': {'arguments': '{\"url\":\"http://od.reyestr.court.gov.ua/files/61/520ce2d5f53b2a22eafd30fca9c17d43.rtf\"}', 'name': 'extract_rtf_text'}, 'type': 'function'}], 'refusal': None}, response_metadata={'token_usage': {'completion_tokens': 52, 'prompt_tokens': 400, 'total_tokens': 452, 'completion_tokens_details': {'accepted_prediction_tokens': 0, 'audio_tokens': 0, 'reasoning_tokens': 0, 'rejected_prediction_tokens': 0}, 'prompt_tokens_details': {'audio_tokens': 0, 'cached_tokens': 0}}, 'model_name': 'gpt-4o-2024-08-06', 'system_fingerprint': 'fp_f33640a400', 'id': 'chatcmpl-CNh5TjkRflqeLcDIxDmN0dSixPysl', 'service_tier': 'default', 'finish_reason': 'tool_calls', 'logprobs': None}, id='run--b4fa34ef-016a-464a-a9bf-c480dc6c7eac-0', tool_calls=[{'name': 'extract_rtf_text', 'args': {'url': 'http://od.reyestr.court.gov.ua/files/61/520ce2d5f53b2a22eafd30fca9c17d43.rtf'}, 'id': 'call_BdgEQv6jn5alqb2HDDpSCDMH', 'type': 'tool_call'}], usage_metadata={'input_tokens': 400, 'output_tokens': 52, 'total_tokens': 452, 'input_token_details': {'audio': 0, 'cache_read': 0}, 'output_token_details': {'audio': 0, 'reasoning': 0}}),\n",
       "  ToolMessage(content='\\n\\xa0\\xa0 КИЇВСЬКИЙ ОКРУЖНИЙ АДМІНІСТРАТИВНИЙ СУД |\\nУ Х В А Л А\\nпро залишення позовної заяви без руху\\n04 грудня 2024 року \\xa0\\xa0\\xa0\\xa0\\xa0\\xa0\\xa0\\xa0\\xa0\\xa0\\xa0\\xa0\\xa0\\xa0\\xa0\\xa0\\xa0\\xa0\\xa0\\xa0\\xa0\\xa0\\xa0\\xa0\\xa0\\xa0м. Київ \\xa0\\xa0\\xa0\\xa0\\xa0\\xa0\\xa0\\xa0\\xa0\\xa0\\xa0\\xa0\\xa0\\xa0\\xa0\\xa0\\xa0\\xa0\\xa0\\xa0\\xa0\\xa0\\xa0\\xa0\\xa0\\xa0\\xa0\\xa0\\xa0\\xa0\\xa0\\xa0\\xa0\\xa0\\xa0\\xa0№ 320/57291/24\\nСуддя Київського окружного адміністративного суду Жук Р.В., дослідивши матеріали адміністративного позову та додані до нього документи\\nза позовом \\xa0\\xa0Товариства з обмеженою відповідальністю \"Мегого\"\\nдо \\xa0\\xa0\\xa0\\xa0\\xa0\\xa0\\xa0\\xa0\\xa0\\xa0\\xa0\\xa0\\xa0\\xa0\\xa0\\xa0\\xa0Комісії з регулювання азартних ігор та лотерей\\nтретя особа Товариство з обмеженою відповідальністю \"ГГБЕТ\" \\nпро \\xa0\\xa0\\xa0\\xa0\\xa0\\xa0\\xa0\\xa0\\xa0\\xa0\\xa0\\xa0\\xa0\\xa0визнання протиправним та скасування рішення від 22.08.2024 №409, -\\nВСТАНОВИВ:\\nДо Київського окружного адміністративного суду звернулось Товариство з обмеженою відповідальністю \"Мегого\" з адміністративним позовом до Комісії з регулювання азартних ігор та лотерей, третя особа - Товариство з обмеженою відповідальністю \"ГГБЕТ\", про визнання протиправним та скасування рішення від 22.08.2024 №409.\\nВідповідно до частини 1 статті 171 Кодексу адміністративного судочинства України суддя після одержання позовної заяви з`ясовує, зокрема, чи: відповідає позовна заява вимогам, встановленим статтями 160, 161, 172 цього Кодексу; позов подано у строк, установлений законом (якщо позов подано з пропущенням встановленого законом строку звернення до суду, то чи достатньо підстав для визнання причин пропуску строку звернення до суду поважними); немає інших підстав для залишення позовної заяви без руху, повернення позовної заяви або відмови у відкритті провадження в адміністративній справі, встановлених цим Кодексом.\\nНаданий адміністративний позов не відповідає вимогам статті 161 Кодексу адміністративного судочинства України з огляду на таке.\\nВідповідно до частини третьої статті 161 Кодексу адміністративного судочинства України до позовної заяви додається документ про сплату судового збору у встановлених порядку і розмірі або документи, які підтверджують підстави звільнення від сплати судового збору відповідно до закону.\\nЧастиною першою статті 4 Закону України “Про судовий збір” передбачено, що судовий збір справляється у відповідному розмірі від прожиткового мінімуму для працездатних осіб, встановленого законом на 1 січня календарного року, в якому відповідна заява або скарга подається до суду, - у відсотковому співвідношенні до ціни позову та у фіксованому розмірі.\\nЗгідно з пунктом 3 частини другої статті 4 Закону України “Про судовий збір” за подання до адміністративного суду адміністративного позову майнового характеру, який подано суб`єктом владних повноважень, юридичною особою встановлюється ставка судового збору – 1,5 відсотка ціни позову, але не менше 1 розміру прожиткового мінімуму для працездатних осіб і не більше 10 розмірів прожиткового мінімуму для працездатних осіб.\\nПоложеннями статті 7 Закону України \"Про Державний бюджет України на 2024 рік\" установлено у 2024 році прожитковий мінімум для працездатних осіб: з 1 січня 2024 року - 3028 гривні.\\nЯк вбачається з позовної заяви, позивач заявлено вимогу майнового характеру.\\nОтже, у даному випадку судовий збір дорівнює 30 280,00 грн (2 400 000,00 грн х 1,5%, не більше 30 280,00 грн).\\nСудом встановлено, що позивачем до позовної заяви доказів сплати судового збору за подання даного адміністративного позову не додано.\\nТаким чином, позивачу у порядку усунення недоліків позовної заяви необхідно надати суду: доказ надіслання листом з описом вкладення відповідачу копій позовної заяви та доданих до неї документів; докази сплати судового збору в розмірі 30 280,00 грн (оригінал платіжного доручення (квитанції) на рахунок Київського окружного адміністративного суду, який слід сплатити за наступними реквізитами:\\nОтримувач коштів: ГУК у Київ. обл./м.Київ/22030101;\\nкод отримувача (код за ЄДРПОУ): 37955989;\\nБанк отримувача: Казначейство України (ел. адм. подат.);\\nкод банку отримувача (МФО): 899998;\\nрахунок отримувача: UA718999980313151206084010001;\\nкод класифікації доходів бюджету: 22030101;\\nпризначення платежу: *;101; (код клієнта за ЄДРПОУ для юридичних осіб (доповнюється зліва нулями до восьми цифр, якщо значущих цифр менше 8), реєстраційний номер облікової картки платника податків – фізичної особи (завжди має 10 цифр) або серія та номер паспорта громадянина України, в разі якщо платник через свої релігійні переконання відмовився від прийняття реєстраційного номера облікової картки платника податків і має відповідну відмітку у паспорті); Судовий збір, за позовом (ПІБ чи назва установи, організації позивача), Київський окружний адміністративний суд (назва суду, де розглядається справа).\\nІнформація щодо реквізитів сплати судового збору за подання позовних заяв до Київського окружного адміністративного суду є загальнодоступною, оприлюднена на офіційному веб-порталі “Судова влада України” за інтернет-адресою https://adm.ko.court.gov.ua/sud1070/gromadyanam/tax/, а також розміщена на інформаційних стендах Київського окружного адміністративного суду.\\nЗгідно з частинами 1, 2 статті 169 Кодексу адміністративного судочинства України суддя, встановивши, що позовну заяву подано без додержання вимог, встановлених статтями 160, 161 цього Кодексу, протягом п`яти днів з дня подання позовної заяви постановляє ухвалу про залишення позовної заяви без руху.\\nВ ухвалі про залишення позовної заяви без руху зазначаються недоліки позовної заяви, спосіб і строк їх усунення, який не може перевищувати десяти днів з дня вручення ухвали про залишення позовної заяви без руху.\\nКеруючись статтями 161, 169, 171, 243, 248 Кодексу адміністративного судочинства України, суд\\nУ Х В А Л И В:\\n1. Залишити позовну заяву Товариства з обмеженою відповідальністю \"Мегого\" без руху.\\n3. Встановити позивачу 10-денний строк з дня отримання даної ухвали на усунення недоліків позовної заяви.\\n4. Попередити позивача про те, що у разі, якщо недоліки не буде усунуто у встановлений судом строк, позовну заяву буде повернуто відповідно до пункту першого частини четвертої статті 169 Кодексу адміністративного судочинства України.\\n\\nВідповідно до частини першої статті 256 Кодексу адміністративного судочинства України, \\xa0набирає законної сили негайно після її проголошення, якщо інше не передбачено цим Кодексом. Відповідно до статті 294, частин другої та третьої статті 293 Кодексу адміністративного судочинства України даної ухвала оскарженню не підлягає.\\n\\nСуддя \\xa0\\xa0\\xa0\\xa0\\xa0\\xa0\\xa0\\xa0\\xa0\\xa0\\xa0\\xa0\\xa0\\xa0\\xa0\\xa0\\xa0\\xa0\\xa0\\xa0\\xa0\\xa0\\xa0\\xa0\\xa0\\xa0\\xa0\\xa0\\xa0\\xa0\\xa0\\xa0\\xa0\\xa0\\xa0\\xa0\\xa0\\xa0\\xa0\\xa0\\xa0\\xa0\\xa0\\xa0\\xa0\\xa0\\xa0\\xa0\\xa0\\xa0\\xa0\\xa0\\xa0\\xa0\\xa0\\xa0\\xa0\\xa0\\xa0\\xa0\\xa0\\xa0\\xa0\\xa0\\xa0\\xa0\\xa0\\xa0\\xa0\\xa0\\xa0\\xa0\\xa0\\xa0\\xa0\\xa0\\xa0\\xa0\\xa0\\xa0\\xa0\\xa0\\xa0\\xa0\\xa0\\xa0\\xa0\\xa0\\xa0\\xa0\\xa0\\xa0\\xa0\\xa0\\xa0\\xa0\\xa0\\xa0\\xa0\\xa0\\xa0Жук Р.В. \\n\\n\\x00', name='extract_rtf_text', id='a7340763-e7a5-4af8-b3a5-140958667367', tool_call_id='call_BdgEQv6jn5alqb2HDDpSCDMH'),\n",
       "  AIMessage(content='The document is from the Kyiv District Administrative Court, dated December 4, 2024. It pertains to a company, Megogo LLC, filing an administrative lawsuit against the Commission for the Regulation of Gambling and Lotteries, with GG Bet LLC as a third party. The lawsuit seeks to annul a decision made on August 22, 2024. The court, presided by Judge Zhuk R.V., found the claim did not meet the requirements of Article 161 of the Code of Administrative Procedure of Ukraine, specifically lacking proof of payment of court fees.\\n\\nThe court fee, calculated as 1.5% of the claim value, amounts to 30,280 UAH. Megogo LLC must provide proof of payment and documentation within ten days of receiving this ruling. Failure to rectify these deficiencies will result in the claim being returned. The ruling is immediate and cannot be appealed.', additional_kwargs={'refusal': None}, response_metadata={'token_usage': {'completion_tokens': 179, 'prompt_tokens': 2555, 'total_tokens': 2734, 'completion_tokens_details': {'accepted_prediction_tokens': 0, 'audio_tokens': 0, 'reasoning_tokens': 0, 'rejected_prediction_tokens': 0}, 'prompt_tokens_details': {'audio_tokens': 0, 'cached_tokens': 0}}, 'model_name': 'gpt-4o-2024-08-06', 'system_fingerprint': 'fp_f33640a400', 'id': 'chatcmpl-CNh5UzgERd8D5MWBphJ2pNf8KZMoY', 'service_tier': 'default', 'finish_reason': 'stop', 'logprobs': None}, id='run--72697d71-1cb7-4028-9f67-c772ea143826-0', usage_metadata={'input_tokens': 2555, 'output_tokens': 179, 'total_tokens': 2734, 'input_token_details': {'audio': 0, 'cache_read': 0}, 'output_token_details': {'audio': 0, 'reasoning': 0}})]}"
      ]
     },
     "execution_count": 7,
     "metadata": {},
     "output_type": "execute_result"
    }
   ],
   "source": [
    "# messages = [HumanMessage(content=f\"Please summarize the text {tt}\")]\n",
    "# messages = react_graph.invoke({\"messages\": messages, \"input_file\": None})\n",
    "messages"
   ]
  },
  {
   "cell_type": "code",
   "execution_count": 6,
   "id": "0f676356",
   "metadata": {},
   "outputs": [],
   "source": [
    "url = \"http://od.reyestr.court.gov.ua/files/61/520ce2d5f53b2a22eafd30fca9c17d43.rtf\"\n",
    "tt = extract_rtf_text(url)"
   ]
  },
  {
   "cell_type": "code",
   "execution_count": 7,
   "id": "74b0bfc2",
   "metadata": {},
   "outputs": [
    {
     "data": {
      "text/plain": [
       "'\\n\\xa0\\xa0 КИЇВСЬКИЙ ОКРУЖНИЙ АДМІНІСТРАТИВНИЙ СУД |\\nУ Х В А Л А\\nпро залишення позовної заяви без руху\\n04 грудня 2024 року \\xa0\\xa0\\xa0\\xa0\\xa0\\xa0\\xa0\\xa0\\xa0\\xa0\\xa0\\xa0\\xa0\\xa0\\xa0\\xa0\\xa0\\xa0\\xa0\\xa0\\xa0\\xa0\\xa0\\xa0\\xa0\\xa0м. Київ \\xa0\\xa0\\xa0\\xa0\\xa0\\xa0\\xa0\\xa0\\xa0\\xa0\\xa0\\xa0\\xa0\\xa0\\xa0\\xa0\\xa0\\xa0\\xa0\\xa0\\xa0\\xa0\\xa0\\xa0\\xa0\\xa0\\xa0\\xa0\\xa0\\xa0\\xa0\\xa0\\xa0\\xa0\\xa0\\xa0№ 320/57291/24\\nСуддя Київського окружного адміністративного суду Жук Р.В., дослідивши матеріали адміністративного позову та додані до нього документи\\nза позовом \\xa0\\xa0Товариства з обмеженою відповідальністю \"Мегого\"\\nдо \\xa0\\xa0\\xa0\\xa0\\xa0\\xa0\\xa0\\xa0\\xa0\\xa0\\xa0\\xa0\\xa0\\xa0\\xa0\\xa0\\xa0Комісії з регулювання азартних ігор та лотерей\\nтретя особа Товариство з обмеженою відповідальністю \"ГГБЕТ\" \\nпро \\xa0\\xa0\\xa0\\xa0\\xa0\\xa0\\xa0\\xa0\\xa0\\xa0\\xa0\\xa0\\xa0\\xa0визнання протиправним та скасування рішення від 22.08.2024 №409, -\\nВСТАНОВИВ:\\nДо Київського окружного адміністративного суду звернулось Товариство з обмеженою відповідальністю \"Мегого\" з адміністративним позовом до Комісії з регулювання азартних ігор та лотерей, третя особа - Товариство з обмеженою відповідальністю \"ГГБЕТ\", про визнання протиправним та скасування рішення від 22.08.2024 №409.\\nВідповідно до частини 1 статті 171 Кодексу адміністративного судочинства України суддя після одержання позовної заяви з`ясовує, зокрема, чи: відповідає позовна заява вимогам, встановленим статтями 160, 161, 172 цього Кодексу; позов подано у строк, установлений законом (якщо позов подано з пропущенням встановленого законом строку звернення до суду, то чи достатньо підстав для визнання причин пропуску строку звернення до суду поважними); немає інших підстав для залишення позовної заяви без руху, повернення позовної заяви або відмови у відкритті провадження в адміністративній справі, встановлених цим Кодексом.\\nНаданий адміністративний позов не відповідає вимогам статті 161 Кодексу адміністративного судочинства України з огляду на таке.\\nВідповідно до частини третьої статті 161 Кодексу адміністративного судочинства України до позовної заяви додається документ про сплату судового збору у встановлених порядку і розмірі або документи, які підтверджують підстави звільнення від сплати судового збору відповідно до закону.\\nЧастиною першою статті 4 Закону України “Про судовий збір” передбачено, що судовий збір справляється у відповідному розмірі від прожиткового мінімуму для працездатних осіб, встановленого законом на 1 січня календарного року, в якому відповідна заява або скарга подається до суду, - у відсотковому співвідношенні до ціни позову та у фіксованому розмірі.\\nЗгідно з пунктом 3 частини другої статті 4 Закону України “Про судовий збір” за подання до адміністративного суду адміністративного позову майнового характеру, який подано суб`єктом владних повноважень, юридичною особою встановлюється ставка судового збору – 1,5 відсотка ціни позову, але не менше 1 розміру прожиткового мінімуму для працездатних осіб і не більше 10 розмірів прожиткового мінімуму для працездатних осіб.\\nПоложеннями статті 7 Закону України \"Про Державний бюджет України на 2024 рік\" установлено у 2024 році прожитковий мінімум для працездатних осіб: з 1 січня 2024 року - 3028 гривні.\\nЯк вбачається з позовної заяви, позивач заявлено вимогу майнового характеру.\\nОтже, у даному випадку судовий збір дорівнює 30 280,00 грн (2 400 000,00 грн х 1,5%, не більше 30 280,00 грн).\\nСудом встановлено, що позивачем до позовної заяви доказів сплати судового збору за подання даного адміністративного позову не додано.\\nТаким чином, позивачу у порядку усунення недоліків позовної заяви необхідно надати суду: доказ надіслання листом з описом вкладення відповідачу копій позовної заяви та доданих до неї документів; докази сплати судового збору в розмірі 30 280,00 грн (оригінал платіжного доручення (квитанції) на рахунок Київського окружного адміністративного суду, який слід сплатити за наступними реквізитами:\\nОтримувач коштів: ГУК у Київ. обл./м.Київ/22030101;\\nкод отримувача (код за ЄДРПОУ): 37955989;\\nБанк отримувача: Казначейство України (ел. адм. подат.);\\nкод банку отримувача (МФО): 899998;\\nрахунок отримувача: UA718999980313151206084010001;\\nкод класифікації доходів бюджету: 22030101;\\nпризначення платежу: *;101; (код клієнта за ЄДРПОУ для юридичних осіб (доповнюється зліва нулями до восьми цифр, якщо значущих цифр менше 8), реєстраційний номер облікової картки платника податків – фізичної особи (завжди має 10 цифр) або серія та номер паспорта громадянина України, в разі якщо платник через свої релігійні переконання відмовився від прийняття реєстраційного номера облікової картки платника податків і має відповідну відмітку у паспорті); Судовий збір, за позовом (ПІБ чи назва установи, організації позивача), Київський окружний адміністративний суд (назва суду, де розглядається справа).\\nІнформація щодо реквізитів сплати судового збору за подання позовних заяв до Київського окружного адміністративного суду є загальнодоступною, оприлюднена на офіційному веб-порталі “Судова влада України” за інтернет-адресою https://adm.ko.court.gov.ua/sud1070/gromadyanam/tax/, а також розміщена на інформаційних стендах Київського окружного адміністративного суду.\\nЗгідно з частинами 1, 2 статті 169 Кодексу адміністративного судочинства України суддя, встановивши, що позовну заяву подано без додержання вимог, встановлених статтями 160, 161 цього Кодексу, протягом п`яти днів з дня подання позовної заяви постановляє ухвалу про залишення позовної заяви без руху.\\nВ ухвалі про залишення позовної заяви без руху зазначаються недоліки позовної заяви, спосіб і строк їх усунення, який не може перевищувати десяти днів з дня вручення ухвали про залишення позовної заяви без руху.\\nКеруючись статтями 161, 169, 171, 243, 248 Кодексу адміністративного судочинства України, суд\\nУ Х В А Л И В:\\n1. Залишити позовну заяву Товариства з обмеженою відповідальністю \"Мегого\" без руху.\\n3. Встановити позивачу 10-денний строк з дня отримання даної ухвали на усунення недоліків позовної заяви.\\n4. Попередити позивача про те, що у разі, якщо недоліки не буде усунуто у встановлений судом строк, позовну заяву буде повернуто відповідно до пункту першого частини четвертої статті 169 Кодексу адміністративного судочинства України.\\n\\nВідповідно до частини першої статті 256 Кодексу адміністративного судочинства України, \\xa0набирає законної сили негайно після її проголошення, якщо інше не передбачено цим Кодексом. Відповідно до статті 294, частин другої та третьої статті 293 Кодексу адміністративного судочинства України даної ухвала оскарженню не підлягає.\\n\\nСуддя \\xa0\\xa0\\xa0\\xa0\\xa0\\xa0\\xa0\\xa0\\xa0\\xa0\\xa0\\xa0\\xa0\\xa0\\xa0\\xa0\\xa0\\xa0\\xa0\\xa0\\xa0\\xa0\\xa0\\xa0\\xa0\\xa0\\xa0\\xa0\\xa0\\xa0\\xa0\\xa0\\xa0\\xa0\\xa0\\xa0\\xa0\\xa0\\xa0\\xa0\\xa0\\xa0\\xa0\\xa0\\xa0\\xa0\\xa0\\xa0\\xa0\\xa0\\xa0\\xa0\\xa0\\xa0\\xa0\\xa0\\xa0\\xa0\\xa0\\xa0\\xa0\\xa0\\xa0\\xa0\\xa0\\xa0\\xa0\\xa0\\xa0\\xa0\\xa0\\xa0\\xa0\\xa0\\xa0\\xa0\\xa0\\xa0\\xa0\\xa0\\xa0\\xa0\\xa0\\xa0\\xa0\\xa0\\xa0\\xa0\\xa0\\xa0\\xa0\\xa0\\xa0\\xa0\\xa0\\xa0\\xa0\\xa0\\xa0\\xa0\\xa0Жук Р.В. \\n\\n\\x00'"
      ]
     },
     "execution_count": 7,
     "metadata": {},
     "output_type": "execute_result"
    }
   ],
   "source": [
    "tt"
   ]
  }
 ],
 "metadata": {
  "kernelspec": {
   "display_name": "base",
   "language": "python",
   "name": "python3"
  },
  "language_info": {
   "codemirror_mode": {
    "name": "ipython",
    "version": 3
   },
   "file_extension": ".py",
   "mimetype": "text/x-python",
   "name": "python",
   "nbconvert_exporter": "python",
   "pygments_lexer": "ipython3",
   "version": "3.13.2"
  }
 },
 "nbformat": 4,
 "nbformat_minor": 5
}
